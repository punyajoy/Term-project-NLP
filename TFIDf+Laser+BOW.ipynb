{
 "cells": [
  {
   "cell_type": "code",
   "execution_count": 4,
   "metadata": {
    "colab": {
     "base_uri": "https://localhost:8080/",
     "height": 263
    },
    "colab_type": "code",
    "id": "xJWVO2ErjzYn",
    "outputId": "6ad3328e-8765-469d-c36a-caa2843deb16"
   },
   "outputs": [
    {
     "name": "stdout",
     "output_type": "stream",
     "text": [
      "Collecting fasttext\n",
      "\u001b[?25l  Downloading https://files.pythonhosted.org/packages/f8/85/e2b368ab6d3528827b147fdb814f8189acc981a4bc2f99ab894650e05c40/fasttext-0.9.2.tar.gz (68kB)\n",
      "\r",
      "\u001b[K     |████▊                           | 10kB 20.0MB/s eta 0:00:01\r",
      "\u001b[K     |█████████▌                      | 20kB 1.7MB/s eta 0:00:01\r",
      "\u001b[K     |██████████████▎                 | 30kB 2.2MB/s eta 0:00:01\r",
      "\u001b[K     |███████████████████             | 40kB 2.5MB/s eta 0:00:01\r",
      "\u001b[K     |███████████████████████▉        | 51kB 2.0MB/s eta 0:00:01\r",
      "\u001b[K     |████████████████████████████▋   | 61kB 2.3MB/s eta 0:00:01\r",
      "\u001b[K     |████████████████████████████████| 71kB 2.1MB/s \n",
      "\u001b[?25hRequirement already satisfied: pybind11>=2.2 in /usr/local/lib/python3.6/dist-packages (from fasttext) (2.5.0)\n",
      "Requirement already satisfied: setuptools>=0.7.0 in /usr/local/lib/python3.6/dist-packages (from fasttext) (46.1.3)\n",
      "Requirement already satisfied: numpy in /usr/local/lib/python3.6/dist-packages (from fasttext) (1.18.3)\n",
      "Building wheels for collected packages: fasttext\n",
      "  Building wheel for fasttext (setup.py) ... \u001b[?25l\u001b[?25hdone\n",
      "  Created wheel for fasttext: filename=fasttext-0.9.2-cp36-cp36m-linux_x86_64.whl size=3016674 sha256=b0846d814e565cc446482f0816d1477fff7def59db0f362f05d3d370559ac206\n",
      "  Stored in directory: /root/.cache/pip/wheels/98/ba/7f/b154944a1cf5a8cee91c154b75231136cc3a3321ab0e30f592\n",
      "Successfully built fasttext\n",
      "Installing collected packages: fasttext\n",
      "Successfully installed fasttext-0.9.2\n"
     ]
    }
   ],
   "source": [
    "import pandas as pd\n",
    "import numpy as np\n",
    "import json\n",
    "#!pip install inltk\n",
    "from inltk.inltk import tokenize\n",
    "#from inltk.inltk import setup\n",
    "#setup('hi')\n",
    "#setup('en')\n",
    "import os\n",
    "from stemmer import *\n",
    "#!pip install fasttext\n",
    "#import fasttext\n",
    "import spacy\n",
    "nlp = spacy.load('en_core_web_sm')\n",
    "from sklearn.decomposition import LatentDirichletAllocation\n",
    "import re\n",
    "from sklearn.feature_extraction.text import CountVectorizer"
   ]
  },
  {
   "cell_type": "code",
   "execution_count": 0,
   "metadata": {
    "colab": {},
    "colab_type": "code",
    "id": "tchhXBwfzmwe"
   },
   "outputs": [],
   "source": [
    "#!pip install cltk\n",
    "#from cltk.corpus.utils.importer import CorpusImporter\n",
    "#from cltk.tokenize.sentence import TokenizeSentence\n",
    "#from cltk.tokenize.word import WordTokenizer\n",
    "#c = CorpusImporter('hindi')\n",
    "#tokenizer = TokenizeSentence('hindi')\n",
    "#word_tokenizer = WordTokenizer('multilingual')\n"
   ]
  },
  {
   "cell_type": "code",
   "execution_count": 5,
   "metadata": {
    "colab": {
     "base_uri": "https://localhost:8080/",
     "height": 228
    },
    "colab_type": "code",
    "id": "2v72Ea8OP8Ct",
    "outputId": "25466713-01b8-462d-ed07-ffb149e0d226"
   },
   "outputs": [
    {
     "name": "stdout",
     "output_type": "stream",
     "text": [
      "Collecting langdetect\n",
      "\u001b[?25l  Downloading https://files.pythonhosted.org/packages/56/a3/8407c1e62d5980188b4acc45ef3d94b933d14a2ebc9ef3505f22cf772570/langdetect-1.0.8.tar.gz (981kB)\n",
      "\u001b[K     |████████████████████████████████| 983kB 2.7MB/s \n",
      "\u001b[?25hRequirement already satisfied: six in /usr/local/lib/python3.6/dist-packages (from langdetect) (1.12.0)\n",
      "Building wheels for collected packages: langdetect\n",
      "  Building wheel for langdetect (setup.py) ... \u001b[?25l\u001b[?25hdone\n",
      "  Created wheel for langdetect: filename=langdetect-1.0.8-cp36-none-any.whl size=993193 sha256=59f67ab74b15af923d3225b96ccc858ed829993ca1053f453e47a26a46125f35\n",
      "  Stored in directory: /root/.cache/pip/wheels/8d/b3/aa/6d99de9f3841d7d3d40a60ea06e6d669e8e5012e6c8b947a57\n",
      "Successfully built langdetect\n",
      "Installing collected packages: langdetect\n",
      "Successfully installed langdetect-1.0.8\n"
     ]
    }
   ],
   "source": [
    "pip install langdetect"
   ]
  },
  {
   "cell_type": "code",
   "execution_count": 0,
   "metadata": {
    "colab": {},
    "colab_type": "code",
    "id": "3iupOSoiv_GK"
   },
   "outputs": [],
   "source": [
    "from langdetect import detect\n",
    "def tokenizeText(text):\n",
    "    #predictions = model.predict(text)\n",
    "    removedLinkText=re.sub(r\"http\\S+\", \"\", text)\n",
    "    #doc=word_tokenizer.tokenize(removedLinkText)\n",
    "    language = detect(text)\n",
    "    if language == 'en':\n",
    "        doc=tokenize(removedLinkText,'en')\n",
    "    else:\n",
    "        doc=tokenize(removedLinkText,'hi')\n",
    "    return doc\n",
    "\n",
    "def preprocessed(TokeninzedSent):\n",
    "    Processedlist=[]\n",
    "    for token in TokeninzedSent:\n",
    "        if(len(token)>2):\n",
    "            Processedlist.append(token)\n",
    "    return Processedlist\n",
    "\n",
    "def RemoveStopwords(WordList,Stopwords):\n",
    "    Processedlist=[]\n",
    "    for token in WordList:\n",
    "        if(token not in Stopwords):\n",
    "            Processedlist.append(token)\n",
    "    return Processedlist \n",
    "\n",
    "\n",
    "def cleanText(text,stopwords):\n",
    "    TokeninzedSent=tokenizeText(text)\n",
    "    processedList=preprocessed(TokeninzedSent)\n",
    "    FinalprocessedList=RemoveStopwords(processedList,stopwords)\n",
    "    return FinalprocessedList\n",
    "    "
   ]
  },
  {
   "cell_type": "code",
   "execution_count": 0,
   "metadata": {
    "colab": {},
    "colab_type": "code",
    "id": "TMLYutLyj8g-"
   },
   "outputs": [],
   "source": [
    "df=pd.read_csv(\"Total_data_annotated.csv\")\n",
    "#del(df[\"Unnamed: 0\"])"
   ]
  },
  {
   "cell_type": "code",
   "execution_count": 9,
   "metadata": {
    "colab": {
     "base_uri": "https://localhost:8080/",
     "height": 306
    },
    "colab_type": "code",
    "id": "8Kff586clFPJ",
    "outputId": "6a1ddcd8-ae44-4c4e-b5ef-a5dac158249d"
   },
   "outputs": [
    {
     "data": {
      "text/html": [
       "<div>\n",
       "<style scoped>\n",
       "    .dataframe tbody tr th:only-of-type {\n",
       "        vertical-align: middle;\n",
       "    }\n",
       "\n",
       "    .dataframe tbody tr th {\n",
       "        vertical-align: top;\n",
       "    }\n",
       "\n",
       "    .dataframe thead th {\n",
       "        text-align: right;\n",
       "    }\n",
       "</style>\n",
       "<table border=\"1\" class=\"dataframe\">\n",
       "  <thead>\n",
       "    <tr style=\"text-align: right;\">\n",
       "      <th></th>\n",
       "      <th>Unnamed: 0</th>\n",
       "      <th>Mithun</th>\n",
       "      <th>Punyajoy</th>\n",
       "      <th>Soumyadeep</th>\n",
       "      <th>id</th>\n",
       "      <th>label</th>\n",
       "      <th>text</th>\n",
       "      <th>translated</th>\n",
       "    </tr>\n",
       "  </thead>\n",
       "  <tbody>\n",
       "    <tr>\n",
       "      <th>0</th>\n",
       "      <td>0</td>\n",
       "      <td>0</td>\n",
       "      <td>1</td>\n",
       "      <td>0</td>\n",
       "      <td>524726</td>\n",
       "      <td>0.0</td>\n",
       "      <td>आज ही के दिन 30 जनबरी को नाथूराम ने गाँधी वध क...</td>\n",
       "      <td>NaN</td>\n",
       "    </tr>\n",
       "    <tr>\n",
       "      <th>1</th>\n",
       "      <td>1</td>\n",
       "      <td>0</td>\n",
       "      <td>0</td>\n",
       "      <td>0</td>\n",
       "      <td>207102</td>\n",
       "      <td>0.0</td>\n",
       "      <td>*👉जम्मू कश्मीरः बडगाम में एनकाउंटर🔫 जारी, दो आ...</td>\n",
       "      <td>* 👉  Jammu Kashmir: Encounter continues 🔫  in ...</td>\n",
       "    </tr>\n",
       "    <tr>\n",
       "      <th>2</th>\n",
       "      <td>2</td>\n",
       "      <td>0</td>\n",
       "      <td>0</td>\n",
       "      <td>0</td>\n",
       "      <td>135627</td>\n",
       "      <td>0.0</td>\n",
       "      <td>*यह साध्वी जी की परिपक्वता और गहरी समझ की निशा...</td>\n",
       "      <td>* It is a sign of maturity and deep understand...</td>\n",
       "    </tr>\n",
       "    <tr>\n",
       "      <th>3</th>\n",
       "      <td>3</td>\n",
       "      <td>0</td>\n",
       "      <td>0</td>\n",
       "      <td>0</td>\n",
       "      <td>665173</td>\n",
       "      <td>0.0</td>\n",
       "      <td>भारतीय सेना ने की एक और सर्जिकल स्‍ट्राइक, म्‍...</td>\n",
       "      <td>The Indian Army carried out this operation in ...</td>\n",
       "    </tr>\n",
       "    <tr>\n",
       "      <th>4</th>\n",
       "      <td>4</td>\n",
       "      <td>0</td>\n",
       "      <td>1</td>\n",
       "      <td>0</td>\n",
       "      <td>543553</td>\n",
       "      <td>0.0</td>\n",
       "      <td>एक नया ड्रामा डॉ अम्बेडकर के नाम पर प्रचलित हु...</td>\n",
       "      <td>A new drama has become popular in the name of ...</td>\n",
       "    </tr>\n",
       "  </tbody>\n",
       "</table>\n",
       "</div>"
      ],
      "text/plain": [
       "   Unnamed: 0  ...                                         translated\n",
       "0           0  ...                                                NaN\n",
       "1           1  ...  * 👉  Jammu Kashmir: Encounter continues 🔫  in ...\n",
       "2           2  ...  * It is a sign of maturity and deep understand...\n",
       "3           3  ...  The Indian Army carried out this operation in ...\n",
       "4           4  ...  A new drama has become popular in the name of ...\n",
       "\n",
       "[5 rows x 8 columns]"
      ]
     },
     "execution_count": 9,
     "metadata": {
      "tags": []
     },
     "output_type": "execute_result"
    }
   ],
   "source": [
    "df.head()"
   ]
  },
  {
   "cell_type": "code",
   "execution_count": 0,
   "metadata": {
    "colab": {},
    "colab_type": "code",
    "id": "Cxls7onUnjxW"
   },
   "outputs": [],
   "source": [
    "with open('Resource/stopwords-hi.json','r') as fp:\n",
    "  HindiStopwords=json.load(fp)"
   ]
  },
  {
   "cell_type": "code",
   "execution_count": 0,
   "metadata": {
    "colab": {},
    "colab_type": "code",
    "id": "J3xnf6lZi0fY"
   },
   "outputs": [],
   "source": [
    "EnglishStopwords=nlp.Defaults.stop_words"
   ]
  },
  {
   "cell_type": "code",
   "execution_count": 0,
   "metadata": {
    "colab": {},
    "colab_type": "code",
    "id": "1rICbKU0jJpy"
   },
   "outputs": [],
   "source": [
    "mixStopWords = HindiStopwords\n",
    "mixStopWords.extend(EnglishStopwords)"
   ]
  },
  {
   "cell_type": "code",
   "execution_count": 13,
   "metadata": {
    "colab": {
     "base_uri": "https://localhost:8080/",
     "height": 55
    },
    "colab_type": "code",
    "id": "-5wsW-XnwgFQ",
    "outputId": "2af02ce1-3c42-454e-b205-7e5655d091bf"
   },
   "outputs": [
    {
     "name": "stdout",
     "output_type": "stream",
     "text": [
      "['जम्मू', '▁कश्मीर', '▁बड', 'गाम', '▁में', '▁एन', 'काउंट', '▁जारी', '▁दो', '▁आतंकी', '▁ढेर', '▁चार', '▁जवान', '▁घायल', '▁जम्मू', '▁कश्मीर', '▁बड', 'गाम', '▁जिले', '▁के', '▁सु', 'त्सू', '▁गांव', '▁में', '▁सुरक्षा', '▁और', '▁आतंक', 'ियों', '▁के', '▁बीच', '▁मुठभेड़', '▁में', '▁दो', '▁आतंक', 'ियों', '▁के', '▁मारे', '▁जाने', '▁की', '▁खबर', '▁सामने', '▁आई', '▁है', '▁अधिकारियों', '▁ने', '▁इस', '▁बारे', '▁में', '▁जानकारी', '▁दी', '▁है', '▁की', '▁रिपोर्ट', '▁के', '▁मुताबिक', '▁एन', 'काउंट', '▁में', '▁दो', '▁आतंकी', '▁मारे', '▁गए', '▁हैं', '▁मुठभेड़', '▁के', '▁दौरान', '▁चार', '▁जवान', '▁भी', '▁घायल', '▁हुए', '▁हैं', '▁यह', '▁एन', 'काउंट', '▁अभी', '▁भी', '▁जारी', '▁है', '▁इलाके', '▁के', '▁एक', '▁घर', '▁में', '▁कम', '▁से', '▁कम', '▁तीन', '▁आतंक', 'ियों', '▁के', '▁छिपे', '▁होने', '▁की', '▁आशंका', '▁है', '▁इस', '▁खबर', '▁के', '▁बारे', '▁में', '▁ज्यादा', '▁जानकारी', '▁का', '▁इंतजार', '▁है', '▁बी', '▁गुरुवार', '▁को', '▁भी', '▁जम्मू', 'कश्मीर', '▁के', '▁शो', 'ियां', '▁और', '▁कु', 'वाड़ा', '▁जिलों', '▁में', '▁सुरक्षा', '▁बलों', '▁के', '▁साथ', '▁दो', '▁मुठभेड़', '▁में', '▁चार', '▁आतंकवादी', '▁मारे', '▁गए', '▁थे', '▁पुलिस', '▁के', '▁एक', '▁प्रवक्ता', '▁ने', '▁बताया', '▁था', '▁कि', '▁सुरक्षा', '▁बलों', '▁को', '▁जिले', '▁के', '▁या', '▁वन', '▁क्षेत्र', '▁में', '▁आतंकवादियों', '▁के', '▁होने', '▁की', '▁सूचना', '▁मिली', '▁थी', '▁जिसके', '▁बाद', '▁वहां', '▁आतंकवाद', '▁विरोधी', '▁अभियान', '▁चलाया', '▁गया', '▁इसके', '▁बाद', '▁हुई', '▁मुठभेड़', '▁में', '▁तीन', '▁आतंकवादी', '▁मारे', '▁गए', '▁प्रवक्ता', '▁ने', '▁बताया', 'मार', '▁गए', '▁आतंकवादियों', '▁की', '▁पहचान', '▁सजा', '▁खां', '▁आक', '▁अहमद', '▁डा', '▁और', '▁अहमद', '▁मीर', '▁के', '▁रूप', '▁में', '▁की', '▁गई', '▁यहां', '▁पढ़े', '▁पूरी', '▁खबर', '▁लाया', '▁है', '▁आज', '▁की', '▁ताज़ा', '▁ख़बर', '▁सीधे', 'hat', 'app', '▁के', '▁अंदर', '▁अपने', '▁ग्रुप', '▁में', '▁जोड़े', '▁ये', '▁नंबर', '135', '▁पसंद', '▁करने', '▁के', '▁लिए', '▁इस', '▁मैस', '▁को', '▁re', '▁करें', '▁और', '▁टाइप', '▁करे']\n"
     ]
    }
   ],
   "source": [
    "TokeninzedSent=[]\n",
    "label=[]\n",
    "for i in range(0, len(df)):\n",
    "  TokeninzedSent.append(cleanText(df['text'][i], mixStopWords))\n",
    "  label.append(df['label'][i])\n",
    "print(TokeninzedSent[1])"
   ]
  },
  {
   "cell_type": "code",
   "execution_count": 14,
   "metadata": {
    "colab": {
     "base_uri": "https://localhost:8080/",
     "height": 52
    },
    "colab_type": "code",
    "id": "e8D1MVt0kC2N",
    "outputId": "9d288220-815e-4399-cdf2-d1cf21f60143"
   },
   "outputs": [
    {
     "name": "stdout",
     "output_type": "stream",
     "text": [
      "540\n",
      "540\n"
     ]
    }
   ],
   "source": [
    "print(len(TokeninzedSent))\n",
    "print(len(label))"
   ]
  },
  {
   "cell_type": "code",
   "execution_count": 0,
   "metadata": {
    "colab": {},
    "colab_type": "code",
    "id": "KrV290my0Ja8"
   },
   "outputs": [],
   "source": [
    "X= TokeninzedSent\n",
    "y= np.array(label)"
   ]
  },
  {
   "cell_type": "code",
   "execution_count": 0,
   "metadata": {
    "colab": {},
    "colab_type": "code",
    "id": "ir8G1jQWRCwh"
   },
   "outputs": [],
   "source": [
    "from sklearn.feature_extraction.text import CountVectorizer\n",
    "from sklearn.metrics import confusion_matrix, f1_score, accuracy_score, precision_score, recall_score\n",
    "from sklearn.model_selection import cross_val_score\n",
    "from sklearn.utils.class_weight import compute_class_weight\n",
    "from sklearn.linear_model import LogisticRegression\n",
    "from sklearn.model_selection import StratifiedKFold\n",
    "import random"
   ]
  },
  {
   "cell_type": "code",
   "execution_count": 0,
   "metadata": {
    "colab": {},
    "colab_type": "code",
    "id": "Y9ecGuAR85IT"
   },
   "outputs": [],
   "source": [
    "def dummy_fun(doc):\n",
    "    return doc"
   ]
  },
  {
   "cell_type": "code",
   "execution_count": 0,
   "metadata": {
    "colab": {},
    "colab_type": "code",
    "id": "qgaSSqelcUrK"
   },
   "outputs": [],
   "source": [
    "acc=[]\n",
    "macro_f1=[]\n",
    "prec=[]\n",
    "recall=[]\n",
    "prob=[]\n",
    "\n",
    "skf = StratifiedKFold(n_splits=10, random_state= 2020)\n",
    "\n",
    "for train_index, test_index in skf.split(X, y):\n",
    "    print(\"TRAIN:\", train_index, \"TEST:\", test_index)\n",
    "    X_train, X_test = [X[index] for index in train_index], [X[index] for index in test_index]\n",
    "    y_train, y_test = y[train_index], y[test_index]\n",
    "    cv = CountVectorizer(tokenizer=dummy_fun, preprocessor=dummy_fun, max_features=15000)\n",
    "    X_train = cv.fit_transform(X_train).toarray()\n",
    "    X_test= cv.transform(X_test).toarray()\n",
    "    class_weights = dict(zip(np.unique(y_train), compute_class_weight(\"balanced\", np.unique(y_train),y_train)))\n",
    "    print(class_weights)\n",
    "    classifier= LogisticRegression(class_weight=class_weights)\n",
    "    classifier.fit(X_train, y_train)\n",
    "    y_pred= classifier.predict(X_test)\n",
    "    acc.append(accuracy_score(y_test, y_pred))\n",
    "    macro_f1.append(f1_score(y_test, y_pred, average='macro'))\n",
    "    prec.append(f1_score(y_test, y_pred))\n",
    "    recall.append(f1_score(y_test, y_pred))\n",
    "    prob.append(classifier.predict_proba(X_test))\n"
   ]
  },
  {
   "cell_type": "code",
   "execution_count": 53,
   "metadata": {
    "colab": {
     "base_uri": "https://localhost:8080/",
     "height": 35
    },
    "colab_type": "code",
    "id": "RrYxa4fH-Ldk",
    "outputId": "be92a0be-3a49-4a3d-d802-f7d930066d7c"
   },
   "outputs": [
    {
     "name": "stdout",
     "output_type": "stream",
     "text": [
      "15000\n"
     ]
    }
   ],
   "source": [
    "print(len(X_train[0]))"
   ]
  },
  {
   "cell_type": "code",
   "execution_count": 54,
   "metadata": {
    "colab": {
     "base_uri": "https://localhost:8080/",
     "height": 87
    },
    "colab_type": "code",
    "id": "-gKXaK_FevCv",
    "outputId": "0b7711ec-8457-473c-975e-1bd61beb8584"
   },
   "outputs": [
    {
     "name": "stdout",
     "output_type": "stream",
     "text": [
      "Accuracy: 0.78 (+/- 0.11)\n",
      "Macro F1: 0.74 (+/- 0.12)\n",
      "Precision for +ve class: 0.65 (+/- 0.17)\n",
      "Recall for +ve class: 0.65 (+/- 0.17)\n"
     ]
    }
   ],
   "source": [
    "print(\"Accuracy: %0.2f (+/- %0.2f)\" % (np.mean(acc), np.std(acc) * 2))\n",
    "print(\"Macro F1: %0.2f (+/- %0.2f)\" % (np.mean(macro_f1), np.std(macro_f1) * 2))\n",
    "print(\"Precision for +ve class: %0.2f (+/- %0.2f)\" % (np.mean(prec), np.std(prec) * 2))\n",
    "print(\"Recall for +ve class: %0.2f (+/- %0.2f)\" % (np.mean(recall), np.std(recall) * 2))\n"
   ]
  },
  {
   "cell_type": "code",
   "execution_count": 81,
   "metadata": {
    "colab": {
     "base_uri": "https://localhost:8080/",
     "height": 315
    },
    "colab_type": "code",
    "id": "W16csnItjDGq",
    "outputId": "7b56ed86-39ab-4912-9392-b7f3bde2c6f7"
   },
   "outputs": [
    {
     "name": "stdout",
     "output_type": "stream",
     "text": [
      "{0.0: 0.7336956521739131, 1.0: 1.569767441860465}\n"
     ]
    },
    {
     "name": "stderr",
     "output_type": "stream",
     "text": [
      "/usr/local/lib/python3.6/dist-packages/sklearn/linear_model/_logistic.py:940: ConvergenceWarning: lbfgs failed to converge (status=1):\n",
      "STOP: TOTAL NO. of ITERATIONS REACHED LIMIT.\n",
      "\n",
      "Increase the number of iterations (max_iter) or scale the data as shown in:\n",
      "    https://scikit-learn.org/stable/modules/preprocessing.html\n",
      "Please also refer to the documentation for alternative solver options:\n",
      "    https://scikit-learn.org/stable/modules/linear_model.html#logistic-regression\n",
      "  extra_warning_msg=_LOGISTIC_SOLVER_CONVERGENCE_MSG)\n"
     ]
    },
    {
     "data": {
      "text/plain": [
       "LogisticRegression(C=1.0,\n",
       "                   class_weight={0.0: 0.7336956521739131,\n",
       "                                 1.0: 1.569767441860465},\n",
       "                   dual=False, fit_intercept=True, intercept_scaling=1,\n",
       "                   l1_ratio=None, max_iter=100, multi_class='auto', n_jobs=None,\n",
       "                   penalty='l2', random_state=None, solver='lbfgs', tol=0.0001,\n",
       "                   verbose=0, warm_start=False)"
      ]
     },
     "execution_count": 81,
     "metadata": {
      "tags": []
     },
     "output_type": "execute_result"
    }
   ],
   "source": [
    "cv = CountVectorizer(tokenizer=dummy_fun, preprocessor=dummy_fun, max_features=15000)\n",
    "X0 = cv.fit_transform(X).toarray()\n",
    "y0=np.array(label)\n",
    "\n",
    "class_weights = dict(zip(np.unique(y0), compute_class_weight(\"balanced\", np.unique(y0),y0)))\n",
    "print(class_weights)\n",
    "model= LogisticRegression(class_weight=class_weights)\n",
    "model.fit(X0, y0) "
   ]
  },
  {
   "cell_type": "code",
   "execution_count": 0,
   "metadata": {
    "colab": {},
    "colab_type": "code",
    "id": "ojZPdI32yWl8"
   },
   "outputs": [],
   "source": [
    "df2=pd.read_csv(\"corpus_analysis_26thApril.csv\")\n",
    "#del(df[\"Unnamed: 0\"])"
   ]
  },
  {
   "cell_type": "code",
   "execution_count": 67,
   "metadata": {
    "colab": {
     "base_uri": "https://localhost:8080/",
     "height": 72
    },
    "colab_type": "code",
    "id": "GJP7CkLHydHG",
    "outputId": "ff202fd4-5992-43e8-f448-9366749ab2a0"
   },
   "outputs": [
    {
     "name": "stdout",
     "output_type": "stream",
     "text": [
      "['दिल्ली', 'सीआर', '▁में', '▁शिमला', '▁जैसी', '▁बर्फ', 'बारी', '▁देखें', '▁तस्वीरें', '▁स्लाइड', '▁शो', '▁को', '▁चालू', '▁करने', '▁के', '▁लिए', '▁टाइप', '▁करें']\n",
      "1000\n"
     ]
    }
   ],
   "source": [
    "TokeninzedSent2=[]\n",
    "for i in range(0, len(df2)):\n",
    "  TokeninzedSent2.append(cleanText(df2['message_text'][i],mixStopWords))\n",
    "print(TokeninzedSent2[1])\n",
    "print(len(TokeninzedSent2))\n"
   ]
  },
  {
   "cell_type": "code",
   "execution_count": 82,
   "metadata": {
    "colab": {
     "base_uri": "https://localhost:8080/",
     "height": 35
    },
    "colab_type": "code",
    "id": "lPNs1uy0h3wj",
    "outputId": "48a11939-8699-4b47-9ca9-1e2fe93f3830"
   },
   "outputs": [
    {
     "name": "stdout",
     "output_type": "stream",
     "text": [
      "(1000, 15000)\n"
     ]
    }
   ],
   "source": [
    "X0_pred = cv.transform(TokeninzedSent2).toarray()\n",
    "print(X0_pred.shape)"
   ]
  },
  {
   "cell_type": "code",
   "execution_count": 83,
   "metadata": {
    "colab": {
     "base_uri": "https://localhost:8080/",
     "height": 35
    },
    "colab_type": "code",
    "id": "wQFETRCeFZwh",
    "outputId": "5e0c9e6f-153c-4d6b-c88a-90bb6e836823"
   },
   "outputs": [
    {
     "name": "stdout",
     "output_type": "stream",
     "text": [
      "44\n"
     ]
    }
   ],
   "source": [
    "y0_pred=model.predict(X0_pred)\n",
    "y0_pred_prob= model.predict_proba(X0_pred)\n",
    "count_1=0\n",
    "for i in range(0,len(y0_pred)):\n",
    "    if y0_pred[i] ==1:\n",
    "        count_1 +=1\n",
    "print(count_1)"
   ]
  },
  {
   "cell_type": "code",
   "execution_count": 84,
   "metadata": {
    "colab": {
     "base_uri": "https://localhost:8080/",
     "height": 173
    },
    "colab_type": "code",
    "id": "P8509Ed1GIwf",
    "outputId": "05e504b3-0bba-4588-a7ca-a117de4897d7"
   },
   "outputs": [
    {
     "name": "stdout",
     "output_type": "stream",
     "text": [
      "[[0.892163 0.107837]\n",
      " [0.7779   0.2221  ]\n",
      " [0.879182 0.120818]\n",
      " [0.879182 0.120818]\n",
      " ...\n",
      " [0.640623 0.359377]\n",
      " [0.640623 0.359377]\n",
      " [0.640623 0.359377]\n",
      " [0.640623 0.359377]]\n"
     ]
    }
   ],
   "source": [
    "print(y0_pred_prob)"
   ]
  },
  {
   "cell_type": "code",
   "execution_count": 0,
   "metadata": {
    "colab": {},
    "colab_type": "code",
    "id": "PlsmpnLzDRzi"
   },
   "outputs": [],
   "source": [
    "import pickle\n",
    "\n",
    "with open('Model_Op/LOR+BR.p', 'wb') as fout:\n",
    "    pickle.dump((cv, model), fout)"
   ]
  },
  {
   "cell_type": "code",
   "execution_count": 87,
   "metadata": {
    "colab": {
     "base_uri": "https://localhost:8080/",
     "height": 419
    },
    "colab_type": "code",
    "id": "XFjNkv6hlHLx",
    "outputId": "5def6e29-196b-4954-d0fd-6df00ce3c8b0"
   },
   "outputs": [
    {
     "name": "stderr",
     "output_type": "stream",
     "text": [
      "/usr/local/lib/python3.6/dist-packages/sklearn/model_selection/_split.py:296: FutureWarning: Setting a random_state has no effect since shuffle is False. This will raise an error in 0.24. You should leave random_state to its default (None), or set shuffle=True.\n",
      "  FutureWarning\n"
     ]
    },
    {
     "name": "stdout",
     "output_type": "stream",
     "text": [
      "TRAIN: [ 49  50  52  54 ... 536 537 538 539] TEST: [ 0  1  2  3 ... 53 59 60 64]\n",
      "{0.0: 0.7341389728096677, 1.0: 1.5677419354838709}\n",
      "TRAIN: [  0   1   2   3 ... 536 537 538 539] TEST: [ 49  50  52  54 ... 105 107 108 112]\n",
      "{0.0: 0.7341389728096677, 1.0: 1.5677419354838709}\n",
      "TRAIN: [  0   1   2   3 ... 536 537 538 539] TEST: [103 106 109 110 ... 158 159 161 162]\n",
      "{0.0: 0.7341389728096677, 1.0: 1.5677419354838709}\n",
      "TRAIN: [  0   1   2   3 ... 536 537 538 539] TEST: [160 163 164 165 ... 212 213 214 215]\n",
      "{0.0: 0.7341389728096677, 1.0: 1.5677419354838709}\n",
      "TRAIN: [  0   1   2   3 ... 536 537 538 539] TEST: [216 217 218 219 ... 268 270 271 272]\n",
      "{0.0: 0.7341389728096677, 1.0: 1.5677419354838709}\n",
      "TRAIN: [  0   1   2   3 ... 536 537 538 539] TEST: [265 267 269 273 ... 320 321 322 328]\n",
      "{0.0: 0.7341389728096677, 1.0: 1.5677419354838709}\n",
      "TRAIN: [  0   1   2   3 ... 536 537 538 539] TEST: [323 324 325 326 ... 374 378 385 388]\n",
      "{0.0: 0.7341389728096677, 1.0: 1.5677419354838709}\n",
      "TRAIN: [  0   1   2   3 ... 536 537 538 539] TEST: [375 376 377 379 ... 433 443 446 448]\n",
      "{0.0: 0.7341389728096677, 1.0: 1.5677419354838709}\n",
      "TRAIN: [  0   1   2   3 ... 536 537 538 539] TEST: [424 425 427 428 ... 490 492 493 497]\n",
      "{0.0: 0.7319277108433735, 1.0: 1.577922077922078}\n",
      "TRAIN: [  0   1   2   3 ... 490 492 493 497] TEST: [478 479 480 481 ... 536 537 538 539]\n",
      "{0.0: 0.7319277108433735, 1.0: 1.577922077922078}\n"
     ]
    }
   ],
   "source": [
    "from sklearn.feature_extraction.text import TfidfVectorizer\n",
    "acc=[]\n",
    "macro_f1=[]\n",
    "prec=[]\n",
    "recall=[]\n",
    "prob=[]\n",
    "\n",
    "skf = StratifiedKFold(n_splits=10, random_state= 2020)\n",
    "\n",
    "for train_index, test_index in skf.split(X, y):\n",
    "    print(\"TRAIN:\", train_index, \"TEST:\", test_index)\n",
    "    X_train, X_test = [X[index] for index in train_index], [X[index] for index in test_index]\n",
    "    y_train, y_test = y[train_index], y[test_index]\n",
    "    vectorizer = TfidfVectorizer(tokenizer=dummy_fun, preprocessor=dummy_fun, max_features=15000)\n",
    "    X_train = vectorizer.fit_transform(X_train).toarray()\n",
    "    X_test= vectorizer.transform(X_test).toarray()\n",
    "    class_weights = dict(zip(np.unique(y_train), compute_class_weight(\"balanced\", np.unique(y_train),y_train)))\n",
    "    print(class_weights)\n",
    "    classifier= LogisticRegression(class_weight=class_weights)\n",
    "    classifier.fit(X_train, y_train)\n",
    "    y_pred=classifier.predict(X_test)\n",
    "    acc.append(accuracy_score(y_test, y_pred))\n",
    "    macro_f1.append(f1_score(y_test, y_pred, average='macro'))\n",
    "    prec.append(f1_score(y_test, y_pred))\n",
    "    recall.append(f1_score(y_test, y_pred))\n",
    "    prob.append(classifier.predict_proba(X_test))\n"
   ]
  },
  {
   "cell_type": "code",
   "execution_count": 88,
   "metadata": {
    "colab": {
     "base_uri": "https://localhost:8080/",
     "height": 87
    },
    "colab_type": "code",
    "id": "POQvNZ5MlwaH",
    "outputId": "386b27c3-5503-484b-9575-70126c327e81"
   },
   "outputs": [
    {
     "name": "stdout",
     "output_type": "stream",
     "text": [
      "Accuracy: 0.78 (+/- 0.06)\n",
      "Macro F1: 0.75 (+/- 0.06)\n",
      "Precision for +ve class: 0.68 (+/- 0.08)\n",
      "Recall for +ve class: 0.68 (+/- 0.08)\n"
     ]
    }
   ],
   "source": [
    "print(\"Accuracy: %0.2f (+/- %0.2f)\" % (np.mean(acc), np.std(acc) * 2))\n",
    "print(\"Macro F1: %0.2f (+/- %0.2f)\" % (np.mean(macro_f1), np.std(macro_f1) * 2))\n",
    "print(\"Precision for +ve class: %0.2f (+/- %0.2f)\" % (np.mean(prec), np.std(prec) * 2))\n",
    "print(\"Recall for +ve class: %0.2f (+/- %0.2f)\" % (np.mean(recall), np.std(recall) * 2))\n"
   ]
  },
  {
   "cell_type": "code",
   "execution_count": 110,
   "metadata": {
    "colab": {
     "base_uri": "https://localhost:8080/",
     "height": 72
    },
    "colab_type": "code",
    "id": "4R-B5xrxl8fn",
    "outputId": "ec37897d-9d3d-4545-efc4-371b0f09e219"
   },
   "outputs": [
    {
     "name": "stdout",
     "output_type": "stream",
     "text": [
      "{0.0: 0.7336956521739131, 1.0: 1.569767441860465}\n",
      "['#_______________', '+91', ',000', ',500', ',700', '---', '--------------', '-10', '-11', '-13', '-14', '-15', '-16', '-19', '-20', '-30', '-35', '-40', '-50', '-60', '-90', '...', '....', '.....', '........', '............', '...............', '.5%', '.9%', '/10', '0,000', '000', '00000', '1.1', '100', '100%', '120', '135', '151', '1583', '164', '1780s', '1790s', '1857', '18:18', '1984', '1986', '1987', '1989', '1990', '1996', '1st', '2,000', '2,88,000', '2.1', '200', '2000', '2002', '2004', '2008', '2009', '2013', '2014', '2016', '2017', '2017-18', '2018', '2019', '21:13', '252', '283', '2nd', '3,000', '3.1', '3.2', '3.5', '3.6', '300', '321', '3:103', '4.2', '400', '45%', '47%', '5.0', '50,000', '500', '5000', '596', '6,000', '72000', '748', '8,000', '800', '879', '98%', '99%', '999', '>>>>>>>>>', 'Australia', 'Bangladesh', 'Hindu', 'List', 'National', 'Service', 'TTE', 'The', '_________________________', '_____________________________', 'aap', 'abdul', 'abdullah', 'able', 'abraham', 'abu', 'abul', 'accept', 'accepted', 'according', 'acebook', 'ach', 'achieve', 'ack', 'act', 'action', 'active', 'activists', 'activities', 'acts', 'actual', 'actually', 'add', 'added', 'adding', 'addition', 'address', 'addressed', 'addressing', 'ade', 'adi', 'admit', 'adopted', 'advent', 'advice', 'affairs', 'afghan', 'age', 'agency', 'agenda', 'ago', 'ahead', 'ahes', 'ahmad', 'aiadmk', 'aimim', 'ajmal', 'akbar', 'akhilesh', 'ala', 'ale', 'algorithms', 'ali', 'alive', 'allah', 'allahabad', 'allegations', 'allegedly', 'alliance', 'allocated', 'allotted', 'allowed', 'ally', 'als', 'amaq', 'america', 'amethi', 'ami', 'amir', 'amit', 'amp', \"an'am\", 'ana', 'analytics', 'anantnag', 'ance', 'ancestor', 'ancient', 'andhra', 'ang', 'angel', 'anger', 'angry', 'ani', 'ans', 'answered', 'ant', 'anti', 'app', 'apparent', 'appeasement', 'april', 'arabia', 'arabic', 'arat', 'arch', 'area', 'areas', 'armed', 'army', 'arrested', 'arrive', 'art', 'article', 'ary', 'asaduddin', 'ase', 'ask', 'asked', 'aspects', 'aspirants', 'asr', 'ass', 'assam', 'assembly', 'astrologers', 'ate', 'ated', 'athuraliye', 'ation', 'ations', 'atrocities', 'att', 'attack', 'attacks', 'attempt', 'attended', 'attitude', 'atur', 'aur', 'author', 'authority', 'ava', 'avi', 'awaited', 'away', 'azad', 'azamgarh', 'baba', 'background', 'bahadur', 'bai', 'balakot', 'balanced', 'bank', 'banner', 'base', 'based', 'basic', 'battle', 'bear', 'beat', 'began', 'begum', 'begun', 'beings', 'belief', 'believe', 'believed', 'believers', 'bell', 'belong', 'belonging', 'belongs', 'bengal', 'bengali', 'ber', 'best', 'better', 'bhadralok', 'bhagyashree', 'bharat', 'bhi', 'bible', 'big', 'biggest', 'bihar', 'bin', 'biography', 'birth', 'bit', 'bjp', 'bjp+', 'black', 'blamed', 'ble', 'bless', 'blessed', 'blessings', 'blogs', 'blood', 'blowing', 'blue', 'body', 'bombers', 'bombings', 'bones', 'book', 'books', 'booth', 'born', 'box', 'bramhin', 'bramhins', 'breeze', 'brethren', 'brilliant', 'bring', 'bringing', 'british', 'brother', 'brotherhood', 'brothers', 'brought', 'bsp', 'buddhist', 'building', 'built', 'business', 'cal', 'called', 'calling', 'came', 'campaigning', 'candidate', 'candidates', 'cap', 'capital', 'capped', 'capture', 'car', 'care', 'carefully', 'case', 'cases', 'caste', 'castes', 'caught', 'cause', 'center', 'central', 'centre', 'centuries', 'cept', 'ceremony', 'ces', 'chance', 'chances', 'change', 'changed', 'changes', 'channel', 'chhatrapati', 'chhattisgarh', 'chi', 'chicken', 'chief', 'child', 'children', 'china', 'chinese', 'christ', 'christchurch', 'christian', 'christians', 'churches', 'circumstances', 'cities', 'citizens', 'city', 'claim', 'claimed', 'claims', 'class', 'classified', 'clean', 'clear', 'clearly', 'clerics', 'close', 'coalition', 'coherent', 'coincidence', 'collages', 'color', 'colors', 'com', 'combined', 'come', 'comes', 'comfortable', 'comfortably', 'comforter', 'coming', 'comm', 'command', 'commission', 'committed', 'common', 'communal', 'communist', 'communities', 'community', 'companion', 'company', 'complete', 'completed', 'completely', 'con', 'conceal', 'concept', 'conclude', 'condemn', 'conducted', 'confident', 'congress', 'consider', 'considered', 'considering', 'considers', 'consistently', 'constituency', 'constitute', 'contact', 'contest', 'contested', 'context', 'continued', 'control', 'conversion', 'coordinated', 'coronation', 'correctly', 'corruption', 'countries', 'country', 'course', 'covenant', 'create', 'created', 'creation', 'creator', 'crime', 'criteria', 'crore', 'cross', 'crucial', 'cular', 'cured', 'currently', 'cybermuslimrussianforprabowosos', 'dal', 'dalada', 'dalitanna', 'dalits', 'damaged', 'dangerous', 'data', 'date', 'daughter', 'day', 'days', 'dead', 'death', 'dec', 'decades', 'decided', 'declared', 'deeds', 'defeated', 'defined', 'definitely', 'degree', 'delhi', 'dem', 'demanded', 'democracy', 'demographics', 'demolition', 'departure', 'der', 'descendants', 'described', 'despite', 'destroy', 'destroyed', 'detail', 'deuteronomy', 'deve', 'developed', 'dia', 'dictionary', 'die', 'died', 'difference', 'different', 'difficult', 'digit', 'ding', 'direction', 'dirham', 'dirty', 'disbelief', 'dismissed', 'disobedient', 'dissemination', 'distorted', 'district', 'divided', 'divine', 'divinely', 'divorced', 'dmk', 'dominion', 'donated', 'drastically', 'duc', 'duta', 'dutiful', 'dynasty', 'ear', 'earlier', 'early', 'earth', 'east', 'easter', 'eastern', 'eaten', 'economic', 'economy', 'ect', 'education', 'effect', 'efforts', 'egyptian', 'eign', 'elected', 'election', 'elections', 'electoral', 'ell', 'emerged', 'employer', 'ena', 'ence', 'end', 'ene', 'enemies', 'enemy', 'eng', 'english', 'ensure', 'ent', 'enter', 'entered', 'entire', 'equal', 'equivalent', 'era', 'ern', 'ero', 'ers', 'escaped', 'especially', 'est', 'establish', 'establishment', 'estimates', 'etc', 'eternal', 'ethiopia', 'evening', 'eventually', 'everybody', 'evidence', 'evil', 'example', 'examples', 'exists', 'expected', 'experience', 'explicitly', 'extent', 'extremely', 'extremist', 'eye', 'facebook', 'faced', 'fact', 'factor', 'factors', 'facts', 'fail', 'faith', 'faithful', 'faizan', 'fall', 'false', 'families', 'family', 'famous', 'farooq', 'fast', 'father', 'favor', 'fear', 'feat', 'february', 'fed', 'fell', 'felt', 'field', 'fight', 'fighters', 'fighting', 'fil', 'film', 'final', 'finally', 'find', 'fire', 'firm', 'folks', 'follow', 'followed', 'followers', 'following', 'force', 'forced', 'forces', 'foretold', 'forever', 'forgive', 'forgiveness', 'form', 'forth', 'fortress', 'forward', 'fought', 'found', 'free', 'freedom', 'friday', 'friends', 'fruit', 'ful', 'fulfilled', 'fulfillment', 'fund', 'furthermore', 'future', 'gabriel', 'gain', 'gains', 'gandhi', 'gandhinagar', 'gangadhar', 'gap', 'gar', 'gave', 'gdp', 'general', 'genesis', 'geography', 'ger', 'gets', 'getting', 'ghosh', 'given', 'giving', 'glory', 'god', 'going', 'gone', 'good', 'goodness', 'gospel', 'gov', 'government', 'governor', 'gowda', 'gram', 'grand', 'grave', 'great', 'greedy', 'green', 'group', 'groups', 'growing', 'growth', 'guidance', 'gujarat', 'gujarati', 'gulam', 'gymkhana', 'habiba', 'hagar', 'hai', 'hailed', 'hajj', 'half', 'ham', 'han', 'hand', 'hands', 'happen', 'happens', 'har', 'haryana', 'hashim', 'hat', 'hate', 'having', 'head', 'headed', 'health', 'hear', 'heard', 'hearing', 'hearts', 'heavens', 'hell', 'help', 'helping', 'heritage', 'high', 'higher', 'himachal', 'hin', 'hindi', 'hindu', 'hinduism', 'hindus', 'historic', 'history', 'hit', 'hizbullah', 'hold', 'holiest', 'holy', 'home', 'honest', 'honor', 'honoring', 'honour', 'hoodas', 'horrible', 'hotels', 'house', 'houses', 'huge', 'human', 'humanity', 'humility', 'husband', 'hussain', 'hyder', 'hyderabad', 'i.e.', 'ial', 'ibn', 'ibrahim', 'ical', 'icon', 'ide', 'idea', 'ideology', 'ier', 'ies', 'ight', 'ike', 'ile', 'ili', 'ility', 'ill', 'illegal', 'imagine', 'img', 'importance', 'ina', 'inaelectionobserversos', 'inc', 'incidents', 'include', 'included', 'including', 'income', 'independence', 'independent', 'indi', 'india', 'indian', 'indians', 'indira', 'ine', 'inf', 'inflation', 'influential', 'information', 'infrastructure', 'infront', 'ing', 'initiated', 'injured', 'inroads', 'inspite', 'instance', 'instead', 'instructed', 'insurgency', 'int', 'intelligence', 'intelligent', 'intelligentsia', 'intense', 'intention', 'interest', 'interesting', 'interests', 'interference', 'interview', 'ion', 'ions', 'ips', 'iran', 'isaac', 'isaiah', 'ise', 'ish', 'ishmael', 'isis', 'islam', 'islami', 'islamic', 'islamist', 'islamists', 'ism', 'isolation', 'israelite', 'israelites', 'issue', 'ist', 'ister', 'ists', 'ite', 'ittehadul', 'ity', 'ive', 'iya', 'ize', 'jagaran', 'jagmohan', 'jahl', 'jai', 'jamaat', 'jamaath', 'jammu', 'janata', 'jat', 'jats', 'jawaharlal', 'jds', 'jdu', 'ject', 'jehangir', 'jerusalem', 'jesus', 'jews', 'jharkhand', 'jihad', 'jihadi', 'jihadis', 'jinnah', 'jklf', 'job', 'jobs', 'john', 'join', 'joseph', 'judge', 'judgment', 'judicial', 'july', 'jumma', 'jun', 'junaid', 'june', 'justice', 'jyotiraditya', 'k.c.rao', 'k.prem', \"ka'ba\", 'kabir', 'kadle', 'kadte', 'kaiser', 'kal', 'kalam', 'kamal', 'kamla', 'kandy', 'kannada', 'kanthi', 'kappalotiya', 'kar', 'karai', 'karat', 'kare', 'karlijiye', 'karnataka', 'karra', 'kase', 'kashmir', 'kashmir.[16', 'kashmir.[27][28][29][30', 'kashmiri', 'kashmiris', 'kata', 'kathihar', 'kattanakudy', 'kaul', 'kazhagam', 'ka’bah', 'keeping', 'kept', 'kerala', 'kerala)-', 'kerala)-70.2', 'ketchup', 'key', 'ke’dar', 'kfc', 'khagaria(bihar)-89.21%h-', 'khalid', 'khalistan', 'khammam', 'khan', 'kharge', 'khatrey', 'khattab', 'khattar', 'khayran', 'khotya', 'khud', 'kidnapping', 'kids', 'kill', 'killed', 'killing', 'killings', 'kind', 'kindly', 'kindness', 'king', 'kingdom', 'kings', 'kirti', 'kisans', 'kishore', 'kissan', 'kiya', 'kjv', 'knots', 'know', 'knower', 'knowing', 'knowledge', 'known', 'knows', 'kodi', 'kolkata', 'kon', 'koran', 'korea', 'koreans', 'krisna', 'kry', 'kshatriya', 'kudos', 'kumar', 'kumaran', 'kunhala', 'kunjalikutty', 'kurmi', 'kurmis', 'kushwant', 'kya', 'lac', 'lack', 'ladakh', 'ladder', 'ladies', 'lady', 'laid', 'lakh', 'lakhs', 'lal', 'lam', 'lan', 'land', 'landscape', 'language', 'lanka', 'lankan', 'large', 'largely', 'largest', 'late', 'late-1980s.[19', 'later', 'latheef', 'laugh', 'launched', 'law', 'law[2', 'lawrence', 'laws', 'laying', 'laylat', 'laziness', 'lead', 'leader', 'leaders', 'leadership', 'leading', 'leads', 'league', 'leap', 'learning', 'leave', 'leaving', 'led', 'left', 'legacy', 'legal', 'legally', 'legions', 'legislative', 'legitimacy', 'legs', 'lemons', 'leprosy', 'ler', 'let', 'letter', 'leucoderma', 'level', 'levels', 'lex', 'ley', 'liberal', 'liberation', 'library', 'lic', 'lies', 'life', 'lifetime', 'light', 'lightened', 'lightly', 'like', 'likelihood', 'likely', 'lim', 'limited', 'lin', 'line', 'lines', 'lingayats', 'link', 'linked', 'links', 'lips', 'liquidation', 'liquor', 'list', 'listen', 'lists', 'lit', 'literally', 'literature', 'little', 'live', 'lived', 'lives', 'living', 'liye', 'llo', 'local', 'locality', 'localized', 'location', 'locations', 'lock', 'log', 'lok', 'loksabha', 'london', 'long', 'longer', 'longterm', 'look', 'looked', 'looking', 'looks', 'looted', 'lord', 'lose', 'losers', 'loses', 'losing', 'lost', 'lot', 'love', 'loved', 'low', 'lower', 'lowest', 'loyal', 'lucknow', 'lukbhavan', 'lynching', 'lynchings', 'lyrics', 'm.k.m', 'mackenzie', 'macro', 'madarsa', 'madhya', 'madhye', 'madrassas', 'magic', 'maha', 'mahagatbandhan', 'mahal', 'maharaj', 'maharashtra', 'maharshtra', 'mahatma', 'mahato', 'mahboob', 'mahit', 'maid', 'mail', 'main', 'mainly', 'majalgaon', 'majlis', 'major', 'majority', 'maker', 'makhzum', 'making', 'makkah', 'makkala', 'malcolm', 'male', 'malik', 'malingawa', 'maloomat', 'malpractice', 'mamata', 'mamtaz', 'mamuna', 'man', 'managed', 'management', 'managing', 'manch', 'mandate', 'mandir', 'mandya', 'maneka', 'manhla', 'manhun', 'manifesto', 'manipulating', 'manjari', 'mankind', 'manmohan', 'manner', 'manoharlal', 'manzoor', 'maoist', 'map', 'mapi', 'mapped', 'maqbool', 'mar', 'maratha', 'marathas', 'march', 'marfani', 'margin', 'margins', 'maria', 'mark', 'market', 'marks', 'marle', 'marriage', 'marriages', 'married', 'marry', 'marrying', 'marte', 'marto', 'martyred', 'maruda', 'marwah', 'mary', 'masayils', 'masjid', 'masjids', 'mass', 'master', 'mastermind', 'mat', 'math', 'mathai', 'matra', 'matter', 'matthew', 'maulana', 'mausam', 'maximum', 'maya', 'mayawati', 'maybe', 'mayonnaise', 'meals', 'mean', 'meaning', 'meanings', 'means', 'meant', 'measures', 'mecca', 'meccans', 'mechanism', 'media', 'mediapersons', 'medical', 'medina', 'mednipur', 'meet', 'meeting', 'mehar', 'mehbooba', 'mein', 'member', 'members', 'memes', 'memon', 'memorising', 'memory', 'men', 'ment', 'mention', 'mentioned', 'mentions', 'merciful', 'mercy', 'merely', 'merger', 'merrit', 'message', 'messages', 'messaging', 'messenger', 'messengers', 'messiah', 'met', 'methods', 'mgb', 'micro', 'mid', 'mid-1970s', 'middle', 'middlemen', 'mighty', 'migrated', 'migration', 'mileage', 'miles', 'militant', 'militants', 'military', 'million', 'millionaire', 'min', 'mina', 'mind', 'mindfulness', 'minds', 'minimum', 'minister', 'ministers', 'ministry', 'minorities', 'minority', 'minutest', 'miracles', 'miraculous', 'miraculously', 'misdeeds', 'misinterpretations', 'misrepresented', 'missing', 'mission', 'mistake', 'mistakes', 'mixed', 'mla', 'mlam', 'mlas', 'mlasm', 'mob', 'mobilised', 'mobilization', 'mobs', 'mod', 'model', 'models', 'modern', 'modi', 'modified', 'modiji', 'mogul', 'mohammad', 'mohammed', 'mohandas', 'mohanrao', 'mohd', 'mohds', 'mohideen', 'mohinuddin', 'molvi', 'moment', 'mon', 'monday', 'monetary', 'monotheism', 'month', 'months', 'moral', 'morning', 'mortem', 'moses', 'mosque', 'mosques', 'mother', 'moti', 'motilal', 'motivated', 'moulavi', 'mountains', 'mouth', 'moved', 'movement', 'moving', 'mps', 'mr.', 'mrs', 'mrs.', 'msg', 'mt.', 'mubarak', 'mufti', 'muhammad', 'muhammed', 'mukammal', 'mukhbir', 'mulayam', 'multi', 'multiplying', 'multitude', 'munetra', 'murad', 'murder', 'murshidabad(wb)-', 'musalmaano', 'musalmalanna', 'musalman', 'musalmano', 'music', 'muslim', 'muslimeen', 'muslimisation', 'muslims', 'mustafa', 'mutawaf', 'mutiny', 'muzaffar', 'mysorean', 'mysteries', 'mysterious', 'n.chandrababu', 'naats', 'nabi', 'nadu', 'nagar', 'nagpur', 'naher', 'nahi', 'naidu', 'nalgonda', 'namaz', 'namdevrao', 'named', 'names', 'narasimha', 'narcissistic', 'narendra', 'narrative', 'nath', 'nation', 'national', 'nationalcongress', 'nationalist', 'nationalistic', 'nationalists', 'nations', 'native', 'natural', 'naveen', 'navtake', 'navy', 'nawab', 'nawaz', 'naxals', 'nayagam', 'nazi', 'ncp', 'nda', 'near', 'nearly', 'necessary', 'need', 'needed', 'needless', 'needs', 'needy', 'negative', 'negus', 'nehri', 'nehru', 'neighboring', 'neighbouring', 'neighbours', 'neo', 'nepal', 'nes', 'ness', 'netaji', 'networks', 'new', 'news', 'newzealandmosqueattack', 'nigeria', 'night', 'nights', 'nikhil', 'ning', 'nisa', 'nitin', 'nitish', 'nizam', 'no.29', 'no.5', 'noah', 'noble', 'noise', 'nominated', 'non', 'non-', 'non_muslim', 'noor', 'normalize', 'north', 'north(wb)-53%h', 'notable', 'notably', 'note', 'noted', 'ntj', 'number', 'numbered', 'numbers', 'numerous', 'nyay', 'oasis', 'oath', 'obc', 'obcs', 'obedient', 'obeying', 'objectives', 'observe', 'observed', 'occasion', 'occupation', 'occupied', 'occurred', 'odd', 'ode', 'odisha', 'office', 'officer', 'officialdom', 'officially', 'officials', 'offline', 'old', 'ological', 'ology', 'omar', 'omen', 'oneness', 'ones', 'ong', 'online', 'ons', 'onward', 'ood', 'ool', 'oot', 'open', 'openly', 'opponents', 'opportunities', 'opportunity', 'opposed', 'opposes', 'opposing', 'opposite', 'opposition', 'oppression', 'opted', 'option', 'order', 'orders', 'ordinary', 'ore', 'org', 'organisation', 'organisations', 'organise', 'organised', 'organising', 'organization', 'organized', 'organizer', 'original', 'ork', 'orn', 'orphans', 'ory', 'ost', 'ouTube', 'ought', 'ound', 'oured', 'ous', 'ousted', 'outbreak', 'outcomes', 'overall', 'overcome', 'overlook', 'overlooks', 'overreacted', 'overtakes', 'overwhelmed', 'overwhelming', 'overwhelmingly', 'owais', 'owaisi', 'p.v.', 'paddy', 'pages', 'paintings', 'paisa', 'pakistan', 'pakistani', 'palace', 'palkar', 'palm', 'palpable', 'pan', 'panchmahal', 'pandit', 'pandits', 'pansare', 'par', 'paraciete', 'paraclete', 'paraclete-', 'paradigm', 'parading', 'paradise', 'parameters', 'paran', 'parde', 'parents', 'parivar', 'parlance', 'parliament', 'parliamentarian', 'partial', 'participant', 'participants', 'participated', 'participating', 'participation', 'particularly', 'parties', 'partner', 'parts', 'party', 'partys', 'paryanta', 'pass', 'passed', 'passing', 'past', 'pat', 'patanjali', 'patel', 'patelji', 'paternal', 'path', 'pathivarach', 'patience', 'patnaik', 'patriarch', 'patriotic', 'patriotism', 'patronage', 'patterns', 'pawar', 'pay', 'paying', 'pbuh', 'pdp', 'peace', 'peaceful', 'peak', 'peep', 'pelter', 'penetrate', 'penetration', 'people', 'peoples', 'percent', 'percentage', 'perception', 'perennial', 'performance', 'performed', 'performing', 'period', 'perish', 'periya', 'permanently', 'permissible', 'permission', 'permits', 'perpetrators', 'persecuted', 'persecution', 'persian', 'person', 'persona', 'personal', 'personalities', 'pete', 'petrodollar', 'pharaoh', 'pharaohs', 'phase', 'phases', 'phenomenon', 'photo', 'photography', 'phulpur', 'picketing', 'picture', 'piece', 'pilgrimage', 'pilgrims', 'pit', 'pitch', 'pitching', 'pits', 'place', 'placement', 'places', 'planning', 'plans', 'plate', 'platform', 'playboy', 'played', 'ple', 'pleased', 'pleasure', 'pledge', 'plot', 'pls', 'plundered', 'pluralist', 'plus', 'plz', 'pocket', 'point', 'pointed', 'points', 'poised', 'poisoned', 'poisons', 'polarisation', 'polarise', 'polarization', 'pole', 'police', 'policies', 'political', 'politically', 'politician', 'politicians', 'politics', 'politicsparty.com', 'poll', 'polling', 'polls', 'polluters', 'pondering', 'poor', 'poorest', 'popular', 'population', 'popullation', 'pork', 'port', 'portions', 'portrayed', 'posh', 'position', 'position.[33][34', 'positive', 'possessor', 'possible', 'possibly', 'post', 'posts', 'potential', 'potentially', 'poverty', 'powder', 'powell', 'power', 'powerful', 'powerfully', 'powers', 'practical', 'practice', 'practiced', 'practices', 'practicing', 'pradesh', 'pragmatism', 'pragya', 'praise', 'prajwal', 'prakash', 'prashant', 'pray', 'prayed', 'prayer', 'prayers', 'praying', 'pre', 'preceded', 'predict', 'predicting', 'prediction', 'predictions', 'predictive', 'predictor', 'predominantly', 'preference', 'preferring', 'pregnant', 'premises', 'prescribed', 'presence', 'present', 'presenting', 'presents', 'preserve', 'preserved', 'preserving', 'president', 'press', 'pressure', 'prevent', 'preventing', 'prevention', 'previous', 'previously', 'prey', 'pridarshini', 'primary', 'prime', 'prince', 'princely', 'principles', 'prist', 'privileges', 'priyadarshini', 'priyanka', 'pro', 'probabilities', 'probability', 'probably', 'probe', 'problem', 'problems', 'proclaimed', 'produce', 'produced', 'products', 'professional', 'profile', 'progeny', 'progressive', 'prohet', 'prohibited', 'projected', 'projecting', 'projections', 'projects', 'prominent', 'promise', 'promised', 'promises', 'pronounced', 'proof', 'propaganda', 'propagastion', 'properties', 'prophecied', 'prophecies', 'prophesies', 'prophet', 'prophet-', 'prophetic', 'prophets', 'proportion', 'proposal', 'proposed', 'proposing', 'prosper', 'protect', 'protecting', 'protection', 'protectors', 'protects', 'protest', 'protests', 'prove', 'proved', 'provide', 'providing', 'province', 'provision', 'psalms', 'psephological', 'psephologists', 'pseudo', 'public', 'publicly', 'punishment', 'punjab', 'pure', 'purpose', 'purposely', 'purposes', 'pursue', 'pursuing', 'purulia', 'purvaj', 'pwd', 'qadr', 'qaran', 'quacks', 'qualify', 'quantitative', 'que', 'question', 'questions', 'qui', 'quick', 'quiet', 'quizzed', 'quoted', \"qur'an\", 'quran', 'quraysh', 'qureshi', 'qur’an', 'qu’ran', 'qz79', 'qz80', 'qz81', 'qz82', 'qz83', 'qz84', 'r.bhaduri', 'raag', 'race', 'races', 'racism', 'radicalism', 'rag', 'raga', 'rahay', 'rahim', 'rahman', 'rahmatullahi', 'rahul', 'raided', 'raiganj(wb)-', 'raina', 'raise', 'raj', 'rajasthan', 'rajhaa', 'rajiv', 'rajnath', 'ral', 'rally', 'rallying', 'ram', 'ramadan', 'ramakant', 'ramanadhapuram', 'ramdev', 'ramesh', 'rampant', 'ramzan', 'ran', 'random', 'range', 'rani', 'ranjith', 'rao', 'rape', 'ras', 'rashtra', 'rashtriya', 'rastrabhakt', 'rate', 'rates', 'rathana', 'rauff', 'ravinder', 'raw', 'rawther', 'raza', 'reach', 'reached', 'reaches', 'reaction', 'read', 'readers', 'reading', 'reads', 'reaffirmed', 'real', 'realistic', 'reality', 'realize', 'realized', 'rearrange', 'reason', 'reasonable', 'reasons', 'rebel', 'rebellion', 'recall', 'recapture', 'receded', 'received', 'receiving', 'recently', 'recieved', 'recitation', 'recite', 'recited', 'reciting', 'recognised', 'recognition', 'reconverted', 'record', 'recourse', 'recrown', 'recruitment', 'reddy', 'reduced', 'reference', 'references', 'referred', 'referring', 'reflecting', 'refrain', 'refuge', 'refugees', 'refuse', 'refused', 'regarded', 'regards', 'region', 'regional', 'regions', 'registered', 'reinforcements', 'reinvented', 'reiterates', 'reject', 'rejected', 'rejection', 'rejuvenated', 'related', 'relating', 'relations', 'relationship', 'release', 'released', 'relevance', 'religion', 'religions', 'religious', 'remain', 'remained', 'remaining', 'remember', 'remembered', 'reminded', 'removal', 'remove', 'removed', 'rent', 'rented', 'repeat', 'repeated', 'repeatedly', 'repent', 'replaced', 'replica', 'replied', 'reply', 'report', 'reported', 'reportedly', 'reporters', 'reporting', 'reports', 'represented', 'reprisals', 'reprove', 'reputed', 'requesting', 'require', 'res', 'research', 'resemble', 'reserve', 'resettled', 'resignation', 'resigned', 'resigning', 'resist', 'resistance', 'resisted', 'resisting', 'respect', 'respecting', 'respectively', 'respond', 'responded', 'respondents', 'responsibility', 'restless', 'result', 'resulted', 'results', 'retaliated', 'retaliation', 'retold', 'return', 'returned', 'revanna', 'reveal', 'revealed', 'revealing', 'revelation', 'reverse', 'reversed', 'revived', 'revolting', 'revolution', 'reward', 'rewards', 'rewritten', 'rhetoric', 'rich', 'richest', 'rid', 'ride', 'rigged', 'right', 'righteousness', 'rights', 'rimnder', 'ring', 'riot', 'rioting', 'riots', 'rise', 'rishad', 'rising', 'ritual', 'rld', 'road', 'rockets', 'rohtak', 'role', 'ron', 'roots', 'rope', 'rose', 'round', 'rounds', 'row', 'royal', 'rss', 'rubberwala', 'rug', 'rule', 'ruled', 'ruler', 'rulers', 'ruling', 'rum', 'rumours', 'run', 'running', 'runs', 'rupees', 'rural', 'sabha', 'sabhasad', 'sacrifice', 'sacrifices', 'sad', 'sadhvi', 'sadist', 'sadqa', 'safa', 'safely', 'saffron', 'sahab', 'said', 'sailed', 'sailor', 'saints', 'salama', 'salar', 'salati', 'salim', 'sally', 'samaj', 'samajwadi', 'sameer', 'samithi', 'sample', 'sanctioned', 'sanctions', 'sangh', 'sanghamitra', 'sanjay', 'sanjeev', 'sarah', 'sardar', 'sarkar', 'sarsanghchalak', 'sasikala', 'satan', 'saturday', 'saudi', 'savarkar', 'save', 'saved', 'saw', 'saying', 'says', 'sayyed', 'sa’ir', 'scale', 'scary', 'scenario', 'scene', 'sch', 'scheduled', 'scheme', 'scholar', 'scholarship', 'school', 'schools', 'science', 'scientific', 'scindhia', 'score', 'scripture', 'scriptures', 'scuttled', 'sea', 'search', 'season', 'seat', 'seats', 'second', 'secretariat', 'secrets', 'section', 'sections', 'secular', 'secularism', 'secunderabad', 'secure', 'securing', 'security', 'sed', 'seed', 'seek', 'seeking', 'seeks', 'seen', 'segments', 'seir', 'self', 'selfish', 'semi', 'sen', 'sena', 'send', 'senior', 'sense', 'sent', 'sentiments', 'separatist', 'ser', 'serials', 'seriously', 'servant', 'servers', 'service', 'set', 'sets', 'settled', 'seven', 'shabarimala', 'shabazz', 'shadab', 'shafi', 'shah', 'shaheb', 'shaik', 'shaitan', 'shall', 'shamed', 'shams', 'shanavaz', 'shaped', 'sharad', 'share', 'shared', 'shares', 'sharia', 'shastri', 'shastriji', 'shed', 'sheikh', 'shelter', 'shi', 'shield', 'shift', 'shine', 'shining', 'ship', 'shiv', 'shivaji', 'shivray', 'shock', 'shocked', 'shokhta', 'shootings', 'shoots', 'shops', 'short', 'shot', 'shout', 'showed', 'showing', 'shown', 'shows', 'shresth', 'siddhartha', 'sign', 'significant', 'silence', 'silent', 'simply', 'sinai', 'sincere', 'singh', 'single', 'sis', 'sitting', 'situation', 'slave', 'small', 'social', 'society', 'socio', 'soldiers', 'solidly', 'solution', 'son', 'sonia', 'sons', 'soon', 'sought', 'soul', 'source', 'sources', 'south', 'space', 'speak', 'speaking', 'speaks', 'special', 'specifically', 'speeches', 'spirit', 'split', 'spoke', 'spread', 'sri', 'ssion', 'stammering', 'stance', 'stand', 'standing', 'started', 'state', 'stated', 'statements', 'states', 'status', 'step', 'ster', 'stillness', 'stipulated', 'stone', 'stood', 'stop', 'stopped', 'stopping', 'story', 'str', 'strange', 'strategic', 'strategies', 'strategy', 'strength', 'strengthened', 'strong', 'stronger', 'struck', 'structure', 'structures', 'struggle', 'stuck', 'student', 'students', 'studied', 'study', 'stuff', 'stunned', 'stupendous', 'sub', 'subcribe', 'subha', 'subhas', 'subjugated', 'submission', 'submit', 'subscribe', 'subsequent', 'subsribe', 'suburb', 'successful', 'successfully', 'successive', 'sudan', 'suddenly', 'suffer', 'suffering', 'sufficient', 'suggest', 'suicide', 'sule', 'sultan', 'sumalatha', 'sunday', 'suport', 'support', 'supported', 'supporters', 'supremacy', 'surah', 'sure', 'surprise', 'swaroop', 'sweep', 'swing', 'swings', 'swt', 'syed', 'symbol', 'syria', 'system', 't.v.dhinakaran', 'tabarrukat', 'tabrez', 'tactics', 'tag', 'taken', 'takes', 'taking', 'taliban', 'talked', 'talking', 'tally', 'taluka', 'tamil', 'tamilnadu', 'tamilzhan', 'tamluk', 'tan', 'tar', 'taraweeh', 'tareeq', 'targeted', 'targeting', 'tariq', 'tashkant', 'tasleemuddin', 'taught', 'teach', 'teaches', 'teachings', 'team', 'techies', 'technical', 'technology', 'ted', 'telangana', 'tells', 'telugu', 'temple', 'temples', 'tend', 'tens', 'tension', 'tensions', 'tenure', 'ter', 'term', 'termed', 'terms', 'terror', 'terrorism', 'terrorist', 'terrorists', 'terrorized', 'tes', 'testament', 'testified', 'te’man', 'thakur', 'thank', 'thankq', 'thequran.com', 'thera', 'thereof', 'thesis', 'thi', 'thing', 'things', 'think', 'thinking', 'thirds', 'thirtieth', 'thirty', 'thiyabji', 'thoroughly', 'thou', 'thought', 'thousand', 'thousands', 'thouwheed', 'thowheeth', 'thrashed', 'threats', 'throne', 'thumbs', 'thussu', 'tic', 'tickets', 'tie', 'tied', 'ties', 'tightening', 'til', 'till', 'tilting', 'time', 'times', 'timing', 'ting', 'tiny', 'tion', 'tipu', 'tiruppur', 'title', 'tive', 'tmc', 'tmn', 'today', 'toi', 'toil', 'told', 'tolerance', 'tone', 'tongue', 'took', 'topi', 'torah', 'toss', 'tossup', 'tossups', 'total', 'totally', 'touch', 'tough', 'tougher', 'touring', 'tourists', 'touted', 'towering', 'town', 'tra', 'track', 'trackers', 'trade', 'trading', 'tradition', 'traditional', 'traditionally', 'train', 'trans', 'transfer', 'transfusion', 'transition', 'translation', 'travelled', 'travels', 'tre', 'treacherous', 'treatment', 'tree', 'trend', 'trends', 'tri', 'trial', 'tribe', 'tribes', 'tricked', 'tried', 'tries', 'trillionaire', 'trinamul', 'tripled', 'trouble', 'trs', 'true', 'truly', 'trump', 'trump´s', 'trust', 'trustworthy', 'truth', 'try', 'trying', 'tube', 'tuesday', 'tukde', 'tula', 'tumkur', 'tune', 'turn', 'turned', 'turnout', 'turnouts', 'tweet', 'tweets', 'twelfth', 'twitter', 'tyanna', 'type', 'types', 'u.s.', 'u.s.-backed', 'uae', 'uality', 'ubaydullah', 'uck', 'udd', 'ugadi', 'uhud', 'ultimatum', 'uluberia(wb)-54.87', 'umar', 'umm', 'ummah', 'unadulterated', 'unch', 'und', 'undefeated', 'underlying', 'underperformance', 'underrated', 'understand', 'understood', 'undertaken', 'undivided', 'undocumented', 'une', 'unemployable', 'unemployment', 'unexpected', 'unfolded', 'unfolds', 'unfortunately', 'unification', 'unified', 'uniform', 'union', 'unite', 'united', 'uniting', 'unity', 'universal', 'universities', 'university', 'unleashed', 'unlettered', 'unnecessary', 'unprecedented', 'unpredictable', 'unrest', 'unsafe', 'unsanitary', 'unseen', 'unsuccessful', 'unsung', 'unt', 'untill', 'unto', 'upa', 'upadhyaya', 'uplifting', 'upper', 'upright', 'uprising', 'upset', 'upside', 'urban', 'urbanized', 'urbanizing', 'ure', 'urges', 'uru', 'use', 'users', 'uses', 'ussr', 'usual', 'utar', 'utilized', 'uttar', 'uttarakhand', 'uttered', 'utterly', 'uttisht', 'uwais', 'uyghur', 'v.o.c', 'vadra', 'vajapeyiji', 'vajpayee', 'val', 'valley', 'values', 'vanpoh', 'var', 'varanasi', 'vatandari', 'vavu', 'vayal', 'ven', 'venuzela', 'ver', 'verdict', 'verse', 'verses', 'version', 'versus', 'vhp', 'vice', 'vicious', 'victorious', 'victors', 'victory', 'vidarbha', 'video', 'videos', 'vidharbha', 'vidisha', 'view', 'vigils', 'vigyan', 'vii', 'vijaylaxmi', 'village', 'villages', 'vin', 'vinayak', 'violence', 'violent', 'virgin', 'virtual', 'virtually', 'vis', 'vision', 'visit', 'vividly', 'voc', 'voice', 'vokkaliga', 'vokkaligas', 'volumes', 'volunteer', 'volunteering', 'volunteers', 'vote', 'votebank', 'voted', 'voter', 'voters', 'votes', 'voting', 'wahabi', 'wahin', 'walid', 'walls', 'wander', 'want', 'war', 'ward', 'warn', 'warned', 'warning', 'wasted', 'watch', 'water', 'wave', 'way', 'wayanad', 'ways', 'weak', 'wealth', 'weapons', 'weary', 'weather', 'web', 'website', 'websites', 'week', 'weeks', 'weight', 'welcome', 'welcomed', 'went', 'west', 'western', 'what_is_the_month_of_ramadan', 'whatsap', 'whatsapp', 'whatsoever', 'whilst', 'whisperer', 'whispers', 'white', 'whitest', 'who?’the', 'wholeheartedly', 'whomsoever', 'whopping', 'whosoever', 'widely', 'widespread', 'widow', 'wife', 'wiki', 'wikipedia', 'wild', 'wilderness', 'willing', 'wills', 'win', 'wing', 'winner', 'winning', 'wins', 'wiped', 'wisdom', 'wise', 'wisely', 'wish', 'wishes', 'witchcraft', 'withdrawing', 'withdrawn', 'withdraws', 'witness', 'witnessed', 'wives', 'wives*(islam', 'woman', 'women', 'won', 'wondering', 'woo', 'wood', 'word', 'words', 'work', 'workers', 'working', 'works', 'workshop', 'world', 'worldly', 'worry', 'worrying', 'worship', 'worshiping', 'worshipped', 'worshipping', 'worst', 'worth', 'worthy', 'write', 'writer', 'writing', 'written', 'wrong', 'wrote', 'www', 'xinjiang', 'xtians', 'y.s.jaganmohan', 'y.s.rajasekhara', 'yadav', 'yaha', 'yahya', 'yamen', 'yaseen', 'year', 'years', 'yechury', 'yemen', 'yes', 'yoga', 'young', 'younger', 'youth', 'youth.[20][21', 'youtube', 'ysrcp', 'yusif', 'yusuf', 'zaharan', 'zahran', 'zam', 'zayada', 'zayd', 'zaynab', 'zero', 'ziyarat', 'zone', 'zubin', '~~@~~', '~~~~~~~~~~~', '~~~~~~~~~~~~', '~~~~~~~~~~~~~~~~~~~~~', '~~~~~~~~~~~~~~~~~~~~~~~~~', '~~~~~~~~~~~~~~~~~~~~~~~~~~~~~~~~~~', 'آخر', 'آلِ', 'أَبُوءُ', 'أَبُوْءُ', 'أَبِيْنَا', 'أَجُرُّهُ', 'أَحَدٌ', 'أَحَدٌ(3', 'أَسْأَلُكَ', 'أَسْتَغِيْثُ', 'أَسْتَغْفِرُ', 'أَشْهَدُ', 'أَصْبَحْنَا', 'أَصْلِحْ', 'أَعـوذُبِكَلِمـاتِ', 'أَعُوذُ', 'أَعُوْذُ', 'أَقْتَرِفَ', 'أَمْسَيْنَا', 'أَنْ', 'أَنْتَ', 'أَنْتَ(3', 'أَوْ', 'أَيْدِيهِمْ', 'أُغْتَالَ', 'إِبْرَاهِيمَ', 'إِبْرَاهِيمَ.', 'إِبْرَاهِيْمَ', 'إِذَا', 'إِلاَّ', 'إِلاَّ', 'إِلـٰهِ', 'إِلَـهَ', 'إِلَهَ', 'إِلَى', 'إِلَيْهِ(100', 'إِنَّكَ', 'إِنِّي', 'إِنِّيْ', 'اتمنى', 'احْفَظْنِي', 'اذکار', 'اسماعيل', 'اسْتَطَعْتُ', 'اسْتُرْ', 'اسْمِهِ', 'اكبر', 'الإسلام', 'الإنجيل', 'الاحتفاظ', 'الاسلام', 'الانجليزية', 'التّـامّـاتِ', 'التَّامَّةِ', 'الثورات', 'الجميع', 'الحياه', 'الدُّنْيَا', 'الذُّنُوبَ', 'الذُّنُوْبَ', 'الرحمن', 'الرحيم🌹', 'الرساله', 'الرَّحِىْمِ', 'الرَّحْمٰنِ', 'الرَّجِيمِ', 'الرَّحِـيْـمِ', 'الرَّحِيمِ', 'الرَّحْمنِ', 'الزمان', 'السَّمَاوَاتِ', 'الشَّيْطَانِ', 'اللغة', 'الله', 'اللهُ', 'اللهِ', 'اللَّهُمَّ', 'اللَّهُ', 'اللَّهُمَّ', 'اللّٰه', 'اللّٰهِ', 'النَّاسِ', 'الَّذِي', 'الْأَرْضِ', 'الْحَمْدُ', 'الْعَفْوَ', 'الْقَبْرِ', 'الْمُلْكُ', 'الْيَوْمِ', 'اَللَّهُمَّ', 'بَعْدَهُ', 'بِاللَّهِ', 'بِرَبِّ', 'بِسْــــــمِ', 'بِسْمِ', 'بِكَ', 'بِنِعْمَتِكَ', 'ترجمة', 'حَمِيدٌ', 'رَبِّ', 'سُبْحَانَ', 'شَرِيْكَ', 'شَرِّ', 'شَيْءٍ', 'صلى', 'صَلَّى', 'صَنَعْتُ', 'عليه', 'عَافِنِيْ', 'عَبْدُكَ', 'عَلَى', 'عَلَيْهِ', 'عَلٰی', 'عَهْدِكَ', 'عَيْنٍ', 'فَاغْفِرْ', 'فِي', 'فِيْ', 'قُلْ', 'كُلِّ', 'لاَ', 'لَكَ', 'لَهُ', 'لِلَّهِ', 'لِيْ', 'مَا', 'مَجِيدٌ', 'مُحَمَّدٍ', 'مُحَمَّدٍكَمَا', 'مِن', 'مِنَ', 'مِنْ', 'نَفْسِيْ', 'هَذَا', 'هُوَ', 'وسلم', 'وَأَعُوْذُ', 'وَأَنَا', 'وَالْعَافِيَةَ', 'وَبِكَ', 'وَحْدَهُ', 'وَسَلَّمَ', 'وَعَلَى', 'وَعَنْ', 'وَلاَ', 'وَلَا', 'وَلَهُ', 'وَمَا', 'وَمِن', 'وَمِنْ', 'وَهُوَ', 'وَوَعْدِكَ', 'يَا', 'يَغْفِرُ', 'ँगे', 'ंकर', 'ंका', 'ंगल', 'ंगा', 'ंगी', 'ंगुल', 'ंगे', 'ंगो', 'ंग्रेस', 'ंग्लादेश', 'ंचे', 'ंजर', 'ंजी', 'ंजू', 'ंटी', 'ंडर', 'ंडा', 'ंडी', 'ंडे', 'ंतर', 'ंतु', 'ंदर', 'ंदा', 'ंदी', 'ंद्र', 'ंद्रनाथ', 'ंधा', 'ंबर', 'ंबू', 'ंसाली', 'अंक', 'अंग्रेजी', 'अंजुम', 'अंत', 'अकबर', 'अक्स', 'अखिल', 'अगर', 'अगस्त', 'अग्र', 'अधिकार', 'अनु', 'अन्य', 'अप्रैल', 'अब्दुल', 'अभिनेता', 'अमर', 'अमेरिकन', 'अमेरिका', 'अमेरिकी', 'अयोध्या', 'अरब', 'अलग', 'अली', 'अल्', 'अल्लामा', 'अल्लाह', 'अशफाक', 'असुरक्षित', 'अहमद', 'आईएस', 'आईटी', 'आईसी', 'आज़म', 'आज़ाद', 'आतंकवाद', 'आरएस', 'आरडीए', 'आरसी', 'आर्थिक', 'आर्य', 'इंड', 'इंडियन', 'इंडिया', 'इज़', 'इजैक', 'इतिहास', 'इन्', 'इयो', 'इयों', 'इस्लाम', 'इस्लामी', 'ईसाई', 'उच्च', 'उत्', 'उत्तर', 'उदाहरण', 'उद्', 'उद्दीन', 'उधर', 'उन्होंने', 'उर्दू', 'उल्लाह', 'एक्शन', 'एक्स', 'एगा', 'एनयू', 'एफए', 'एमएल', 'एमपी', 'एमसी', 'एयर', 'एशिया', 'एसटी', 'एससी', 'ऐसा', 'ऐसी', 'ओसी', 'कंठ', 'कंड', 'कजाकिस्तान', 'कटिहार', 'कड़', 'कता', 'कथा', 'कने', 'कभार', 'कभी', 'कमल', 'कम्', 'करण', 'करी', 'कर्ता', 'कर्ताओं', 'कर्त्ता', 'कर्म', 'कर्मियों', 'कला', 'कल्प', 'कवि', 'कश्मीर', 'कहीं', 'क़यामत', 'क़रार', 'क़ा', 'क़ि', 'क़ी', 'क़ु', 'कां', 'कांग्रेस', 'कांड', 'कांत', 'काउंट', 'काट', 'कान', 'काना', 'कानून', 'काम', 'काय', 'कायदा', 'कार', 'कारगर', 'कारण', 'कारा', 'कारिता', 'कारी', 'कारों', 'कार्य', 'काल', 'कालिक', 'कालीन', 'काश', 'किंग', 'किताब', 'किन', 'किनार', 'किम', 'किल', 'कुंड', 'कुच', 'कुट', 'कुण्ड', 'कुम', 'कुमार', 'कुर', 'कुरु', 'कुश', 'कुशल', 'कूट', 'कृत', 'कृति', 'कृष्ट', 'कृष्ण', 'केंद्र', 'केंद्रीय', 'केट', 'केदार', 'केरल', 'केवल', 'केश', 'केशन', 'कैट', 'कैस', 'कॉट', 'कॉन', 'कॉम', 'कॉम्ब', 'कॉल', 'कों', 'कोट', 'कोड', 'कोण', 'कोर', 'कोर्ट', 'कोला', 'कोष', 'कौतुक', 'क्क', 'क्कड़', 'क्कल', 'क्का', 'क्की', 'क्ट', 'क्टर', 'क्य', 'क्या', 'क्युलर', 'क्यू', 'क्योंकि', 'क्र', 'क्रम', 'क्रांति', 'क्रि', 'क्रिकेट', 'क्रिया', 'क्रेट', 'क्रो', 'क्लियर', 'क्वा', 'क्श', 'क्शन', 'क्ष', 'क्षण', 'क्षत्र', 'क्षा', 'क्षेत्र', 'क्षेत्रीय', 'क्स', 'खंड', 'खण्ड', 'खला', 'खली', 'ख़ा', 'ख़ार', 'ख़्त', 'ख़्वाजा', 'खाद्य', 'खान', 'खाना', 'खाने', 'खार', 'खाल', 'खिल', 'खुल', 'खेड़ा', 'खेल', 'खों', 'खोर', 'ख्त', 'ख्य', 'ख्या', 'ख्वा', 'ख्वाजा', 'गंगा', 'गंज', 'गड़ा', 'गढ़', 'गना', 'गरी', 'गर्द', 'गर्म', 'गला', 'गाँधी', 'गाँव', 'गांधी', 'गांव', 'गान', 'गाम', 'गामी', 'गाय', 'गार', 'गाव', 'गाह', 'गिर', 'गिरी', 'गिर्द', 'गीत', 'गीर', 'गुंड', 'गुजरात', 'गुण', 'गुना', 'गुप्त', 'गुरु', 'गुरू', 'गुलशन', 'गुला', 'गृह', 'गें', 'गेट', 'गेन', 'गेल', 'गैर', 'गैरकानूनी', 'गोपाल', 'गोल', 'गोविंद', 'गौर', 'ग्न', 'ग्ने', 'ग्या', 'ग्र', 'ग्रस्त', 'ग्रह', 'ग्रहण', 'ग्राउंड', 'ग्राम', 'ग्रे', 'ग्रेस', 'घात', 'घोष', 'घ्न', 'चंद', 'चंद्र', 'चकित', 'चक्र', 'चढ़ाकर', 'चन्द', 'चन्द्र', 'चरित्र', 'चर्च', 'चर्म', 'चाँद', 'चाई', 'चार', 'चारी', 'चार्ज', 'चाल', 'चालक', 'चिंत', 'चिंतन', 'चित', 'चित्त', 'चित्र', 'चिन', 'चिप', 'चिस', 'चीन', 'चुनाव', 'चेयर', 'चेरी', 'चोर', 'च्च', 'च्चा', 'च्छ', 'च्छा', 'च्छेद', 'च्य', 'छत्रछाया', 'छत्रपति', 'छोटी', 'छोटे', 'जनक', 'जनवरी', 'जनसंख्या', 'जनित', 'जनों', 'जन्म', 'जम्मू', 'जवाब', 'ज़र', 'ज़रूरी', 'ज़ल', 'ज़ा', 'ज़ान', 'ज़ार', 'ज़ि', 'ज़ी', 'ज़ू', 'ज़े', 'ज़ो', 'ज़्म', 'जागरण', 'जाति', 'जातीय', 'जान', 'जाने', 'जाम', 'जार', 'जाल', 'जाह', 'जित', 'जिता', 'जिम', 'जियर', 'जिया', 'जिल', 'जीत', 'जीव', 'जीवित', 'जीवियों', 'जीवी', 'जुर', 'जुल', 'जुलत', 'जेंट', 'जेंस', 'जेट', 'जेड', 'जेल', 'जैस', 'जॉन', 'जोर', 'ज्ज', 'ज्जा', 'ज्ञ', 'ज्ञा', 'ज्ञान', 'ज्य', 'ज्या', 'झाला', 'झोंपड़', 'टर्न', 'टवारा', 'टाइम', 'टिंग', 'टिक', 'टिव', 'टिश', 'टीएफ', 'टीवी', 'टें', 'टेंट', 'टेक', 'टेक्निक', 'टेट', 'टेड', 'टेन', 'टेर', 'टेल', 'टेस्ट', 'टैक', 'टॉप', 'टोन', 'टोप', 'ट्ट', 'ट्टा', 'ट्टी', 'ट्टू', 'ट्टे', 'ट्ठ', 'ट्ठा', 'ट्यूशन', 'ट्र', 'ट्रपति', 'ट्री', 'ट्रेंड', 'ट्रेट', 'ट्रॉ', 'ट्रो', 'ट्स', 'डली', 'ड़ा', 'ड़िया', 'ड़ियों', 'ड़ी', 'ड़े', 'ड़ो', 'ड़ों', 'डाय', 'डियन', 'डिया', 'डियो', 'डिस', 'डीएम', 'डीन', 'डीपी', 'डेंट', 'डेट', 'डों', 'डोर', 'ड्ड', 'ड्डी', 'ड्र', 'ड्रो', 'ढ़ा', 'ढ़े', 'णीय', 'ण्ट', 'ण्ड', 'ण्डा', 'ण्डी', 'ण्य', 'तंत्र', 'तत्र', 'तना', 'तनुज', 'तन्त्र', 'तमस्तक', 'तमिल', 'तरनाक', 'तलब', 'तला', 'ताई', 'ताओं', 'तान', 'ताप', 'ताब', 'तार', 'तारा', 'ताल', 'तालाब', 'तालीस', 'तिक', 'तिथि', 'तिया', 'तियों', 'तिल', 'तिहा', 'तीन', 'तीय', 'तीर्थ', 'तुम', 'तुर', 'तुल', 'तेमाल', 'तेरस', 'तेलंगाना', 'तैयबा', 'तों', 'तोड़', 'तोष', 'तौर', 'त्त', 'त्तर', 'त्ता', 'त्ति', 'त्ती', 'त्ते', 'त्थ', 'त्य', 'त्या', 'त्याग', 'त्र', 'त्रय', 'त्रस्त', 'त्रि', 'त्रिक', 'त्री', 'त्व', 'त्स', 'त्सू', 'दंत', 'दण्ड', 'दत्त', 'दरा', 'दरी', 'दर्भ', 'दर्श', 'दर्शन', 'दर्शी', 'दस्तूर', 'दाद', 'दान', 'दानवों', 'दाब', 'दाय', 'दायक', 'दायी', 'दार', 'दारी', 'दास', 'दासपुर', 'दिन', 'दिर', 'दिल', 'दिल्ली', 'दीन', 'दीप', 'दुनिया', 'दुर', 'दुर्भाग्यपूर्ण', 'दुल', 'दूत', 'दूर', 'दूषण', 'दूसरा', 'दूसरी', 'दृष्टि', 'देन', 'देव', 'देवता', 'देवताओं', 'देवी', 'देश', 'देस', 'देह', 'दोनों', 'दौलत', 'दौला', 'द्द', 'द्ध', 'द्धि', 'द्या', 'द्र', 'द्रो', 'द्वार', 'द्वि', 'द्वीप', 'धर्म', 'धर्मी', 'धान', 'धाम', 'धार', 'धारा', 'धारी', 'धीर', 'धीरे', 'धृत', 'ध्य', 'ध्यक्ष', 'ध्या', 'ध्याय', 'ध्व', 'नंद', 'नगर', 'नन्द', 'नन्दन', 'नसीब', 'नाइट', 'नाग', 'नागरिक', 'नाड', 'नाडु', 'नाथ', 'नान', 'नाम', 'नामा', 'नायक', 'नार', 'नारायण', 'नाश', 'निंग', 'निक', 'निको', 'निगेटिव', 'निधि', 'निया', 'निरपेक्ष', 'निराशाजनक', 'निर्', 'निर्धारित', 'निर्माण', 'निर्यात', 'निवास', 'निवासी', 'निष्ठ', 'निस', 'नीच', 'नीति', 'नीय', 'नुमा', 'नुरूप', 'नुसार', 'नूर', 'नूस', 'नेशनल', 'नेस', 'नॉर', 'नों', 'नोई', 'नोट', 'न्क', 'न्ट', 'न्ड', 'न्त', 'न्ति', 'न्तु', 'न्द', 'न्दर', 'न्दा', 'न्दी', 'न्द्र', 'न्द्रनाथ', 'न्ध', 'न्न', 'न्ना', 'न्नी', 'न्य', 'न्या', 'न्याय', 'न्यू', 'न्स', 'न्ह', 'न्हा', 'न्हें', 'पंच', 'पंचायत', 'पंजाब', 'पंडित', 'पंथियों', 'पंथी', 'पक्ष', 'पक्षीय', 'पटना', 'पट्ट', 'पढ़', 'पढ़कर', 'पता', 'पति', 'पतियों', 'पती', 'पत्थर', 'पत्नी', 'पत्र', 'परा', 'परास्त', 'परि', 'परियोजना', 'परिवर्तन', 'परिवार', 'पर्ण', 'पर्यंत', 'पवित्र', 'पश्चिम', 'पसंद', 'पहल', 'पहाड़', 'पां', 'पांच', 'पाई', 'पाक', 'पाकिस्तान', 'पाट', 'पाठ', 'पात', 'पात्र', 'पान', 'पानी', 'पाय', 'पायर', 'पार', 'पार्ट', 'पाल', 'पावन', 'पास', 'पिक', 'पिट', 'पित', 'पिता', 'पिल', 'पीआर', 'पीए', 'पीएल', 'पीएस', 'पीटकर', 'पीठ', 'पीडिया', 'पीस', 'पीसी', 'पुणे', 'पुत', 'पुर', 'पुरम', 'पुराण', 'पुरी', 'पुरुष', 'पुर्ण', 'पुल', 'पुलिस', 'पुष्ट', 'पुष्प', 'पूजा', 'पूत', 'पूर', 'पूर्ण', 'पूर्व', 'पूर्वक', 'पें', 'पेंड', 'पेक्ष', 'पेट', 'पेश', 'पैर', 'पॉइंट', 'पोर', 'पोर्ट', 'पोर्टर', 'पोल', 'पोलिस', 'पोष', 'पोषित', 'पोस', 'पोस्ट', 'प्ट', 'प्त', 'प्ति', 'प्प', 'प्पल', 'प्पा', 'प्पी', 'प्पे', 'प्यार', 'प्र', 'प्रकाश', 'प्रचार', 'प्रणाली', 'प्रताप', 'प्रति', 'प्रद', 'प्रदान', 'प्रदेश', 'प्रधान', 'प्रधानमंत्री', 'प्रभा', 'प्रमुख', 'प्रलय', 'प्रवर्तक', 'प्रवेश', 'प्रसाद', 'प्रसार', 'प्रसिद्ध', 'प्राप्त', 'प्रिय', 'प्रीत', 'प्रूफ', 'प्रे', 'प्रेत', 'प्रेस', 'प्रो', 'प्ल', 'प्शन', 'फज़ल', 'फना', 'फ़त', 'फ़र', 'फ़ा', 'फ़ान', 'फ़ि', 'फ़िल', 'फ़िल्म', 'फ़ी', 'फ़ै', 'फ़ो', 'फाइ', 'फाई', 'फान', 'फायर', 'फार्म', 'फाॅर', 'फिक', 'फिल', 'फिला', 'फिल्म', 'फिस', 'फील्ड', 'फुट', 'फुर', 'फूर', 'फेयर', 'फेल', 'फेस्ट', 'फॉर्म', 'फोड़', 'फोन', 'फोर्स', 'फ्ट', 'फ्फ', 'फ्यूज', 'फ्र', 'फ्रा', 'बंगाल', 'बंद', 'बंदी', 'बंधन', 'बंधु', 'बख्श', 'बड़ा', 'बड़ी', 'बड़े', 'बढ़', 'बत्त', 'बद्ध', 'बन्दी', 'बरा', 'बरी', 'बहनों', 'बहु', 'बाँ', 'बांग्लादेश', 'बाई', 'बाईल', 'बाग', 'बाज', 'बाज़ी', 'बाजार', 'बाजी', 'बाड़ी', 'बात', 'बान', 'बानी', 'बाप', 'बाब', 'बाबा', 'बाबू', 'बार', 'बारी', 'बाल', 'बाल्टिस्तान', 'बाव', 'बास', 'बिज', 'बिज़', 'बिट', 'बिन', 'बिया', 'बिर', 'बिरादरी', 'बिल', 'बिल्कुल', 'बिस', 'बिहार', 'बीआई', 'बीएस', 'बीटी', 'बीड़ा', 'बीर', 'बुआ', 'बुत', 'बुद्ध', 'बुद्धि', 'बुर', 'बुल', 'बूट', 'बूत', 'बूर', 'बूल', 'बेट', 'बेन', 'बेल', 'बेस', 'बैंक', 'बैर', 'बॉल', 'बोध', 'बोर', 'बोल', 'बौद्ध', 'ब्द', 'ब्ब', 'ब्बा', 'ब्र', 'ब्रह्म', 'ब्रा', 'ब्रांड', 'ब्राह्मण', 'ब्रि', 'ब्रेक', 'ब्ल', 'ब्लास्ट', 'ब्लैक', 'भक्त', 'भक्ति', 'भक्षी', 'भगव', 'भयभीत', 'भविष्य', 'भांड', 'भाई', 'भाईचारे', 'भाग', 'भाड़', 'भार', 'भारत', 'भारतीय', 'भाव', 'भावना', 'भाष', 'भिन्न', 'भिव्यक्ति', 'भूत', 'भूति', 'भूमि', 'भूषण', 'भ्य', 'भ्रम', 'भ्रष्ट', 'भ्रा', 'मंगल', 'मंड', 'मंडल', 'मंत्र', 'मंत्री', 'मंदिर', 'मकसद', 'मक्के', 'मग्न', 'मचन्द', 'मटिया', 'मणी', 'मण्डल', 'मती', 'मधु', 'मध्य', 'मनमोहन', 'मनवेल्थ', 'मनी', 'मनो', 'मन्त्र', 'मन्दिर', 'मयी', 'मला', 'महा', 'महान', 'महाराजाधिराज', 'महाराष्ट्र', 'महिला', 'माँ', 'मां', 'मांड', 'मांस', 'माइ', 'माई', 'माटो', 'माण', 'माता', 'मात्र', 'मात्रा', 'माद', 'मान', 'मानव', 'मानवाधिकारों', 'मानस', 'माना', 'मानी', 'माने', 'माय', 'माया', 'मार', 'मारा', 'मारी', 'मार्ग', 'माल', 'माला', 'माली', 'मास', 'माह', 'मिंट', 'मिक', 'मित्र', 'मिन', 'मिनिस्टर', 'मिनी', 'मिया', 'मिर', 'मिल', 'मिला', 'मिश', 'मिश्र', 'मिस्र', 'मीन', 'मीर', 'मुंबई', 'मुक्त', 'मुख', 'मुखी', 'मुख्य', 'मुग्ध', 'मुझे', 'मुद्द', 'मुन', 'मुमकिन', 'मुरा', 'मुर्', 'मुर्त', 'मुल', 'मुल्ला', 'मुश्किल', 'मुश्ताक', 'मुसलमान', 'मुस्लिम', 'मुहम्मद', 'मूर', 'मूर्ति', 'मूल', 'मेंट', 'मेघ', 'मेट', 'मेटिक', 'मेड', 'मेध', 'मेन', 'मेन्ट', 'मेर', 'मेरा', 'मेरिक', 'मेरी', 'मेरु', 'मेरे', 'मेल', 'मेव', 'मैं', 'मैंने', 'मैट', 'मैथ', 'मैन', 'मैनी', 'मोट', 'मोटे', 'मोद', 'मोर', 'मोल', 'मोह', 'मोहन', 'मोहम्मद', 'मौला', 'म्प', 'म्पे', 'म्ब', 'म्बर', 'म्बल', 'म्बी', 'म्बू', 'म्बे', 'म्बो', 'म्भ', 'म्म', 'म्मा', 'म्मी', 'म्मेद', 'यक्ष', 'यते', 'यमुना', 'यहूदी', 'याँ', 'यां', 'याई', 'यात', 'यात्रा', 'याद', 'यान', 'याल', 'याह', 'युक्त', 'युग', 'युगीन', 'युद्ध', 'युध्द', 'युनि', 'युवतियों', 'यूँ', 'यूपी', 'यूरोप', 'यें', 'यों', 'योंकि', 'योग', 'योगी', 'योजित', 'योध', 'योन', 'योल', 'य्य', 'य्यद', 'य्या', 'रंग', 'रंज', 'रक्षा', 'रक्षित', 'रत्न', 'रपुर', 'रवि', 'रहमान', 'राइ', 'राज', 'राजस्थान', 'राज़', 'राज्य', 'रात', 'राध', 'रान', 'राना', 'रानी', 'राब', 'राम', 'रामपुर', 'राय', 'राल', 'राव', 'राशि', 'राष्', 'राष्ट्र', 'राष्ट्रपति', 'राष्ट्रीय', 'राह', 'रिक', 'रिफ', 'रियल', 'रिया', 'रियों', 'रिल', 'रिश्', 'रिस', 'रीज', 'रुख', 'रुद्दीन', 'रुद्ध', 'रुप', 'रूद', 'रूप', 'रूस', 'रेंस', 'रेख', 'रेज', 'रेज़', 'रेट', 'रेटिव', 'रेड', 'रेन', 'रेल', 'रेशन', 'रेस', 'रैल', 'रों', 'रोज', 'रोजगार', 'रोज़', 'रोजाना', 'रोन', 'रोली', 'रोह', 'र्क', 'र्ख', 'र्ग', 'र्च', 'र्ज', 'र्जन', 'र्जी', 'र्ट', 'र्टिकल', 'र्टी', 'र्ड', 'र्थ', 'र्द', 'र्दा', 'र्ध', 'र्न', 'र्ना', 'र्प', 'र्पण', 'र्ब', 'र्म', 'र्य', 'र्रहमान', 'र्रा', 'र्रे', 'र्व', 'र्श', 'र्ष', 'र्षि', 'र्स', 'लखनऊ', 'लगभग', 'लता', 'लब्ध', 'लम्ब', 'लवा', 'लांतर', 'लाइ', 'लाइट', 'लाइन', 'लाई', 'लाग', 'लान', 'लानी', 'लाम', 'लाय', 'लाल', 'लाह', 'लिंग', 'लिक', 'लिका', 'लिखित', 'लिखे', 'लिज', 'लिन', 'लिप्त', 'लिब', 'लिया', 'लिस', 'लिस्ट', 'लीन', 'लीला', 'लुस', 'लेक्ट', 'लेख', 'लेट', 'लेवा', 'लैंड', 'लों', 'लोक', 'लोग', 'लोगों', 'लोन', 'ल्ट', 'ल्टी', 'ल्ड', 'ल्डर', 'ल्प', 'ल्फ', 'ल्म', 'ल्या', 'ल्ल', 'ल्लम', 'ल्ला', 'ल्लाह', 'ल्ली', 'ल्ले', 'ल्लो', 'ल्स', 'ल्ह', 'ल्हा', 'वंत', 'वंदे', 'वंश', 'वंस', 'वजूद', 'वड़', 'वती', 'वनिर्मित', 'वन्त', 'वन्दे', 'वरी', 'वर्', 'वर्ट', 'वर्ड', 'वर्ण', 'वर्त', 'वर्तन', 'वर्तमान', 'वर्थ', 'वर्दी', 'वर्मन', 'वर्ष', 'वर्स', 'वले', 'वस्त्र', 'वाँ', 'वां', 'वाइ', 'वाइड', 'वाई', 'वाए', 'वाच', 'वाचक', 'वाटिका', 'वाड', 'वाड़', 'वाड़ा', 'वात', 'वाद', 'वादियों', 'वादी', 'वाद्य', 'वान', 'वाना', 'वानी', 'वाने', 'वामपंथी', 'वाय', 'वाया', 'वार', 'वारी', 'वार्ड', 'वाल', 'वाला', 'वाली', 'वालों', 'वास', 'वासियों', 'वासी', 'वास्तव', 'वाह', 'वाहक', 'वाहन', 'विंग', 'विंद', 'विक', 'विकास', 'विक्रम', 'विग', 'विचार', 'विजन', 'विजय', 'विज्ञान', 'वित', 'वितर्क', 'वित्', 'विदेश', 'विदेशी', 'विध', 'विधान', 'विन', 'विभाजित', 'विमर्श', 'विरोध', 'विरोधी', 'विले', 'विवाद', 'विवाह', 'विशेष', 'विश्व', 'विश्वव्यापी', 'विष', 'विषय', 'विस्तृत', 'विस्फोट', 'विहीन', 'वीं', 'वीडियो', 'वीर', 'वुड', 'वृति', 'वृत्त', 'वें', 'वेज', 'वेट', 'वेत्ता', 'वेद', 'वेन', 'वेश', 'वेस्ट', 'वैज्ञानिक', 'वैदिक', 'वैसे', 'व्य', 'व्यक्त', 'व्यतीत', 'व्यवस्था', 'व्या', 'व्यापी', 'व्यूह', 'व्व', 'व्हा', 'शंकर', 'शंस', 'शक्ति', 'शब्द', 'शरण', 'शरीफ़', 'शहर', 'शांति', 'शान', 'शाम', 'शायर', 'शार', 'शाला', 'शाली', 'शासक', 'शासन', 'शास्त्र', 'शाह', 'शाही', 'शिक', 'शिक्षा', 'शिक्षित', 'शित', 'शिप', 'शिम', 'शियन', 'शिया', 'शिल', 'शिव', 'शिष्ट', 'शील', 'शीलता', 'शुमार', 'शेखर', 'शेर', 'शोध', 'शोधन', 'शोर', 'श्च', 'श्त', 'श्न', 'श्य', 'श्या', 'श्याम', 'श्र', 'श्री', 'श्रीलंका', 'श्रेष्ठ', 'श्व', 'श्वर', 'ष्क', 'ष्ट', 'ष्टि', 'ष्ठ', 'ष्ण', 'संख्या', 'संगठित', 'संघ', 'संत', 'संतान', 'संपत्ति', 'संभालने', 'संयुक्त', 'संसद', 'संस्था', 'संस्थापक', 'सऊदी', 'सच्ची', 'सच्चे', 'सज्जा', 'सत्य', 'सन्दर्भ', 'सफ़', 'सफा', 'सभा', 'समझ', 'समय', 'समस्या', 'समाज', 'समान', 'समुद्र', 'समूह', 'सम्', 'सम्प्रभुता', 'सम्भव', 'सम्मान', 'सरकार', 'सरकारी', 'सरस्वती', 'सरा', 'सरी', 'सर्व', 'सर्वश्रेष्ठ', 'सलमान', 'सली', 'सहित', 'सहिष्णु', 'सां', 'सांग', 'साई', 'साकी', 'सागर', 'सात', 'साद', 'सादी', 'सान', 'सानिया', 'सानी', 'साफ', 'साफ़', 'साम', 'सामाजिक', 'सामान्य', 'सार', 'सारी', 'साल', 'साला', 'साहेब', 'सिं', 'सिंग', 'सिंध', 'सिंह', 'सिक', 'सिख', 'सिटी', 'सित', 'सिद्ध', 'सिद्धांत', 'सिन', 'सिप', 'सिम', 'सिया', 'सियाचिन', 'सिर', 'सिल', 'सिव', 'सीआई', 'सीआर', 'सीन', 'सीम', 'सीमा', 'सीर', 'सीसी', 'सुख', 'सुन', 'सुनीता', 'सुबह', 'सुर', 'सुरक्षा', 'सुरी', 'सुलझाने', 'सूत्र', 'सूत्रों', 'सूर', 'सूर्य', 'सूल', 'सेंट', 'सेट', 'सेन', 'सेना', 'सेप्ट', 'सेल', 'सेवक', 'सेवा', 'सैन', 'सैनिक', 'सैन्य', 'सॉफ्ट', 'सोनार', 'सोफ', 'सोशल', 'स्क', 'स्कर', 'स्ट', 'स्टन', 'स्टर', 'स्टा', 'स्टार', 'स्टे', 'स्टेनलेस', 'स्ट्र', 'स्ट्रा', 'स्ट्रीम', 'स्ट्रे', 'स्त', 'स्तर', 'स्ता', 'स्तान', 'स्ती', 'स्तु', 'स्ते', 'स्तो', 'स्त्र', 'स्त्रो', 'स्थ', 'स्थल', 'स्थाई', 'स्थान', 'स्थानीय', 'स्नेह', 'स्प', 'स्पंद', 'स्पिट', 'स्पेन', 'स्म', 'स्मा', 'स्य', 'स्या', 'स्र', 'स्ली', 'स्व', 'स्वच्छ', 'स्वर', 'स्वरूप', 'स्वा', 'स्वाभाविक', 'स्वामी', 'स्सा', 'स्सी', 'हड़', 'हत्या', 'हना', 'हब्बत', 'हमारे', 'हम्', 'हरण', 'हरा', 'हरि', 'हरी', 'हर्ता', 'हला', 'हल्', 'हवा', 'हस्त', 'हाँ', 'हाई', 'हाट', 'हाथ', 'हान', 'हानी', 'हार', 'हारा', 'हाल', 'हालांकि', 'हास', 'हिंद', 'हिंदी', 'हिंदू', 'हित', 'हितैषी', 'हिन्द', 'हिन्दु', 'हिन्दू', 'हिम', 'हिल', 'हीन', 'हीनता', 'हीम', 'हुड', 'हुल', 'हेम', 'हेल', 'हैदराबाद', 'हों', 'होत्र', 'होर', 'हौस', '़ूब', 'ांक', 'ांग', 'ांत', 'ांतरण', 'ांव', 'ांश', 'ांस', 'ाइंस', 'ाइज', 'ाइजर', 'ाइज़', 'ाइजेशन', 'ाइज्ड', 'ाइड', 'ाइन', 'ाइयों', 'ाइल', 'ाउंट', 'ाउंड', 'ाओं', 'ाकर', 'ाका', 'ाकार', 'ाकृति', 'ाक्ष', 'ाग्नि', 'ाचल', 'ाचार', 'ाचार्य', 'ाज़', 'ाते', 'ात्', 'ात्म', 'ात्मक', 'ात्मा', 'ादि', 'ादित्य', 'ाधि', 'ाधिक', 'ाधिकार', 'ाधीन', 'ाध्यक्ष', 'ानंद', 'ानन्द', 'ाना', 'ानां', 'ानी', 'ानु', 'ानुभूति', 'ानुसार', 'ाने', 'ान्', 'ान्त', 'ान्तरण', 'ाबाद', 'ाबाश', 'ायक', 'ायत', 'ायन', 'ाया', 'ायित', 'ारा', 'ारी', 'ारोपण', 'ार्थ', 'ार्थी', 'ालय', 'ाला', 'ाली', 'ावत', 'ावती', 'ावधान', 'ावर', 'ावल', 'ावली', 'ावा', 'ाश्व', 'ासुर', 'ाहट', 'ाहिद', 'िंग', 'िंद', 'िअर', 'िकरण', 'िकल', 'िका', 'िक्स', 'िचा', 'िज़', 'िज़्म', 'िज्म', 'िटी', 'िणी', 'िता', 'िना', 'िनी', 'िनो', 'िन्द', 'िमा', 'ियत', 'ियन', 'ियम', 'ियर', 'ियल', 'िया', 'ियाँ', 'ियां', 'ियाई', 'ियान', 'ियाना', 'ियार', 'ियास', 'िये', 'ियो', 'ियों', 'िला', 'िले', 'िल्ला', 'िशन', 'िस्', 'िस्ट', 'िस्टिक', 'िस्तान', 'ीकरण', 'ीज़', 'ीना', 'ीपुर', 'ीश्वर', 'ुंग', 'ुएल', 'ुओं', 'ुका', 'ुद्', 'ुद्दीन', 'ुरन्त', 'ुरा', 'ुरी', 'ुरु', 'ुलर', 'ुल्', 'ुल्ला', 'ुल्लाह', 'ुवा', 'ूँगा', 'ूंगा', 'ूनी', 'ूरी', 'ेंगे', 'ेंट', 'ेंड', 'ेंडर', 'ेंद्र', 'ेंस', 'ेंसी', 'ेक्टिव', 'ेक्स', 'ेगा', 'ेज़', 'ेटेड', 'ेदार', 'ेन्', 'ेन्ट', 'ेन्द्र', 'ेबल', 'ेरा', 'ेरी', 'ेरे', 'ेला', 'ेली', 'ेशन', 'ेश्वर', 'ेश्वरी', 'ेस्ट', 'ैंक', 'ैक्ट', 'ैक्स', 'ैनी', 'ैया', 'ॉर्ट', 'ॉर्ड', 'ॉलीवुड', 'ोक्ति', 'ोगे', 'ोची', 'ोजी', 'ोटा', 'ोड़ा', 'ोदय', 'ोनिया', 'ोपरांत', 'ोरा', 'ोली', 'ोलॉजी', 'ोसा', 'ौड़', 'ौरी', 'ौला', '्का', '्कि', '्के', '्को', '्क्यू', '्गा', '्गान', '्चुअल', '्चे', '्ज़', '्जा', '्जिकल', '्टर', '्टि', '्टी', '्टे', '्डन', '्डा', '्डी', '्तमाल', '्ता', '्ति', '्ती', '्ते', '्दा', '्दी', '्दे', '्ना', '्पर', '्फ़', '्फ्', '्मन', '्मी', '्मे', '्मो', '्यता', '्या', '्यान', '्यू', '्यूल', '्यो', '्यौ', '्रम', '्रा', '्रि', '्री', '्रू', '्रेस', '्रो', '्ला', '्लिम', '्ली', '्लू', '्ले', '्लो', '्वर', '्वा', '्वार', '्वी', '्सर', '्से', '्ही', '।’’', '०००', '१००', '१०००', '१२००', '१२०००', '१४००', '१९४९', '१९७१', '२००', '२००३', '२००४', '२००६', '२००८', '२०१०', '२०१२', '२०१४', '२०१९', '३७०', '५००', 'అంటే', 'అని', 'అన్నీ', 'ఇంత', 'ఇలా', 'ఇస్లాం', 'ఉచ్చులో', 'ఎంత', 'ఏమిటో', 'ఒకటే', 'కత్తులు', 'కథలు', 'కాని', 'కావున', 'చెంచాగాళ్ళ', 'చెప్పి', 'చెప్పే', 'చేసి', 'చేస్తున్నారు', 'జాగో', 'తీపిగా', 'తెలుగులో', 'దగ్గుబాటి', 'ద్వారా', 'ధర్మాలు', 'నాలుగు', 'నీతి', 'పడవద్దు', 'పీఠం', 'పొందుపరిచారు', 'ప్రయత్నం', 'బెస్ట్', 'బ్రదర్', 'మరియు', 'మాట్లాడి', 'మాత్రం', 'మీరు', 'మోటివేషనల్', 'రెహమాన్', 'లక్ష్యం', 'వారి', 'వారు', 'వీరి', 'వీరిరువురు', 'వీరు', 'వైపు', 'వ్యవస్థాపకులు', 'శక్తి', 'శాంతానంద', 'షఫి', 'సంస్థ', 'సిరాజుర్', 'సోదరుల్లారా', 'స్పష్టంగా', 'స్వామి', 'హిందువులను', 'హిందూ', '┻───────────────✿', '▁--', '▁---', '▁...', '▁01', '▁02', '▁07', '▁09', '▁1%', '▁1)', '▁1,000', '▁1.', '▁10', '▁10%', '▁10,000', '▁10.', '▁100', '▁1000', '▁103', '▁11', '▁11.', '▁110', '▁12', '▁12%', '▁12.', '▁120', '▁1200', '▁125', '▁13', '▁13.', '▁130', '▁1300', '▁138', '▁14', '▁14.', '▁140', '▁1400', '▁15', '▁15%', '▁15.', '▁150', '▁1500', '▁16', '▁17', '▁1761', '▁18', '▁180', '▁1800', '▁1857', '▁1885', '▁1888', '▁19', '▁19.', '▁1905', '▁1918', '▁1919', '▁1921', '▁1922', '▁1925', '▁1926', '▁1930', '▁1931', '▁1939', '▁1940', '▁1942', '▁1944', '▁1945', '▁1946', '▁1947', '▁1948', '▁1949', '▁1950', '▁1954', '▁1956', '▁1960', '▁1962', '▁1964', '▁1965', '▁1966', '▁1967', '▁1968', '▁1969', '▁1971', '▁1972', '▁1975', '▁1976', '▁1980', '▁1983', '▁1984', '▁1986', '▁1987', '▁1988', '▁1989', '▁1990', '▁1991', '▁1992', '▁1993', '▁1995', '▁1996', '▁1998', '▁1999', '▁2%', '▁2)', '▁2,000', '▁2-3', '▁2.', '▁2.1', '▁2.5', '▁20', '▁20%', '▁20,000', '▁200', '▁200,000', '▁2000', '▁2001', '▁2002', '▁2003', '▁2004', '▁2005', '▁2006', '▁2007', '▁2008', '▁2009', '▁2010', '▁2011', '▁2012', '▁2013', '▁2014', '▁2015', '▁2016', '▁2017', '▁2018', '▁2019', '▁2020', '▁2030', '▁2050', '▁21', '▁21.', '▁22', '▁22.', '▁220', '▁23', '▁23.', '▁230', '▁24', '▁24.', '▁25', '▁25%', '▁25.', '▁250', '▁2500', '▁26', '▁26.', '▁27', '▁27.', '▁28', '▁28.', '▁29', '▁29.', '▁3)', '▁3,', '▁3-', '▁3.', '▁30', '▁30%', '▁300', '▁3000', '▁31', '▁31.', '▁32', '▁33', '▁34', '▁35', '▁35%', '▁350', '▁36', '▁37', '▁370', '▁38', '▁39', '▁4)', '▁4.', '▁40', '▁40%', '▁400', '▁4000', '▁41', '▁42', '▁43', '▁44', '▁45', '▁46', '▁47', '▁48', '▁49', '▁5%', '▁5.', '▁50', '▁50%', '▁50,000', '▁500', '▁5000', '▁51', '▁51%', '▁52', '▁55', '▁56', '▁57', '▁58', '▁59', '▁6.', '▁60', '▁60%', '▁60,000', '▁600', '▁6000', '▁61', '▁62', '▁63', '▁64', '▁65', '▁66', '▁67', '▁68', '▁69', '▁7.', '▁70', '▁70%', '▁700', '▁72', '▁73', '▁74', '▁75', '▁75%', '▁750', '▁76', '▁77', '▁78', '▁79', '▁8.', '▁80', '▁800', '▁8000', '▁81', '▁84', '▁85', '▁85%', '▁88', '▁9.', '▁90', '▁90%', '▁900', '▁93', '▁95', '▁95%', '▁96', '▁97', '▁98', '▁99', '▁:-', '▁===', '▁AB', '▁Ab', '▁Ad', '▁Al', '▁All', '▁An', '▁Ar', '▁Arab', '▁Army', '▁Associat', '▁Ba', '▁Bh', '▁Bo', '▁But', '▁By', '▁CO', '▁Ca', '▁Ch', '▁Cha', '▁China', '▁City', '▁Co', '▁Com', '▁Con', '▁Court', '▁DNA', '▁Da', '▁De', '▁Delhi', '▁Di', '▁Du', '▁El', '▁Ex', '▁Fe', '▁First', '▁For', '▁General', '▁Go', '▁He', '▁Hindi', '▁Ho', '▁II', '▁IP', '▁In', '▁India', '▁Indian', '▁International', '▁Kar', '▁Kashmir', '▁Khan', '▁Ko', '▁Ku', '▁La', '▁Lanka', '▁Le', '▁Lo', '▁Ma', '▁Man', '▁Mar', '▁Me', '▁Mo', '▁Mon', '▁Mu', '▁Ne', '▁New', '▁One', '▁Pa', '▁Pakistan', '▁Part', '▁Po', '▁Pra', '▁Pre', '▁Pro', '▁Ra', '▁Raj', '▁Ram', '▁Re', '▁Ro', '▁SI', '▁Sa', '▁Sam', '▁Sc', '▁Sch', '▁Se', '▁Sh', '▁Singh', '▁So', '▁Sri', '▁St', '▁Stra', '▁Sub', '▁Sun', '▁Ta', '▁Te', '▁Th', '▁The', '▁To', '▁US', '▁Un', '▁Unit', '▁VI', '▁VII', '▁Vi', '▁War', '▁We', '▁about', '▁accept', '▁ad', '▁after', '▁air', '▁all', '▁among', '▁an', '▁and', '▁are', '▁as', '▁at', '▁attack', '▁be', '▁border', '▁by', '▁can', '▁case', '▁charge', '▁city', '▁co', '▁complete', '▁con', '▁de', '▁death', '▁development', '▁di', '▁do', '▁en', '▁establish', '▁ex', '▁fact', '▁first', '▁follow', '▁for', '▁from', '▁gr', '▁he', '▁in', '▁is', '▁it', '▁km', '▁la', '▁last', '▁like', '▁main', '▁market', '▁material', '▁me', '▁meet', '▁mi', '▁mind', '▁new', '▁non', '▁not', '▁ob', '▁of', '▁on', '▁open', '▁operat', '▁order', '▁other', '▁out', '▁over', '▁pa', '▁part', '▁people', '▁per', '▁person', '▁plan', '▁power', '▁pr', '▁pre', '▁pro', '▁prov', '▁re', '▁real', '▁relat', '▁remain', '▁result', '▁say', '▁se', '▁see', '▁series', '▁so', '▁sources', '▁space', '▁st', '▁start', '▁state', '▁student', '▁sub', '▁support', '▁sur', '▁system', '▁test', '▁than', '▁that', '▁the', '▁them', '▁this', '▁threat', '▁to', '▁tr', '▁trans', '▁two', '▁un', '▁up', '▁use', '▁was', '▁we', '▁what', '▁will', '▁win', '▁with', '▁years', '▁you', '▁your', '▁||', '▁अँधेर', '▁अं', '▁अंक', '▁अंकित', '▁अंकुश', '▁अंग', '▁अंगूठ', '▁अंगूठी', '▁अंग्रेज', '▁अंग्रेज़', '▁अंग्रेज़ी', '▁अंग्रेज़ों', '▁अंग्रेजी', '▁अंग्रेजो', '▁अंग्रेजों', '▁अंजान', '▁अंजाम', '▁अंडर', '▁अंडों', '▁अंत', '▁अंतः', '▁अंतत', '▁अंततः', '▁अंतर', '▁अंतरराष्ट्रीय', '▁अंतरिक्ष', '▁अंतरिम', '▁अंतर्गत', '▁अंतर्राष्ट्रीय', '▁अंतिम', '▁अंदर', '▁अंदरूनी', '▁अंदाज', '▁अंदाज़', '▁अंध', '▁अंधकार', '▁अंधविश्वास', '▁अंधा', '▁अंधे', '▁अंधेरे', '▁अंबाला', '▁अंबेडकर', '▁अंश', '▁अंशदान', '▁अंसारी', '▁अक', '▁अकबर', '▁अकस', '▁अकाउंट', '▁अकाल', '▁अकेला', '▁अकेले', '▁अक्', '▁अक्टूबर', '▁अक्ष', '▁अक्षय', '▁अक्षर', '▁अक्सर', '▁अक्साई', '▁अखंड', '▁अखंडता', '▁अखण्ड', '▁अखबार', '▁अखबारों', '▁अख़बार', '▁अखाड़', '▁अखिल', '▁अख्तर', '▁अग', '▁अगर', '▁अगल', '▁अगला', '▁अगले', '▁अगस्त', '▁अगस्त्य', '▁अगुआ', '▁अग्नि', '▁अग्र', '▁अग्रवाल', '▁अग्रसर', '▁अघोष', '▁अचर', '▁अचानक', '▁अच्छा', '▁अच्छी', '▁अच्छे', '▁अछूत', '▁अज', '▁अजमल', '▁अजमेर', '▁अजय', '▁अजीज', '▁अजीत', '▁अजीब', '▁अज्ञात', '▁अज्ञान', '▁अट', '▁अटल', '▁अडिग', '▁अड्डा', '▁अड्डे', '▁अड्डों', '▁अणु', '▁अणुओं', '▁अत', '▁अतः', '▁अति', '▁अतिथि', '▁अतिरिक्त', '▁अतीत', '▁अत्यंत', '▁अत्यधिक', '▁अत्याचार', '▁अत्याचारों', '▁अत्याधुनिक', '▁अथवा', '▁अद', '▁अदा', '▁अदालत', '▁अदालतों', '▁अद्', '▁अद्भुत', '▁अद्वैत', '▁अध', '▁अधर', '▁अधर्म', '▁अधिक', '▁अधिकतर', '▁अधिकांश', '▁अधिकार', '▁अधिकारियों', '▁अधिकारी', '▁अधिकारों', '▁अधिकृत', '▁अधिनियम', '▁अधिवेशन', '▁अधिसूचना', '▁अधीन', '▁अधूरा', '▁अध्यक्ष', '▁अध्यक्षता', '▁अध्ययन', '▁अध्यात्म', '▁अध्यात्मिक', '▁अध्यादेश', '▁अध्याय', '▁अन', '▁अनंत', '▁अनगिनत', '▁अनजान', '▁अनदेख', '▁अनदेखा', '▁अनधिकृत', '▁अनन्त', '▁अनपढ़', '▁अनभिज्ञ', '▁अनवर', '▁अनशन', '▁अनाज', '▁अनाया', '▁अनावरण', '▁अनावश्यक', '▁अनिवार्य', '▁अनिवार्यता', '▁अनु', '▁अनुकूल', '▁अनुचित', '▁अनुच्छेद', '▁अनुदान', '▁अनुपम', '▁अनुपात', '▁अनुपालन', '▁अनुबंध', '▁अनुभव', '▁अनुमति', '▁अनुमान', '▁अनुमानित', '▁अनुयायियों', '▁अनुयायी', '▁अनुराग', '▁अनुरूप', '▁अनुरोध', '▁अनुवाद', '▁अनुशासन', '▁अनुसंधान', '▁अनुसार', '▁अनुसूचित', '▁अनेक', '▁अनेकों', '▁अनैतिक', '▁अनौपचारिक', '▁अन्', '▁अन्त', '▁अन्तर', '▁अन्तिम', '▁अन्दर', '▁अन्ध', '▁अन्ना', '▁अन्य', '▁अन्यथा', '▁अन्याय', '▁अप', '▁अपडेट', '▁अपना', '▁अपनाए', '▁अपनाना', '▁अपनाया', '▁अपनी', '▁अपने', '▁अपमान', '▁अपमानित', '▁अपर', '▁अपराध', '▁अपराधियों', '▁अपराधी', '▁अपराधों', '▁अपरिपक्व', '▁अपवाद', '▁अपवित्र', '▁अपशब्द', '▁अपहरण', '▁अपार', '▁अपितु', '▁अपील', '▁अपेक्षा', '▁अपेक्षाकृत', '▁अप्रत्यक्ष', '▁अप्रैल', '▁अफ', '▁अफगान', '▁अफगानिस्तान', '▁अफजल', '▁अफवाह', '▁अफसर', '▁अफसरों', '▁अफसोस', '▁अफ़ग़ानिस्तान', '▁अफ्रीका', '▁अफ्रीकी', '▁अब', '▁अबु', '▁अबुल', '▁अबू', '▁अब्द', '▁अब्दाली', '▁अब्दुल', '▁अब्दुल्ला', '▁अब्दुल्लाह', '▁अब्बास', '▁अब्राहम', '▁अभय', '▁अभि', '▁अभिज्ञान', '▁अभिनव', '▁अभिनेता', '▁अभिनेत्री', '▁अभिन्न', '▁अभिभाषण', '▁अभिमान', '▁अभियान', '▁अभियानों', '▁अभियुक्त', '▁अभियोग', '▁अभिलाषा', '▁अभिव्यक्ति', '▁अभिषेक', '▁अभी', '▁अभूतपूर्व', '▁अभ्', '▁अभ्यास', '▁अमर', '▁अमरनाथ', '▁अमरीका', '▁अमरीकी', '▁अमल', '▁अमान', '▁अमानवीय', '▁अमित', '▁अमिताभ', '▁अमीन', '▁अमीर', '▁अमूमन', '▁अमृत', '▁अमृतसर', '▁अमृता', '▁अमेठी', '▁अमेरिकन', '▁अमेरिका', '▁अमेरिकी', '▁अम्', '▁अम्बेडकर', '▁अम्म', '▁अम्मा', '▁अय', '▁अयंगार', '▁अयस्क', '▁अयोग्य', '▁अयोध्या', '▁अय्यर', '▁अर', '▁अरब', '▁अरबी', '▁अरबों', '▁अररिया', '▁अरविंद', '▁अरविन्द', '▁अरा', '▁अरुण', '▁अरुणाचल', '▁अरे', '▁अर्', '▁अर्जित', '▁अर्जुन', '▁अर्जेंटीना', '▁अर्थ', '▁अर्थव्यवस्था', '▁अर्थात', '▁अर्थात्', '▁अर्थों', '▁अर्ध', '▁अर्ल', '▁अल', '▁अलग', '▁अलगाव', '▁अलगाववादी', '▁अलवर', '▁अला', '▁अलाउद्दीन', '▁अलावा', '▁अली', '▁अलीगढ़', '▁अलैह', '▁अलौकिक', '▁अल्', '▁अल्ट्रासाउंड', '▁अल्प', '▁अल्पसंख्यक', '▁अल्पसंख्यकों', '▁अल्मोड़ा', '▁अल्लाह', '▁अव', '▁अवंति', '▁अवंती', '▁अवकाश', '▁अवगत', '▁अवचेतन', '▁अवतार', '▁अवध', '▁अवधारणा', '▁अवधि', '▁अवर', '▁अवलोकन', '▁अवशिष्ट', '▁अवशेष', '▁अवश्य', '▁अवश्यंभाव', '▁अवसर', '▁अवसरों', '▁अवस्था', '▁अवार्ड', '▁अविवाहित', '▁अविश्वास', '▁अविष्कार', '▁अवीव', '▁अवैध', '▁अवॉर्ड', '▁अव्वल', '▁अश', '▁अशक्त', '▁अशरफ', '▁अशांति', '▁अशोक', '▁अश्', '▁अश्रु', '▁अश्लील', '▁अष्ट', '▁अस', '▁असं', '▁असंख्य', '▁असंतुष्ट', '▁असंतोष', '▁असंभव', '▁असंवैधानिक', '▁असत्य', '▁असद', '▁असफल', '▁असफलता', '▁असभ्य', '▁असम', '▁असमानता', '▁असम्भव', '▁असर', '▁असल', '▁असलियत', '▁असली', '▁असहमत', '▁असहमति', '▁असहयोग', '▁असहाय', '▁असहिष्णुता', '▁असा', '▁असीम', '▁असीमित', '▁असेम्बली', '▁अस्', '▁अस्त', '▁अस्तित्व', '▁अस्त्र', '▁अस्थायी', '▁अस्थि', '▁अस्थिर', '▁अस्पताल', '▁अस्पतालों', '▁अस्मिता', '▁अस्वीकार', '▁अस्वीकृत', '▁अस्सी', '▁अह', '▁अहंकार', '▁अहम', '▁अहमद', '▁अहमदाबाद', '▁अहल', '▁अहसास', '▁अहिंसक', '▁अहिंसा', '▁अहीर', '▁आँकड़', '▁आँख', '▁आँखें', '▁आँखों', '▁आँसू', '▁आंकड़ा', '▁आंकड़े', '▁आंकड़ों', '▁आंकलन', '▁आंख', '▁आंखें', '▁आंखों', '▁आंगन', '▁आंतक', '▁आंतर', '▁आंतरिक', '▁आंदोलन', '▁आंधी', '▁आंध्र', '▁आंबेडकर', '▁आंसू', '▁आइ', '▁आइकन', '▁आइड', '▁आई', '▁आईं', '▁आईआईटी', '▁आईएएस', '▁आईपी', '▁आईसी', '▁आईसीसी', '▁आउट', '▁आए', '▁आएंगे', '▁आएगा', '▁आएगी', '▁आओ', '▁आक', '▁आकर', '▁आकर्षक', '▁आकर्षित', '▁आकलन', '▁आकांक्षा', '▁आकार', '▁आकाश', '▁आकृति', '▁आक्रमण', '▁आक्रमणकारी', '▁आक्रांत', '▁आक्रामक', '▁आक्रोश', '▁आख़िर', '▁आखिर', '▁आखिरकार', '▁आखिरी', '▁आग', '▁आगम', '▁आगरा', '▁आगा', '▁आगाह', '▁आगे', '▁आग्नेय', '▁आग्रह', '▁आचरण', '▁आचार', '▁आचार्य', '▁आज', '▁आजकल', '▁आजतक', '▁आजम', '▁आजमगढ़', '▁आज़ाद', '▁आज़ादी', '▁आजाद', '▁आजादी', '▁आजीवन', '▁आज्ञा', '▁आटा', '▁आटे', '▁आठ', '▁आडवाणी', '▁आतंक', '▁आतंकवाद', '▁आतंकवादियों', '▁आतंकवादी', '▁आतंकी', '▁आता', '▁आतिश', '▁आती', '▁आते', '▁आत्म', '▁आत्मघात', '▁आत्मरक्षा', '▁आत्मविश्वास', '▁आत्मसमर्पण', '▁आत्मसात', '▁आत्महत्या', '▁आत्मा', '▁आदत', '▁आदम', '▁आदमी', '▁आदर', '▁आदर्श', '▁आदर्शों', '▁आदान', '▁आदि', '▁आदित्य', '▁आदिवासी', '▁आदी', '▁आदेश', '▁आधा', '▁आधार', '▁आधारशिला', '▁आधारित', '▁आधिकारिक', '▁आधी', '▁आधुनिक', '▁आधे', '▁आध्यात्मिक', '▁आन', '▁आनंद', '▁आनन्द', '▁आना', '▁आने', '▁आनेवाले', '▁आन्तरिक', '▁आन्दोलन', '▁आप', '▁आपका', '▁आपके', '▁आपको', '▁आपत्ति', '▁आपने', '▁आपराधिक', '▁आपरेशन', '▁आपस', '▁आपसी', '▁आपातकाल', '▁आपूर्ति', '▁आफिस', '▁आबाद', '▁आबादी', '▁आबे', '▁आभार', '▁आम', '▁आमंत्रित', '▁आमतौर', '▁आमरण', '▁आमिर', '▁आय', '▁आयकर', '▁आयत', '▁आया', '▁आयात', '▁आयी', '▁आयु', '▁आयुक्त', '▁आयुर्वेद', '▁आये', '▁आयोग', '▁आयोजन', '▁आयोजित', '▁आर', '▁आरंभ', '▁आरंभिक', '▁आरएसएस', '▁आरक्षण', '▁आरक्षित', '▁आरती', '▁आरम्भ', '▁आराधना', '▁आराम', '▁आरोप', '▁आरोपित', '▁आरोपी', '▁आरोपों', '▁आर्', '▁आर्ट', '▁आर्थिक', '▁आर्म', '▁आर्मी', '▁आर्य', '▁आर्यावर्त', '▁आल', '▁आलम', '▁आला', '▁आलू', '▁आलेख', '▁आलोक', '▁आलोचकों', '▁आलोचना', '▁आव', '▁आवंटित', '▁आवरण', '▁आवश्', '▁आवश्यक', '▁आवश्यकता', '▁आवाज', '▁आवाज़', '▁आवास', '▁आविष्कार', '▁आवेश', '▁आशंका', '▁आशा', '▁आशीर्वाद', '▁आशु', '▁आश्चर्य', '▁आश्चर्यजनक', '▁आश्रम', '▁आश्रय', '▁आश्वस्त', '▁आश्वासन', '▁आस', '▁आसपास', '▁आसमान', '▁आसान', '▁आसानी', '▁आसाम', '▁आसाराम', '▁आसिफ', '▁आस्तिक', '▁आस्था', '▁आहत', '▁आहुति', '▁आह्वान', '▁इं', '▁इंकार', '▁इंग्लिश', '▁इंग्लैंड', '▁इंच', '▁इंजन', '▁इंजीनियर', '▁इंट', '▁इंटर', '▁इंटरनेट', '▁इंटरनेशनल', '▁इंटरव्यू', '▁इंटेल', '▁इंडि', '▁इंडियन', '▁इंडिया', '▁इंडेक्स', '▁इंडोनेशिया', '▁इंतज़ा', '▁इंतजा', '▁इंतजार', '▁इंदिरा', '▁इंसान', '▁इंसानों', '▁इंस्', '▁इंस्टिट्यूट', '▁इंस्टीट्यूट', '▁इंस्पेक्टर', '▁इक', '▁इकट्ठ', '▁इकट्ठे', '▁इकठ्ठ', '▁इकबाल', '▁इकलौत', '▁इक़बाल', '▁इच्छा', '▁इज', '▁इजराइल', '▁इजरायल', '▁इज़', '▁इज़राइल', '▁इज़्ज़त', '▁इजाज', '▁इजाज़', '▁इजाफा', '▁इटली', '▁इटालियन', '▁इटैलिय', '▁इण्डिया', '▁इतन', '▁इतनी', '▁इतर', '▁इतिहास', '▁इतिहासकार', '▁इतिहासकारों', '▁इत्', '▁इत्यादि', '▁इथोपिया', '▁इधर', '▁इन', '▁इनका', '▁इनकार', '▁इनकी', '▁इनके', '▁इनको', '▁इनपुट', '▁इनमे', '▁इनमें', '▁इनसे', '▁इनाम', '▁इन्', '▁इन्कार', '▁इन्सान', '▁इन्ही', '▁इन्हीं', '▁इन्हें', '▁इन्होंने', '▁इन्होने', '▁इब्न', '▁इब्राहिम', '▁इम', '▁इमरान', '▁इमाम', '▁इमारत', '▁इमारतें', '▁इमेज', '▁इम्', '▁इम्प', '▁इम्फाल', '▁इयर', '▁इर', '▁इराक', '▁इरादा', '▁इरादे', '▁इरादों', '▁इरान', '▁इर्द', '▁इल', '▁इलाक़े', '▁इलाक़ों', '▁इलाका', '▁इलाके', '▁इलाको', '▁इलाकों', '▁इलाज', '▁इलाह', '▁इलाहाबाद', '▁इलेक्', '▁इलेक्ट्रानिक', '▁इल्', '▁इशारे', '▁इस', '▁इसका', '▁इसकी', '▁इसके', '▁इसको', '▁इसने', '▁इसपर', '▁इसमे', '▁इसमें', '▁इसराइल', '▁इसलिए', '▁इसलिये', '▁इससे', '▁इसाई', '▁इसी', '▁इसीलिए', '▁इसीलिये', '▁इसे', '▁इस्', '▁इस्तीफा', '▁इस्तेमाल', '▁इस्राइल', '▁इस्लाम', '▁इस्लामाबाद', '▁इस्लामिक', '▁इस्लामी', '▁ईंट', '▁ईंधन', '▁ईट', '▁ईद', '▁ईमानदार', '▁ईमानदारी', '▁ईराक', '▁ईरान', '▁ईरानी', '▁ईश्वर', '▁ईश्वरीय', '▁ईसा', '▁ईसाइयत', '▁ईसाइयों', '▁ईसाई', '▁ईसाईयों', '▁ईस्ट', '▁ईस्टर', '▁ईस्वी', '▁उकसा', '▁उकेर', '▁उक्त', '▁उखाड़', '▁उगल', '▁उगा', '▁उग्र', '▁उग्रवादी', '▁उचित', '▁उच्च', '▁उच्चतम', '▁उच्चायुक्त', '▁उच्चारण', '▁उछल', '▁उछाल', '▁उजागर', '▁उजाला', '▁उज्जैन', '▁उज्ज्वल', '▁उठ', '▁उठकर', '▁उठता', '▁उठती', '▁उठते', '▁उठने', '▁उठा', '▁उठाई', '▁उठाए', '▁उठाकर', '▁उठाते', '▁उठाना', '▁उठाने', '▁उठाया', '▁उठाये', '▁उठी', '▁उठे', '▁उड', '▁उड़', '▁उड़ा', '▁उड़ान', '▁उड़ाने', '▁उड़ाया', '▁उड़िया', '▁उतन', '▁उतना', '▁उतर', '▁उतरते', '▁उतरा', '▁उतार', '▁उतारने', '▁उतारा', '▁उत्', '▁उत्खनन', '▁उत्तम', '▁उत्तर', '▁उत्तरप्रदेश', '▁उत्तराखंड', '▁उत्तरी', '▁उत्तेज', '▁उत्तेजना', '▁उत्पति', '▁उत्पत्ति', '▁उत्पन्न', '▁उत्पाद', '▁उत्पादों', '▁उत्पीड', '▁उत्पीड़न', '▁उत्सव', '▁उत्साह', '▁उत्साहित', '▁उत्साही', '▁उत्सुक', '▁उद', '▁उदय', '▁उदार', '▁उदारता', '▁उदासीन', '▁उदासीनता', '▁उदाहरण', '▁उदाहरणों', '▁उद्', '▁उद्घाटन', '▁उद्घोषणा', '▁उद्द', '▁उद्देश्य', '▁उद्बोधन', '▁उद्भव', '▁उद्य', '▁उद्यम', '▁उद्योग', '▁उद्योगपतियों', '▁उधर', '▁उन', '▁उनका', '▁उनकी', '▁उनके', '▁उनको', '▁उनमे', '▁उनमें', '▁उनसे', '▁उन्', '▁उन्नत', '▁उन्नति', '▁उन्नीस', '▁उन्माद', '▁उन्मूलन', '▁उन्ही', '▁उन्हीं', '▁उन्हे', '▁उन्हें', '▁उन्होंने', '▁उन्होने', '▁उप', '▁उपकरण', '▁उपग्रहों', '▁उपचार', '▁उपज', '▁उपद्रव', '▁उपनिषदों', '▁उपनिषद्', '▁उपभोक्ता', '▁उपभोक्ताओं', '▁उपभोग', '▁उपमहाद्वीप', '▁उपयुक्त', '▁उपयोग', '▁उपर', '▁उपरांत', '▁उपराज्यपाल', '▁उपराष्ट्रपति', '▁उपरोक्त', '▁उपलब्', '▁उपलब्ध', '▁उपलब्धि', '▁उपवास', '▁उपस्थित', '▁उपस्थिति', '▁उपहार', '▁उपाधि', '▁उपाध्यक्ष', '▁उपाध्याय', '▁उपाय', '▁उपासक', '▁उपासना', '▁उपेक्षा', '▁उपेक्षित', '▁उबर', '▁उभरती', '▁उभरने', '▁उभरे', '▁उमड़', '▁उमर', '▁उमा', '▁उम्म', '▁उम्मीद', '▁उम्मीदवार', '▁उम्र', '▁उर्जा', '▁उर्दू', '▁उर्फ', '▁उर्फ़', '▁उर्स', '▁उल', '▁उलझ', '▁उलझन', '▁उलझा', '▁उलट', '▁उलूम', '▁उलेमा', '▁उल्', '▁उल्ट', '▁उल्टा', '▁उल्लंघन', '▁उल्ला', '▁उल्लेख', '▁उल्लेखनीय', '▁उस', '▁उसका', '▁उसकी', '▁उसके', '▁उसको', '▁उसने', '▁उसमे', '▁उसमें', '▁उससे', '▁उसी', '▁उसे', '▁उस्मान', '▁ऊँच', '▁ऊँची', '▁ऊँट', '▁ऊंचा', '▁ऊंचाई', '▁ऊंची', '▁ऊंचे', '▁ऊंट', '▁ऊपर', '▁ऊब', '▁ऊर्जा', '▁ऋग्वेद', '▁ऋण', '▁ऋतु', '▁ऋषभदेव', '▁ऋषि', '▁एंकर', '▁एंगल', '▁एंजेल', '▁एंट', '▁एंटी', '▁एंड', '▁एंडरसन', '▁एअर', '▁एक', '▁एकजुट', '▁एकता', '▁एकत्र', '▁एकत्रित', '▁एकदम', '▁एकमात्र', '▁एकल', '▁एकादशी', '▁एकाध', '▁एकाधिकार', '▁एक्ट', '▁एक्शन', '▁एक्स', '▁एक्सपो', '▁एक्सप्रेस', '▁एग्', '▁एच', '▁एज', '▁एजुकेशन', '▁एजेंट', '▁एजेंसियां', '▁एजेंसियों', '▁एजेंसी', '▁एजेन्सी', '▁एट', '▁एटी', '▁एड', '▁एडम', '▁एडवांस', '▁एडि', '▁एड्रियन', '▁एथेंस', '▁एन', '▁एनएस', '▁एनडीए', '▁एप', '▁एप्', '▁एफ', '▁एम', '▁एमएस', '▁एयर', '▁एयरक्राफ्ट', '▁एयरपोर्ट', '▁एयरफोर्स', '▁एयरलाइंस', '▁एयरलाइन', '▁एयरवेज', '▁एयरवेज़', '▁एयरो', '▁एरिया', '▁एल', '▁एलियट', '▁एव', '▁एवं', '▁एवम', '▁एशिया', '▁एस', '▁एसपी', '▁एसोसिएशन', '▁ऐक्शन', '▁ऐड', '▁ऐतिहासिक', '▁ऐन', '▁ऐलान', '▁ऐश', '▁ऐसा', '▁ऐसी', '▁ऐसे', '▁ऑडियो', '▁ऑन', '▁ऑनलाइन', '▁ऑप', '▁ऑपरेशन', '▁ऑप्टिकल', '▁ऑफ', '▁ऑफ़', '▁ऑफिस', '▁ऑयल', '▁ऑर', '▁ऑर्डर', '▁ऑल', '▁ऑस्ट्रेलिया', '▁ओटो', '▁ओपेरा', '▁ओम', '▁ओर', '▁ओलिम्पिक', '▁ओवर', '▁ओवैस', '▁ओस', '▁ओहद', '▁औचित्य', '▁औद्योगिक', '▁औपचारिक', '▁और', '▁औरंगज़ेब', '▁औरंगजेब', '▁औरंगाबाद', '▁औसत', '▁कं', '▁कंट्रोल', '▁कंठ', '▁कंधार', '▁कंधे', '▁कंधों', '▁कंपनियां', '▁कंपनियों', '▁कंपनी', '▁कंप्यूटर', '▁कंबोडिया', '▁कंस', '▁कई', '▁कक्ष', '▁कगार', '▁कचरे', '▁कच्चा', '▁कच्छ', '▁कट', '▁कटवा', '▁कटा', '▁कटाई', '▁कटु', '▁कटे', '▁कट्टर', '▁कट्टरपंथी', '▁कठ', '▁कठपुतली', '▁कठिन', '▁कठोर', '▁कठोरता', '▁कड़वा', '▁कड़ा', '▁कड़ी', '▁कड़े', '▁कण', '▁कत', '▁कतर', '▁कतार', '▁कत्ल', '▁कथन', '▁कथा', '▁कथाएँ', '▁कथाओं', '▁कथित', '▁कथ्य', '▁कद', '▁कदम', '▁कदा', '▁कनाडा', '▁कनेक्टिविटी', '▁कनेक्शन', '▁कन्', '▁कन्वेंशन', '▁कन्हैया', '▁कप', '▁कपड़े', '▁कपड़ों', '▁कपडे', '▁कपिल', '▁कपूर', '▁कफ', '▁कब', '▁कबाब', '▁कबीर', '▁कबीले', '▁कबूतर', '▁कबूल', '▁कब्ज', '▁कब्ज़', '▁कब्ज़ा', '▁कब्जा', '▁कब्जे', '▁कब्र', '▁कब्रिस्तान', '▁कभी', '▁कम', '▁कमजोर', '▁कमजोरी', '▁कमर', '▁कमरे', '▁कमल', '▁कमांड', '▁कमांडर', '▁कमांडो', '▁कमाई', '▁कमान', '▁कमाने', '▁कमाल', '▁कमिश्नर', '▁कमी', '▁कमीशन', '▁कमेटी', '▁कम्प', '▁कम्पनी', '▁कम्प्यूटर', '▁कम्बोडिया', '▁कम्युन', '▁कम्युनिटी', '▁कम्युनिस्ट', '▁कम्यून', '▁कया', '▁कर', '▁करके', '▁करण', '▁करता', '▁करती', '▁करतीं', '▁करते', '▁करना', '▁करनाल', '▁करनी', '▁करने', '▁करनेवाले', '▁करवा', '▁करवाई', '▁करवाए', '▁करवाते', '▁करवाना', '▁करवाने', '▁करवाया', '▁करवाये', '▁करा', '▁कराई', '▁कराए', '▁कराची', '▁कराती', '▁कराते', '▁कराना', '▁कराने', '▁कराया', '▁करायी', '▁कराये', '▁करार', '▁करी', '▁करीब', '▁करीबी', '▁करीम', '▁करुणा', '▁करे', '▁करें', '▁करेंगी', '▁करेंगे', '▁करेगा', '▁करेगी', '▁करो', '▁करोड', '▁करोड़', '▁करोड़ों', '▁कर्', '▁कर्ज', '▁कर्ण', '▁कर्तव्य', '▁कर्त्तव्य', '▁कर्नल', '▁कर्नाटक', '▁कर्म', '▁कर्मचारियों', '▁कर्मचारी', '▁कर्मियों', '▁कल', '▁कलंक', '▁कलकत्ता', '▁कलम', '▁कला', '▁कलाकार', '▁कलाकारों', '▁कलाम', '▁कलेक्टर', '▁कल्', '▁कल्चर', '▁कल्पना', '▁कल्याण', '▁कवच', '▁कवर', '▁कवरेज', '▁कवायद', '▁कवि', '▁कविता', '▁कश', '▁कश्मीर', '▁कश्मीरी', '▁कष्ट', '▁कस', '▁कसम', '▁कसा', '▁कसौटी', '▁कह', '▁कहकर', '▁कहता', '▁कहती', '▁कहते', '▁कहना', '▁कहने', '▁कहलाए', '▁कहलाता', '▁कहलाते', '▁कहलाने', '▁कहा', '▁कहाँ', '▁कहां', '▁कहानियाँ', '▁कहानियां', '▁कहानी', '▁कहावत', '▁कही', '▁कहीं', '▁कहे', '▁कहें', '▁कहेंगे', '▁क़', '▁क़त्ल', '▁क़ब्र', '▁क़रीब', '▁क़ा', '▁क़ानून', '▁क़ानूनी', '▁क़ाय', '▁क़िला', '▁क़िले', '▁क़ुरआन', '▁क़ुरान', '▁क़ैद', '▁क़ौम', '▁का', '▁काँग्रेस', '▁कांग्रेस', '▁कांट', '▁कांड', '▁कांप', '▁कांफ्रेंस', '▁कांस्टेबल', '▁कागज', '▁कागज़', '▁काट', '▁काटकर', '▁काटता', '▁काटते', '▁काटने', '▁काटे', '▁काण्ड', '▁कानपुर', '▁कानून', '▁कानूनी', '▁कानूनों', '▁काफिले', '▁काफी', '▁काबुल', '▁काबू', '▁काम', '▁कामगार', '▁कामना', '▁कामयाब', '▁कामयाबी', '▁कामों', '▁कायम', '▁कार', '▁कारक', '▁कारखाने', '▁कारगिल', '▁कारण', '▁कारणों', '▁कारनाम', '▁कारावास', '▁कारीगर', '▁कारें', '▁कारों', '▁कारोबार', '▁कार्टून', '▁कार्ड', '▁कार्य', '▁कार्यकर्ता', '▁कार्यकर्ताओं', '▁कार्यकारी', '▁कार्यकाल', '▁कार्यक्रम', '▁कार्यरत', '▁कार्यवाही', '▁कार्यालय', '▁कार्यों', '▁कार्रवाई', '▁काल', '▁काला', '▁कालान्तर', '▁काली', '▁काले', '▁कालेज', '▁काल्पनिक', '▁काशी', '▁काश्मीर', '▁कासिम', '▁कि', '▁किंग', '▁किंगडम', '▁किंतु', '▁किए', '▁कितनी', '▁कितने', '▁किताब', '▁किताबें', '▁किताबों', '▁किन', '▁किनारा', '▁किनारे', '▁किनारों', '▁किन्तु', '▁किमी', '▁किया', '▁किये', '▁किरण', '▁किरदार', '▁किराया', '▁किराये', '▁किला', '▁किले', '▁किलो', '▁किलों', '▁किलोग्राम', '▁किलोमीटर', '▁किशन', '▁किशोर', '▁किस', '▁किसान', '▁किसानों', '▁किसी', '▁किस्म', '▁किस्से', '▁की', '▁कीचड़', '▁कीजिए', '▁कीजिये', '▁कीमत', '▁कीर्तन', '▁कु', '▁कुं', '▁कुंड', '▁कुंद', '▁कुएं', '▁कुकुर', '▁कुख्यात', '▁कुचल', '▁कुछ', '▁कुट', '▁कुटिल', '▁कुटुंब', '▁कुटुम्ब', '▁कुणाल', '▁कुण्ड', '▁कुत्ता', '▁कुत्ते', '▁कुत्तों', '▁कुपोषण', '▁कुबेर', '▁कुमार', '▁कुमारी', '▁कुम्भ', '▁कुर', '▁कुरआन', '▁कुरान', '▁कुरु', '▁कुरुक्षेत्र', '▁कुरैशी', '▁कुर्', '▁कुर्बान', '▁कुर्सी', '▁कुल', '▁कुलकर्णी', '▁कुलपति', '▁कुल्हाड़ी', '▁कुवैत', '▁कुश', '▁कुशल', '▁कू', '▁कूच', '▁कूट', '▁कूटनीति', '▁कूटनीतिक', '▁कूद', '▁कृत', '▁कृत्य', '▁कृपया', '▁कृपलानी', '▁कृपा', '▁कृपाल', '▁कृषि', '▁कृष्ण', '▁कृष्णा', '▁के', '▁केंद्र', '▁केंद्रीय', '▁केंद्रों', '▁केजरीवाल', '▁केदारनाथ', '▁केन्द्र', '▁केन्द्रीय', '▁केरल', '▁केवल', '▁कै', '▁कैं', '▁कैंट', '▁कैंप', '▁कैंसर', '▁कैट', '▁कैथलिक', '▁कैथोलिक', '▁कैद', '▁कैप', '▁कैपिटल', '▁कैप्चर', '▁कैफ़', '▁कैफे', '▁कैबिनेट', '▁कैमरे', '▁कैम्प', '▁कैर', '▁कैलाश', '▁कैलेंडर', '▁कैसर', '▁कैसा', '▁कैसी', '▁कैसे', '▁कॉ', '▁कॉक', '▁कॉन्', '▁कॉन्फ्रेंस', '▁कॉपी', '▁कॉमन', '▁कॉमर्स', '▁कॉरपोरेशन', '▁कॉरिडोर', '▁कॉर्पोरेशन', '▁कॉल', '▁कॉलेज', '▁कॉलोनी', '▁को', '▁कोंकण', '▁कोई', '▁कोट', '▁कोटा', '▁कोटि', '▁कोड', '▁कोण', '▁कोने', '▁कोयला', '▁कोरिया', '▁कोर्ट', '▁कोल', '▁कोलंबो', '▁कोलकाता', '▁कोला', '▁कोशिश', '▁कौ', '▁कौन', '▁कौम', '▁कौल', '▁क्', '▁क्या', '▁क्यु', '▁क्यू', '▁क्यूंक', '▁क्यो', '▁क्यों', '▁क्योंकि', '▁क्योकि', '▁क्र', '▁क्रम', '▁क्रमशः', '▁क्रमांक', '▁क्रा', '▁क्रांति', '▁क्रांतिकारियों', '▁क्रांतिकारी', '▁क्राइम', '▁क्राइस्ट', '▁क्राउन', '▁क्रास', '▁क्रि', '▁क्रिकेट', '▁क्रिकेटर', '▁क्रिप्टो', '▁क्रिया', '▁क्रिस', '▁क्रिसमस', '▁क्रुद्ध', '▁क्रू', '▁क्रूर', '▁क्रूरता', '▁क्रूस', '▁क्रॉस', '▁क्रो', '▁क्रोध', '▁क्रोधित', '▁क्लास', '▁क्लिक', '▁क्लीन', '▁क्ले', '▁क्वा', '▁क्षण', '▁क्षत', '▁क्षति', '▁क्षत्रिय', '▁क्षमता', '▁क्षमा', '▁क्षीण', '▁क्षीर', '▁क्षुद्र', '▁क्षुब्ध', '▁क्षेत्र', '▁क्षेत्रफल', '▁क्षेत्रों', '▁क्षोभ', '▁खंड', '▁खंडन', '▁खंडहर', '▁खंडित', '▁खंभ', '▁खगोल', '▁खजाना', '▁खजाने', '▁खजूर', '▁खट', '▁खड़ा', '▁खड़ी', '▁खड़े', '▁खडा', '▁खण्ड', '▁खण्डन', '▁खत', '▁खतरनाक', '▁खतरा', '▁खतरे', '▁खत्म', '▁खदान', '▁खदेड़', '▁खन्ना', '▁खप', '▁खबर', '▁खर', '▁खरब', '▁खरा', '▁खराब', '▁खरीद', '▁खरीदते', '▁खरीदना', '▁खरीदने', '▁खरीदा', '▁खरीदारी', '▁खरीदे', '▁खरे', '▁खर्च', '▁खल', '▁खलि', '▁खलीफा', '▁ख़', '▁ख़तरा', '▁ख़त्म', '▁ख़बर', '▁ख़राब', '▁ख़ान', '▁ख़ानदान', '▁ख़ास', '▁ख़िलाफ़', '▁ख़ु', '▁ख़ुद', '▁ख़ुशी', '▁ख़ैबर', '▁खा', '▁खाँ', '▁खां', '▁खाई', '▁खाए', '▁खाकर', '▁खाता', '▁खातिर', '▁खाते', '▁खात्म', '▁खाद', '▁खान', '▁खानदान', '▁खानपुर', '▁खाना', '▁खानाबदोश', '▁खाने', '▁खाया', '▁खाल', '▁खालसा', '▁खालिद', '▁खाली', '▁खास', '▁खासकर', '▁खासियत', '▁खासी', '▁खिंच', '▁खिचड़ी', '▁खिताब', '▁खिल', '▁खिलजी', '▁खिला', '▁खिलाड़ी', '▁खिलाफ', '▁खिलाफत', '▁खिलाफ़', '▁खिसक', '▁खींच', '▁खु', '▁खुद', '▁खुदा', '▁खुदाई', '▁खुफिया', '▁खुर', '▁खुल', '▁खुलते', '▁खुलने', '▁खुला', '▁खुलासा', '▁खुली', '▁खुले', '▁खुश', '▁खुशहाल', '▁खुशी', '▁खुसरो', '▁खू', '▁खून', '▁खूनी', '▁खूब', '▁खूबसूरत', '▁खे', '▁खेत', '▁खेती', '▁खेतों', '▁खेम', '▁खेर', '▁खेल', '▁खेलते', '▁खेलने', '▁खेला', '▁खेलों', '▁खैबर', '▁खैर', '▁खो', '▁खोज', '▁खोजने', '▁खोजा', '▁खोद', '▁खोदकर', '▁खोने', '▁खोया', '▁खोल', '▁खोलकर', '▁खोलने', '▁खोला', '▁खोले', '▁ख्याल', '▁गंगा', '▁गंगाधर', '▁गंज', '▁गंद', '▁गंदगी', '▁गंभीर', '▁गंभीरता', '▁गंवा', '▁गई', '▁गईं', '▁गए', '▁गगन', '▁गज', '▁गजनवी', '▁गज़', '▁गठजोड़', '▁गठन', '▁गठबंधन', '▁गठबन्धन', '▁गठित', '▁गड्ढा', '▁गड्ढों', '▁गढ', '▁गढ़', '▁गढ़ा', '▁गढ़ी', '▁गण', '▁गणना', '▁गणित', '▁गणितीय', '▁गणेश', '▁गत', '▁गति', '▁गतिविधियां', '▁गतिविधियों', '▁गद्द', '▁गद्दार', '▁गद्दी', '▁गन', '▁गम', '▁गम्भीर', '▁गया', '▁गयी', '▁गयीं', '▁गये', '▁गरज', '▁गरम', '▁गरिमा', '▁गरीब', '▁गरीबी', '▁गरीबों', '▁गर्त', '▁गर्दन', '▁गर्भ', '▁गर्भवत', '▁गर्म', '▁गर्मी', '▁गर्व', '▁गल', '▁गलत', '▁गलती', '▁गला', '▁गलियारे', '▁गलियारों', '▁गलियों', '▁गली', '▁गले', '▁गवर्नर', '▁गवाह', '▁गवाही', '▁गहन', '▁गहरा', '▁गहराई', '▁गहरी', '▁गहरे', '▁ग़', '▁ग़रीब', '▁ग़लत', '▁ग़ालिब', '▁ग़ुलाम', '▁ग़ैर', '▁ग़ौर', '▁गा', '▁गाँधी', '▁गाँव', '▁गांगुली', '▁गांधार', '▁गांधी', '▁गांधीजी', '▁गांव', '▁गांवों', '▁गाइ', '▁गाइड', '▁गाए', '▁गाजियाबाद', '▁गाड़', '▁गाड़ियां', '▁गाड़ियों', '▁गाड़ी', '▁गाते', '▁गाना', '▁गाने', '▁गानों', '▁गान्धी', '▁गाम्बिया', '▁गाय', '▁गायक', '▁गायत्री', '▁गायब', '▁गाया', '▁गारंटी', '▁गारो', '▁गार्ड', '▁गार्डियन', '▁गाल', '▁गाव', '▁गि', '▁गिद्ध', '▁गिन', '▁गिनती', '▁गिना', '▁गिर', '▁गिरजाघर', '▁गिरता', '▁गिरती', '▁गिरने', '▁गिरफ़्तार', '▁गिरफ्तार', '▁गिरफ्तारी', '▁गिरा', '▁गिराए', '▁गिराने', '▁गिराया', '▁गिरि', '▁गिरी', '▁गिरे', '▁गिरोह', '▁गिल', '▁गिलगित', '▁गी', '▁गीत', '▁गीता', '▁गु', '▁गुंजाइश', '▁गुजर', '▁गुजरते', '▁गुजरना', '▁गुजरा', '▁गुजरात', '▁गुजराती', '▁गुज़र', '▁गुज़ार', '▁गुजार', '▁गुजारा', '▁गुट', '▁गुड', '▁गुड़गांव', '▁गुण', '▁गुणगान', '▁गुणवत्ता', '▁गुना', '▁गुप्त', '▁गुप्ता', '▁गुफा', '▁गुमनाम', '▁गुमराह', '▁गुर', '▁गुरु', '▁गुरुद्वार', '▁गुरुद्वारा', '▁गुरुवार', '▁गुरू', '▁गुल', '▁गुलाम', '▁गुलामी', '▁गुवाहाटी', '▁गुस्सा', '▁गुस्से', '▁गुहा', '▁गू', '▁गूंज', '▁गूगल', '▁गृह', '▁गृहमंत्र', '▁गृहयुद्ध', '▁गेंद', '▁गेट', '▁गेम', '▁गेल', '▁गेहूं', '▁गैंग', '▁गैंगस्टर', '▁गैर', '▁गैस', '▁गॉड', '▁गो', '▁गोआ', '▁गोकुल', '▁गोखले', '▁गोड', '▁गोडसे', '▁गोत्र', '▁गोद', '▁गोदी', '▁गोपनीय', '▁गोपाल', '▁गोबिंद', '▁गोमांस', '▁गोयल', '▁गोरखपुर', '▁गोरखा', '▁गोरी', '▁गोल', '▁गोला', '▁गोलाबारी', '▁गोलार्ध', '▁गोलियाँ', '▁गोलियां', '▁गोलियों', '▁गोली', '▁गोलीबारी', '▁गोवा', '▁गोविंद', '▁गोश्त', '▁गौ', '▁गौड़', '▁गौतम', '▁गौर', '▁गौरव', '▁गौरी', '▁ग्यारह', '▁ग्रंथ', '▁ग्रंथों', '▁ग्रन्थ', '▁ग्रसित', '▁ग्रह', '▁ग्रहण', '▁ग्राम', '▁ग्रामीण', '▁ग्राहक', '▁ग्रुप', '▁ग्रेट', '▁ग्रेनेड', '▁ग्रैंड', '▁ग्रो', '▁ग्लोबल', '▁घंटा', '▁घंटे', '▁घंटो', '▁घंटों', '▁घट', '▁घटक', '▁घटकर', '▁घटती', '▁घटना', '▁घटनाएँ', '▁घटनाएं', '▁घटनाओं', '▁घटनाक्रम', '▁घटने', '▁घटा', '▁घटित', '▁घटिया', '▁घटी', '▁घड़ियाल', '▁घड़ी', '▁घण्टे', '▁घबरा', '▁घमंड', '▁घर', '▁घराना', '▁घराने', '▁घरेलू', '▁घरों', '▁घसीट', '▁घाट', '▁घाटी', '▁घात', '▁घातक', '▁घायल', '▁घाव', '▁घिर', '▁घिरी', '▁घिस', '▁घी', '▁घुटने', '▁घुटनों', '▁घुस', '▁घुसपैठ', '▁घूम', '▁घूमता', '▁घूमते', '▁घूमने', '▁घृणा', '▁घृणित', '▁घेर', '▁घेरा', '▁घेरे', '▁घोटाला', '▁घोटाले', '▁घोटालों', '▁घोड़ा', '▁घोड़े', '▁घोड़ों', '▁घोर', '▁घोल', '▁घोष', '▁घोषणा', '▁घोषणापत्र', '▁घोषित', '▁चंगेज', '▁चंडीगढ़', '▁चंद', '▁चंदन', '▁चंद्र', '▁चंद्रगुप्त', '▁चंद्रशेखर', '▁चंपा', '▁चंपारण', '▁चक्कर', '▁चक्र', '▁चक्रवर्ती', '▁चटक', '▁चटर्जी', '▁चट्टान', '▁चढ़', '▁चढ़कर', '▁चढ़ा', '▁चढ़ाई', '▁चढा', '▁चतुर', '▁चतुर्वेदी', '▁चन्द', '▁चन्द्र', '▁चन्द्रगुप्त', '▁चपेट', '▁चबा', '▁चम', '▁चमक', '▁चमत्कार', '▁चम्पा', '▁चयन', '▁चर', '▁चरख', '▁चरण', '▁चरणों', '▁चरम', '▁चरमपंथ', '▁चरित्र', '▁चर्च', '▁चर्चा', '▁चर्म', '▁चल', '▁चलकर', '▁चलता', '▁चलती', '▁चलते', '▁चलन', '▁चलना', '▁चलने', '▁चला', '▁चलाई', '▁चलाए', '▁चलाता', '▁चलाती', '▁चलाते', '▁चलाना', '▁चलाने', '▁चलाया', '▁चलायी', '▁चलाये', '▁चली', '▁चले', '▁चलेगा', '▁चलो', '▁चा', '▁चाँद', '▁चांद', '▁चाक', '▁चाकू', '▁चाचा', '▁चाट', '▁चाणक्य', '▁चादर', '▁चाम', '▁चाय', '▁चार', '▁चारा', '▁चारो', '▁चारों', '▁चार्ज', '▁चार्टर्ड', '▁चार्ल्स', '▁चाल', '▁चालीस', '▁चालू', '▁चावल', '▁चाह', '▁चाहता', '▁चाहती', '▁चाहते', '▁चाहने', '▁चाहा', '▁चाहिए', '▁चाहिये', '▁चाहे', '▁चाहें', '▁चाहेंगे', '▁चि', '▁चिंतक', '▁चिंतन', '▁चिंता', '▁चिंतित', '▁चिक', '▁चिकित्सा', '▁चिकित्सालय', '▁चिट्ठ', '▁चिड़िया', '▁चिड़ियाँ', '▁चिढ़', '▁चित', '▁चिता', '▁चित्तौड़', '▁चित्र', '▁चित्रण', '▁चित्रों', '▁चिदंबरम', '▁चिदम्बरम', '▁चिन', '▁चिन्ता', '▁चिन्ह', '▁चिन्हित', '▁चिन्हों', '▁चिपका', '▁चिली', '▁चिल्', '▁चिल्ला', '▁चिश्ती', '▁चिह्न', '▁ची', '▁चीख', '▁चीज', '▁चीज़', '▁चीज़ें', '▁चीजें', '▁चीजों', '▁चीन', '▁चीनी', '▁चीफ', '▁चु', '▁चुक', '▁चुका', '▁चुकी', '▁चुके', '▁चुटकुल', '▁चुन', '▁चुनकर', '▁चुनना', '▁चुनने', '▁चुना', '▁चुनाव', '▁चुनावों', '▁चुने', '▁चुनौती', '▁चुप', '▁चुपके', '▁चुपचा', '▁चुरा', '▁चू', '▁चूँकि', '▁चूंकि', '▁चूक', '▁चूका', '▁चूना', '▁चूर', '▁चूहा', '▁चे', '▁चेक', '▁चेत', '▁चेतना', '▁चेतावनी', '▁चेन', '▁चेन्नई', '▁चेयरमैन', '▁चेल', '▁चेष्टा', '▁चेहरा', '▁चेहरे', '▁चै', '▁चैट', '▁चैन', '▁चैनल', '▁चैनलों', '▁चोट', '▁चोटी', '▁चोर', '▁चोरी', '▁चोल', '▁चौ', '▁चौंका', '▁चौक', '▁चौकी', '▁चौड़ा', '▁चौड़े', '▁चौथ', '▁चौथा', '▁चौथी', '▁चौथे', '▁चौधरी', '▁चौबीस', '▁चौराहे', '▁चौहान', '▁छः', '▁छठा', '▁छठी', '▁छड़ी', '▁छत', '▁छत्त', '▁छत्तीसगढ़', '▁छत्रपति', '▁छत्रसाल', '▁छद्म', '▁छप', '▁छपत', '▁छपा', '▁छपी', '▁छपे', '▁छल', '▁छवि', '▁छह', '▁छा', '▁छाती', '▁छात्र', '▁छात्रों', '▁छाप', '▁छापा', '▁छापामार', '▁छापे', '▁छाया', '▁छायाचित्र', '▁छावनी', '▁छिड़', '▁छिन', '▁छिप', '▁छिपा', '▁छिपी', '▁छिपे', '▁छीन', '▁छु', '▁छुट', '▁छुट्टी', '▁छुड़ा', '▁छुप', '▁छुपा', '▁छुपे', '▁छूट', '▁छेड़', '▁छेड़छाड़', '▁छोटा', '▁छोटी', '▁छोटे', '▁छोड', '▁छोडकर', '▁छोड़', '▁छोड़कर', '▁छोड़ते', '▁छोड़ना', '▁छोड़ने', '▁छोड़ा', '▁छोड़ी', '▁छोड़े', '▁छोड़ो', '▁छोर', '▁जं', '▁जंग', '▁जंगल', '▁जंगली', '▁जंगलों', '▁जंजीर', '▁जई', '▁जकड़', '▁जख्म', '▁जग', '▁जगत', '▁जगह', '▁जगहों', '▁जगा', '▁जगाने', '▁जगुआर', '▁जज', '▁जड़', '▁जड़े', '▁जड़ें', '▁जता', '▁जताई', '▁जताया', '▁जन', '▁जनक', '▁जनगणना', '▁जनजाति', '▁जनता', '▁जनरल', '▁जनवरी', '▁जनसँख्या', '▁जनसंख्या', '▁जनसंघ', '▁जनित', '▁जन्नत', '▁जन्म', '▁जन्मदाता', '▁जन्मस्थान', '▁जन्मे', '▁जन्में', '▁जब', '▁जबकि', '▁जबरदस्त', '▁जबलपुर', '▁जब्त', '▁जम', '▁जमा', '▁जमात', '▁जमानत', '▁जमाने', '▁जमाल', '▁जमी', '▁जमीन', '▁जमीनी', '▁जम्मू', '▁जय', '▁जयंत', '▁जयंती', '▁जयपुर', '▁जया', '▁जर', '▁जरा', '▁जरिए', '▁जरिये', '▁जरुर', '▁जरुरी', '▁जरूर', '▁जरूरत', '▁जर्नल', '▁जर्मन', '▁जर्मनी', '▁जल', '▁जलने', '▁जलयान', '▁जला', '▁जलाकर', '▁जलाने', '▁जलाया', '▁जलाल', '▁जलेबी', '▁जल्द', '▁जल्दी', '▁जवान', '▁जवानों', '▁जवाब', '▁जवाहर', '▁जश्न', '▁जस्टिस', '▁जहर', '▁जहा', '▁जहाँ', '▁जहाँगीर', '▁जहां', '▁जहांगीर', '▁जहाज', '▁जहाजों', '▁ज़', '▁ज़बरदस्त', '▁ज़बान', '▁ज़माने', '▁ज़मीन', '▁ज़रा', '▁ज़रिए', '▁ज़रुरत', '▁ज़रूर', '▁ज़रूरत', '▁ज़हर', '▁ज़ा', '▁ज़ाकिर', '▁ज़ाहिर', '▁ज़ि', '▁ज़िंदगी', '▁ज़िंदा', '▁ज़िक्र', '▁ज़िन्दगी', '▁ज़िम्मेदार', '▁ज़िम्मेदारी', '▁ज़िया', '▁ज़िलों', '▁ज़ी', '▁ज़ु', '▁ज़्यादा', '▁जा', '▁जाँच', '▁जांघ', '▁जांच', '▁जाए', '▁जाएँ', '▁जाएँगे', '▁जाएं', '▁जाएंगी', '▁जाएंगे', '▁जाएगा', '▁जाएगी', '▁जाओ', '▁जाकर', '▁जाग', '▁जागरण', '▁जागरूक', '▁जागरूकता', '▁जागीर', '▁जागीरदार', '▁जागृत', '▁जाट', '▁जात', '▁जाता', '▁जाति', '▁जातिगत', '▁जातियां', '▁जातियों', '▁जातिवाद', '▁जाती', '▁जातीं', '▁जातीय', '▁जाते', '▁जादू', '▁जाधव', '▁जान', '▁जानकर', '▁जानकार', '▁जानकारिय', '▁जानकारियां', '▁जानकारी', '▁जानता', '▁जानती', '▁जानते', '▁जानना', '▁जानने', '▁जानबूझ', '▁जानबूझकर', '▁जानवर', '▁जानवरों', '▁जाना', '▁जानी', '▁जाने', '▁जानेवाले', '▁जापान', '▁जाम', '▁जामा', '▁जामिया', '▁जाय', '▁जाया', '▁जाये', '▁जायें', '▁जायेंगे', '▁जायेगा', '▁जायेगी', '▁जारी', '▁जाल', '▁जावेद', '▁जासूस', '▁जासूसी', '▁जाहिर', '▁जि', '▁जिंदगी', '▁जिंदा', '▁जिक्र', '▁जिज्ञासा', '▁जितन', '▁जितना', '▁जिद्द', '▁जिन', '▁जिनक', '▁जिनका', '▁जिनके', '▁जिनको', '▁जिनमे', '▁जिनमें', '▁जिनसे', '▁जिन्', '▁जिन्दगी', '▁जिन्दा', '▁जिन्ना', '▁जिन्हे', '▁जिन्हें', '▁जिन्होंने', '▁जिन्होने', '▁जिम', '▁जिम्म', '▁जिम्मेदार', '▁जिम्मेदारी', '▁जिम्मेवार', '▁जिय', '▁जिया', '▁जिर', '▁जिला', '▁जिले', '▁जिलों', '▁जिल्द', '▁जिस', '▁जिसका', '▁जिसकी', '▁जिसके', '▁जिसको', '▁जिसने', '▁जिसमे', '▁जिसमें', '▁जिससे', '▁जिसे', '▁जिहाद', '▁जी', '▁जीजा', '▁जीत', '▁जीतकर', '▁जीतने', '▁जीता', '▁जीती', '▁जीते', '▁जीन', '▁जीना', '▁जीने', '▁जीभ', '▁जीव', '▁जीवंत', '▁जीवन', '▁जीवनी', '▁जीविका', '▁जीवित', '▁जीवों', '▁जु', '▁जुझार', '▁जुट', '▁जुटा', '▁जुटाने', '▁जुड़', '▁जुड़ने', '▁जुड़वा', '▁जुड़ा', '▁जुड़ी', '▁जुड़े', '▁जुडी', '▁जुन', '▁जुबान', '▁जुर्म', '▁जुर्माना', '▁जुलाई', '▁जुलूस', '▁जुल्म', '▁जू', '▁जूझ', '▁जूड', '▁जूते', '▁जूतों', '▁जून', '▁जूनागढ़', '▁जे', '▁जेट', '▁जेन', '▁जेनेट', '▁जेनेवा', '▁जेब', '▁जेल', '▁जेहाद', '▁जै', '▁जैक', '▁जैकेट', '▁जैन', '▁जैस', '▁जैसा', '▁जैसी', '▁जैसे', '▁जॉ', '▁जॉर्ज', '▁जो', '▁जोकि', '▁जोखिम', '▁जोग', '▁जोड़', '▁जोड़कर', '▁जोड़ती', '▁जोड़ते', '▁जोड़ना', '▁जोड़ने', '▁जोड़ा', '▁जोड़ी', '▁जोड़े', '▁जोर', '▁जोरदार', '▁जोश', '▁जोशी', '▁जोसेफ', '▁जौ', '▁जौनपुर', '▁जौहर', '▁ज्', '▁ज्ञात', '▁ज्ञान', '▁ज्या', '▁ज्यादत', '▁ज्यादा', '▁ज्यादातर', '▁ज्यू', '▁ज्यों', '▁ज्योति', '▁ज्योतिर्लिंग', '▁ज्योतिष', '▁ज्वाला', '▁झं', '▁झंड', '▁झंडा', '▁झंडे', '▁झगड़', '▁झगड़ा', '▁झगड़े', '▁झटका', '▁झटके', '▁झड़प', '▁झलक', '▁झा', '▁झाँक', '▁झांसी', '▁झाड़', '▁झाड़ी', '▁झारखंड', '▁झील', '▁झीलों', '▁झु', '▁झुंड', '▁झुक', '▁झुका', '▁झुके', '▁झुण्ड', '▁झूठ', '▁झूठे', '▁झूम', '▁झेल', '▁झेलन', '▁झेलम', '▁झोंक', '▁झौ', '▁टकरा', '▁टकराने', '▁टकराव', '▁टकसाल', '▁टक्कर', '▁टन', '▁टपक', '▁टमाटर', '▁टर', '▁टर्म', '▁टर्मिनल', '▁टर्मिनस', '▁टा', '▁टांग', '▁टाइगर', '▁टाइप', '▁टाइम', '▁टाइम्स', '▁टाक', '▁टायर', '▁टार', '▁टाल', '▁टास्क', '▁टि', '▁टिक', '▁टिकट', '▁टिका', '▁टिकी', '▁टिप्पणी', '▁टी', '▁टीका', '▁टीके', '▁टीपू', '▁टीम', '▁टीवी', '▁टु', '▁टुकड', '▁टुकड़ा', '▁टुकड़ी', '▁टुकड़े', '▁टुकड़ों', '▁टुट', '▁टू', '▁टूट', '▁टूटने', '▁टूटी', '▁टूटे', '▁टूर', '▁टूरिस्ट', '▁टेक', '▁टेक्', '▁टेक्नोलॉजी', '▁टेक्स', '▁टेरी', '▁टेल', '▁टेली', '▁टेलीग्राफ', '▁टेस्ट', '▁टै', '▁टैंक', '▁टैक्स', '▁टैगोर', '▁टॉप', '▁टॉय', '▁टो', '▁टोंक', '▁टोड', '▁टोपी', '▁टोपे', '▁ट्', '▁ट्यूब', '▁ट्र', '▁ट्रक', '▁ट्रस्ट', '▁ट्रांजिट', '▁ट्रांसफर', '▁ट्राइ', '▁ट्रिपल', '▁ट्रीय', '▁ट्रेड', '▁ट्रेन', '▁ट्रैफिक', '▁ट्वि', '▁ट्विटर', '▁ठंडा', '▁ठंडी', '▁ठंडे', '▁ठग', '▁ठण्ड', '▁ठप्प', '▁ठहर', '▁ठहरा', '▁ठहराने', '▁ठहराया', '▁ठाकरे', '▁ठाकुर', '▁ठाणे', '▁ठान', '▁ठिकाने', '▁ठिकानों', '▁ठीक', '▁ठुकरा', '▁ठेका', '▁ठेकेदार', '▁ठोक', '▁ठोस', '▁डंड', '▁डंडे', '▁डकैत', '▁डकैती', '▁डच', '▁डबल', '▁डब्ल्यू', '▁डर', '▁डरते', '▁डरपोक', '▁डल', '▁डा', '▁डाक', '▁डाक्टर', '▁डाटा', '▁डाय', '▁डायरेक्ट', '▁डायरेक्टर', '▁डाल', '▁डालकर', '▁डालता', '▁डालते', '▁डालना', '▁डालने', '▁डालर', '▁डाला', '▁डाली', '▁डाले', '▁डि', '▁डिग्री', '▁डिजाइन', '▁डिजिटल', '▁डिपार्टमेंट', '▁डिप्', '▁डिप्टी', '▁डिफेंस', '▁डिब्ब', '▁डिब्बे', '▁डिलीवर', '▁डी', '▁डीजल', '▁डील', '▁डीलर', '▁डुब', '▁डुबा', '▁डूब', '▁डूबे', '▁डे', '▁डेटा', '▁डेढ़', '▁डेमोक्रेट', '▁डेमोक्रेटिक', '▁डेरा', '▁डेली', '▁डेवलपमेंट', '▁डॉ', '▁डॉक्टर', '▁डॉक्टरों', '▁डॉन', '▁डॉलर', '▁डो', '▁डोड', '▁डोनाल्ड', '▁डोर', '▁ड्यूट', '▁ड्रग', '▁ड्रा', '▁ड्राइवर', '▁ड्रामा', '▁ढंक', '▁ढंग', '▁ढक', '▁ढकी', '▁ढह', '▁ढ़', '▁ढा', '▁ढाई', '▁ढाका', '▁ढाल', '▁ढूँढ', '▁ढूंढ', '▁ढेर', '▁ढोंग', '▁ढोल', '▁तं', '▁तंग', '▁तंज', '▁तंत्र', '▁तक', '▁तकनीक', '▁तकनीकी', '▁तकरीबन', '▁तकलीफ', '▁तक़रीब', '▁तख़्त', '▁तख्त', '▁तट', '▁तटस्थ', '▁तटीय', '▁तटों', '▁तत्काल', '▁तत्कालीन', '▁तत्क्षण', '▁तत्त्व', '▁तत्पर', '▁तत्व', '▁तत्वों', '▁तथा', '▁तथाकथित', '▁तथ्य', '▁तथ्यों', '▁तद', '▁तद्', '▁तन', '▁तनवीर', '▁तना', '▁तनाव', '▁तन्', '▁तन्त्र', '▁तब', '▁तबाह', '▁तभी', '▁तम', '▁तमन्ना', '▁तमाम', '▁तमिल', '▁तमिलनाडु', '▁तय', '▁तर', '▁तरक्की', '▁तरफ', '▁तरफ़', '▁तरह', '▁तरीक़ा', '▁तरीका', '▁तरीके', '▁तरीकों', '▁तरुण', '▁तर्क', '▁तर्ज', '▁तल', '▁तलवार', '▁तलाक', '▁तलाश', '▁तले', '▁तव', '▁तवी', '▁तस्', '▁तस्करी', '▁तस्वीर', '▁तस्वीरें', '▁तस्वीरों', '▁तह', '▁तहत', '▁तहसील', '▁ता', '▁तांडव', '▁तांत्रिक', '▁ताक', '▁ताकत', '▁ताकतों', '▁ताक़त', '▁ताकि', '▁ताज', '▁ताज़', '▁ताज़ा', '▁ताजा', '▁तात्कालिक', '▁तात्या', '▁तादाद', '▁तान', '▁ताना', '▁तानाशाह', '▁तानाशाही', '▁ताप', '▁तार', '▁तारा', '▁तारीख', '▁तारीफ', '▁तारे', '▁तार्किक', '▁ताल', '▁तालाब', '▁तालिब', '▁तालिबान', '▁ताल्लुक', '▁ताश', '▁ति', '▁तिकड़', '▁तिथि', '▁तिन', '▁तिब्बत', '▁तिर', '▁तिरंगा', '▁तिरस्कार', '▁तिल', '▁तिलक', '▁तिवारी', '▁तिहाई', '▁तीखे', '▁तीन', '▁तीनों', '▁तीर', '▁तीर्थ', '▁तीर्थयात्रियो', '▁तीव्र', '▁तीव्रता', '▁तीस', '▁तीसरा', '▁तीसरी', '▁तीसरे', '▁तु', '▁तुकाराम', '▁तुगलक', '▁तुच्छ', '▁तुझ', '▁तुझे', '▁तुम', '▁तुम्हारा', '▁तुम्हारी', '▁तुम्हारे', '▁तुम्ही', '▁तुम्हे', '▁तुम्हें', '▁तुर', '▁तुरंत', '▁तुर्क', '▁तुर्की', '▁तुर्कों', '▁तुलना', '▁तुलसीदास', '▁तुल्य', '▁तू', '▁तूफ़ान', '▁तूफान', '▁तृण', '▁तृतीय', '▁तृष्णा', '▁ते', '▁तेग', '▁तेज', '▁तेजस्वी', '▁तेज़', '▁तेज़ी', '▁तेजी', '▁तेन', '▁तेरह', '▁तेरा', '▁तेरी', '▁तेरे', '▁तेल', '▁तेलंगाना', '▁तै', '▁तैनात', '▁तैनाती', '▁तैयार', '▁तैयारी', '▁तो', '▁तोड़', '▁तोड़कर', '▁तोड़ने', '▁तोड़ा', '▁तोप', '▁तौफ', '▁तौर', '▁त्', '▁त्याग', '▁त्यागने', '▁त्योहार', '▁त्योहारों', '▁त्यौहार', '▁त्र', '▁त्रासदी', '▁त्रि', '▁त्रिदेव', '▁त्रिपुरा', '▁त्व', '▁थक', '▁थर्ड', '▁थल', '▁था', '▁थाईलैंड', '▁थान', '▁थापना', '▁थि', '▁थियेटर', '▁थी', '▁थीं', '▁थीम', '▁थूक', '▁थे', '▁थो', '▁थोक', '▁थोड़ा', '▁थोड़ी', '▁थोड़े', '▁थोप', '▁थोर', '▁थ्योरी', '▁दंगा', '▁दंगे', '▁दंगों', '▁दंड', '▁दंश', '▁दक्कन', '▁दक्षिण', '▁दक्षिणी', '▁दखल', '▁दण्ड', '▁दत्त', '▁दत्ता', '▁दत्तात्रेय', '▁दफन', '▁दफना', '▁दफ्तर', '▁दब', '▁दबा', '▁दबाने', '▁दबाया', '▁दबाव', '▁दम', '▁दमदम', '▁दमन', '▁दया', '▁दयानंद', '▁दयानन्द', '▁दयालु', '▁दर', '▁दरअसल', '▁दरगाह', '▁दरबार', '▁दरबारी', '▁दरम्यान', '▁दरवाज़े', '▁दरवाजा', '▁दरवाजे', '▁दरिद्र', '▁दर्ज', '▁दर्जन', '▁दर्ज़', '▁दर्जा', '▁दर्जे', '▁दर्द', '▁दर्दनाक', '▁दर्शन', '▁दर्शात', '▁दर्शाया', '▁दल', '▁दलाल', '▁दलित', '▁दलितों', '▁दलील', '▁दलों', '▁दवा', '▁दशक', '▁दशकों', '▁दशरथ', '▁दशा', '▁दस', '▁दस्त', '▁दस्ता', '▁दस्तावेज', '▁दस्ते', '▁दही', '▁दा', '▁दांव', '▁दाऊद', '▁दाख़िल', '▁दाखिल', '▁दाग', '▁दाढ़ी', '▁दाता', '▁दादर', '▁दादा', '▁दान', '▁दानव', '▁दाम', '▁दामाद', '▁दामोदर', '▁दायर', '▁दायरे', '▁दायित्व', '▁दारुल', '▁दार्शनिक', '▁दाल', '▁दावत', '▁दावा', '▁दावे', '▁दावेदार', '▁दावों', '▁दास', '▁दासता', '▁दाहिन', '▁दाहिने', '▁दि', '▁दिए', '▁दिक्कत', '▁दिख', '▁दिखता', '▁दिखती', '▁दिखते', '▁दिखने', '▁दिखा', '▁दिखाई', '▁दिखाए', '▁दिखाकर', '▁दिखाता', '▁दिखाते', '▁दिखाना', '▁दिखाने', '▁दिखाया', '▁दिखायी', '▁दिखाये', '▁दिखी', '▁दिखे', '▁दिग्गज', '▁दिग्विजय', '▁दिन', '▁दिनचर्या', '▁दिनांक', '▁दिनेश', '▁दिनों', '▁दिमाग', '▁दिया', '▁दिये', '▁दिल', '▁दिलचस्पी', '▁दिलवा', '▁दिला', '▁दिलाने', '▁दिलाया', '▁दिलीप', '▁दिल्', '▁दिल्ली', '▁दिवस', '▁दिवसीय', '▁दिवाली', '▁दिव्य', '▁दिशा', '▁दिस', '▁दिसंबर', '▁दिसम्बर', '▁दी', '▁दीं', '▁दीक्षा', '▁दीक्षित', '▁दीजिए', '▁दीजिये', '▁दीन', '▁दीपक', '▁दीपावली', '▁दीर्घकालीन', '▁दीवार', '▁दीवारों', '▁दीवाली', '▁दु', '▁दुःख', '▁दुआ', '▁दुकान', '▁दुकानदार', '▁दुकानें', '▁दुकानों', '▁दुख', '▁दुखद', '▁दुखी', '▁दुध', '▁दुनिया', '▁दुबई', '▁दुबारा', '▁दुबे', '▁दुरुपयोग', '▁दुर्', '▁दुर्ग', '▁दुर्गा', '▁दुर्गावती', '▁दुर्घटना', '▁दुर्दशा', '▁दुर्बल', '▁दुर्भाग्य', '▁दुर्भाग्यवश', '▁दुर्लभ', '▁दुश्मन', '▁दुश्मनी', '▁दुश्मनों', '▁दुष्', '▁दुष्ट', '▁दुष्परिणाम', '▁दुसर', '▁दुसरे', '▁दुस्साहस', '▁दू', '▁दूत', '▁दूतावास', '▁दूध', '▁दून', '▁दूर', '▁दूरगामी', '▁दूरदर्शी', '▁दूरी', '▁दूसरा', '▁दूसरी', '▁दूसरे', '▁दूसरों', '▁दृढ़', '▁दृढ़ता', '▁दृश्य', '▁दृष्ट', '▁दृष्टि', '▁दृष्टिकोण', '▁दृष्टिगत', '▁दृष्टिगोच', '▁दे', '▁दें', '▁देंगे', '▁देकर', '▁देख', '▁देखकर', '▁देखता', '▁देखती', '▁देखते', '▁देखना', '▁देखने', '▁देखा', '▁देखिए', '▁देखिये', '▁देखी', '▁देखे', '▁देखें', '▁देखेंगे', '▁देखो', '▁देगा', '▁देगी', '▁देता', '▁देती', '▁देते', '▁देन', '▁देना', '▁देनी', '▁देने', '▁देर', '▁देव', '▁देवता', '▁देवताओं', '▁देवदास', '▁देवबंद', '▁देवबंदी', '▁देवी', '▁देवेन्द्र', '▁देवों', '▁देश', '▁देशद्रोह', '▁देशभक्त', '▁देशभक्ति', '▁देशभर', '▁देशों', '▁देसी', '▁देह', '▁देहरादून', '▁देहांत', '▁दैनिक', '▁दैवीय', '▁दो', '▁दोगुन', '▁दोनो', '▁दोनों', '▁दोपहर', '▁दोबारा', '▁दोलन', '▁दोष', '▁दोषी', '▁दोस्त', '▁दोस्ती', '▁दोस्तों', '▁दोहरा', '▁दोहरी', '▁दौड़', '▁दौड़ने', '▁दौर', '▁दौरा', '▁दौरान', '▁दौरे', '▁दौलत', '▁द्', '▁द्र', '▁द्वार', '▁द्वारका', '▁द्वारा', '▁द्वि', '▁द्वितीय', '▁द्विपक्ष', '▁द्वीप', '▁द्वीपों', '▁द्वेष', '▁धंधा', '▁धंधे', '▁धकेल', '▁धड़', '▁धध', '▁धन', '▁धनराशि', '▁धन्य', '▁धन्यवाद', '▁धमका', '▁धमकिय', '▁धमकी', '▁धमाक', '▁धमाका', '▁धमाके', '▁धर', '▁धरती', '▁धरमपुर', '▁धरा', '▁धराशा', '▁धरोहर', '▁धर्म', '▁धर्मगुरु', '▁धर्मनिरपेक्ष', '▁धर्मनिरपेक्षता', '▁धर्मवीर', '▁धर्मांतरण', '▁धर्मावलंबी', '▁धर्मों', '▁धा', '▁धातु', '▁धाम', '▁धार', '▁धारण', '▁धारणा', '▁धारा', '▁धाराओं', '▁धारी', '▁धार्मिक', '▁धावा', '▁धीर', '▁धीरे', '▁धु', '▁धुआं', '▁धुन', '▁धुर', '▁धुल', '▁धूर्त', '▁धूल', '▁धैर्य', '▁धो', '▁धोखा', '▁धोखे', '▁ध्', '▁ध्यान', '▁ध्येय', '▁ध्रुव', '▁ध्वज', '▁ध्वनि', '▁ध्वस्त', '▁नं', '▁नंगे', '▁नंद', '▁नंदा', '▁नंदी', '▁नंबर', '▁नई', '▁नए', '▁नकल', '▁नकली', '▁नक़ल', '▁नकार', '▁नकारात्मक', '▁नक्शा', '▁नक्षत्र', '▁नक्सल', '▁नग', '▁नगण्य', '▁नगर', '▁नगरपालिका', '▁नगरों', '▁नग्न', '▁नजदीक', '▁नजर', '▁नज़दीक', '▁नज़र', '▁नजीब', '▁नतीजा', '▁नतीजे', '▁नदी', '▁नपुंसक', '▁नफरत', '▁नबी', '▁नम', '▁नमः', '▁नमक', '▁नमन', '▁नमाज', '▁नमाज़', '▁नमूने', '▁नमो', '▁नम्बर', '▁नया', '▁नयी', '▁नये', '▁नर', '▁नरक', '▁नरम', '▁नरसंहार', '▁नरसिंह', '▁नरसिम्हा', '▁नरेंद्र', '▁नरेन्द्र', '▁नरेश', '▁नर्स', '▁नर्सिंग', '▁नल', '▁नव', '▁नवंबर', '▁नवमी', '▁नवम्बर', '▁नवरत्न', '▁नवरात्रि', '▁नवाज', '▁नवाज़', '▁नवाज़ा', '▁नवाजा', '▁नवाब', '▁नशा', '▁नशे', '▁नष्ट', '▁नसीर', '▁नसों', '▁नस्ल', '▁नहाने', '▁नही', '▁नहीं', '▁ना', '▁नाइ', '▁नाई', '▁नाक', '▁नाकाम', '▁नाग', '▁नागपुर', '▁नागर', '▁नागरिक', '▁नागरिकता', '▁नागरिकों', '▁नागरी', '▁नागा', '▁नागालैंड', '▁नाच', '▁नाचने', '▁नाज़', '▁नाज़ी', '▁नाज़ुक', '▁नाजायज', '▁नाटक', '▁नाटो', '▁नाड़ी', '▁नाते', '▁नाथ', '▁नाथू', '▁नाद', '▁नादिर', '▁नान', '▁नानक', '▁नाना', '▁नापसंद', '▁नाबालिग', '▁नाभि', '▁नाम', '▁नामक', '▁नामदेव', '▁नाममात्र', '▁नामांकन', '▁नामों', '▁नायक', '▁नायडू', '▁नार', '▁नारद', '▁नारा', '▁नाराज', '▁नाराज़', '▁नारायण', '▁नारी', '▁नारे', '▁नार्थ', '▁नाले', '▁नाव', '▁नाश', '▁नासा', '▁नासिर', '▁नास्तिक', '▁नाही', '▁नि', '▁निंदा', '▁निक', '▁निकट', '▁निकटवर्त', '▁निकल', '▁निकलकर', '▁निकलता', '▁निकलती', '▁निकलते', '▁निकलना', '▁निकलने', '▁निकला', '▁निकली', '▁निकले', '▁निकाल', '▁निकालकर', '▁निकालते', '▁निकालना', '▁निकालने', '▁निकाला', '▁निकाली', '▁निकाले', '▁निगम', '▁निगरानी', '▁निगाह', '▁निचले', '▁निज़ाम', '▁निज़ामुद्दीन', '▁निजाम', '▁निजामुद्दीन', '▁निजी', '▁नितंब', '▁निति', '▁निदेशालय', '▁निद्रा', '▁निधन', '▁निधि', '▁निपटने', '▁निपटा', '▁निपटान', '▁निबटन', '▁निभा', '▁निभाई', '▁निभाया', '▁निम', '▁निमंत्र', '▁निम्न', '▁निम्नलिखित', '▁नियंत्रण', '▁नियंत्रित', '▁नियत', '▁नियम', '▁नियमों', '▁नियाम', '▁नियामक', '▁नियुक्त', '▁नियुक्ति', '▁नियोजन', '▁निर', '▁निरंकुश', '▁निरंतर', '▁निरपेक्ष', '▁निरस्त', '▁निरा', '▁निराकार', '▁निराश', '▁निराशा', '▁निरीक्षण', '▁निरोधक', '▁निर्', '▁निर्जन', '▁निर्णय', '▁निर्णायक', '▁निर्दय', '▁निर्देश', '▁निर्देशित', '▁निर्दोष', '▁निर्धन', '▁निर्धारण', '▁निर्धारित', '▁निर्बाध', '▁निर्भर', '▁निर्भीक', '▁निर्मम', '▁निर्मला', '▁निर्माण', '▁निर्माता', '▁निर्मित', '▁निर्यात', '▁निर्वाचन', '▁निर्वाचित', '▁निर्वासित', '▁निर्वाह', '▁निवास', '▁निवासियों', '▁निवासी', '▁निवेदन', '▁निवेश', '▁निशान', '▁निशाना', '▁निशुल्', '▁निश्', '▁निश्चय', '▁निश्चित', '▁निषाद', '▁निषिद्ध', '▁निष्', '▁निष्कर्ष', '▁निष्क्रिय', '▁निष्ठा', '▁निस्', '▁निस्संदेह', '▁निहत्थे', '▁निहित', '▁नी', '▁नींद', '▁नींव', '▁नीचा', '▁नीचे', '▁नीति', '▁नीतियां', '▁नीतियों', '▁नीती', '▁नीदरलैंड', '▁नीर', '▁नील', '▁नीला', '▁नीले', '▁नीव', '▁नु', '▁नुकसान', '▁नुक्कड़', '▁नूर', '▁नृत्य', '▁ने', '▁नें', '▁नेट', '▁नेटवर्क', '▁नेता', '▁नेताओं', '▁नेताजी', '▁नेतृत्व', '▁नेत्र', '▁नेत्रों', '▁नेपाल', '▁नेशनल', '▁नेशन्स', '▁नेहरु', '▁नेहरू', '▁नै', '▁नैतिक', '▁नैतिकता', '▁नॉन', '▁नॉर्थ', '▁नो', '▁नोक', '▁नोट', '▁नोटिस', '▁नोबेल', '▁नौ', '▁नौकर', '▁नौकरियां', '▁नौकरियों', '▁नौकरी', '▁नौजवान', '▁नौटंकी', '▁नौसेना', '▁न्याय', '▁न्यायधीश', '▁न्यायपालिका', '▁न्यायमूर्ति', '▁न्यायलय', '▁न्यायाधीश', '▁न्यायाधीशों', '▁न्यायालय', '▁न्यायालयों', '▁न्यायिक', '▁न्यायोचित', '▁न्यू', '▁न्यूक्लियर', '▁न्यूज', '▁न्यूज़', '▁न्यूज़ीलैंड', '▁न्यूजीलैंड', '▁न्यूनतम', '▁न्यूयॉर्क', '▁पं', '▁पंकज', '▁पंक्ति', '▁पंख', '▁पंच', '▁पंचमी', '▁पंचशील', '▁पंचायत', '▁पंज', '▁पंजाब', '▁पंजाबी', '▁पंजीकरण', '▁पंजे', '▁पंडा', '▁पंडित', '▁पंत', '▁पंथ', '▁पंहुच', '▁पक', '▁पकड', '▁पकड़', '▁पकड़कर', '▁पकड़ना', '▁पकड़ने', '▁पकड़ा', '▁पकड़े', '▁पकने', '▁पकवान', '▁पका', '▁पकाने', '▁पकिस्तान', '▁पक्का', '▁पक्की', '▁पक्के', '▁पक्ष', '▁पक्षधर', '▁पक्षपात', '▁पक्षी', '▁पक्षों', '▁पग', '▁पच', '▁पचास', '▁पछ', '▁पछाड़', '▁पट', '▁पटक', '▁पटना', '▁पटल', '▁पटाख', '▁पटेल', '▁पट्ट', '▁पट्टी', '▁पठान', '▁पठानकोट', '▁पड', '▁पड़', '▁पड़ता', '▁पड़ती', '▁पड़ते', '▁पड़ने', '▁पड़ा', '▁पड़ाव', '▁पड़ी', '▁पड़े', '▁पड़ेगा', '▁पड़ेगी', '▁पड़ोस', '▁पड़ोसी', '▁पडा', '▁पडे', '▁पढ', '▁पढने', '▁पढ़', '▁पढ़ते', '▁पढ़ना', '▁पढ़ने', '▁पढ़ा', '▁पढ़ाई', '▁पढ़ाने', '▁पढ़ाया', '▁पढ़ी', '▁पढ़े', '▁पढा', '▁पढाई', '▁पण्डित', '▁पत', '▁पतंग', '▁पतन', '▁पता', '▁पति', '▁पते', '▁पत्तियों', '▁पत्थर', '▁पत्थरों', '▁पत्नियों', '▁पत्नी', '▁पत्र', '▁पत्रकार', '▁पत्रकारों', '▁पत्रिका', '▁पत्रों', '▁पथ', '▁पद', '▁पदक', '▁पदाधिकारी', '▁पदार्थ', '▁पदार्थों', '▁पदों', '▁पद्धति', '▁पद्म', '▁पद्मभूषण', '▁पद्मश्री', '▁पद्मावती', '▁पन', '▁पनप', '▁पनामा', '▁पन्द्रह', '▁पन्न', '▁पन्ना', '▁पन्ने', '▁पप्पू', '▁पब्लिक', '▁पर', '▁परंतु', '▁परंपरा', '▁परंपराओं', '▁परंपरागत', '▁परजीवी', '▁परन्तु', '▁परम', '▁परमहंस', '▁परमाणु', '▁परमेश्वर', '▁परम्परा', '▁परम्पराओं', '▁परवाह', '▁परस्पर', '▁परहेज', '▁पराक्रम', '▁पराग्वे', '▁पराजय', '▁पराजित', '▁परामर्श', '▁परि', '▁परिचय', '▁परिचालन', '▁परिचित', '▁परिजनों', '▁परिणति', '▁परिणाम', '▁परिणामस्वरूप', '▁परिधान', '▁परिपक्व', '▁परिपक्वता', '▁परिभाषा', '▁परिभाषित', '▁परियोजना', '▁परियोजनाओं', '▁परिवर्तन', '▁परिवर्तित', '▁परिवहन', '▁परिवार', '▁परिवारों', '▁परिवेश', '▁परिशिष्ट', '▁परिषद', '▁परिषद्', '▁परिसर', '▁परिसीमन', '▁परिस्थ', '▁परिस्थिति', '▁परिस्थितियों', '▁परीक्षण', '▁परीक्षा', '▁परीक्षाओं', '▁परे', '▁परेड', '▁परेशान', '▁परेशानी', '▁परोसा', '▁पर्दा', '▁पर्दाफाश', '▁पर्यटक', '▁पर्यटन', '▁पर्यन्त', '▁पर्याप्त', '▁पर्याय', '▁पर्यायवाची', '▁पर्यावरण', '▁पर्यावरणीय', '▁पर्व', '▁पर्वत', '▁पर्वतारोह', '▁पर्सनल', '▁पल', '▁पलट', '▁पलायन', '▁पले', '▁पवार', '▁पवित्र', '▁पवित्रता', '▁पशु', '▁पशुओं', '▁पशुपतिनाथ', '▁पश्चात', '▁पश्चिम', '▁पश्चिमी', '▁पसंद', '▁पसीना', '▁पह', '▁पहचान', '▁पहचाना', '▁पहचाने', '▁पहन', '▁पहनकर', '▁पहनती', '▁पहनते', '▁पहनने', '▁पहना', '▁पहनाया', '▁पहनी', '▁पहने', '▁पहर', '▁पहल', '▁पहला', '▁पहली', '▁पहलू', '▁पहले', '▁पहाड़', '▁पहाड़ी', '▁पहाड़ों', '▁पहुँच', '▁पहुँचा', '▁पहुँचाते', '▁पहुँचाया', '▁पहुँची', '▁पहुँचे', '▁पहुंच', '▁पहुंचती', '▁पहुंचते', '▁पहुंचना', '▁पहुंचने', '▁पहुंचा', '▁पहुंचाते', '▁पहुंचाने', '▁पहुंचाया', '▁पहुंची', '▁पहुंचे', '▁पहुच', '▁पहुचने', '▁पहुचा', '▁पहेली', '▁पा', '▁पाँच', '▁पाँव', '▁पांच', '▁पांचवां', '▁पांचवें', '▁पांडुलिपियां', '▁पांडे', '▁पांड्य', '▁पांव', '▁पाइप', '▁पाई', '▁पाउडर', '▁पाए', '▁पाएगा', '▁पाओ', '▁पाक', '▁पाकर', '▁पाकिस्तान', '▁पाकिस्तानी', '▁पागल', '▁पागलपन', '▁पाट', '▁पाटन', '▁पाटिल', '▁पाटी', '▁पाठ', '▁पाठक', '▁पाठकों', '▁पाठशाला', '▁पाठ्य', '▁पाठ्यक्रम', '▁पाण्डव', '▁पाण्डे', '▁पाण्डेय', '▁पाता', '▁पाती', '▁पाते', '▁पात्र', '▁पात्रों', '▁पाद', '▁पादन', '▁पादरियों', '▁पादरी', '▁पादुका', '▁पान', '▁पाना', '▁पानी', '▁पानीपत', '▁पाने', '▁पाप', '▁पापों', '▁पाबंदी', '▁पाम', '▁पाय', '▁पायदान', '▁पायलट', '▁पाया', '▁पायी', '▁पाये', '▁पायेंगे', '▁पार', '▁पारंपरिक', '▁पारदर्शी', '▁पारम्परिक', '▁पारस', '▁पारसी', '▁पारा', '▁पाराशर', '▁पारित', '▁पारी', '▁पारेषण', '▁पार्क', '▁पार्ट', '▁पार्टनर', '▁पार्टियां', '▁पार्टियों', '▁पार्टी', '▁पार्लियामेंट', '▁पार्वती', '▁पार्श्व', '▁पार्षद', '▁पाल', '▁पालक', '▁पालतू', '▁पालन', '▁पालने', '▁पाला', '▁पालि', '▁पाले', '▁पावन', '▁पावर', '▁पाशा', '▁पाशुपत', '▁पाश्चात्य', '▁पास', '▁पासपोर्ट', '▁पि', '▁पिंगल', '▁पिंड', '▁पिक्चर', '▁पिछ', '▁पिछड़', '▁पिछड़ा', '▁पिछड़े', '▁पिछल', '▁पिछले', '▁पिट', '▁पिण्ड', '▁पिता', '▁पिताजी', '▁पितृ', '▁पिन', '▁पिरामिड', '▁पिला', '▁पिशाच', '▁पिस्तौल', '▁पी', '▁पीएम', '▁पीछा', '▁पीछे', '▁पीट', '▁पीटीआई', '▁पीठ', '▁पीड़ा', '▁पीड़ित', '▁पीड़ितों', '▁पीडीए', '▁पीढ़', '▁पीढ़ियों', '▁पीढ़ी', '▁पीत', '▁पीते', '▁पीना', '▁पीने', '▁पीर', '▁पीला', '▁पीली', '▁पीले', '▁पीस', '▁पीसी', '▁पु', '▁पुंछ', '▁पुकारत', '▁पुकारा', '▁पुख्ता', '▁पुच्छ', '▁पुछ', '▁पुजारियों', '▁पुजारी', '▁पुणे', '▁पुण्य', '▁पुतिन', '▁पुत्र', '▁पुत्री', '▁पुत्रों', '▁पुन', '▁पुनः', '▁पुनर', '▁पुनरावृत्ति', '▁पुनरुद्धार', '▁पुनर्', '▁पुनर्जन्म', '▁पुनर्जागरण', '▁पुनर्निर्माण', '▁पुनर्स्थापना', '▁पुनर्स्थापित', '▁पुर', '▁पुरस्कार', '▁पुरस्कारों', '▁पुरा', '▁पुराण', '▁पुराणों', '▁पुरातत्व', '▁पुरातत्वविद', '▁पुरातन', '▁पुरातात्विक', '▁पुराना', '▁पुरानी', '▁पुराने', '▁पुरी', '▁पुरुष', '▁पुरुषार्थ', '▁पुरुषों', '▁पुरुस्कार', '▁पुरूषों', '▁पुरे', '▁पुरोहित', '▁पुर्तगाल', '▁पुर्तगालियों', '▁पुर्तगाली', '▁पुर्व', '▁पुल', '▁पुलिस', '▁पुलिसकर्मी', '▁पुलों', '▁पुश्त', '▁पुष्ट', '▁पुष्टि', '▁पुष्प', '▁पुस्', '▁पुस्तक', '▁पुस्तकों', '▁पू', '▁पूँछ', '▁पूंछ', '▁पूंजी', '▁पूंजीवाद', '▁पूछ', '▁पूछता', '▁पूछताछ', '▁पूछने', '▁पूछा', '▁पूछे', '▁पूज', '▁पूजन', '▁पूजनीय', '▁पूजा', '▁पूजित', '▁पूज्य', '▁पूना', '▁पूरब', '▁पूरा', '▁पूरी', '▁पूरे', '▁पूर्ण', '▁पूर्णत', '▁पूर्णतः', '▁पूर्णरूप', '▁पूर्णिमा', '▁पूर्णिया', '▁पूर्ति', '▁पूर्व', '▁पूर्वक', '▁पूर्वज', '▁पूर्वजों', '▁पूर्ववर्ती', '▁पूर्वानुमान', '▁पूर्वी', '▁पूर्वोत्तर', '▁पृथ', '▁पृथक', '▁पृथ्वी', '▁पृथ्वीराज', '▁पृष्ठ', '▁पृष्ठभूमि', '▁पे', '▁पेंच', '▁पेंट', '▁पेंटिंग', '▁पेंशन', '▁पेचीद', '▁पेज', '▁पेट', '▁पेट्रोल', '▁पेट्रोलियम', '▁पेड़', '▁पेपर', '▁पेय', '▁पेरियार', '▁पेरिस', '▁पेरू', '▁पेश', '▁पेशकश', '▁पेशवा', '▁पेशा', '▁पेशाब', '▁पेशावर', '▁पेशी', '▁पेशे', '▁पै', '▁पैंट', '▁पैंतीस', '▁पैक', '▁पैकेज', '▁पैगंबर', '▁पैगम्बर', '▁पैग़म्बर', '▁पैटर्न', '▁पैठ', '▁पैतृक', '▁पैदल', '▁पैदा', '▁पैदावार', '▁पैन', '▁पैमाने', '▁पैर', '▁पैरवी', '▁पैरा', '▁पैराशूट', '▁पैरों', '▁पैल', '▁पैशाच', '▁पैसा', '▁पैसे', '▁पैसों', '▁पॉ', '▁पॉकेट', '▁पॉलि', '▁पॉली', '▁पो', '▁पोंगल', '▁पोखरण', '▁पोत', '▁पोते', '▁पोप', '▁पोरस', '▁पोर्ट', '▁पोर्टल', '▁पोल', '▁पोलि', '▁पोली', '▁पोलैंड', '▁पोषक', '▁पोषण', '▁पोषित', '▁पोस्ट', '▁पोस्टर', '▁पौ', '▁पौधे', '▁पौधों', '▁पौराणिक', '▁प्', '▁प्याज', '▁प्यार', '▁प्यास', '▁प्यू', '▁प्र', '▁प्रकट', '▁प्रकरण', '▁प्रकार', '▁प्रकारों', '▁प्रकाश', '▁प्रकाशक', '▁प्रकाशन', '▁प्रकाशित', '▁प्रकृति', '▁प्रकोप', '▁प्रकोष्ठ', '▁प्रक्रिया', '▁प्रक्रियाओं', '▁प्रखर', '▁प्रख्यात', '▁प्रगति', '▁प्रगतिशील', '▁प्रगाढ़', '▁प्रचंड', '▁प्रचण्ड', '▁प्रचलन', '▁प्रचलित', '▁प्रचार', '▁प्रचारक', '▁प्रचारित', '▁प्रचुर', '▁प्रचुरता', '▁प्रजनन', '▁प्रजा', '▁प्रजाति', '▁प्रजातियों', '▁प्रज्ञा', '▁प्रण', '▁प्रणाम', '▁प्रणाली', '▁प्रताड़ित', '▁प्रताप', '▁प्रतापगढ़', '▁प्रति', '▁प्रतिकार', '▁प्रतिक्रिया', '▁प्रतिक्रियाएं', '▁प्रतिक्रियावादी', '▁प्रतिज्ञा', '▁प्रतिदिन', '▁प्रतिद्वंदी', '▁प्रतिनिध', '▁प्रतिनिधि', '▁प्रतिनिधित्व', '▁प्रतिनिधियों', '▁प्रतिपादक', '▁प्रतिपादन', '▁प्रतिपादित', '▁प्रतिबंध', '▁प्रतिबंधित', '▁प्रतिबंधों', '▁प्रतिबद्ध', '▁प्रतिबद्धता', '▁प्रतिबन्ध', '▁प्रतिभा', '▁प्रतिमा', '▁प्रतिमाएं', '▁प्रतिमाओं', '▁प्रतियां', '▁प्रतियोगी', '▁प्रतिरोध', '▁प्रतिशत', '▁प्रतिशोध', '▁प्रतिष्', '▁प्रतिष्ठा', '▁प्रतिष्ठानों', '▁प्रतिष्ठित', '▁प्रती', '▁प्रतीक', '▁प्रतीकात्मक', '▁प्रतीकों', '▁प्रतीक्षा', '▁प्रतीत', '▁प्रत्', '▁प्रत्य', '▁प्रत्यक्ष', '▁प्रत्या', '▁प्रत्याशा', '▁प्रत्याशी', '▁प्रत्युत्तर', '▁प्रत्येक', '▁प्रथम', '▁प्रथा', '▁प्रदर्शन', '▁प्रदर्शित', '▁प्रदान', '▁प्रदीप', '▁प्रदूष', '▁प्रदूषण', '▁प्रदेश', '▁प्रदेशों', '▁प्रधान', '▁प्रधानता', '▁प्रधानमंत्री', '▁प्रधानमन्त्री', '▁प्रफुल्ल', '▁प्रबंध', '▁प्रबंधन', '▁प्रबन्ध', '▁प्रबल', '▁प्रबुद्ध', '▁प्रभा', '▁प्रभाकर', '▁प्रभात', '▁प्रभार', '▁प्रभारी', '▁प्रभाव', '▁प्रभावित', '▁प्रभावी', '▁प्रभु', '▁प्रभुत्व', '▁प्रभुसत्ता', '▁प्रमाण', '▁प्रमाणपत्र', '▁प्रमाणिकता', '▁प्रमाणित', '▁प्रमाणों', '▁प्रमुख', '▁प्रमोद', '▁प्रयत्न', '▁प्रयत्नशील', '▁प्रयाग', '▁प्रयास', '▁प्रयासरत', '▁प्रयासों', '▁प्रयुक्त', '▁प्रयोग', '▁प्रयोगशाला', '▁प्रर्दश', '▁प्रलय', '▁प्रलोभन', '▁प्रव', '▁प्रवक्ता', '▁प्रवचन', '▁प्रवर्तक', '▁प्रवर्तन', '▁प्रवाह', '▁प्रवाहित', '▁प्रविष्ट', '▁प्रवीण', '▁प्रवृत्ति', '▁प्रवेश', '▁प्रशंसनीय', '▁प्रशंसा', '▁प्रशस्त', '▁प्रशा', '▁प्रशांत', '▁प्रशान्त', '▁प्रशासकीय', '▁प्रशासन', '▁प्रशासनिक', '▁प्रशिक्षण', '▁प्रशिक्षित', '▁प्रश्न', '▁प्रश्नों', '▁प्रसंग', '▁प्रसन्न', '▁प्रसन्नता', '▁प्रसव', '▁प्रसाद', '▁प्रसार', '▁प्रसारण', '▁प्रसारित', '▁प्रसिद्द', '▁प्रसिद्ध', '▁प्रसिद्धि', '▁प्रस्', '▁प्रस्ताव', '▁प्रस्तावित', '▁प्रस्तुत', '▁प्रस्तुति', '▁प्रस्थान', '▁प्रहलाद', '▁प्रहसन', '▁प्रहार', '▁प्रा', '▁प्रांगण', '▁प्रांत', '▁प्रांतों', '▁प्राइम', '▁प्राइवेट', '▁प्राइस', '▁प्राकृतिक', '▁प्राचीन', '▁प्राचीनकाल', '▁प्राचीनतम', '▁प्राचीर', '▁प्राण', '▁प्राणियों', '▁प्राणी', '▁प्रात', '▁प्राथमिक', '▁प्राथमिकता', '▁प्रादेश', '▁प्राधिकरण', '▁प्रान्त', '▁प्रान्तों', '▁प्राप्त', '▁प्राप्ति', '▁प्रामाणिक', '▁प्राय', '▁प्रायः', '▁प्रायद्वीप', '▁प्रायश्चित्त', '▁प्रायोजन', '▁प्रायोजित', '▁प्रारंभ', '▁प्रारंभिक', '▁प्रारम्भ', '▁प्रारूप', '▁प्रार्थना', '▁प्रावधान', '▁प्रासंगिक', '▁प्रि', '▁प्रिंट', '▁प्रिंटिंग', '▁प्रिंस', '▁प्रिय', '▁प्रियंका', '▁प्रिया', '▁प्री', '▁प्रीति', '▁प्रे', '▁प्रेक्षक', '▁प्रेतात्मा', '▁प्रेम', '▁प्रेमचंद', '▁प्रेमी', '▁प्रेरक', '▁प्रेरणा', '▁प्रेरित', '▁प्रेषित', '▁प्रेस', '▁प्रेसिडेंट', '▁प्रैक्टिस', '▁प्रॉब्लम', '▁प्रो', '▁प्रोग्राम', '▁प्रोग्रेस', '▁प्रोजेक्ट', '▁प्रोटोकॉल', '▁प्रोडक्ट', '▁प्रोडक्शन', '▁प्रोत्साहन', '▁प्रोप', '▁प्रोपेगंडा', '▁प्रोफाइल', '▁प्रोफेशनल', '▁प्रोफेसर', '▁प्रौढ़', '▁प्लांट', '▁प्लान', '▁प्लास्टिक', '▁प्लेट', '▁प्लेटफार्म', '▁प्लेटफॉर्म', '▁प्लेटिनम', '▁प्लेन', '▁प्लेस', '▁प्वाइंट', '▁फँस', '▁फंड', '▁फंस', '▁फंसा', '▁फंसे', '▁फकीर', '▁फट', '▁फटने', '▁फतह', '▁फतेह', '▁फतेहपुर', '▁फर', '▁फरमान', '▁फरवरी', '▁फरहान', '▁फरार', '▁फरीद', '▁फरीदाबाद', '▁फर्', '▁फर्क', '▁फर्न', '▁फर्म', '▁फल', '▁फलक', '▁फलस्वरूप', '▁फलों', '▁फसल', '▁फहरा', '▁फहराया', '▁फ़', '▁फ़क़ीर', '▁फ़ख़र', '▁फ़र', '▁फ़रवरी', '▁फ़रिश्त', '▁फ़र्क', '▁फ़ा', '▁फ़ाइल', '▁फ़ायद', '▁फ़ार', '▁फ़ासिस्ट', '▁फ़ि', '▁फ़िन', '▁फ़िर', '▁फ़िरोज़', '▁फ़िरोज़ाबाद', '▁फ़िल्टर', '▁फ़िल्म', '▁फ़िल्मी', '▁फ़िल्में', '▁फ़िल्मों', '▁फ़ीट', '▁फ़ीसद', '▁फ़ूड', '▁फ़ैल', '▁फ़ैला', '▁फ़ैसला', '▁फ़ॉर', '▁फ़ोटो', '▁फ़ोन', '▁फ़ोर्स', '▁फ़ौज', '▁फ़्रांस', '▁फा', '▁फाँसी', '▁फांसी', '▁फाइटर', '▁फाइनेंशिय', '▁फाइबर', '▁फाइल', '▁फाउंडेशन', '▁फाटक', '▁फाड़', '▁फातिमा', '▁फादर', '▁फायदा', '▁फायदे', '▁फायर', '▁फायरिंग', '▁फार', '▁फारसी', '▁फार्म', '▁फार्मूला', '▁फाल', '▁फाल्गुन', '▁फासिस्ट', '▁फासीवाद', '▁फि', '▁फिंगरप्रिंट', '▁फिट', '▁फिनलैंड', '▁फिनिश', '▁फिर', '▁फिरोज', '▁फिल', '▁फिलहाल', '▁फिलिस्तीन', '▁फिलीपींस', '▁फिल्', '▁फिल्म', '▁फिल्मफेयर', '▁फिल्में', '▁फिल्मो', '▁फिल्मों', '▁फिसल', '▁फी', '▁फीचर', '▁फीट', '▁फीड', '▁फील्ड', '▁फीस', '▁फीसदी', '▁फु', '▁फुट', '▁फुटबॉल', '▁फुटेज', '▁फुल', '▁फुले', '▁फू', '▁फूट', '▁फूल', '▁फूलपुर', '▁फूलों', '▁फे', '▁फेंक', '▁फेंकने', '▁फेंका', '▁फेडरल', '▁फेफड़े', '▁फेर', '▁फेल', '▁फेलो', '▁फेसबुक', '▁फै', '▁फैक्', '▁फैक्टर', '▁फैक्टरी', '▁फैक्ट्री', '▁फैन', '▁फैल', '▁फैलता', '▁फैलते', '▁फैलने', '▁फैला', '▁फैलाने', '▁फैलाया', '▁फैलाव', '▁फैली', '▁फैले', '▁फैशन', '▁फैसला', '▁फैसले', '▁फॉ', '▁फॉर', '▁फॉरवर्ड', '▁फॉर्म', '▁फॉस', '▁फो', '▁फोटो', '▁फोन', '▁फोरम', '▁फोरेंसिक', '▁फोर्स', '▁फौज', '▁फौर', '▁फ्र', '▁फ्रंट', '▁फ्रा', '▁फ्रांस', '▁फ्रांसिसी', '▁फ्री', '▁फ्रीडम', '▁फ्रे', '▁फ्रेंच', '▁फ्रेंचाइजी', '▁फ्रैंक', '▁फ्लाइट', '▁फ्लू', '▁फ्लैट', '▁फ्लोरिडा', '▁बँट', '▁बं', '▁बंग', '▁बंगला', '▁बंगलादेश', '▁बंगलुरू', '▁बंगलोर', '▁बंगलौर', '▁बंगाल', '▁बंगाली', '▁बंजर', '▁बंट', '▁बंटवार', '▁बंटा', '▁बंटे', '▁बंद', '▁बंदर', '▁बंदरगाह', '▁बंदी', '▁बंदूक', '▁बंध', '▁बंधक', '▁बंधन', '▁बंधा', '▁बंधुत्व', '▁बंधे', '▁बंबई', '▁बंस', '▁बक', '▁बकर', '▁बकरी', '▁बकरे', '▁बक्र', '▁बखान', '▁बखूबी', '▁बख्शी', '▁बग', '▁बगदाद', '▁बगल', '▁बग़दाद', '▁बगावत', '▁बगीचे', '▁बगैर', '▁बघ', '▁बच', '▁बचत', '▁बचना', '▁बचने', '▁बचपन', '▁बचा', '▁बचाते', '▁बचाना', '▁बचाने', '▁बचाया', '▁बचाव', '▁बची', '▁बचे', '▁बच्चन', '▁बच्चा', '▁बच्ची', '▁बच्चे', '▁बच्चो', '▁बच्चों', '▁बज', '▁बजट', '▁बजरंग', '▁बजा', '▁बजाए', '▁बजाज', '▁बजाना', '▁बजाने', '▁बजाय', '▁बजे', '▁बट', '▁बटन', '▁बटा', '▁बटालियन', '▁बटोर', '▁बड', '▁बड़', '▁बड़ा', '▁बड़ी', '▁बड़े', '▁बडा', '▁बडी', '▁बडे', '▁बढ', '▁बढती', '▁बढ़', '▁बढ़कर', '▁बढ़त', '▁बढ़ता', '▁बढ़ती', '▁बढ़ते', '▁बढ़ने', '▁बढ़ा', '▁बढ़ाई', '▁बढ़ाकर', '▁बढ़ाना', '▁बढ़ाने', '▁बढ़ाया', '▁बढ़ावा', '▁बढ़िया', '▁बढ़ी', '▁बढ़े', '▁बढ़ेगा', '▁बढ़ोत्तरी', '▁बढा', '▁बतला', '▁बतलात', '▁बतलाया', '▁बता', '▁बताई', '▁बताए', '▁बताकर', '▁बताता', '▁बताती', '▁बताते', '▁बताना', '▁बताने', '▁बताया', '▁बतायी', '▁बताये', '▁बतौर', '▁बत्ती', '▁बद', '▁बदतर', '▁बदनाम', '▁बदबू', '▁बदमाश', '▁बदल', '▁बदलकर', '▁बदलता', '▁बदलती', '▁बदलना', '▁बदलने', '▁बदला', '▁बदलाव', '▁बदलावों', '▁बदली', '▁बदले', '▁बदायूँ', '▁बध', '▁बधाई', '▁बन', '▁बनकर', '▁बनता', '▁बनती', '▁बनते', '▁बनना', '▁बनने', '▁बनर्जी', '▁बनवा', '▁बनवाई', '▁बनवाए', '▁बनवाने', '▁बनवाया', '▁बनवाये', '▁बना', '▁बनाई', '▁बनाए', '▁बनाकर', '▁बनाता', '▁बनाती', '▁बनाते', '▁बनाना', '▁बनाने', '▁बनाया', '▁बनायी', '▁बनायीं', '▁बनाये', '▁बनारस', '▁बनी', '▁बनीं', '▁बने', '▁बनेगा', '▁बन्द', '▁बन्दर', '▁बन्दी', '▁बन्दूक', '▁बन्ध', '▁बब्बर', '▁बम', '▁बमबारी', '▁बम्बई', '▁बया', '▁बयान', '▁बर', '▁बरकरा', '▁बरगद', '▁बरत', '▁बरतन', '▁बरस', '▁बरसा', '▁बरसात', '▁बराबर', '▁बराबरी', '▁बरामद', '▁बरी', '▁बरेली', '▁बरो', '▁बर्', '▁बर्खास्त', '▁बर्ग', '▁बर्तन', '▁बर्थ', '▁बर्दाश्त', '▁बर्फ', '▁बर्बर', '▁बर्बाद', '▁बर्मन', '▁बर्मा', '▁बर्मिंघम', '▁बल', '▁बलपूर्वक', '▁बलात्कार', '▁बलि', '▁बलिदान', '▁बलूच', '▁बलूचिस्तान', '▁बलों', '▁बलोचिस्तान', '▁बल्', '▁बल्कि', '▁बल्ब', '▁बशीर', '▁बस', '▁बसंत', '▁बसने', '▁बसपा', '▁बसव', '▁बसा', '▁बसाने', '▁बसाया', '▁बसी', '▁बसे', '▁बसों', '▁बस्तियां', '▁बस्तियों', '▁बस्ती', '▁बह', '▁बहती', '▁बहन', '▁बहने', '▁बहनें', '▁बहनों', '▁बहरहाल', '▁बहराइच', '▁बहस', '▁बहा', '▁बहाई', '▁बहादुर', '▁बहादुरी', '▁बहाना', '▁बहाने', '▁बहार', '▁बहाल', '▁बहाव', '▁बहिन', '▁बहिष्कार', '▁बहु', '▁बहुउद्देश', '▁बहुचर्चि', '▁बहुजन', '▁बहुत', '▁बहुतायत', '▁बहुधा', '▁बहुभाषी', '▁बहुमत', '▁बहुमूल्य', '▁बहुल', '▁बहुलता', '▁बहुसंख्य', '▁बहुसंख्यक', '▁बहू', '▁बा', '▁बाँट', '▁बाँटा', '▁बाँध', '▁बाँह', '▁बां', '▁बांगलादेश', '▁बांग्ला', '▁बांग्लादेश', '▁बांट', '▁बांटने', '▁बांटा', '▁बांद्रा', '▁बांध', '▁बाइ', '▁बाइबल', '▁बाइबिल', '▁बाई', '▁बाईं', '▁बाएं', '▁बाक़ी', '▁बाकि', '▁बाकी', '▁बाग', '▁बागडोर', '▁बागपत', '▁बाग़', '▁बाघ', '▁बाज', '▁बाजपेयी', '▁बाज़ार', '▁बाज़ारों', '▁बाजार', '▁बाजारों', '▁बाजीराव', '▁बाट', '▁बाड़मेर', '▁बाढ़', '▁बाण', '▁बात', '▁बातचीत', '▁बातें', '▁बातों', '▁बाथ', '▁बाद', '▁बादल', '▁बादशाह', '▁बादाम', '▁बाधक', '▁बाधा', '▁बाधाओं', '▁बाधित', '▁बाध्य', '▁बाध्यता', '▁बान', '▁बाना', '▁बाप', '▁बापू', '▁बाबर', '▁बाबा', '▁बाबुल', '▁बाबू', '▁बाम', '▁बाय', '▁बायो', '▁बार', '▁बारह', '▁बारहवीं', '▁बारा', '▁बारात', '▁बाराबंकी', '▁बारिश', '▁बारी', '▁बारीकी', '▁बारूद', '▁बारे', '▁बाल', '▁बालक', '▁बालकों', '▁बाला', '▁बालाजी', '▁बालिका', '▁बाली', '▁बावजूद', '▁बास', '▁बास्केटबॉल', '▁बाह', '▁बाहर', '▁बाहरी', '▁बाहुल्य', '▁बाह्य', '▁बि', '▁बिंद', '▁बिंदु', '▁बिक', '▁बिकने', '▁बिक्री', '▁बिखर', '▁बिखरी', '▁बिखरे', '▁बिखेर', '▁बिग', '▁बिगड़', '▁बिगाड़', '▁बिगुल', '▁बिच', '▁बिचौलि', '▁बिछ', '▁बिछा', '▁बिछाने', '▁बिजनेस', '▁बिजनौर', '▁बिजली', '▁बिट', '▁बिठा', '▁बिड़ला', '▁बिता', '▁बिताने', '▁बिन', '▁बिना', '▁बिन्दु', '▁बिमार', '▁बिर', '▁बिरयानी', '▁बिरला', '▁बिल', '▁बिलकुल', '▁बिलियन', '▁बिल्डिंग', '▁बिल्ला', '▁बिल्ली', '▁बिशप', '▁बिस्तर', '▁बिस्मिल', '▁बिस्मिल्ला', '▁बिहार', '▁बिहारी', '▁बी', '▁बीच', '▁बीज', '▁बीजापुर', '▁बीजिंग', '▁बीजेपी', '▁बीटा', '▁बीड', '▁बीत', '▁बीबी', '▁बीबीसी', '▁बीभत्स', '▁बीमा', '▁बीमार', '▁बीमारी', '▁बीर', '▁बीरबल', '▁बीवी', '▁बीस', '▁बीसीसीआ', '▁बु', '▁बुंदेलखंड', '▁बुक', '▁बुखार', '▁बुजुर्ग', '▁बुझा', '▁बुढ़', '▁बुतपरस्त', '▁बुद्ध', '▁बुद्धि', '▁बुद्धिजीवियों', '▁बुद्धिजीवी', '▁बुद्धिमत्ता', '▁बुद्धिमान', '▁बुध', '▁बुधवार', '▁बुनियाद', '▁बुनियादी', '▁बुर', '▁बुरा', '▁बुराई', '▁बुरी', '▁बुरे', '▁बुर्क', '▁बुर्ज', '▁बुर्जुआ', '▁बुल', '▁बुलंद', '▁बुलंदशहर', '▁बुलन्द', '▁बुला', '▁बुलाई', '▁बुलाने', '▁बुलाया', '▁बुलेट', '▁बुल्गारिया', '▁बुश', '▁बू', '▁बूँद', '▁बूंदी', '▁बूढ', '▁बूढ़े', '▁बृहस्पति', '▁बॅ', '▁बे', '▁बेंग', '▁बेंगलुरु', '▁बेंच', '▁बेंजामिन', '▁बेक', '▁बेकर', '▁बेकार', '▁बेग', '▁बेगम', '▁बेघर', '▁बेच', '▁बेचने', '▁बेचा', '▁बेचैन', '▁बेट', '▁बेटा', '▁बेटियाँ', '▁बेटियां', '▁बेटियों', '▁बेटी', '▁बेटे', '▁बेटों', '▁बेड़ा', '▁बेड़े', '▁बेदखल', '▁बेदी', '▁बेन', '▁बेबीलोन', '▁बेर', '▁बेरोजगार', '▁बेरोजगारी', '▁बेरोज़गार', '▁बेल', '▁बेला', '▁बेल्जियम', '▁बेल्ट', '▁बेस', '▁बेस्ट', '▁बेह', '▁बेहतर', '▁बेहतरीन', '▁बेहोश', '▁बै', '▁बैंक', '▁बैंकों', '▁बैंग', '▁बैंगलोर', '▁बैंड', '▁बैक', '▁बैग', '▁बैच', '▁बैट', '▁बैटरी', '▁बैठ', '▁बैठक', '▁बैठकर', '▁बैठता', '▁बैठती', '▁बैठते', '▁बैठने', '▁बैठा', '▁बैठी', '▁बैठे', '▁बैड', '▁बैतूल', '▁बैनर', '▁बैनर्जी', '▁बैर', '▁बैरम', '▁बैरल', '▁बैरागी', '▁बैरिस्टर', '▁बैल', '▁बैलिस्टिक', '▁बैले', '▁बैलेंस', '▁बैसाख', '▁बॉ', '▁बॉक्स', '▁बॉण्ड', '▁बॉम्बे', '▁बॉय', '▁बॉर्डर', '▁बॉल', '▁बॉलीवुड', '▁बो', '▁बोइंग', '▁बोकारो', '▁बोझ', '▁बोडो', '▁बोतल', '▁बोध', '▁बोधगया', '▁बोया', '▁बोर', '▁बोर्ड', '▁बोल', '▁बोलचाल', '▁बोलता', '▁बोलती', '▁बोलते', '▁बोलना', '▁बोलने', '▁बोलबाल', '▁बोला', '▁बोलियाँ', '▁बोली', '▁बोलीविया', '▁बोले', '▁बोस', '▁बोस्नियाई', '▁बौ', '▁बौछार', '▁बौद्ध', '▁बौद्धिक', '▁बौद्धों', '▁बौध', '▁बौना', '▁बौने', '▁ब्', '▁ब्या', '▁ब्याह', '▁ब्यूरो', '▁ब्योर', '▁ब्यौर', '▁ब्र', '▁ब्रज', '▁ब्रम्ह', '▁ब्रहम', '▁ब्रह्म', '▁ब्रह्मचर्य', '▁ब्रह्मपुत्र', '▁ब्रह्मसमाज', '▁ब्रह्मा', '▁ब्रह्मांड', '▁ब्रह्माण्ड', '▁ब्रा', '▁ब्रांड', '▁ब्राज़ील', '▁ब्राम्हण', '▁ब्राहमण', '▁ब्राह्मण', '▁ब्राह्मणों', '▁ब्रिगेड', '▁ब्रिगेडियर', '▁ब्रिटिश', '▁ब्रिटेन', '▁ब्रे', '▁ब्रेक', '▁ब्रेकिंग', '▁ब्रेन', '▁ब्रै', '▁ब्ल', '▁ब्लड', '▁ब्लास्ट', '▁ब्लू', '▁ब्लैक', '▁ब्लॉक', '▁ब्लॉग', '▁भंग', '▁भंडार', '▁भक्त', '▁भक्ति', '▁भक्तों', '▁भगत', '▁भगदड़', '▁भगवती', '▁भगवद्', '▁भगवद्गीता', '▁भगवन', '▁भगवा', '▁भगवान', '▁भगवान्', '▁भगा', '▁भग्नावशेष', '▁भजन', '▁भट', '▁भटक', '▁भट्ट', '▁भड़क', '▁भड़का', '▁भतीजा', '▁भतीजी', '▁भतीजे', '▁भत्ता', '▁भत्ते', '▁भद', '▁भद्र', '▁भन', '▁भय', '▁भयंकर', '▁भयानक', '▁भयावह', '▁भर', '▁भरकर', '▁भरत', '▁भरतपुर', '▁भरती', '▁भरते', '▁भरने', '▁भरपाई', '▁भरपूर', '▁भरमार', '▁भरा', '▁भरी', '▁भरे', '▁भरोसा', '▁भरोसे', '▁भरोसेमंद', '▁भर्ती', '▁भर्त्सना', '▁भला', '▁भलाई', '▁भली', '▁भले', '▁भव', '▁भवन', '▁भवानी', '▁भविष्य', '▁भविष्यवक्ता', '▁भविष्यवाणी', '▁भव्य', '▁भव्यता', '▁भस्म', '▁भा', '▁भाँति', '▁भांग', '▁भांडा', '▁भांति', '▁भांप', '▁भाइयों', '▁भाई', '▁भाग', '▁भागने', '▁भागलपुर', '▁भागवत', '▁भागीदार', '▁भागीदारी', '▁भागों', '▁भाग्य', '▁भाजपा', '▁भान', '▁भाभी', '▁भार', '▁भारत', '▁भारतवर्ष', '▁भारती', '▁भारतीय', '▁भारतीयों', '▁भारी', '▁भाल', '▁भाव', '▁भावना', '▁भावनाएं', '▁भावनाओं', '▁भावनात्मक', '▁भावार्थ', '▁भावी', '▁भावुक', '▁भाषण', '▁भाषणों', '▁भाषा', '▁भाषाई', '▁भाषाओँ', '▁भाषाओं', '▁भाषायी', '▁भाषी', '▁भाष्य', '▁भास', '▁भि', '▁भिक्षा', '▁भिखारी', '▁भिगो', '▁भिजवा', '▁भिड़', '▁भिन्न', '▁भिलाई', '▁भी', '▁भीड़', '▁भीतर', '▁भीम', '▁भीमराव', '▁भीषण', '▁भीष्म', '▁भु', '▁भुखमरी', '▁भुगतन', '▁भुगतान', '▁भुट्टो', '▁भुना', '▁भुला', '▁भू', '▁भूकंप', '▁भूख', '▁भूखंड', '▁भूगोल', '▁भूटान', '▁भूत', '▁भूभाग', '▁भूमि', '▁भूमिका', '▁भूल', '▁भूषण', '▁भे', '▁भेंट', '▁भेज', '▁भेजकर', '▁भेजते', '▁भेजना', '▁भेजने', '▁भेजा', '▁भेजी', '▁भेजे', '▁भेड़', '▁भेद', '▁भेदभाव', '▁भो', '▁भोंसले', '▁भोग', '▁भोजन', '▁भोपाल', '▁भोले', '▁भौगोलिक', '▁भौतिक', '▁भौतिकी', '▁भ्रम', '▁भ्रमण', '▁भ्रमित', '▁भ्रष्ट', '▁भ्रष्टाचार', '▁भ्रामक', '▁भ्रूण', '▁मं', '▁मंगल', '▁मंगलवार', '▁मंगवा', '▁मंगा', '▁मंगोल', '▁मंगोलिया', '▁मंच', '▁मंज़ूर', '▁मंजिल', '▁मंजूर', '▁मंजूरी', '▁मंड', '▁मंडरा', '▁मंडल', '▁मंडी', '▁मंत्र', '▁मंत्रालय', '▁मंत्रिमंडल', '▁मंत्रियों', '▁मंत्री', '▁मंत्रों', '▁मंथन', '▁मंद', '▁मंदसौर', '▁मंदिर', '▁मंदिरों', '▁मंशा', '▁मंसूर', '▁मई', '▁मऊ', '▁मक', '▁मकबरा', '▁मकर', '▁मकरान', '▁मकान', '▁मकानों', '▁मक्का', '▁मख', '▁मग', '▁मगर', '▁मगरिब', '▁मच', '▁मचा', '▁मचान', '▁मच्छर', '▁मछली', '▁मछुआरों', '▁मज', '▁मजदूर', '▁मजदूरी', '▁मजदूरों', '▁मजबूत', '▁मजबूती', '▁मजबूर', '▁मजलिस', '▁मजहब', '▁मज़दूर', '▁मज़बूत', '▁मज़ाक', '▁मज़ार', '▁मजा', '▁मजाक', '▁मजार', '▁मजिस्ट्रेट', '▁मजूमदार', '▁मटन', '▁मटर', '▁मठाधीश', '▁मढ़', '▁मणि', '▁मणिपुर', '▁मण्डल', '▁मत', '▁मतदाता', '▁मतदान', '▁मतभेद', '▁मतभेदों', '▁मतलब', '▁मताधिकार', '▁मतावलंब', '▁मतों', '▁मथुरा', '▁मद', '▁मदद', '▁मददगार', '▁मदन', '▁मदर', '▁मदरसा', '▁मदरसों', '▁मदिरा', '▁मदीना', '▁मदुरै', '▁मद्देनजर', '▁मद्देनज़र', '▁मद्रास', '▁मध', '▁मधु', '▁मधुबनी', '▁मधुमक्खी', '▁मधुमेह', '▁मधुर', '▁मध्', '▁मध्य', '▁मध्यकाल', '▁मध्यकालीन', '▁मध्यप्रदेश', '▁मध्यम', '▁मन', '▁मना', '▁मनाई', '▁मनाए', '▁मनाते', '▁मनाने', '▁मनाया', '▁मनाही', '▁मनी', '▁मनीष', '▁मनु', '▁मनुष्य', '▁मनुष्यों', '▁मनुस्मृति', '▁मनो', '▁मनोकामना', '▁मनोचिकित्सक', '▁मनोज', '▁मनोबल', '▁मनोरंजक', '▁मनोरंजन', '▁मनोविज्ञान', '▁मनोवृत्ति', '▁मनोवैज्ञानिक', '▁मनोहर', '▁मन्त्र', '▁मन्त्रि', '▁मन्त्री', '▁मन्द', '▁मन्दिर', '▁मन्दिरों', '▁ममता', '▁मय', '▁मयूर', '▁मर', '▁मरण', '▁मरणोपरांत', '▁मरते', '▁मरने', '▁मरा', '▁मराठा', '▁मराठी', '▁मराठे', '▁मराठों', '▁मरियम', '▁मरीज', '▁मरीज़', '▁मरे', '▁मर्', '▁मर्ज़', '▁मर्द', '▁मर्म', '▁मर्यादा', '▁मर्सिडीज', '▁मल', '▁मलबे', '▁मलय', '▁मलयाली', '▁मलिक', '▁मलेरिया', '▁मलेशिया', '▁मल्टी', '▁मल्ल', '▁मल्ला', '▁मश', '▁मशहूर', '▁मशाल', '▁मशीन', '▁मशीनें', '▁मस', '▁मसल', '▁मसलन', '▁मसीह', '▁मसूद', '▁मसौदा', '▁मस्ज़िद', '▁मस्जिद', '▁मस्जिदें', '▁मस्जिदों', '▁मस्त', '▁मस्तिष्क', '▁मस्ती', '▁मह', '▁महंग', '▁महंगा', '▁महंगे', '▁महक', '▁महज', '▁महत', '▁महत्', '▁महत्ता', '▁महत्त्व', '▁महत्त्वपूर्ण', '▁महत्व', '▁महत्वपूर्ण', '▁महत्वाकांक्षी', '▁महबूब', '▁महमूद', '▁महरौली', '▁महर्षि', '▁महल', '▁महलों', '▁महसूस', '▁महा', '▁महाकाल', '▁महाजन', '▁महात्मा', '▁महादेव', '▁महाद्वीप', '▁महान', '▁महानगर', '▁महानता', '▁महानिदेशक', '▁महान्', '▁महापुरुष', '▁महापौर', '▁महाप्रभु', '▁महाभारत', '▁महामंत्र', '▁महामाया', '▁महायुद्ध', '▁महार', '▁महारत', '▁महारथ', '▁महाराज', '▁महाराजा', '▁महाराणा', '▁महारानी', '▁महाराष्ट्र', '▁महाविद्यालय', '▁महावीर', '▁महाशक्ति', '▁महाशक्तिय', '▁महासंघ', '▁महासचिव', '▁महासभा', '▁महासागर', '▁महि', '▁महिंद्रा', '▁महिमा', '▁महिला', '▁महिलाएँ', '▁महिलाएं', '▁महिलाओं', '▁महिलायें', '▁महिषासुर', '▁महीन', '▁महीना', '▁महीने', '▁महीनों', '▁महुआ', '▁महेन्द्र', '▁महेश', '▁महोत्सव', '▁मा', '▁माँ', '▁माँग', '▁माँगी', '▁माँस', '▁मां', '▁मांग', '▁मांगी', '▁मांस', '▁मांसाहारी', '▁माइ', '▁माइंड', '▁माइक', '▁माई', '▁माउ', '▁माउंट', '▁माउंटबेटन', '▁माओवाद', '▁माग', '▁माघ', '▁माडल', '▁मात', '▁मातरम्', '▁माता', '▁माताओं', '▁मातृ', '▁मातृभूमि', '▁मात्र', '▁मात्रा', '▁माथे', '▁मादक', '▁माधव', '▁माधो', '▁माध्', '▁माध्यम', '▁माध्यमों', '▁मान', '▁मानक', '▁मानकर', '▁मानता', '▁मानती', '▁मानते', '▁मानदंड', '▁मानना', '▁माननीय', '▁मानने', '▁मानव', '▁मानवता', '▁मानवतावाद', '▁मानवतावादी', '▁मानवाधिकार', '▁मानवीय', '▁मानवों', '▁मानस', '▁मानसरोवर', '▁मानसिंह', '▁मानसिक', '▁मानसिकता', '▁माना', '▁मानिकपुर', '▁मानी', '▁माने', '▁मानो', '▁मानों', '▁मान्य', '▁मान्यता', '▁मान्यताओं', '▁माप', '▁मापी', '▁माफ', '▁माफिया', '▁माफी', '▁मामला', '▁मामले', '▁मामलो', '▁मामलों', '▁मामा', '▁मामूली', '▁माय', '▁मायन', '▁माया', '▁मार', '▁मारक', '▁मारकर', '▁मारता', '▁मारते', '▁मारना', '▁मारने', '▁मारवाड़ी', '▁मारा', '▁मारी', '▁मारीच', '▁मारे', '▁मार्', '▁मार्क', '▁मार्केट', '▁मार्क्स', '▁मार्क्सवाद', '▁मार्क्सवादी', '▁मार्ग', '▁मार्गदर्शन', '▁मार्गों', '▁मार्च', '▁मार्श', '▁मार्शल', '▁माल', '▁मालदीव', '▁मालवा', '▁मालवीय', '▁माला', '▁मालाबार', '▁मालिक', '▁मालिकों', '▁मालिश', '▁माली', '▁मालूम', '▁माव', '▁मास', '▁मासिक', '▁मासूम', '▁मास्', '▁मास्टर', '▁माह', '▁माहिर', '▁माहौल', '▁मि', '▁मिग', '▁मिज़ोरम', '▁मिजोरम', '▁मिट', '▁मिटा', '▁मिटाने', '▁मिट्टी', '▁मिठाइय', '▁मिठाइयां', '▁मिठाई', '▁मिड', '▁मिडिया', '▁मिडिल', '▁मित्र', '▁मित्रता', '▁मित्रों', '▁मिथक', '▁मिथ्या', '▁मिन', '▁मिनट', '▁मिनिट', '▁मिनी', '▁मिन्', '▁मिया', '▁मियां', '▁मिरर', '▁मिर्च', '▁मिर्ज़ा', '▁मिर्जा', '▁मिल', '▁मिलकर', '▁मिलता', '▁मिलती', '▁मिलते', '▁मिलना', '▁मिलने', '▁मिला', '▁मिलाकर', '▁मिलाने', '▁मिलाया', '▁मिलावट', '▁मिलि', '▁मिलिटरी', '▁मिलिट्री', '▁मिलियन', '▁मिली', '▁मिलीं', '▁मिले', '▁मिलें', '▁मिलेंगे', '▁मिलेगा', '▁मिलेगी', '▁मिशन', '▁मिशनरियों', '▁मिशनरी', '▁मिश्र', '▁मिश्रा', '▁मिश्रित', '▁मिस', '▁मिसाइल', '▁मिसाल', '▁मिस्र', '▁मी', '▁मीट', '▁मीटर', '▁मीटिंग', '▁मीठा', '▁मीठी', '▁मीठे', '▁मीडिया', '▁मीथेन', '▁मीना', '▁मीनार', '▁मीर', '▁मीरपुर', '▁मीरा', '▁मील', '▁मु', '▁मुँह', '▁मुंड', '▁मुंडा', '▁मुंबई', '▁मुंशी', '▁मुंह', '▁मुआवजा', '▁मुआवजे', '▁मुक', '▁मुकदम', '▁मुकदमा', '▁मुकदमे', '▁मुकद्दम', '▁मुक़दमे', '▁मुक़ाबल', '▁मुकाबला', '▁मुकाबले', '▁मुकाम', '▁मुकुट', '▁मुकेश', '▁मुक्', '▁मुक्त', '▁मुक्ति', '▁मुख', '▁मुखबिर', '▁मुखर', '▁मुखर्जी', '▁मुखिया', '▁मुखौटा', '▁मुख्', '▁मुख्य', '▁मुख्यतः', '▁मुख्यमंत्री', '▁मुख्यालय', '▁मुगल', '▁मुगलों', '▁मुग़ल', '▁मुज', '▁मुजफ्फर', '▁मुजफ्फरनगर', '▁मुज़फ्फर', '▁मुजाहिद', '▁मुजाहिदीन', '▁मुजीब', '▁मुझ', '▁मुझे', '▁मुट्ठी', '▁मुठभेड़', '▁मुताबिक', '▁मुताबिक़', '▁मुद्दा', '▁मुद्दे', '▁मुद्दों', '▁मुद्रा', '▁मुद्रास्फीति', '▁मुद्रित', '▁मुन', '▁मुनि', '▁मुनियों', '▁मुन्', '▁मुफ़्त', '▁मुफ्त', '▁मुबारक', '▁मुम्बई', '▁मुर', '▁मुरली', '▁मुराद', '▁मुरादाबाद', '▁मुर्', '▁मुर्ग', '▁मुर्गी', '▁मुर्ति', '▁मुर्द', '▁मुर्शिदाबाद', '▁मुल', '▁मुलाकात', '▁मुलायम', '▁मुल्', '▁मुल्क', '▁मुशर्रफ', '▁मुश्किल', '▁मुस', '▁मुसलमान', '▁मुसलमानों', '▁मुसलिम', '▁मुसल्मान', '▁मुसाफिर', '▁मुसीबत', '▁मुस्कान', '▁मुस्कुरा', '▁मुस्त', '▁मुस्तफा', '▁मुस्लमान', '▁मुस्लिम', '▁मुह', '▁मुहम्मद', '▁मुहर', '▁मुहर्रम', '▁मुहल्ले', '▁मुहावरे', '▁मुहिम', '▁मुहैया', '▁मू', '▁मूक', '▁मूड', '▁मून', '▁मूर्ख', '▁मूर्ति', '▁मूर्तियाँ', '▁मूर्तियां', '▁मूर्तियों', '▁मूल', '▁मूलतः', '▁मूल्य', '▁मूल्यवान', '▁मूल्यांकन', '▁मूल्यों', '▁मूवमेंट', '▁मूवी', '▁मूसा', '▁मृत', '▁मृतकों', '▁मृत्यु', '▁मृत्युदंड', '▁मॅ', '▁मे', '▁में', '▁मेंढक', '▁मेक', '▁मेगा', '▁मेगावाट', '▁मेघ', '▁मेघालय', '▁मेजबानी', '▁मेजर', '▁मेटल', '▁मेट्रो', '▁मेडल', '▁मेडिकल', '▁मेडिसिन', '▁मेन', '▁मेनन', '▁मेयर', '▁मेरठ', '▁मेरा', '▁मेरिट', '▁मेरी', '▁मेरे', '▁मेल', '▁मेला', '▁मेले', '▁मेवात', '▁मेस', '▁मेसोपोटामिया', '▁मेह', '▁मेहता', '▁मेहनत', '▁मेहमान', '▁मेहमानों', '▁मेहर', '▁मै', '▁मैं', '▁मैंने', '▁मैक', '▁मैकेनिक', '▁मैक्स', '▁मैक्सिको', '▁मैगज़ीन', '▁मैगजीन', '▁मैच', '▁मैत्री', '▁मैथुन', '▁मैथ्यू', '▁मैदान', '▁मैन', '▁मैनहट्टन', '▁मैने', '▁मैनेजमेंट', '▁मैनेजर', '▁मैरि', '▁मैल', '▁मैला', '▁मैस', '▁मैसूर', '▁मॉ', '▁मॉडर्न', '▁मॉड्यूल', '▁मॉनीटर', '▁मॉर', '▁मॉल', '▁मॉस्को', '▁मो', '▁मोक्ष', '▁मोटर', '▁मोटी', '▁मोटे', '▁मोड', '▁मोड़', '▁मोती', '▁मोदी', '▁मोनिका', '▁मोपला', '▁मोबाइल', '▁मोम', '▁मोमबत्ती', '▁मोर', '▁मोरक्को', '▁मोरार', '▁मोर्चा', '▁मोर्चे', '▁मोल', '▁मोस्क', '▁मोह', '▁मोहन', '▁मोहनजोदड़ो', '▁मोहम्मद', '▁मोहर', '▁मोहल्ले', '▁मोहिनी', '▁मौ', '▁मौक', '▁मौक़ा', '▁मौका', '▁मौके', '▁मौखिक', '▁मौज', '▁मौजुद', '▁मौजूद', '▁मौजूदगी', '▁मौजूदा', '▁मौत', '▁मौतों', '▁मौन', '▁मौर', '▁मौर्य', '▁मौलवी', '▁मौलान', '▁मौलिक', '▁मौलिकता', '▁मौसम', '▁म्', '▁म्यांमार', '▁म्यु', '▁म्यूज़िक', '▁म्यूजियम', '▁यंत्र', '▁यंहा', '▁यक', '▁यक़ीन', '▁यकीन', '▁यक्ति', '▁यक्ष', '▁यक्ष्मा', '▁यजुर्वेद', '▁यज्ञ', '▁यत्र', '▁यथा', '▁यथार्थ', '▁यथो', '▁यदा', '▁यदि', '▁यदु', '▁यद्यपि', '▁यम', '▁यमन', '▁यमराज', '▁यमुना', '▁ययाति', '▁यरुशलम', '▁यवन', '▁यश', '▁यह', '▁यहाँ', '▁यहां', '▁यही', '▁यहीं', '▁यहूदियों', '▁यहूदी', '▁या', '▁याकूब', '▁याचिका', '▁यातना', '▁यातायात', '▁यात्रा', '▁यात्रियों', '▁यात्री', '▁याद', '▁यादगार', '▁यादव', '▁यान', '▁यानि', '▁यानी', '▁यीशु', '▁यु', '▁युक्त', '▁युक्ति', '▁युक्तियों', '▁युग', '▁युगल', '▁युगांडा', '▁युगों', '▁युद्ध', '▁युद्धविराम', '▁युद्धों', '▁युधिष्ठिर', '▁युनाइटेड', '▁युनिवर्सिटी', '▁युरोप', '▁युरोपीय', '▁युवक', '▁युवकों', '▁युवती', '▁युवराज', '▁युवा', '▁युवाओं', '▁यू', '▁यूएन', '▁यूएस', '▁यूके', '▁यूक्रेन', '▁यूट्यूब', '▁यूथ', '▁यूनाइटेड', '▁यूनानियों', '▁यूनानी', '▁यूनिट', '▁यूनियन', '▁यूनिवर्स', '▁यूनिवर्सिटी', '▁यूनिसेफ', '▁यूनेस्को', '▁यूपीए', '▁यूरेनियम', '▁यूरेशिया', '▁यूरोप', '▁यूरोपियन', '▁यूरोपीय', '▁यूसुफ', '▁ये', '▁यो', '▁यों', '▁योग', '▁योगदान', '▁योगी', '▁योगेश', '▁योग्य', '▁योग्यता', '▁योजना', '▁योजनाओं', '▁योजनाबद्ध', '▁योद्धा', '▁योद्धाओं', '▁योर', '▁यौन', '▁रंग', '▁रंगमंच', '▁रंगीन', '▁रईस', '▁रकम', '▁रक्', '▁रक्त', '▁रक्षक', '▁रक्षा', '▁रख', '▁रखकर', '▁रखता', '▁रखती', '▁रखते', '▁रखना', '▁रखनी', '▁रखने', '▁रखा', '▁रखी', '▁रखे', '▁रखें', '▁रखेंगे', '▁रखेगा', '▁रगड़', '▁रघु', '▁रच', '▁रचना', '▁रचने', '▁रचयिता', '▁रचा', '▁रची', '▁रचे', '▁रज', '▁रजनी', '▁रज़ा', '▁रजा', '▁रजिया', '▁रजिस्टर', '▁रजिस्ट्र', '▁रण', '▁रणथम्भ', '▁रणनीति', '▁रणनीतिक', '▁रणनीतियों', '▁रणबीर', '▁रतन', '▁रत्न', '▁रत्नागिरी', '▁रत्नों', '▁रथ', '▁रद्द', '▁रन', '▁रनवे', '▁रफ़', '▁रफ़्तार', '▁रफी', '▁रफ्तार', '▁रब', '▁रम', '▁रमज़ान', '▁रमण', '▁रमेश', '▁रव', '▁रवाना', '▁रवि', '▁रविदास', '▁रविवार', '▁रश', '▁रशीद', '▁रस', '▁रसद', '▁रसूल', '▁रस्म', '▁रस्सी', '▁रह', '▁रहकर', '▁रहता', '▁रहती', '▁रहते', '▁रहना', '▁रहने', '▁रहनेवाले', '▁रहमत', '▁रहमान', '▁रहस्य', '▁रहस्यमय', '▁रहस्यमयी', '▁रहस्यों', '▁रहा', '▁रहित', '▁रही', '▁रहीं', '▁रहीम', '▁रहे', '▁रहें', '▁रहेंगे', '▁रहेगा', '▁रहेगी', '▁रा', '▁राइट', '▁राइट्स', '▁राइफल', '▁राइफल्स', '▁राई', '▁राकेश', '▁राक्षस', '▁राक्षसों', '▁राख', '▁राखी', '▁राग', '▁राघव', '▁राज', '▁राजकीय', '▁राजकुमार', '▁राजकुमारी', '▁राजकुमारों', '▁राजगुरु', '▁राजघरान', '▁राजतंत्र', '▁राजदूत', '▁राजधानी', '▁राजनयिक', '▁राजनितिक', '▁राजनीति', '▁राजनीतिक', '▁राजनीती', '▁राजनेता', '▁राजनेताओं', '▁राजनैतिक', '▁राजपूत', '▁राजपूताना', '▁राजपूतों', '▁राजभाषा', '▁राजमहल', '▁राजमार्ग', '▁राजवंश', '▁राजशेखर', '▁राजसत्ता', '▁राजसी', '▁राजस्थान', '▁राजस्व', '▁राज़ी', '▁राजा', '▁राजाओं', '▁राजी', '▁राजीव', '▁राजे', '▁राजेंद्र', '▁राजेन्द्र', '▁राजेश', '▁राज्', '▁राज्य', '▁राज्यपाल', '▁राज्यसभा', '▁राज्याभिषेक', '▁राज्यों', '▁राठौर', '▁राडार', '▁राणा', '▁रात', '▁रातों', '▁रात्रि', '▁रात्री', '▁राधा', '▁रानी', '▁राम', '▁रामकथा', '▁रामकृष्ण', '▁रामचन्द्र', '▁रामचरितमानस', '▁रामजी', '▁रामदास', '▁रामदेव', '▁रामनवमी', '▁रामनाथ', '▁रामनाथपुरम', '▁रामपुर', '▁रामप्रसाद', '▁रामविलास', '▁रामा', '▁रामायण', '▁राय', '▁रायपुर', '▁राव', '▁रावण', '▁रावल', '▁रावलपिंडी', '▁राशन', '▁राशि', '▁राशी', '▁राष्', '▁राष्ट्र', '▁राष्ट्रगान', '▁राष्ट्रपति', '▁राष्ट्रपिता', '▁राष्ट्रभाषा', '▁राष्ट्रवाद', '▁राष्ट्रवादी', '▁राष्ट्रव्यापी', '▁राष्ट्रसंघ', '▁राष्ट्राध्यक्ष', '▁राष्ट्रिय', '▁राष्ट्रीय', '▁राष्ट्रीयता', '▁राष्ट्रों', '▁रास', '▁रासायनिक', '▁रास्ता', '▁रास्ते', '▁रास्तों', '▁राह', '▁राहत', '▁राही', '▁राहुल', '▁रि', '▁रिंग', '▁रिक', '▁रिकार्ड', '▁रिकॉर्ड', '▁रिकॉर्डिंग', '▁रिक्', '▁रिक्त', '▁रिक्शा', '▁रिज', '▁रिजर्व', '▁रिज़', '▁रिज़र्व', '▁रिटायर', '▁रिपब्लिक', '▁रिपोर्ट', '▁रिपोर्टिंग', '▁रिमोट', '▁रियल', '▁रिया', '▁रियायत', '▁रियासत', '▁रियासतों', '▁रिलायंस', '▁रिलीज', '▁रिले', '▁रिवाज', '▁रिवाजों', '▁रिवायत', '▁रिव्यू', '▁रिश्ता', '▁रिश्ते', '▁रिश्तेदार', '▁रिश्तेदारों', '▁रिश्तों', '▁रिश्वत', '▁रिसर्च', '▁रिहा', '▁रिहाई', '▁री', '▁रीजन', '▁रीड', '▁रीडर', '▁रीढ़', '▁रीति', '▁रीमा', '▁रीवा', '▁रु', '▁रुक', '▁रुकने', '▁रुकावट', '▁रुके', '▁रुख', '▁रुग्ण', '▁रुचि', '▁रुड़की', '▁रुद्र', '▁रुधिर', '▁रुप', '▁रुपए', '▁रुपया', '▁रुपये', '▁रुपयों', '▁रुबिय', '▁रुस', '▁रू', '▁रूक', '▁रूख', '▁रूचि', '▁रूट', '▁रूड', '▁रूढ़ि', '▁रूढ़िवादी', '▁रूद्र', '▁रूप', '▁रूपये', '▁रूपरेखा', '▁रूपों', '▁रूब', '▁रूबी', '▁रूम', '▁रूमी', '▁रूस', '▁रूसी', '▁रे', '▁रेंज', '▁रेकी', '▁रेखा', '▁रेखांकित', '▁रेखाएं', '▁रेखाओं', '▁रेगिस्तान', '▁रेजिमेंट', '▁रेजीमेंट', '▁रेड', '▁रेडियो', '▁रेड्डी', '▁रेणु', '▁रेत', '▁रेतीले', '▁रेने', '▁रेल', '▁रेलगाड़िय', '▁रेलगाड़िया', '▁रेलगाड़ी', '▁रेलमार्ग', '▁रेलवे', '▁रेव', '▁रेशमी', '▁रेस', '▁रेस्ट', '▁रेस्टोरेंट', '▁रेस्तरां', '▁रेस्त्रां', '▁रैंकिंग', '▁रैकेट', '▁रैड', '▁रैना', '▁रैली', '▁रॉ', '▁रॉक', '▁रॉकेट', '▁रॉड', '▁रॉय', '▁रॉयटर्स', '▁रॉयल', '▁रो', '▁रोक', '▁रोकते', '▁रोकथाम', '▁रोकना', '▁रोकने', '▁रोका', '▁रोके', '▁रोग', '▁रोगजनक', '▁रोगों', '▁रोचक', '▁रोज', '▁रोजगार', '▁रोज़', '▁रोज़गार', '▁रोज़ा', '▁रोट', '▁रोटी', '▁रोड', '▁रोड़', '▁रोने', '▁रोप', '▁रोब', '▁रोम', '▁रोमन', '▁रोमा', '▁रोयल', '▁रोल', '▁रोवर', '▁रोशन', '▁रोशनी', '▁रोष', '▁रोस्ट', '▁रोह', '▁रोहिणी', '▁रोहित', '▁रौ', '▁रौंद', '▁रौनक', '▁लंका', '▁लंग', '▁लंगर', '▁लंदन', '▁लंबा', '▁लंबी', '▁लंबे', '▁लक', '▁लकड़ी', '▁लकवा', '▁लक्ष', '▁लक्षण', '▁लक्षणों', '▁लक्षद्वीप', '▁लक्षित', '▁लक्ष्मण', '▁लक्ष्मी', '▁लक्ष्मीबाई', '▁लक्ष्य', '▁लख', '▁लखनऊ', '▁लखनव', '▁लग', '▁लगता', '▁लगती', '▁लगते', '▁लगने', '▁लगभग', '▁लगवा', '▁लगा', '▁लगाई', '▁लगाए', '▁लगाकर', '▁लगाता', '▁लगातार', '▁लगाती', '▁लगाते', '▁लगाना', '▁लगाने', '▁लगाया', '▁लगायी', '▁लगाये', '▁लगाव', '▁लगी', '▁लगीं', '▁लगे', '▁लगेंगे', '▁लगेगा', '▁लघु', '▁लघुकथा', '▁लज्जा', '▁लटका', '▁लड', '▁लड़', '▁लड़का', '▁लड़कियां', '▁लड़कियों', '▁लड़की', '▁लड़के', '▁लड़कों', '▁लड़खड़ा', '▁लड़ते', '▁लड़ना', '▁लड़ने', '▁लड़ा', '▁लड़ाइय', '▁लड़ाई', '▁लड़ाकू', '▁लड़ी', '▁लड़े', '▁लडाई', '▁लत', '▁लतिका', '▁लतीफ', '▁लद्दाख', '▁लद्दाख़', '▁लन्दन', '▁लपेट', '▁लम्बा', '▁लम्बाई', '▁लम्बी', '▁लम्बे', '▁लय', '▁लल', '▁ललई', '▁ललाट', '▁ललित', '▁लव', '▁लश्कर', '▁लहजे', '▁लहर', '▁ला', '▁लांघ', '▁लाइ', '▁लाइक', '▁लाइट', '▁लाइन', '▁लाइब्रेरी', '▁लाइव', '▁लाई', '▁लाउ', '▁लाउडस्पीकर', '▁लाए', '▁लाओ', '▁लाकर', '▁लाख', '▁लाखों', '▁लागत', '▁लागु', '▁लागू', '▁लाज', '▁लाजपत', '▁लाठी', '▁लाता', '▁लाती', '▁लातूर', '▁लाद', '▁लाना', '▁लाने', '▁लापता', '▁लापरवाही', '▁लाभ', '▁लाभांश', '▁लायक', '▁लाया', '▁लायी', '▁लाये', '▁लार', '▁लार्ड', '▁लाल', '▁लालच', '▁लालटेन', '▁लाला', '▁लालू', '▁लाश', '▁लास', '▁लास्ट', '▁लाहौर', '▁लि', '▁लिंक', '▁लिंग', '▁लिंच', '▁लिए', '▁लिख', '▁लिखकर', '▁लिखता', '▁लिखती', '▁लिखते', '▁लिखना', '▁लिखने', '▁लिखवा', '▁लिखा', '▁लिखित', '▁लिखी', '▁लिखीं', '▁लिखे', '▁लिट्ट', '▁लिथियम', '▁लिन', '▁लिपट', '▁लिपि', '▁लिप्त', '▁लिबरल', '▁लिबरे', '▁लिय', '▁लिया', '▁लिये', '▁लियोपोल्ड', '▁लिव', '▁लिस्ट', '▁लिहाज', '▁लिहाज़', '▁ली', '▁लीक', '▁लीग', '▁लीजिए', '▁लीजिये', '▁लीडर', '▁लीन', '▁लीबिया', '▁लीला', '▁लु', '▁लुट', '▁लुटेरे', '▁लुटेरों', '▁लुढ़क', '▁लुधियाना', '▁लुप्त', '▁लुप्तप्राय', '▁लुभा', '▁लू', '▁लूट', '▁लूटने', '▁लूटपाट', '▁लूटा', '▁लूसी', '▁ले', '▁लें', '▁लेंगे', '▁लेंस', '▁लेक', '▁लेकर', '▁लेकिन', '▁लेक्चर', '▁लेख', '▁लेखक', '▁लेखकों', '▁लेखन', '▁लेखनी', '▁लेखा', '▁लेखिका', '▁लेखों', '▁लेगा', '▁लेजर', '▁लेट', '▁लेटर', '▁लेडी', '▁लेता', '▁लेती', '▁लेते', '▁लेन', '▁लेना', '▁लेनिन', '▁लेने', '▁लेफ्टिनेंट', '▁लेबर', '▁लेबल', '▁लेवल', '▁लेह', '▁लैंगिक', '▁लैंड', '▁लैट', '▁लैपटॉप', '▁लैब', '▁लैस', '▁लॉ', '▁लॉक', '▁लॉन्ग', '▁लॉन्च', '▁लॉर्ड', '▁लॉस', '▁लो', '▁लोक', '▁लोकतंत्र', '▁लोकतन्त्र', '▁लोकतांत्रिक', '▁लोकतान्त्रिक', '▁लोकपाल', '▁लोकप्रिय', '▁लोकप्रियता', '▁लोकमान्य', '▁लोकसभा', '▁लोग', '▁लोगो', '▁लोगों', '▁लोदी', '▁लोभ', '▁लोर', '▁लोहा', '▁लोहिया', '▁लोहे', '▁लौ', '▁लौट', '▁लौटते', '▁लौटना', '▁लौटने', '▁लौटा', '▁लौटे', '▁लौह', '▁वंचित', '▁वंदना', '▁वंश', '▁वंशज', '▁वंशजों', '▁वंशों', '▁वक़्त', '▁वकालत', '▁वकील', '▁वकीलों', '▁वक्त', '▁वक्तव्य', '▁वक्ता', '▁वक्ताओं', '▁वगैरह', '▁वचन', '▁वजन', '▁वजह', '▁वज़ीर', '▁वजीर', '▁वज्र', '▁वट', '▁वडोदरा', '▁वतन', '▁वत्स', '▁वध', '▁वन', '▁वनवास', '▁वन्य', '▁वपूर्ण', '▁वफादार', '▁वफादारी', '▁वयस्क', '▁वर', '▁वरण', '▁वरद', '▁वरदान', '▁वरन', '▁वरन्', '▁वराह', '▁वरिष्ठ', '▁वरीयता', '▁वरुण', '▁वर्', '▁वर्क', '▁वर्ग', '▁वर्गों', '▁वर्चस्व', '▁वर्जन', '▁वर्ण', '▁वर्णन', '▁वर्णित', '▁वर्णों', '▁वर्तनी', '▁वर्तमान', '▁वर्दी', '▁वर्धा', '▁वर्मा', '▁वर्ल्ड', '▁वर्ष', '▁वर्षगांठ', '▁वर्षा', '▁वर्षीय', '▁वर्षो', '▁वर्षों', '▁वल', '▁वल्लभ', '▁वल्लभभाई', '▁वश', '▁वशिष्ठ', '▁वशीभूत', '▁वसीयत', '▁वसु', '▁वसूल', '▁वसूली', '▁वस्', '▁वस्तु', '▁वस्तुएँ', '▁वस्तुएं', '▁वस्तुओं', '▁वस्तुतः', '▁वस्त्र', '▁वह', '▁वहाँ', '▁वहां', '▁वही', '▁वहीँ', '▁वहीं', '▁वा', '▁वां', '▁वाइकिंग', '▁वाइन', '▁वाइस', '▁वाई', '▁वाक', '▁वाकर', '▁वाक्', '▁वाक्य', '▁वाघ', '▁वाच', '▁वाज', '▁वाजपेयी', '▁वाट', '▁वाणिज्य', '▁वाणी', '▁वातावरण', '▁वाद', '▁वादा', '▁वादी', '▁वान', '▁वानर', '▁वानरों', '▁वापस', '▁वापसी', '▁वापिस', '▁वाम', '▁वामपंथ', '▁वाय', '▁वायरल', '▁वायरस', '▁वायसराय', '▁वायु', '▁वायुयान', '▁वायुसेना', '▁वार', '▁वारंट', '▁वाराणसी', '▁वारिस', '▁वार्', '▁वार्ड', '▁वार्ता', '▁वार्तालाप', '▁वार्मिंग', '▁वार्षिक', '▁वाल', '▁वाला', '▁वाली', '▁वाले', '▁वालो', '▁वालों', '▁वाल्मीकि', '▁वाशिंगटन', '▁वास', '▁वास्', '▁वास्को', '▁वास्तव', '▁वास्तविक', '▁वास्तविकता', '▁वास्तु', '▁वास्तुशास्त्र', '▁वाह', '▁वाहक', '▁वाहन', '▁वाहनों', '▁वाहिनी', '▁वि', '▁विं', '▁विंग', '▁विंची', '▁विकट', '▁विकल्प', '▁विकसित', '▁विकास', '▁विकासशील', '▁विकिपीडिया', '▁विकी', '▁विकृत', '▁विकृति', '▁विक्रम', '▁विक्रमादित्य', '▁विक्रमी', '▁विक्षिप्त', '▁विखंडित', '▁विख्यात', '▁विगत', '▁विग्रह', '▁विघटन', '▁विचल', '▁विचार', '▁विचारकों', '▁विचारधारा', '▁विचारों', '▁विचित्र', '▁विजय', '▁विजयी', '▁विजयों', '▁विजेता', '▁विजेताओं', '▁विज्ञप्ति', '▁विज्ञान', '▁विज्ञानी', '▁विज्ञापन', '▁विज्ञापनों', '▁विट', '▁विडंबना', '▁विडियो', '▁वितरित', '▁वित्त', '▁वित्तपोषण', '▁वित्तीय', '▁विथ', '▁विदर्भ', '▁विदा', '▁विदित', '▁विदेश', '▁विदेशी', '▁विद्यमान', '▁विद्या', '▁विद्यापीठ', '▁विद्यार्थियों', '▁विद्यार्थी', '▁विद्यालय', '▁विद्यालयों', '▁विद्युत', '▁विद्युतीकरण', '▁विद्रोह', '▁विद्रोही', '▁विद्वान', '▁विद्वानों', '▁विधवा', '▁विधा', '▁विधान', '▁विधानसभा', '▁विधायक', '▁विधायिका', '▁विधायी', '▁विधि', '▁विधियां', '▁विधेयक', '▁विध्वंस', '▁विन', '▁विनती', '▁विनम्र', '▁विनायक', '▁विनाश', '▁विनियामक', '▁विनोद', '▁विनोबा', '▁विन्स', '▁विपक्ष', '▁विपक्षी', '▁विपत्ति', '▁विपदा', '▁विपरीत', '▁विपुल', '▁विफल', '▁विफलता', '▁विभ', '▁विभक्त', '▁विभाग', '▁विभागों', '▁विभाजक', '▁विभाजन', '▁विभाजित', '▁विभिन्न', '▁विभीषण', '▁विभूति', '▁विभूषण', '▁विभूषित', '▁विभेद', '▁विमर्श', '▁विमान', '▁विमानन', '▁विमानों', '▁विमोचन', '▁वियतनाम', '▁वियोग', '▁विर', '▁विरल', '▁विराजमान', '▁विराट', '▁विराम', '▁विरासत', '▁विरुद्ध', '▁विरूद्ध', '▁विरोध', '▁विरोधियों', '▁विरोधी', '▁विलंब', '▁विलक्षण', '▁विलय', '▁विलाप', '▁विलास', '▁विलासिता', '▁विलुप्त', '▁विले', '▁विवरण', '▁विवश', '▁विवाद', '▁विवादास्पद', '▁विवादित', '▁विवादों', '▁विवाह', '▁विविध', '▁विविधता', '▁विवेक', '▁विवेकानंद', '▁विवेकानन्द', '▁विवेचन', '▁विश', '▁विशाल', '▁विशालकाय', '▁विशिष्ट', '▁विशिष्टता', '▁विशिष्टाद्वैत', '▁विशुद्ध', '▁विशेष', '▁विशेषकर', '▁विशेषज्ञ', '▁विशेषज्ञों', '▁विशेषत', '▁विशेषतः', '▁विशेषता', '▁विशेषताएं', '▁विशेषाधिकार', '▁विश्', '▁विश्राम', '▁विश्लेषण', '▁विश्व', '▁विश्वनाथ', '▁विश्वयुद्ध', '▁विश्वविद्यालय', '▁विश्वसनीय', '▁विश्वामित्र', '▁विश्वास', '▁विश्वासघात', '▁विष', '▁विषम', '▁विषमता', '▁विषय', '▁विषयों', '▁विषाक्त', '▁विष्णु', '▁विसर्जन', '▁विस्', '▁विस्तार', '▁विस्तृत', '▁विस्थापित', '▁विस्फोट', '▁विस्फोटक', '▁विहार', '▁वी', '▁वीं', '▁वीज़ा', '▁वीजा', '▁वीटो', '▁वीडियो', '▁वीभत्स', '▁वीर', '▁वीरगति', '▁वीरता', '▁वीरशैव', '▁वीरांगना', '▁वीरेंद्र', '▁वुमन', '▁वू', '▁वृंदा', '▁वृक्ष', '▁वृक्षारोपण', '▁वृक्षों', '▁वृत', '▁वृत्त', '▁वृत्ताकार', '▁वृत्ति', '▁वृद्ध', '▁वृद्धावस्था', '▁वृद्धि', '▁वृन्दावन', '▁वृहद', '▁वे', '▁वें', '▁वेग', '▁वेणुगोपाल', '▁वेतन', '▁वेद', '▁वेदांत', '▁वेदी', '▁वेदों', '▁वेन', '▁वेनेजुएला', '▁वेबसाइट', '▁वेबसाइटों', '▁वेल', '▁वेश', '▁वेशभूषा', '▁वेश्या', '▁वेश्यावृत्ति', '▁वेस्ट', '▁वै', '▁वैंकूवर', '▁वैकल्पिक', '▁वैचारिक', '▁वैज्ञानिक', '▁वैज्ञानिकों', '▁वैदिक', '▁वैद्य', '▁वैद्यक', '▁वैध', '▁वैधानिक', '▁वैभव', '▁वैभवशाल', '▁वैमनस्य', '▁वैली', '▁वैलेंटाइन', '▁वैवस्वत', '▁वैशाख', '▁वैशेषिक', '▁वैश्य', '▁वैश्विक', '▁वैष्णव', '▁वैष्णो', '▁वैस', '▁वैसा', '▁वैसे', '▁वॉ', '▁वॉटर', '▁वॉर', '▁वॉल', '▁वॉशिंगटन', '▁वो', '▁वोट', '▁वोटिंग', '▁वोल्गा', '▁व्', '▁व्य', '▁व्यंग', '▁व्यंग्य', '▁व्यंजन', '▁व्यंजनों', '▁व्यक्त', '▁व्यक्ति', '▁व्यक्तिगत', '▁व्यक्तित्व', '▁व्यक्तियों', '▁व्यभिचार', '▁व्यय', '▁व्यर्थ', '▁व्यवसाय', '▁व्यवसायी', '▁व्यवस्था', '▁व्यवस्थाओं', '▁व्यवस्थित', '▁व्यवहार', '▁व्यवहारिक', '▁व्यसन', '▁व्यस्त', '▁व्या', '▁व्याख्या', '▁व्याख्यान', '▁व्याघ्र', '▁व्यापक', '▁व्यापार', '▁व्यापारिक', '▁व्यापारी', '▁व्याप्त', '▁व्यास', '▁व्युत्पत्ति', '▁व्यू', '▁व्रत', '▁व्हाइट', '▁व्हि', '▁व्हेल', '▁शंकर', '▁शंकराचार्य', '▁शंका', '▁शंख', '▁शक', '▁शकुंतला', '▁शक्ति', '▁शक्तियाँ', '▁शक्तियां', '▁शक्तियों', '▁शक्तिशाली', '▁शक्ल', '▁शख़्स', '▁शख्स', '▁शख्सियत', '▁शत', '▁शतक', '▁शताब्दियों', '▁शताब्दी', '▁शती', '▁शत्रु', '▁शत्रुओं', '▁शत्रुघ्न', '▁शत्रुता', '▁शनि', '▁शनिवार', '▁शपथ', '▁शब्', '▁शब्द', '▁शब्दकोश', '▁शब्दावली', '▁शब्दों', '▁शम', '▁शम्भ', '▁शम्स', '▁शर', '▁शरण', '▁शरणार्थियो', '▁शरणार्थी', '▁शरद', '▁शराब', '▁शरियत', '▁शरीफ', '▁शरीयत', '▁शरीर', '▁शर्ट', '▁शर्त', '▁शर्तें', '▁शर्तों', '▁शर्म', '▁शर्मा', '▁शर्मील', '▁शव', '▁शवों', '▁शशि', '▁शस्त्र', '▁शस्त्रों', '▁शह', '▁शहंशाह', '▁शहजाद', '▁शहर', '▁शहरी', '▁शहरों', '▁शहादत', '▁शहाब', '▁शहीद', '▁शहीदों', '▁शा', '▁शां', '▁शांत', '▁शांति', '▁शांतिपूर्ण', '▁शांतिप्रिय', '▁शाखा', '▁शाखाएँ', '▁शाखाएं', '▁शाखाओं', '▁शाद', '▁शादी', '▁शान', '▁शानदार', '▁शान्त', '▁शान्ति', '▁शाप', '▁शाब्दिक', '▁शाम', '▁शामली', '▁शामिल', '▁शायद', '▁शायर', '▁शायरी', '▁शारदा', '▁शारीर', '▁शारीरिक', '▁शार्', '▁शासक', '▁शासकीय', '▁शासकों', '▁शासन', '▁शासनकाल', '▁शासित', '▁शास्त्र', '▁शास्त्री', '▁शास्त्रीय', '▁शास्त्रों', '▁शाह', '▁शाहजहाँ', '▁शाहजहां', '▁शाहजहांपुर', '▁शाहपुर', '▁शाहरुख', '▁शाहिद', '▁शाही', '▁शाहू', '▁शि', '▁शिंदे', '▁शिकस्त', '▁शिकागो', '▁शिकायत', '▁शिकार', '▁शिकारियों', '▁शिकारी', '▁शिक्षक', '▁शिक्षकों', '▁शिक्षण', '▁शिक्षा', '▁शिक्षाओं', '▁शिक्षाविद', '▁शिक्षित', '▁शिखर', '▁शिखा', '▁शिमला', '▁शिया', '▁शिर', '▁शिला', '▁शिलाखंड', '▁शिलान्यास', '▁शिलालेख', '▁शिल्प', '▁शिव', '▁शिवजी', '▁शिवराज', '▁शिवरात्रि', '▁शिवलिंग', '▁शिवसेना', '▁शिवा', '▁शिवाजी', '▁शिवालय', '▁शिविर', '▁शिविरों', '▁शिशु', '▁शिष्य', '▁शिष्यों', '▁शी', '▁शीघ्र', '▁शीघ्रता', '▁शीट', '▁शीत', '▁शीर्ष', '▁शीर्षक', '▁शील', '▁शील्ड', '▁शीश', '▁शु', '▁शुंग', '▁शुक्र', '▁शुक्रवार', '▁शुक्राचार्य', '▁शुक्ला', '▁शुद्ध', '▁शुद्धता', '▁शुद्धि', '▁शुद्र', '▁शुभ', '▁शुभकामना', '▁शुभारंभ', '▁शुरु', '▁शुरुआत', '▁शुरुआती', '▁शुरुवात', '▁शुरू', '▁शुरूआत', '▁शुल्क', '▁शुष्क', '▁शू', '▁शूटिंग', '▁शूद्र', '▁शून्य', '▁शूरवीर', '▁शृंखला', '▁शे', '▁शेक', '▁शेख', '▁शेख़', '▁शेन', '▁शेयर', '▁शेर', '▁शेल', '▁शेव', '▁शेष', '▁शै', '▁शैक्षणिक', '▁शैतान', '▁शैल', '▁शैली', '▁शैव', '▁शॉ', '▁शॉट', '▁शो', '▁शोक', '▁शोध', '▁शोधकर्ता', '▁शोधकर्ताओं', '▁शोभा', '▁शोर', '▁शोले', '▁शोषक', '▁शोषण', '▁शोषित', '▁शौक', '▁शौकत', '▁शौकीन', '▁शौच', '▁शौचालय', '▁शौर्य', '▁श्याम', '▁श्यामा', '▁श्र', '▁श्रद्धा', '▁श्रद्धांजलि', '▁श्रद्धालु', '▁श्रद्धालुओं', '▁श्रम', '▁श्रमिक', '▁श्रमिकों', '▁श्राप', '▁श्रावस्ती', '▁श्री', '▁श्रीकृष्ण', '▁श्रीधर', '▁श्रीनगर', '▁श्रीमती', '▁श्रीराम', '▁श्रीलंका', '▁श्रुति', '▁श्रृंखला', '▁श्रृंगार', '▁श्रेणियों', '▁श्रेणी', '▁श्रेय', '▁श्रेष्ठ', '▁श्रेष्ठता', '▁श्रोताओं', '▁श्लोक', '▁श्वेत', '▁षट्', '▁षडयंत्र', '▁षड़यंत्र', '▁षड्', '▁षड्यंत्र', '▁षष्ठ', '▁सँख्या', '▁सं', '▁संकट', '▁संकलन', '▁संकलित', '▁संकल्प', '▁संकल्पना', '▁संकीर्ण', '▁संकेत', '▁संकेतक', '▁संकोच', '▁संक्रमण', '▁संक्रमित', '▁संक्रांति', '▁संक्षेप', '▁संख्', '▁संख्या', '▁संग', '▁संगठन', '▁संगठनों', '▁संगठित', '▁संगत', '▁संगति', '▁संगम', '▁संगीत', '▁संगीतकार', '▁संगीतबद्ध', '▁संगीन', '▁संग्रह', '▁संग्रहालय', '▁संग्राम', '▁संघ', '▁संघटक', '▁संघटन', '▁संघर्ष', '▁संघर्षों', '▁संघीय', '▁संचय', '▁संचार', '▁संचालक', '▁संचालन', '▁संचालित', '▁संजय', '▁संजीव', '▁संजोए', '▁संज्ञा', '▁संडे', '▁संत', '▁संतति', '▁संतान', '▁संतानों', '▁संतुलन', '▁संतुलित', '▁संतुष्ट', '▁संतों', '▁संतोष', '▁संतोषजनक', '▁संदर्भ', '▁संदिग्ध', '▁संदीप', '▁संदेश', '▁संदेह', '▁संधि', '▁संधियों', '▁संध्या', '▁संन्यास', '▁संन्यासी', '▁संपत्ति', '▁संपदा', '▁संपन्न', '▁संपर्क', '▁संपादक', '▁संपादकीय', '▁संपादित', '▁संपूर्ण', '▁संप्रदाय', '▁संप्रदायों', '▁संप्रभु', '▁संप्रभुता', '▁संबंध', '▁संबंधित', '▁संबंधी', '▁संबंधों', '▁संबन्ध', '▁संबोधन', '▁संबोधित', '▁संभल', '▁संभव', '▁संभवत', '▁संभवतः', '▁संभाग', '▁संभाजी', '▁संभाल', '▁संभाली', '▁संभावना', '▁संभावनाएं', '▁संभावित', '▁संभोग', '▁संभ्रांत', '▁संयम', '▁संयुक्', '▁संयुक्त', '▁संयोग', '▁संयोगिता', '▁संयोजक', '▁संरक्ष', '▁संरक्षक', '▁संरक्षण', '▁संरक्षित', '▁संरचना', '▁संवत', '▁संवाद', '▁संवाददाता', '▁संविधान', '▁संवेदन', '▁संवेदनशील', '▁संवेदनशीलता', '▁संवेदना', '▁संवैधानिक', '▁संशय', '▁संशोधन', '▁संशोधनों', '▁संशोधित', '▁संसद', '▁संसदीय', '▁संसाधन', '▁संसाधनों', '▁संसार', '▁संस्', '▁संस्करण', '▁संस्कार', '▁संस्कारों', '▁संस्कृत', '▁संस्कृति', '▁संस्कृतियों', '▁संस्था', '▁संस्थाएं', '▁संस्थाओं', '▁संस्थान', '▁संस्थानों', '▁संस्थापक', '▁संहार', '▁संहिता', '▁सईद', '▁सउद', '▁सक', '▁सकता', '▁सकती', '▁सकतीं', '▁सकते', '▁सकने', '▁सकल', '▁सका', '▁सकारात्मक', '▁सकी', '▁सके', '▁सकें', '▁सकेंगे', '▁सकेगा', '▁सकेगी', '▁सक्रिय', '▁सक्रियता', '▁सक्षम', '▁सक्सेना', '▁सख', '▁सख़्त', '▁सख्त', '▁सख्ती', '▁सगे', '▁सच', '▁सचमुच', '▁सचिन', '▁सचिव', '▁सचेत', '▁सच्चा', '▁सच्चाई', '▁सज़ा', '▁सजा', '▁सजाया', '▁सजावट', '▁सजीव', '▁सज्जा', '▁सटा', '▁सटीक', '▁सटे', '▁सडक', '▁सड़', '▁सड़क', '▁सड़कें', '▁सड़कों', '▁सड़न', '▁सत', '▁सतत', '▁सतर्क', '▁सतह', '▁सता', '▁सतारा', '▁सती', '▁सत्', '▁सत्कार', '▁सत्तर', '▁सत्ता', '▁सत्ताधारी', '▁सत्य', '▁सत्यता', '▁सत्याग्रह', '▁सत्र', '▁सत्रह', '▁सद', '▁सदनों', '▁सदर', '▁सदस्य', '▁सदस्यों', '▁सदा', '▁सदाचार', '▁सदाशिव', '▁सदी', '▁सदैव', '▁सद्', '▁सद्भाव', '▁सद्भावना', '▁सन', '▁सनसनीखेज', '▁सनातन', '▁सन्', '▁सन्त', '▁सन्तान', '▁सन्दर्भ', '▁सन्देश', '▁सन्धि', '▁सन्यास', '▁सपना', '▁सपने', '▁सपोर्ट', '▁सप्', '▁सप्त', '▁सप्ताह', '▁सप्लाई', '▁सफर', '▁सफल', '▁सफलता', '▁सफलताओं', '▁सफलतापूर्वक', '▁सफ़र', '▁सफ़ेद', '▁सफाई', '▁सफाय', '▁सफेद', '▁सब', '▁सबका', '▁सबके', '▁सबको', '▁सबसे', '▁सबूत', '▁सब्जियों', '▁सब्जी', '▁सब्सिडी', '▁सभा', '▁सभाओं', '▁सभी', '▁सभ्य', '▁सभ्यता', '▁सभ्यताओं', '▁सम', '▁समकक्ष', '▁समकालीन', '▁समक्ष', '▁समग्र', '▁समझ', '▁समझकर', '▁समझता', '▁समझती', '▁समझते', '▁समझदारी', '▁समझना', '▁समझने', '▁समझा', '▁समझाने', '▁समझाया', '▁समझी', '▁समझे', '▁समझौता', '▁समझौते', '▁समता', '▁समन्वय', '▁समय', '▁समरसता', '▁समर्थ', '▁समर्थक', '▁समर्थकों', '▁समर्थन', '▁समर्थित', '▁समर्पण', '▁समर्पित', '▁समस्त', '▁समस्या', '▁समस्याएँ', '▁समस्याएं', '▁समस्याओं', '▁समा', '▁समांतर', '▁समाचार', '▁समाज', '▁समाजवाद', '▁समाजवादी', '▁समाजसेवा', '▁समाधान', '▁समाधि', '▁समाधी', '▁समान', '▁समानता', '▁समानान्तर', '▁समापन', '▁समाप्त', '▁समाप्ति', '▁समारोह', '▁समालोचक', '▁समावेश', '▁समाहित', '▁समिति', '▁समीकरण', '▁समीक्षा', '▁समीप', '▁समीर', '▁समु', '▁समुंदर', '▁समुदाय', '▁समुदायों', '▁समुद्र', '▁समुद्रगुप्त', '▁समुद्री', '▁समुद्रों', '▁समूच', '▁समूह', '▁समूहों', '▁समृद्धि', '▁समेक', '▁समेट', '▁समेटे', '▁समेत', '▁सम्', '▁सम्पति', '▁सम्पत्ति', '▁सम्पदा', '▁सम्पन्न', '▁सम्पर्क', '▁सम्पादित', '▁सम्पूर्ण', '▁सम्प्रदाय', '▁सम्प्रदायों', '▁सम्प्रभु', '▁सम्बंध', '▁सम्बंधित', '▁सम्बन्ध', '▁सम्बन्धित', '▁सम्बन्धी', '▁सम्बोधि', '▁सम्भल', '▁सम्भव', '▁सम्भवत', '▁सम्भावित', '▁सम्मति', '▁सम्मान', '▁सम्मानजनक', '▁सम्मानित', '▁सम्मिलित', '▁सम्मिश्रण', '▁सम्मेलन', '▁सम्यक', '▁सम्राट', '▁सम्राटों', '▁सम्वत', '▁सम्हाल', '▁सयु', '▁सर', '▁सरकार', '▁सरकारी', '▁सरकारें', '▁सरकारों', '▁सरदार', '▁सरदारों', '▁सरपंच', '▁सरपर', '▁सरयू', '▁सरल', '▁सरलता', '▁सरलीकृत', '▁सरस', '▁सरस्वती', '▁सरहद', '▁सराय', '▁सराहना', '▁सराहा', '▁सरीख', '▁सरीखे', '▁सरीसृपों', '▁सरे', '▁सरोकार', '▁सरोज', '▁सर्कल', '▁सर्च', '▁सर्जन', '▁सर्टिफिकेट', '▁सर्द', '▁सर्दियों', '▁सर्दी', '▁सर्फ', '▁सर्व', '▁सर्वज्ञ', '▁सर्वत्र', '▁सर्वथा', '▁सर्वप्रथम', '▁सर्वशक्तिमान', '▁सर्वश्रेष्ठ', '▁सर्वसम', '▁सर्वसम्मत', '▁सर्वाधिक', '▁सर्विस', '▁सर्वे', '▁सर्वेक्षण', '▁सर्वोच्च', '▁सर्वोपरि', '▁सल', '▁सला', '▁सलाम', '▁सलामी', '▁सलाह', '▁सलाहकार', '▁सलाहकारों', '▁सलीम', '▁सलेम', '▁सल्', '▁सल्तनत', '▁सल्फ़', '▁सल्लल्लाह', '▁सव', '▁सवर्ण', '▁सवा', '▁सवार', '▁सवाल', '▁सशक्त', '▁सशस्त्र', '▁सस्ता', '▁सस्ती', '▁सस्ते', '▁सह', '▁सहकारी', '▁सहगल', '▁सहज', '▁सहन', '▁सहभागिता', '▁सहभागी', '▁सहमत', '▁सहमति', '▁सहयोग', '▁सहयोगी', '▁सहसा', '▁सहस्र', '▁सहा', '▁सहानुभूति', '▁सहायक', '▁सहायता', '▁सहारनपुर', '▁सहारा', '▁सहारे', '▁सहित', '▁सहिष्णुता', '▁सही', '▁सहूलियत', '▁सा', '▁साँप', '▁साँस', '▁सां', '▁सांग', '▁सांझ', '▁सांप', '▁सांप्रदायिक', '▁सांबा', '▁सांस', '▁सांसद', '▁सांसदों', '▁सांस्कृतिक', '▁साइंस', '▁साइकिल', '▁साइट', '▁साइड', '▁साइन', '▁साइबर', '▁साइबेरिया', '▁साई', '▁साईं', '▁साईट', '▁साउथ', '▁साकार', '▁साक्षात्', '▁साक्षात्कार', '▁साक्षी', '▁साक्ष्य', '▁साख', '▁सागर', '▁सागरतट', '▁साज', '▁साज़िश', '▁साजिश', '▁साझा', '▁साठ', '▁साड़ी', '▁साढ़े', '▁सात', '▁सातवीं', '▁सातवें', '▁सातारा', '▁सात्विक', '▁साथ', '▁साथियों', '▁साथी', '▁सादगी', '▁सादिक', '▁साध', '▁साधक', '▁साधन', '▁साधना', '▁साधनों', '▁साधारण', '▁साधु', '▁साधुओं', '▁सान', '▁साफ', '▁साफ़', '▁साबरमती', '▁साबित', '▁साम', '▁सामंजस्य', '▁सामग्री', '▁सामना', '▁सामने', '▁सामरिक', '▁सामर्थ्य', '▁सामाजिक', '▁सामान', '▁सामान्य', '▁सामान्यत', '▁सामान्यतः', '▁सामी', '▁सामुदायिक', '▁सामूहिक', '▁साम्प्रदायिक', '▁साम्ब', '▁साम्य', '▁साम्यवादी', '▁साम्राज्य', '▁साम्राज्यवाद', '▁साम्राज्यवादी', '▁साय', '▁सायक', '▁सारंग', '▁सारगर्भित', '▁सारस्वत', '▁सारा', '▁सारी', '▁सारे', '▁सार्थक', '▁सार्थकता', '▁सार्व', '▁सार्वजनिक', '▁सार्वभौम', '▁सार्वभौमिक', '▁साल', '▁सालाना', '▁सालों', '▁सावधान', '▁सावधानी', '▁सावन', '▁सावरकर', '▁सावित्री', '▁सास', '▁साह', '▁साहनी', '▁साहब', '▁साहस', '▁साहसी', '▁साहित्य', '▁साहित्यकार', '▁साहित्यकारों', '▁साहित्यिक', '▁साहिब', '▁साहूकार', '▁साहेब', '▁सि', '▁सिं', '▁सिंगल', '▁सिंगापुर', '▁सिंघ', '▁सिंघासन', '▁सिंदूर', '▁सिंध', '▁सिंधिया', '▁सिंधु', '▁सिंह', '▁सिंहली', '▁सिंहासन', '▁सिक', '▁सिकंदर', '▁सिकन्दर', '▁सिकुड़', '▁सिक्', '▁सिक्का', '▁सिक्किम', '▁सिक्के', '▁सिक्कों', '▁सिक्ख', '▁सिक्खों', '▁सिक्योरिटी', '▁सिख', '▁सिखाता', '▁सिखाने', '▁सिखाया', '▁सिखों', '▁सिगरेट', '▁सिग्नल', '▁सिटी', '▁सितंबर', '▁सितम्बर', '▁सितारा', '▁सिद्द', '▁सिद्दीकी', '▁सिद्ध', '▁सिद्धांत', '▁सिद्धांतों', '▁सिद्धात', '▁सिद्धान्त', '▁सिद्धार्थ', '▁सिद्धि', '▁सिध्द', '▁सिन', '▁सिना', '▁सिने', '▁सिनेमा', '▁सिनेमाघरों', '▁सिन्', '▁सिन्ध', '▁सिन्धु', '▁सिन्हा', '▁सिपाहियों', '▁सिपाही', '▁सिफारिश', '▁सिफारिशें', '▁सिम', '▁सिमट', '▁सिया', '▁सियार', '▁सियालकोट', '▁सिर', '▁सिरसा', '▁सिरिल', '▁सिरे', '▁सिरों', '▁सिर्फ', '▁सिर्फ़', '▁सिल', '▁सिलचर', '▁सिलसिला', '▁सिलसिले', '▁सिलहट', '▁सिलिंडर', '▁सिलिकॉन', '▁सिलेंडर', '▁सिवा', '▁सिवान', '▁सिवाय', '▁सिविल', '▁सिस', '▁सिस्टम', '▁सिह', '▁सी', '▁सीईओ', '▁सीकर', '▁सीक्रेट', '▁सीख', '▁सीखना', '▁सीखा', '▁सीजन', '▁सीट', '▁सीटी', '▁सीटें', '▁सीटों', '▁सीढ', '▁सीढ़ी', '▁सीता', '▁सीतामढ़ी', '▁सीधा', '▁सीधी', '▁सीधे', '▁सीनियर', '▁सीने', '▁सीनेटर', '▁सीबीआई', '▁सीमा', '▁सीमांत', '▁सीमाएँ', '▁सीमाएं', '▁सीमाओं', '▁सीमित', '▁सीमेंट', '▁सीरियल', '▁सीरिया', '▁सील', '▁सु', '▁सुंदर', '▁सुंदरता', '▁सुअर', '▁सुकून', '▁सुख', '▁सुखद', '▁सुखदेव', '▁सुखाय', '▁सुग्रीव', '▁सुचना', '▁सुझाव', '▁सुदर्शन', '▁सुदूर', '▁सुदृढ', '▁सुदृढ़', '▁सुध', '▁सुधर', '▁सुधा', '▁सुधार', '▁सुधारक', '▁सुधारने', '▁सुन', '▁सुनकर', '▁सुनता', '▁सुनते', '▁सुनना', '▁सुनने', '▁सुनवाई', '▁सुनहरा', '▁सुनहरी', '▁सुनहरे', '▁सुना', '▁सुनाई', '▁सुनाते', '▁सुनाया', '▁सुनियोजित', '▁सुनिश्चित', '▁सुनी', '▁सुनील', '▁सुन्दर', '▁सुन्न', '▁सुन्नत', '▁सुन्नी', '▁सुपर', '▁सुपरस्टार', '▁सुपुत्र', '▁सुपुर्द', '▁सुप्रीम', '▁सुबह', '▁सुब्रह्मण्य', '▁सुभाष', '▁सुमन', '▁सुमात्रा', '▁सुर', '▁सुरंग', '▁सुरक्षा', '▁सुरक्षित', '▁सुरा', '▁सुराग', '▁सुरेश', '▁सुर्ख', '▁सुलझा', '▁सुलतान', '▁सुलह', '▁सुलेमान', '▁सुलैमान', '▁सुल्तान', '▁सुल्तानों', '▁सुवर्ण', '▁सुविधा', '▁सुविधाएँ', '▁सुविधाएं', '▁सुविधाओं', '▁सुविधाजनक', '▁सुशील', '▁सुशोभित', '▁सुश्री', '▁सुषमा', '▁सुसंस्कृत', '▁सुसज्जित', '▁सुस्त', '▁सुहा', '▁सू', '▁सूअर', '▁सूअरों', '▁सूक्त', '▁सूक्ष्म', '▁सूक्ष्मता', '▁सूख', '▁सूखने', '▁सूखा', '▁सूखी', '▁सूखे', '▁सूचक', '▁सूचकांक', '▁सूचना', '▁सूचनाएँ', '▁सूचनाएं', '▁सूचनाओं', '▁सूचित', '▁सूची', '▁सूचीबद्ध', '▁सूझ', '▁सूट', '▁सूती', '▁सूत्र', '▁सूत्रधार', '▁सूत्रों', '▁सूफ़ी', '▁सूफी', '▁सूबा', '▁सूर', '▁सूरज', '▁सूरत', '▁सूरा', '▁सूर्य', '▁सूर्यवंशी', '▁सूर्यास्त', '▁सूर्योदय', '▁सृजन', '▁सृष्टि', '▁से', '▁सें', '▁सेंट', '▁सेंटर', '▁सेंट्रल', '▁सेंसरशिप', '▁सेकंड', '▁सेकेण्ड', '▁सेक्टर', '▁सेट', '▁सेतु', '▁सेना', '▁सेनाएं', '▁सेनाओं', '▁सेनाध्यक्ष', '▁सेनानायक', '▁सेनानी', '▁सेनापति', '▁सेब', '▁सेमिनार', '▁सेमी', '▁सेल', '▁सेवक', '▁सेवन', '▁सेवा', '▁सेवाएं', '▁सेवाओं', '▁सेवानिवृत', '▁सेवानिवृत्त', '▁सै', '▁सैंकड़ों', '▁सैंट', '▁सैंड', '▁सैक', '▁सैकड़ों', '▁सैटेलाइट', '▁सैन', '▁सैनिक', '▁सैनिको', '▁सैनिकों', '▁सैनी', '▁सैन्य', '▁सैफ', '▁सैम', '▁सैयद', '▁सैय्यद', '▁सैल', '▁सॉ', '▁सॉफ्टवेयर', '▁सो', '▁सोच', '▁सोचते', '▁सोचना', '▁सोचने', '▁सोचा', '▁सोची', '▁सोडा', '▁सोडियम', '▁सोते', '▁सोन', '▁सोना', '▁सोनिया', '▁सोने', '▁सोम', '▁सोमनाथ', '▁सोमवार', '▁सोमालिया', '▁सोमेश्वर', '▁सोया', '▁सोल', '▁सोलर', '▁सोलह', '▁सोवियत', '▁सोशल', '▁सोसाइटी', '▁सोह', '▁सौ', '▁सौंप', '▁सौंपने', '▁सौंपा', '▁सौंपी', '▁सौतेल', '▁सौद', '▁सौदा', '▁सौदे', '▁सौभाग्य', '▁सौम्य', '▁सौर', '▁सौहार्द', '▁स्', '▁स्कंद', '▁स्कन्द', '▁स्कीम', '▁स्कूल', '▁स्कूली', '▁स्कूलों', '▁स्कै', '▁स्क्रिप्ट', '▁स्क्रीन', '▁स्क्व', '▁स्क्वाड्रन', '▁स्ट', '▁स्टंट', '▁स्टडी', '▁स्टडीज', '▁स्टाइल', '▁स्टार', '▁स्टार्ट', '▁स्टालिन', '▁स्टीफन', '▁स्टील', '▁स्टू', '▁स्टूडियो', '▁स्टे', '▁स्टेज', '▁स्टेट', '▁स्टेशन', '▁स्टेशनों', '▁स्टॉकहोम', '▁स्टॉप', '▁स्टोरी', '▁स्टोरेज', '▁स्ट्र', '▁स्ट्राइक', '▁स्ट्रीट', '▁स्तंभ', '▁स्तब्ध', '▁स्तम्भ', '▁स्तर', '▁स्तरीय', '▁स्तरों', '▁स्तुति', '▁स्त्रियाँ', '▁स्त्रियां', '▁स्त्रियों', '▁स्त्री', '▁स्थ', '▁स्थग', '▁स्थल', '▁स्थलों', '▁स्थाई', '▁स्थान', '▁स्थानीय', '▁स्थानों', '▁स्थापना', '▁स्थापित', '▁स्थायी', '▁स्थावर', '▁स्थित', '▁स्थिति', '▁स्थितियों', '▁स्थिर', '▁स्थिरता', '▁स्नान', '▁स्नेह', '▁स्प', '▁स्पर्श', '▁स्पष्ट', '▁स्पष्टीकरण', '▁स्पाइस', '▁स्पिरिट', '▁स्पीकर', '▁स्पीड', '▁स्पेक्ट्रो', '▁स्पेन', '▁स्पेनिश', '▁स्पेनी', '▁स्पेशल', '▁स्पेस', '▁स्पै', '▁स्पैनिश', '▁स्पॉट', '▁स्प्रे', '▁स्म', '▁स्मरण', '▁स्मारक', '▁स्मार्ट', '▁स्मिथ', '▁स्मृति', '▁स्मृतियों', '▁स्याही', '▁स्राव', '▁स्रोत', '▁स्रोतों', '▁स्लम', '▁स्लाव', '▁स्लीप', '▁स्व', '▁स्वच्छ', '▁स्वच्छंद', '▁स्वत', '▁स्वतंत्र', '▁स्वतंत्रता', '▁स्वतः', '▁स्वतन्त्र', '▁स्वतन्त्रता', '▁स्वदेश', '▁स्वदेशी', '▁स्वप्न', '▁स्वभाव', '▁स्वयं', '▁स्वयंसेवक', '▁स्वयंसेवकों', '▁स्वयम', '▁स्वर', '▁स्वराज', '▁स्वराज्य', '▁स्वरुप', '▁स्वरूप', '▁स्वर्ग', '▁स्वर्ण', '▁स्वस्तिक', '▁स्वस्थ', '▁स्वा', '▁स्वागत', '▁स्वातंत्र्य', '▁स्वाधीनता', '▁स्वाभाविक', '▁स्वाभिमान', '▁स्वामी', '▁स्वार्थ', '▁स्वार्थी', '▁स्वास्थ्य', '▁स्विट्जरलैंड', '▁स्विफ्ट', '▁स्वीकार', '▁स्वीकार्य', '▁स्वीकृत', '▁स्वीकृति', '▁स्वीडन', '▁स्वेच्छा', '▁स्वैच्छिक', '▁हँस', '▁हँसी', '▁हं', '▁हंगामा', '▁हंटर', '▁हंडिया', '▁हंस', '▁हंसराज', '▁हंसा', '▁हक', '▁हकदार', '▁हक़', '▁हकीकत', '▁हकीम', '▁हक्का', '▁हज', '▁हजरत', '▁हज़रत', '▁हज़ार', '▁हज़ारों', '▁हजार', '▁हजारो', '▁हजारों', '▁हट', '▁हटकर', '▁हटना', '▁हटने', '▁हटा', '▁हटाकर', '▁हटाना', '▁हटाने', '▁हटाया', '▁हड़ताल', '▁हड़प', '▁हड़प्पा', '▁हड्डियाँ', '▁हड्डियां', '▁हड्डी', '▁हताश', '▁हताहत', '▁हतोत्साहित', '▁हत्', '▁हत्या', '▁हत्याकांड', '▁हत्यारे', '▁हथ', '▁हथिया', '▁हथियार', '▁हथियारों', '▁हथौड़', '▁हद', '▁हदीस', '▁हनन', '▁हनी', '▁हनुमान', '▁हनुमानजी', '▁हफ्ते', '▁हब', '▁हबीब', '▁हम', '▁हमने', '▁हमला', '▁हमलावर', '▁हमलावरों', '▁हमले', '▁हमलों', '▁हमारा', '▁हमारी', '▁हमारे', '▁हमीद', '▁हमे', '▁हमें', '▁हमेशा', '▁हयात', '▁हर', '▁हरकत', '▁हरा', '▁हराकर', '▁हराने', '▁हराया', '▁हरि', '▁हरिद्वार', '▁हरियाणा', '▁हरिश्चन्द्र', '▁हरी', '▁हरे', '▁हरेक', '▁हर्षवर्धन', '▁हल', '▁हलचल', '▁हलांकि', '▁हल्', '▁हल्का', '▁हल्की', '▁हल्दी', '▁हवन', '▁हवा', '▁हवाई', '▁हवाला', '▁हसन', '▁हसीना', '▁हस्', '▁हस्त', '▁हस्तक्षेप', '▁हस्ताक्षर', '▁हस्तियों', '▁हा', '▁हाँ', '▁हां', '▁हाइ', '▁हाइवे', '▁हाई', '▁हाईकोर्ट', '▁हाईवे', '▁हाउस', '▁हाजी', '▁हाथ', '▁हाथी', '▁हाथों', '▁हादस', '▁हानि', '▁हापुड़', '▁हाफ', '▁हाफ़', '▁हाफिज', '▁हामिद', '▁हाय', '▁हार', '▁हारे', '▁हार्ट', '▁हार्दिक', '▁हार्बर', '▁हाल', '▁हालत', '▁हालाँकि', '▁हालांकि', '▁हालाकि', '▁हालात', '▁हावभाव', '▁हावी', '▁हाशिम', '▁हास', '▁हासिल', '▁हास्य', '▁हास्यास्पद', '▁हि', '▁हिंद', '▁हिंदी', '▁हिंदु', '▁हिंदुओं', '▁हिंदुत्व', '▁हिंदुस्तान', '▁हिंदुस्तानी', '▁हिंदू', '▁हिंसक', '▁हिंसा', '▁हिंसात्मक', '▁हिचक', '▁हिज', '▁हिजरत', '▁हिज़', '▁हिट', '▁हिटलर', '▁हित', '▁हितों', '▁हिदायत', '▁हिन्', '▁हिन्द', '▁हिन्दी', '▁हिन्दु', '▁हिन्दुओं', '▁हिन्दुत्व', '▁हिन्दुस्तान', '▁हिन्दुस्तानी', '▁हिन्दू', '▁हिब्रू', '▁हिम', '▁हिमपात', '▁हिमयुग', '▁हिमां', '▁हिमाचल', '▁हिमानी', '▁हिमायत', '▁हिमालय', '▁हिम्मत', '▁हिरासत', '▁हिरोशि', '▁हिल', '▁हिला', '▁हिसाब', '▁हिस्', '▁हिस्ट्री', '▁हिस्सा', '▁हिस्से', '▁हिस्सेदारी', '▁हिस्सों', '▁ही', '▁हीरा', '▁हीरो', '▁हीलियम', '▁हु', '▁हुआ', '▁हुई', '▁हुईं', '▁हुए', '▁हुऐ', '▁हुक', '▁हुकूमत', '▁हुक्म', '▁हुड', '▁हुनर', '▁हुयी', '▁हुये', '▁हुवा', '▁हुवे', '▁हुसैन', '▁हू', '▁हूँ', '▁हूं', '▁हूण', '▁हृदय', '▁हे', '▁हें', '▁हेग', '▁हेड', '▁हेडगेवार', '▁हेतु', '▁हेम', '▁हेमंत', '▁हेयर', '▁हेर', '▁हेराल्ड', '▁हेल', '▁हेलिकॉप्टर', '▁हेली', '▁हेलीकाप्टर', '▁हेलीकॉप्टर', '▁हेल्थ', '▁हेस', '▁है', '▁हैँ', '▁हैं', '▁हैदर', '▁हैदराबाद', '▁हैलीकॉप्टर', '▁हैसियत', '▁हॉ', '▁हॉकिंग', '▁हॉकी', '▁हॉट', '▁हॉल', '▁हॉलीवुड', '▁हॉस्पिटल', '▁हो', '▁हों', '▁होंगी', '▁होंगे', '▁होंठ', '▁होंने', '▁होकर', '▁होगा', '▁होगी', '▁होटल', '▁होटलों', '▁होड़', '▁होता', '▁होती', '▁होतीं', '▁होते', '▁होना', '▁होनी', '▁होने', '▁होम', '▁होल', '▁होली', '▁होशियार', '▁हौ', '▁हौसला', '▁ह्यूमन', '▁ह्रदय', '▁ह्रास', '▁‘‘', '■■■■■', '■■■■■■■■■■■', '■■■■■■■■■■■■', '▬▬▬▬▬▬▬▬▬▬▬▬▬▬▬▬▬▬', '◆◆◆◆◆◆◆◆◆◆◆◆◆◆◆◆◆◆', '●┄─┅━━━━━★✰★━━━━━┅─●', '☪🐅☪🐅☪🐅☪', '☸🙏🏻🙏🏻', '☹👇☹', '⚔☪🇲🇷☪🇲🇷☪🇲🇷⚔', '⚔⚔⚔🐷⚔', '⚔️🚩', '⚔🇲🇷', '⚔🇲🇷⚔', '⚔🇲🇷🇨🇨🐅🇲🇷🇨🇨🐅⚔', '⚔🇲🇷🇲🇷⚔', '⚔🇲🇷🇲🇷⚔🐅', '⚔🇲🇷🇲🇷⚔🐅🐅', '⚔🐅🇲🇷☪☪🇲🇷🐅', '⚔🐅🇲🇷⚔', '⚔🐅🇲🇷🇲🇷🇲🇷🇲🇷🐅⚔', '⚔🐅🇲🇷🇲🇷🇲🇷🐅⚔', '⚔🔫🇲🇷🇲🇷🇲🇷🇲🇷🔫⚔', '⚜🕉⛳🕉⚜', '⚫⚫🔵🔵🛑🛑⚫⚫', '⛳🇮🇳', '✊👊⛳', '✌✌✌✌✌✌✌✌✌✌', '✍✍✍', '✍️✍️✍️🌶️🌶️🌶️', '✍️🚩🚩🙏🙏', '✍😡✍😡✍', '✍🙏👇', '✨⚡🔥⚡🔥⚡✨', '❀__', '❓❓❓❓❓', '❗❗❗❗❗', '➖➖➖➖➖➖', '➖➖➖➖➖➖➖➖', '➖➖➖➖➖➖➖➖➖➖', '➖➖➖➖➖➖➖➖➖➖➖', '〰〰〰', '〰〰〰〰〰〰〰〰〰〰〰', '️one', '🇧🇴🇧🇴', '🇪🇺🇪🇺', '🇪🇺🇪🇺🇪🇺', '🇪🇺🇪🇺🇪🇺🇪🇺', '🇪🇺📚🇮🇳', '🇮🇳❄️', '🇮🇳🇮🇳', '🇮🇳🇮🇳🇮🇳', '🇮🇳🇮🇳🇮🇳🇮🇳🇮🇳🇮🇳🇮🇳', '🇮🇳🇮🇳🇮🇳🇮🇳🇮🇳🇮🇳🇮🇳🇮🇳', '🇮🇳📚🇪🇺', '🇮🇳🙏', '🇮🇳🙏🇮🇳', '🇮🇳🚩', '🇲🇷⚔', '🇲🇷🇲🇷', '🇲🇷🐅🐅🐅🐅🐅🐅🇲🇷', '🇵🇰🇵🇰🇵🇰', '🌗🌘🌑', '🌳﷽🌳', '🌷👍🌷', '🌸__', '🌸🌾🌸🌾🌸🌾🌸🌾🌸', '🌸🍀🌸🍀🌸🍀🌸🍀🌸🍀', '🌹بسم', '🌹🌷🌹🌷🌷🌹🌷🌹', '🌹🌹🌹🌹🌹🌹🌹', '🌹🌹🌹🌹🌹🌹🌹🌹🌹🌹🌹', '🍀🌸🍀🌸🍀🌸🍀🌸🍀🌸', '🍀🌸🍀🌸🍀🌸🍀🌸🍀🌸🍀🌸', '🍀🌸🍀🌸🍀🌸🍀🌸🍀🍀🍀', '🍃__', '🍃🍂🍃🍂🍃🍂🍃🍂🍃🍂🍃', '🎙🎷🎹🎼🎻🥁🎺', '🎙📺📡', '🏹🇮🇳⛳🔱🌞⚜🐚🕉🙏', '🐅⚔🇲🇷🇲🇷⚔🐅', '🐅🇲🇷🐅', '🐅🐅🐅🇲🇷🐅🐅🐅🐅', '🐍🐍🐍🐍🐍🐍🐍🐍🐍🐍🐍', '🐑🐃🐄🐐🐖', '🐖🐖🐖', '🐷🐷🐷🐷🐷🐷🐷🐷', '👆👍👍', '👇🇮🇳', '👇🏻👇', '👇🏻👇🏻👇🏻', '👇🏼👇🏼', '👇🏽👇🏽👇🏽', '👇👇👇', '👇👇👇👇', '👇👇👇👇👇', '👇👇👇👇👇👇👇👇👇👇', '👇👇😊', '👇👇😡', '👈👈👈👈👈👈', '👈😠👉', '👍👍👍👍', '👍👍👍👍👍👍👍👍👍#', '👎👎👎👎', '👹👺👺', '👺👺😎😎😡😡', '👺🚩👺🚩👺', '💃💃👈', '💐🌙🌙🌙🌙💐', '💐🌹💐🌹💐🌹💐🌹💐', '💐💐💐💐💐💐💐💐', '💥💥💥💥💥💥', '💥💥💥💥💥💥💥💥💥', '📌😡📌🚩📌😡📌🚩📌😡', '📒📕📒📕📒📕📒📕📒📕📒📕📒📕', '📚📚📚📚✒✒📚📚📚📚', '📚📚📚📚🖋🖋📚📚📚📚', '📚📚📚📚🖌🖌📚📚📚📚', '📚📝📙📕📗📘📓🕋🌹🌟', '📜(१५', '📡📺🎙', '🔥✒😖', '🔥🔥🔥🔥🔥🔥🔥🔥🔥🔥', '🔫⚔🤺🇮🇳🦁🚩', '🔫🔫🔫', '🔫🔫🔫🔫', '🔫🔫🔫🔫🔫', '🔫🤺🔫🤺🔫🤺🔫🤺', '🔰🔰🔰', '🕉🐚⛳🔱🌞🏹🌷🙏🔥', '🕋🕋🕋🕋🕋🕋🕋🕋🕋🕋', '😀😀😀', '😂😂😂', '😈😈😈😈😈😈😈😈', '😈😈😈😈😈😈😈😈😈😈', '😈😈😈😡😡😈😈😈', '😊😊😊😊', '😊😊😊😊😊😊', '😊😢👍', '😡👇👇', '😡😡😎😎', '😡😡😡', '😡😡😡😡', '😡😡😡😡😡', '😡😡😡😡😡👹👹👹', '😡😡😡😡😡😡👇👇👇👇👇', '😡😡😡😡😡😡😡😡', '😡🚩😠🚩😡', '😢😢😢', '😢😢😢😢😢😢😢', '😬😬😬😬', '😱😱😱😱😱😱😱😱😱😱', '😳👇🏻', '🙏🇮🇳', '🙏🏻🙏🏻', '🙏🏻🙏🏻☸', '🙏🏻🙏🏻🙏🏻', '🙏🏻🙏🏻🙏🏻🙏🏻', '🙏🏻🚩', '🙏🏻🚩🇮🇳🔱🏹🐚🕉', '🙏🏼🙏🏼🙏🏼', '🙏🏽🙏🏽🙏🏽', '🙏🐘🚲🐘🚲🐘☸🐘🚲🐘🙏', '🙏🔥🙏🔥🙏🔥🙏🔥🙏🔥🙏', '🙏🙏⛳⛳🙏🙏', '🙏🙏💐💐🇮🇳🇮🇳', '🙏🙏🙏', '🙏🙏🙏🙏🙏', '🙏🙏🚩🚩🚩', '🙏🚩🇮🇳🔱🏹🐚🕉', '🙏🚩🙄🔱🏹🐚🕉', '🚩⚔️', '🚩🇮🇳', '🚩🇮🇳🙏', '🚩🌞🌞🚩', '🚩🔥🚩🔥🚩🔥🚩🔥🚩🔥', '🚩😎🕉📗✍👉🏻', '🚩🙏🏻', '🚩🚩🗡🗡', '🚩🚩🗣', '🚩🚩🚩', '🚩🚩🚩🙏🏻🙏🏻🚩🚩🚩', '🚩🚩🚩🚩🙏', '🚩🚩🚩🚩🙏🏻🙏🏻🚩🚩🚩🚩', '🚩🚩🚩🚩🚩', '🚩🚩🚩🚩🚩🚩🚩', '🚩🚩🚩🚩🚩🚩🚩🚩🚩🚩🚩🚩', '🚩🚩🚩🚩🚩🚩🚩🚩🚩🚩🚩🚩🚩🚩🚩🚩🚩🚩🚩🚩🚩🚩🚩🚩🚩🚩🚩🚩🚩🚩🚩🚩🚩🚩🚩🚩🚩🚩🚩🚩🚩🚩🚩🚩🚩🚩🚩🚩🚩🚩🚩🚩🚩🚩🚩🚩🚩🚩🚩🚩', '🛑🛑🛑', '🛑🛑🛑⚫⚫🛑🛑🛑', '🛑🛑🛑🛑⚫⚫🛑🛑🛑', '🛑🛑🛑🛑⚫⚫🛑🛑🛑🛑', '🤔😕😡😡😡', '🤔😡😎', '🤔🙏🚩', '🤔🤔🤔', '🤔🤔🤔🤔', '🤔\\U0001f9d0\\U0001f92b🚩🇮🇳🙏', '🤢😢😢', '🤢😢🤚', '\\U0001f92a\\U0001f92a😆', '🤺🤺🤺🇨🇨🇨🇨🤺🤺🤺', '🤺🤺🤺🤺🤺🤺🤺🤺']\n"
     ]
    }
   ],
   "source": [
    "vectorizer = TfidfVectorizer(tokenizer=dummy_fun, preprocessor=dummy_fun,max_features=15000)\n",
    "X1 = vectorizer.fit_transform(X).toarray()\n",
    "y1=np.array(label)\n",
    "\n",
    "class_weights = dict(zip(np.unique(y1), compute_class_weight(\"balanced\", np.unique(y1),y1)))\n",
    "print(class_weights)\n",
    "feature_names = vectorizer.get_feature_names()\n",
    "print(feature_names)\n",
    "#classifier= LogisticRegression(class_weight=class_weights)\n",
    "#classifier.fit(X0, y0) "
   ]
  },
  {
   "cell_type": "code",
   "execution_count": 111,
   "metadata": {
    "colab": {
     "base_uri": "https://localhost:8080/",
     "height": 35
    },
    "colab_type": "code",
    "id": "JbMTUBSFmyHm",
    "outputId": "493f5546-becd-4f34-c5e6-1c5f21db8059"
   },
   "outputs": [
    {
     "name": "stdout",
     "output_type": "stream",
     "text": [
      "15000\n"
     ]
    }
   ],
   "source": [
    "print(len(feature_names))"
   ]
  },
  {
   "cell_type": "code",
   "execution_count": 112,
   "metadata": {
    "colab": {
     "base_uri": "https://localhost:8080/",
     "height": 139
    },
    "colab_type": "code",
    "id": "U9gezAlAzArM",
    "outputId": "23d18011-7c75-4574-c01f-6787ee724c42"
   },
   "outputs": [
    {
     "data": {
      "text/plain": [
       "LogisticRegression(C=1.0,\n",
       "                   class_weight={0.0: 0.7336956521739131,\n",
       "                                 1.0: 1.569767441860465},\n",
       "                   dual=False, fit_intercept=True, intercept_scaling=1,\n",
       "                   l1_ratio=None, max_iter=100, multi_class='auto', n_jobs=None,\n",
       "                   penalty='l2', random_state=None, solver='lbfgs', tol=0.0001,\n",
       "                   verbose=0, warm_start=False)"
      ]
     },
     "execution_count": 112,
     "metadata": {
      "tags": []
     },
     "output_type": "execute_result"
    }
   ],
   "source": [
    "classifier= LogisticRegression(class_weight=class_weights)\n",
    "classifier.fit(X1, y1)"
   ]
  },
  {
   "cell_type": "code",
   "execution_count": 113,
   "metadata": {
    "colab": {
     "base_uri": "https://localhost:8080/",
     "height": 35
    },
    "colab_type": "code",
    "id": "n-03W-17IAmi",
    "outputId": "4e4c21d8-b5e0-4163-993b-6923d4a06ba6"
   },
   "outputs": [
    {
     "name": "stdout",
     "output_type": "stream",
     "text": [
      "(1000, 15000)\n"
     ]
    }
   ],
   "source": [
    "X1_pred = vectorizer.transform(TokeninzedSent2).toarray()\n",
    "print(X1_pred.shape)"
   ]
  },
  {
   "cell_type": "code",
   "execution_count": 114,
   "metadata": {
    "colab": {
     "base_uri": "https://localhost:8080/",
     "height": 35
    },
    "colab_type": "code",
    "id": "wYgNwy80zLZs",
    "outputId": "6b52da6d-95c2-4044-d0be-2c7da6723243"
   },
   "outputs": [
    {
     "name": "stdout",
     "output_type": "stream",
     "text": [
      "81\n"
     ]
    }
   ],
   "source": [
    "y1_pred=classifier.predict(X1_pred)\n",
    "y1_pred_prob= classifier.predict_proba(X1_pred)\n",
    "count_2=0\n",
    "for i in range(0,len(y1_pred)):\n",
    "    if y1_pred[i] ==1:\n",
    "        count_2 +=1\n",
    "print(count_2)"
   ]
  },
  {
   "cell_type": "code",
   "execution_count": 115,
   "metadata": {
    "colab": {
     "base_uri": "https://localhost:8080/",
     "height": 173
    },
    "colab_type": "code",
    "id": "x8EtupLDzUfM",
    "outputId": "bdc94c4d-e5fc-45c8-dfa8-1ea8f73de1c0"
   },
   "outputs": [
    {
     "name": "stdout",
     "output_type": "stream",
     "text": [
      "[[0.680149 0.319851]\n",
      " [0.709685 0.290315]\n",
      " [0.611607 0.388393]\n",
      " [0.611607 0.388393]\n",
      " ...\n",
      " [0.497387 0.502613]\n",
      " [0.497387 0.502613]\n",
      " [0.497387 0.502613]\n",
      " [0.497387 0.502613]]\n"
     ]
    }
   ],
   "source": [
    "print(y1_pred_prob)"
   ]
  },
  {
   "cell_type": "code",
   "execution_count": 0,
   "metadata": {
    "colab": {},
    "colab_type": "code",
    "id": "qhJdf4I6JANn"
   },
   "outputs": [],
   "source": [
    "import pickle\n",
    "\n",
    "with open('Model_Op/LOR+tf_idf.p', 'wb') as fout:\n",
    "    pickle.dump((vectorizer, classifier), fout)"
   ]
  },
  {
   "cell_type": "code",
   "execution_count": 117,
   "metadata": {
    "colab": {
     "base_uri": "https://localhost:8080/",
     "height": 557
    },
    "colab_type": "code",
    "id": "WmL25Pty9xFh",
    "outputId": "9de89f4e-37d3-4b75-db44-35ec0010f086"
   },
   "outputs": [
    {
     "name": "stdout",
     "output_type": "stream",
     "text": [
      "Collecting laserembeddings\n",
      "  Downloading https://files.pythonhosted.org/packages/c5/6b/93843d90080666571a79f8eb195fa58aa5e45cf24d36158b9c01dba306e2/laserembeddings-1.0.1-py3-none-any.whl\n",
      "Requirement already satisfied: torch<2.0.0,>=1.0.1.post2 in /usr/local/lib/python3.6/dist-packages (from laserembeddings) (1.4.0)\n",
      "Collecting transliterate==1.10.2\n",
      "\u001b[?25l  Downloading https://files.pythonhosted.org/packages/a1/6e/9a9d597dbdd6d0172427c8cc07c35736471e631060df9e59eeb87687f817/transliterate-1.10.2-py2.py3-none-any.whl (45kB)\n",
      "\r",
      "\u001b[K     |███████▏                        | 10kB 26.2MB/s eta 0:00:01\r",
      "\u001b[K     |██████████████▎                 | 20kB 10.0MB/s eta 0:00:01\r",
      "\u001b[K     |█████████████████████▌          | 30kB 2.6MB/s eta 0:00:01\r",
      "\u001b[K     |████████████████████████████▋   | 40kB 3.4MB/s eta 0:00:01\r",
      "\u001b[K     |████████████████████████████████| 51kB 2.8MB/s \n",
      "\u001b[?25hCollecting subword-nmt<0.4.0,>=0.3.6\n",
      "  Downloading https://files.pythonhosted.org/packages/74/60/6600a7bc09e7ab38bc53a48a20d8cae49b837f93f5842a41fe513a694912/subword_nmt-0.3.7-py2.py3-none-any.whl\n",
      "Collecting sacremoses==0.0.35\n",
      "\u001b[?25l  Downloading https://files.pythonhosted.org/packages/1f/8e/ed5364a06a9ba720fddd9820155cc57300d28f5f43a6fd7b7e817177e642/sacremoses-0.0.35.tar.gz (859kB)\n",
      "\u001b[K     |████████████████████████████████| 860kB 7.1MB/s \n",
      "\u001b[?25hRequirement already satisfied: numpy<2.0.0,>=1.15.4 in /usr/local/lib/python3.6/dist-packages (from laserembeddings) (1.18.3)\n",
      "Requirement already satisfied: six>=1.1.0 in /usr/local/lib/python3.6/dist-packages (from transliterate==1.10.2->laserembeddings) (1.12.0)\n",
      "Requirement already satisfied: click in /usr/local/lib/python3.6/dist-packages (from sacremoses==0.0.35->laserembeddings) (7.1.1)\n",
      "Requirement already satisfied: joblib in /usr/local/lib/python3.6/dist-packages (from sacremoses==0.0.35->laserembeddings) (0.14.1)\n",
      "Requirement already satisfied: tqdm in /usr/local/lib/python3.6/dist-packages (from sacremoses==0.0.35->laserembeddings) (4.38.0)\n",
      "Building wheels for collected packages: sacremoses\n",
      "  Building wheel for sacremoses (setup.py) ... \u001b[?25l\u001b[?25hdone\n",
      "  Created wheel for sacremoses: filename=sacremoses-0.0.35-cp36-none-any.whl size=883999 sha256=cd4e406d2eed259967ed0f1a02f22c0cc8ca545d926dcc2d0efaf831fcf4bfda\n",
      "  Stored in directory: /root/.cache/pip/wheels/63/2a/db/63e2909042c634ef551d0d9ac825b2b0b32dede4a6d87ddc94\n",
      "Successfully built sacremoses\n",
      "Installing collected packages: transliterate, subword-nmt, sacremoses, laserembeddings\n",
      "Successfully installed laserembeddings-1.0.1 sacremoses-0.0.35 subword-nmt-0.3.7 transliterate-1.10.2\n",
      "Downloading models into /usr/local/lib/python3.6/dist-packages/laserembeddings/data\n",
      "\n",
      "✅   Downloaded https://dl.fbaipublicfiles.com/laser/models/93langs.fcodes    \n",
      "✅   Downloaded https://dl.fbaipublicfiles.com/laser/models/93langs.fvocab    \n",
      "✅   Downloaded https://dl.fbaipublicfiles.com/laser/models/bilstm.93langs.2018-12-26.pt    \n",
      "\n",
      "✨ You're all set!\n"
     ]
    }
   ],
   "source": [
    "!pip install laserembeddings\n",
    "!python -m laserembeddings download-models\n"
   ]
  },
  {
   "cell_type": "code",
   "execution_count": 0,
   "metadata": {
    "colab": {},
    "colab_type": "code",
    "id": "gXK2cF5w94cF"
   },
   "outputs": [],
   "source": [
    "from laserembeddings import Laser\n",
    "laser = Laser()"
   ]
  },
  {
   "cell_type": "code",
   "execution_count": 0,
   "metadata": {
    "colab": {},
    "colab_type": "code",
    "id": "ace5t-i_98tV"
   },
   "outputs": [],
   "source": [
    "sentences=[]\n",
    "label=[]\n",
    "language=[]\n",
    "for i in range(0, len(df)):\n",
    "    sentences.append(df['text'][i])\n",
    "    lan=detect(df['text'][i])\n",
    "    if lan != 'en':\n",
    "        #print(lan)\n",
    "        language.append('hi')\n",
    "    else:\n",
    "        #print('En')\n",
    "        language.append('en')\n",
    "    label.append(df['label'][i])\n",
    "\n",
    "X_0 = laser.embed_sentences(sentences,lang=language)\n",
    "y_0 = np.array(label)"
   ]
  },
  {
   "cell_type": "code",
   "execution_count": 121,
   "metadata": {
    "colab": {
     "base_uri": "https://localhost:8080/",
     "height": 419
    },
    "colab_type": "code",
    "id": "kxkh9AHiMRGv",
    "outputId": "c43dcfdf-bcd4-4692-e88f-3f4a93f34cb3"
   },
   "outputs": [
    {
     "name": "stderr",
     "output_type": "stream",
     "text": [
      "/usr/local/lib/python3.6/dist-packages/sklearn/model_selection/_split.py:296: FutureWarning: Setting a random_state has no effect since shuffle is False. This will raise an error in 0.24. You should leave random_state to its default (None), or set shuffle=True.\n",
      "  FutureWarning\n"
     ]
    },
    {
     "name": "stdout",
     "output_type": "stream",
     "text": [
      "TRAIN: [ 49  50  52  54 ... 536 537 538 539] TEST: [ 0  1  2  3 ... 53 59 60 64]\n",
      "{0.0: 0.7341389728096677, 1.0: 1.5677419354838709}\n",
      "TRAIN: [  0   1   2   3 ... 536 537 538 539] TEST: [ 49  50  52  54 ... 105 107 108 112]\n",
      "{0.0: 0.7341389728096677, 1.0: 1.5677419354838709}\n",
      "TRAIN: [  0   1   2   3 ... 536 537 538 539] TEST: [103 106 109 110 ... 158 159 161 162]\n",
      "{0.0: 0.7341389728096677, 1.0: 1.5677419354838709}\n",
      "TRAIN: [  0   1   2   3 ... 536 537 538 539] TEST: [160 163 164 165 ... 212 213 214 215]\n",
      "{0.0: 0.7341389728096677, 1.0: 1.5677419354838709}\n",
      "TRAIN: [  0   1   2   3 ... 536 537 538 539] TEST: [216 217 218 219 ... 268 270 271 272]\n",
      "{0.0: 0.7341389728096677, 1.0: 1.5677419354838709}\n",
      "TRAIN: [  0   1   2   3 ... 536 537 538 539] TEST: [265 267 269 273 ... 320 321 322 328]\n",
      "{0.0: 0.7341389728096677, 1.0: 1.5677419354838709}\n",
      "TRAIN: [  0   1   2   3 ... 536 537 538 539] TEST: [323 324 325 326 ... 374 378 385 388]\n",
      "{0.0: 0.7341389728096677, 1.0: 1.5677419354838709}\n",
      "TRAIN: [  0   1   2   3 ... 536 537 538 539] TEST: [375 376 377 379 ... 433 443 446 448]\n",
      "{0.0: 0.7341389728096677, 1.0: 1.5677419354838709}\n",
      "TRAIN: [  0   1   2   3 ... 536 537 538 539] TEST: [424 425 427 428 ... 490 492 493 497]\n",
      "{0.0: 0.7319277108433735, 1.0: 1.577922077922078}\n",
      "TRAIN: [  0   1   2   3 ... 490 492 493 497] TEST: [478 479 480 481 ... 536 537 538 539]\n",
      "{0.0: 0.7319277108433735, 1.0: 1.577922077922078}\n"
     ]
    }
   ],
   "source": [
    "acc=[]\n",
    "macro_f1=[]\n",
    "prec=[]\n",
    "recall=[]\n",
    "prob=[]\n",
    "\n",
    "skf = StratifiedKFold(n_splits=10, random_state= 2020)\n",
    "\n",
    "for train_index, test_index in skf.split(X, y):\n",
    "    print(\"TRAIN:\", train_index, \"TEST:\", test_index)\n",
    "    X_train, X_test = X_0[train_index], X_0[test_index]\n",
    "    y_train, y_test = y_0[train_index], y_0[test_index]\n",
    "    class_weights = dict(zip(np.unique(y_train), compute_class_weight(\"balanced\", np.unique(y_train),y_train)))\n",
    "    print(class_weights)\n",
    "    classifier= LogisticRegression(class_weight=class_weights)\n",
    "    classifier.fit(X_train, y_train)\n",
    "    y_pred=classifier.predict(X_test)\n",
    "    acc.append(accuracy_score(y_test, y_pred))\n",
    "    macro_f1.append(f1_score(y_test, y_pred, average='macro'))\n",
    "    prec.append(f1_score(y_test, y_pred))\n",
    "    recall.append(f1_score(y_test, y_pred))\n",
    "    prob.append(classifier.predict_proba(X_test))\n"
   ]
  },
  {
   "cell_type": "code",
   "execution_count": 122,
   "metadata": {
    "colab": {
     "base_uri": "https://localhost:8080/",
     "height": 87
    },
    "colab_type": "code",
    "id": "oSQTpUWlM4xL",
    "outputId": "1677287f-11b4-48f4-cc8b-abd5174658eb"
   },
   "outputs": [
    {
     "name": "stdout",
     "output_type": "stream",
     "text": [
      "Accuracy: 0.70 (+/- 0.13)\n",
      "Macro F1: 0.67 (+/- 0.16)\n",
      "Precision for +ve class: 0.57 (+/- 0.24)\n",
      "Recall for +ve class: 0.57 (+/- 0.24)\n"
     ]
    }
   ],
   "source": [
    "print(\"Accuracy: %0.2f (+/- %0.2f)\" % (np.mean(acc), np.std(acc) * 2))\n",
    "print(\"Macro F1: %0.2f (+/- %0.2f)\" % (np.mean(macro_f1), np.std(macro_f1) * 2))\n",
    "print(\"Precision for +ve class: %0.2f (+/- %0.2f)\" % (np.mean(prec), np.std(prec) * 2))\n",
    "print(\"Recall for +ve class: %0.2f (+/- %0.2f)\" % (np.mean(recall), np.std(recall) * 2))\n"
   ]
  },
  {
   "cell_type": "code",
   "execution_count": 0,
   "metadata": {
    "colab": {},
    "colab_type": "code",
    "id": "WGQ29MoKNgqR"
   },
   "outputs": [],
   "source": [
    "pred_sentences=[]\n",
    "pred_language=[]\n",
    "for i in range(0, len(df2)):\n",
    "    pred_sentences.append(df2['message_text'][i])\n",
    "    lan=detect(df2['message_text'][i])\n",
    "    if lan != 'en':\n",
    "        #print(lan)\n",
    "        pred_language.append('hi')\n",
    "    else:\n",
    "        #print('En')\n",
    "        pred_language.append('en')\n",
    "\n",
    "X_pred = laser.embed_sentences(pred_sentences,lang=pred_language)\n"
   ]
  },
  {
   "cell_type": "code",
   "execution_count": 126,
   "metadata": {
    "colab": {
     "base_uri": "https://localhost:8080/",
     "height": 156
    },
    "colab_type": "code",
    "id": "Gua07y0zNPML",
    "outputId": "6471ea6c-5d43-4647-ccd7-62630087040b"
   },
   "outputs": [
    {
     "name": "stdout",
     "output_type": "stream",
     "text": [
      "{0.0: 0.7336956521739131, 1.0: 1.569767441860465}\n"
     ]
    },
    {
     "data": {
      "text/plain": [
       "LogisticRegression(C=1.0,\n",
       "                   class_weight={0.0: 0.7336956521739131,\n",
       "                                 1.0: 1.569767441860465},\n",
       "                   dual=False, fit_intercept=True, intercept_scaling=1,\n",
       "                   l1_ratio=None, max_iter=100, multi_class='auto', n_jobs=None,\n",
       "                   penalty='l2', random_state=None, solver='lbfgs', tol=0.0001,\n",
       "                   verbose=0, warm_start=False)"
      ]
     },
     "execution_count": 126,
     "metadata": {
      "tags": []
     },
     "output_type": "execute_result"
    }
   ],
   "source": [
    "class_weights = dict(zip(np.unique(y_0), compute_class_weight(\"balanced\", np.unique(y_0),y_0)))\n",
    "print(class_weights)\n",
    "classifier= LogisticRegression(class_weight=class_weights)\n",
    "classifier.fit(X_0, y_0) "
   ]
  },
  {
   "cell_type": "code",
   "execution_count": 127,
   "metadata": {
    "colab": {
     "base_uri": "https://localhost:8080/",
     "height": 35
    },
    "colab_type": "code",
    "id": "IdO3XEw1OaIj",
    "outputId": "15924667-fc04-4060-b8c8-b63e23a2419f"
   },
   "outputs": [
    {
     "name": "stdout",
     "output_type": "stream",
     "text": [
      "267\n"
     ]
    }
   ],
   "source": [
    "y2_pred=classifier.predict(X_pred)\n",
    "y2_pred_prob= classifier.predict_proba(X_pred)\n",
    "count_2=0\n",
    "for i in range(0,len(y2_pred)):\n",
    "    if y2_pred[i] ==1:\n",
    "        count_2 +=1\n",
    "print(count_2)"
   ]
  },
  {
   "cell_type": "code",
   "execution_count": 0,
   "metadata": {
    "colab": {},
    "colab_type": "code",
    "id": "Ie609SqAxv60"
   },
   "outputs": [],
   "source": [
    "import pickle\n",
    "\n",
    "with open('Model_Op/LOR+Laser.p', 'wb') as fout:\n",
    "    pickle.dump(classifier, fout)"
   ]
  }
 ],
 "metadata": {
  "accelerator": "GPU",
  "colab": {
   "collapsed_sections": [],
   "name": "Copy of Topic Modelling.ipynb",
   "provenance": []
  },
  "kernelspec": {
   "display_name": "Python 3",
   "language": "python",
   "name": "python3"
  },
  "language_info": {
   "codemirror_mode": {
    "name": "ipython",
    "version": 3
   },
   "file_extension": ".py",
   "mimetype": "text/x-python",
   "name": "python",
   "nbconvert_exporter": "python",
   "pygments_lexer": "ipython3",
   "version": "3.7.3"
  }
 },
 "nbformat": 4,
 "nbformat_minor": 1
}

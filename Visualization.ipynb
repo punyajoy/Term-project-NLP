{
  "nbformat": 4,
  "nbformat_minor": 0,
  "metadata": {
    "colab": {
      "name": "Visualization.ipynb",
      "provenance": [],
      "collapsed_sections": []
    },
    "kernelspec": {
      "name": "python3",
      "display_name": "Python 3"
    },
    "accelerator": "GPU"
  },
  "cells": [
    {
      "cell_type": "code",
      "metadata": {
        "id": "xJWVO2ErjzYn",
        "colab_type": "code",
        "outputId": "fd42022b-9858-4774-9be0-4cd271c0a91a",
        "colab": {
          "base_uri": "https://localhost:8080/",
          "height": 765
        }
      },
      "source": [
        "import pandas as pd\n",
        "import numpy as np\n",
        "import json\n",
        "!pip install pytextrank scattertext\n",
        "\n",
        "import spacy\n",
        "from scattertext import SampleCorpora, PhraseMachinePhrases, dense_rank, RankDifference, AssociationCompactor, produce_scattertext_explorer\n",
        "from scattertext.CorpusFromPandas import CorpusFromPandas\n",
        "import pytextrank, spacy\n",
        "import scattertext as st\n",
        "nlp = spacy.load('en')\n",
        "\n",
        "import os\n",
        "os.chdir('/content/drive/My Drive/FearSpeech')\n"
      ],
      "execution_count": 2,
      "outputs": [
        {
          "output_type": "stream",
          "text": [
            "Collecting pytextrank\n",
            "  Downloading https://files.pythonhosted.org/packages/9d/6d/8895314aae96fd6223a8b728f6b1f75eea2865590449a6d53f2c494a9b5c/pytextrank-2.0.1-py3-none-any.whl\n",
            "Collecting scattertext\n",
            "\u001b[?25l  Downloading https://files.pythonhosted.org/packages/18/bb/6c73ee4b109b017e0ba458436f67aa25c0e963bd8682e28c75d7864222e8/scattertext-0.0.2.64-py3-none-any.whl (6.9MB)\n",
            "\u001b[K     |████████████████████████████████| 6.9MB 16.7MB/s \n",
            "\u001b[?25hRequirement already satisfied: networkx in /usr/local/lib/python3.6/dist-packages (from pytextrank) (2.4)\n",
            "Requirement already satisfied: graphviz in /usr/local/lib/python3.6/dist-packages (from pytextrank) (0.10.1)\n",
            "Requirement already satisfied: coverage in /usr/local/lib/python3.6/dist-packages (from pytextrank) (3.7.1)\n",
            "Requirement already satisfied: spacy in /usr/local/lib/python3.6/dist-packages (from pytextrank) (2.2.4)\n",
            "Requirement already satisfied: six in /usr/local/lib/python3.6/dist-packages (from scattertext) (1.12.0)\n",
            "Requirement already satisfied: statsmodels in /usr/local/lib/python3.6/dist-packages (from scattertext) (0.10.2)\n",
            "Requirement already satisfied: scipy in /usr/local/lib/python3.6/dist-packages (from scattertext) (1.4.1)\n",
            "Requirement already satisfied: scikit-learn in /usr/local/lib/python3.6/dist-packages (from scattertext) (0.22.2.post1)\n",
            "Collecting mock\n",
            "  Downloading https://files.pythonhosted.org/packages/cd/74/d72daf8dff5b6566db857cfd088907bb0355f5dd2914c4b3ef065c790735/mock-4.0.2-py3-none-any.whl\n",
            "Requirement already satisfied: numpy in /usr/local/lib/python3.6/dist-packages (from scattertext) (1.18.3)\n",
            "Requirement already satisfied: pandas in /usr/local/lib/python3.6/dist-packages (from scattertext) (1.0.3)\n",
            "Requirement already satisfied: decorator>=4.3.0 in /usr/local/lib/python3.6/dist-packages (from networkx->pytextrank) (4.4.2)\n",
            "Requirement already satisfied: tqdm<5.0.0,>=4.38.0 in /usr/local/lib/python3.6/dist-packages (from spacy->pytextrank) (4.38.0)\n",
            "Requirement already satisfied: thinc==7.4.0 in /usr/local/lib/python3.6/dist-packages (from spacy->pytextrank) (7.4.0)\n",
            "Requirement already satisfied: murmurhash<1.1.0,>=0.28.0 in /usr/local/lib/python3.6/dist-packages (from spacy->pytextrank) (1.0.2)\n",
            "Requirement already satisfied: setuptools in /usr/local/lib/python3.6/dist-packages (from spacy->pytextrank) (46.1.3)\n",
            "Requirement already satisfied: requests<3.0.0,>=2.13.0 in /usr/local/lib/python3.6/dist-packages (from spacy->pytextrank) (2.21.0)\n",
            "Requirement already satisfied: blis<0.5.0,>=0.4.0 in /usr/local/lib/python3.6/dist-packages (from spacy->pytextrank) (0.4.1)\n",
            "Requirement already satisfied: wasabi<1.1.0,>=0.4.0 in /usr/local/lib/python3.6/dist-packages (from spacy->pytextrank) (0.6.0)\n",
            "Requirement already satisfied: srsly<1.1.0,>=1.0.2 in /usr/local/lib/python3.6/dist-packages (from spacy->pytextrank) (1.0.2)\n",
            "Requirement already satisfied: plac<1.2.0,>=0.9.6 in /usr/local/lib/python3.6/dist-packages (from spacy->pytextrank) (1.1.3)\n",
            "Requirement already satisfied: preshed<3.1.0,>=3.0.2 in /usr/local/lib/python3.6/dist-packages (from spacy->pytextrank) (3.0.2)\n",
            "Requirement already satisfied: catalogue<1.1.0,>=0.0.7 in /usr/local/lib/python3.6/dist-packages (from spacy->pytextrank) (1.0.0)\n",
            "Requirement already satisfied: cymem<2.1.0,>=2.0.2 in /usr/local/lib/python3.6/dist-packages (from spacy->pytextrank) (2.0.3)\n",
            "Requirement already satisfied: patsy>=0.4.0 in /usr/local/lib/python3.6/dist-packages (from statsmodels->scattertext) (0.5.1)\n",
            "Requirement already satisfied: joblib>=0.11 in /usr/local/lib/python3.6/dist-packages (from scikit-learn->scattertext) (0.14.1)\n",
            "Requirement already satisfied: python-dateutil>=2.6.1 in /usr/local/lib/python3.6/dist-packages (from pandas->scattertext) (2.8.1)\n",
            "Requirement already satisfied: pytz>=2017.2 in /usr/local/lib/python3.6/dist-packages (from pandas->scattertext) (2018.9)\n",
            "Requirement already satisfied: urllib3<1.25,>=1.21.1 in /usr/local/lib/python3.6/dist-packages (from requests<3.0.0,>=2.13.0->spacy->pytextrank) (1.24.3)\n",
            "Requirement already satisfied: idna<2.9,>=2.5 in /usr/local/lib/python3.6/dist-packages (from requests<3.0.0,>=2.13.0->spacy->pytextrank) (2.8)\n",
            "Requirement already satisfied: certifi>=2017.4.17 in /usr/local/lib/python3.6/dist-packages (from requests<3.0.0,>=2.13.0->spacy->pytextrank) (2020.4.5.1)\n",
            "Requirement already satisfied: chardet<3.1.0,>=3.0.2 in /usr/local/lib/python3.6/dist-packages (from requests<3.0.0,>=2.13.0->spacy->pytextrank) (3.0.4)\n",
            "Requirement already satisfied: importlib-metadata>=0.20; python_version < \"3.8\" in /usr/local/lib/python3.6/dist-packages (from catalogue<1.1.0,>=0.0.7->spacy->pytextrank) (1.6.0)\n",
            "Requirement already satisfied: zipp>=0.5 in /usr/local/lib/python3.6/dist-packages (from importlib-metadata>=0.20; python_version < \"3.8\"->catalogue<1.1.0,>=0.0.7->spacy->pytextrank) (3.1.0)\n",
            "Installing collected packages: pytextrank, mock, scattertext\n",
            "Successfully installed mock-4.0.2 pytextrank-2.0.1 scattertext-0.0.2.64\n"
          ],
          "name": "stdout"
        }
      ]
    },
    {
      "cell_type": "code",
      "metadata": {
        "id": "FBsSXjdzigZB",
        "colab_type": "code",
        "colab": {
          "base_uri": "https://localhost:8080/",
          "height": 124
        },
        "outputId": "6d8d61f0-97db-44b4-9409-a4edf0a6b219"
      },
      "source": [
        "from google.colab import drive\n",
        "drive.mount('/content/drive')"
      ],
      "execution_count": 1,
      "outputs": [
        {
          "output_type": "stream",
          "text": [
            "Go to this URL in a browser: https://accounts.google.com/o/oauth2/auth?client_id=947318989803-6bn6qk8qdgf4n4g3pfee6491hc0brc4i.apps.googleusercontent.com&redirect_uri=urn%3aietf%3awg%3aoauth%3a2.0%3aoob&response_type=code&scope=email%20https%3a%2f%2fwww.googleapis.com%2fauth%2fdocs.test%20https%3a%2f%2fwww.googleapis.com%2fauth%2fdrive%20https%3a%2f%2fwww.googleapis.com%2fauth%2fdrive.photos.readonly%20https%3a%2f%2fwww.googleapis.com%2fauth%2fpeopleapi.readonly\n",
            "\n",
            "Enter your authorization code:\n",
            "··········\n",
            "Mounted at /content/drive\n"
          ],
          "name": "stdout"
        }
      ]
    },
    {
      "cell_type": "code",
      "metadata": {
        "id": "om6PWBWUXkvN",
        "colab_type": "code",
        "colab": {}
      },
      "source": [
        "df=pd.read_csv(\"Final_annotated_eng.csv\")\n",
        "#del(dataFrame[\"Unnamed: 0\"])"
      ],
      "execution_count": 0,
      "outputs": []
    },
    {
      "cell_type": "code",
      "metadata": {
        "id": "xeEQjj8Cj4vt",
        "colab_type": "code",
        "colab": {}
      },
      "source": [
        "label=[]\n",
        "text=[]\n",
        "for i in range(0, len(df)):\n",
        "    text.append(df['text'][i])\n",
        "    label.append(df['label'][i])\n"
      ],
      "execution_count": 0,
      "outputs": []
    },
    {
      "cell_type": "code",
      "metadata": {
        "id": "q4tAO74Hkh3v",
        "colab_type": "code",
        "colab": {}
      },
      "source": [
        "dataFrame = pd.DataFrame(list(zip(text, label)), \n",
        "               columns =['text', 'label']) "
      ],
      "execution_count": 0,
      "outputs": []
    },
    {
      "cell_type": "code",
      "metadata": {
        "id": "cXKZDb9OXrBU",
        "colab_type": "code",
        "outputId": "2f82725c-14ec-437e-a203-d5798a2cbf26",
        "colab": {
          "base_uri": "https://localhost:8080/",
          "height": 202
        }
      },
      "source": [
        "dataFrame.head()"
      ],
      "execution_count": 22,
      "outputs": [
        {
          "output_type": "execute_result",
          "data": {
            "text/html": [
              "<div>\n",
              "<style scoped>\n",
              "    .dataframe tbody tr th:only-of-type {\n",
              "        vertical-align: middle;\n",
              "    }\n",
              "\n",
              "    .dataframe tbody tr th {\n",
              "        vertical-align: top;\n",
              "    }\n",
              "\n",
              "    .dataframe thead th {\n",
              "        text-align: right;\n",
              "    }\n",
              "</style>\n",
              "<table border=\"1\" class=\"dataframe\">\n",
              "  <thead>\n",
              "    <tr style=\"text-align: right;\">\n",
              "      <th></th>\n",
              "      <th>text</th>\n",
              "      <th>label</th>\n",
              "    </tr>\n",
              "  </thead>\n",
              "  <tbody>\n",
              "    <tr>\n",
              "      <th>0</th>\n",
              "      <td># If you keep drums Tasha beaten Tajiya in Muh...</td>\n",
              "      <td>1</td>\n",
              "    </tr>\n",
              "    <tr>\n",
              "      <th>1</th>\n",
              "      <td>Watch the video carefully.  Muslims are taking...</td>\n",
              "      <td>1</td>\n",
              "    </tr>\n",
              "    <tr>\n",
              "      <th>2</th>\n",
              "      <td>👉  ▶  🔵  🔵  👉  🔺  🔺  🔺  🔺  🔺  🔺  🔵  🔵  🔵  🔵  ...</td>\n",
              "      <td>0</td>\n",
              "    </tr>\n",
              "    <tr>\n",
              "      <th>3</th>\n",
              "      <td>* Forgotten memories, forgotten by everyone. *...</td>\n",
              "      <td>0</td>\n",
              "    </tr>\n",
              "    <tr>\n",
              "      <th>4</th>\n",
              "      <td>* Administrator 🚩  ✊ 📚 📚 ✒ 📚 📚  📚   📚   ✒   📚 ...</td>\n",
              "      <td>0</td>\n",
              "    </tr>\n",
              "  </tbody>\n",
              "</table>\n",
              "</div>"
            ],
            "text/plain": [
              "                                                text  label\n",
              "0  # If you keep drums Tasha beaten Tajiya in Muh...      1\n",
              "1  Watch the video carefully.  Muslims are taking...      1\n",
              "2   👉  ▶  🔵  🔵  👉  🔺  🔺  🔺  🔺  🔺  🔺  🔵  🔵  🔵  🔵  ...      0\n",
              "3  * Forgotten memories, forgotten by everyone. *...      0\n",
              "4  * Administrator 🚩  ✊ 📚 📚 ✒ 📚 📚  📚   📚   ✒   📚 ...      0"
            ]
          },
          "metadata": {
            "tags": []
          },
          "execution_count": 22
        }
      ]
    },
    {
      "cell_type": "code",
      "metadata": {
        "id": "tmIgiK4gdH4a",
        "colab_type": "code",
        "colab": {}
      },
      "source": [
        "convention_df = dataFrame.assign(\n",
        "    parse=lambda df: df.text.apply(nlp),\n",
        "    party=lambda df: df.label.apply({1.0: 'FearSpeech', 0.0: 'NormalSpeech'}.get)\n",
        ")"
      ],
      "execution_count": 0,
      "outputs": []
    },
    {
      "cell_type": "code",
      "metadata": {
        "id": "7lGUKYN5X33U",
        "colab_type": "code",
        "outputId": "1e62c283-11af-4ab1-d4bd-62649944ed34",
        "colab": {
          "base_uri": "https://localhost:8080/",
          "height": 237
        }
      },
      "source": [
        "convention_df.head()"
      ],
      "execution_count": 24,
      "outputs": [
        {
          "output_type": "execute_result",
          "data": {
            "text/html": [
              "<div>\n",
              "<style scoped>\n",
              "    .dataframe tbody tr th:only-of-type {\n",
              "        vertical-align: middle;\n",
              "    }\n",
              "\n",
              "    .dataframe tbody tr th {\n",
              "        vertical-align: top;\n",
              "    }\n",
              "\n",
              "    .dataframe thead th {\n",
              "        text-align: right;\n",
              "    }\n",
              "</style>\n",
              "<table border=\"1\" class=\"dataframe\">\n",
              "  <thead>\n",
              "    <tr style=\"text-align: right;\">\n",
              "      <th></th>\n",
              "      <th>text</th>\n",
              "      <th>label</th>\n",
              "      <th>parse</th>\n",
              "      <th>party</th>\n",
              "    </tr>\n",
              "  </thead>\n",
              "  <tbody>\n",
              "    <tr>\n",
              "      <th>0</th>\n",
              "      <td># If you keep drums Tasha beaten Tajiya in Muh...</td>\n",
              "      <td>1</td>\n",
              "      <td>(#, If, you, keep, drums, Tasha, beaten, Tajiy...</td>\n",
              "      <td>FearSpeech</td>\n",
              "    </tr>\n",
              "    <tr>\n",
              "      <th>1</th>\n",
              "      <td>Watch the video carefully.  Muslims are taking...</td>\n",
              "      <td>1</td>\n",
              "      <td>(Watch, the, video, carefully, .,  , Muslims, ...</td>\n",
              "      <td>FearSpeech</td>\n",
              "    </tr>\n",
              "    <tr>\n",
              "      <th>2</th>\n",
              "      <td>👉  ▶  🔵  🔵  👉  🔺  🔺  🔺  🔺  🔺  🔺  🔵  🔵  🔵  🔵  ...</td>\n",
              "      <td>0</td>\n",
              "      <td>( , 👉,  , ▶,  , 🔵,  , 🔵,  , 👉,  , 🔺,  , 🔺,  , ...</td>\n",
              "      <td>NormalSpeech</td>\n",
              "    </tr>\n",
              "    <tr>\n",
              "      <th>3</th>\n",
              "      <td>* Forgotten memories, forgotten by everyone. *...</td>\n",
              "      <td>0</td>\n",
              "      <td>(*, Forgotten, memories, ,, forgotten, by, eve...</td>\n",
              "      <td>NormalSpeech</td>\n",
              "    </tr>\n",
              "    <tr>\n",
              "      <th>4</th>\n",
              "      <td>* Administrator 🚩  ✊ 📚 📚 ✒ 📚 📚  📚   📚   ✒   📚 ...</td>\n",
              "      <td>0</td>\n",
              "      <td>(*, Administrator, 🚩,  , ✊, 📚, 📚, ✒, 📚, 📚,  , ...</td>\n",
              "      <td>NormalSpeech</td>\n",
              "    </tr>\n",
              "  </tbody>\n",
              "</table>\n",
              "</div>"
            ],
            "text/plain": [
              "                                                text  ...         party\n",
              "0  # If you keep drums Tasha beaten Tajiya in Muh...  ...    FearSpeech\n",
              "1  Watch the video carefully.  Muslims are taking...  ...    FearSpeech\n",
              "2   👉  ▶  🔵  🔵  👉  🔺  🔺  🔺  🔺  🔺  🔺  🔵  🔵  🔵  🔵  ...  ...  NormalSpeech\n",
              "3  * Forgotten memories, forgotten by everyone. *...  ...  NormalSpeech\n",
              "4  * Administrator 🚩  ✊ 📚 📚 ✒ 📚 📚  📚   📚   ✒   📚 ...  ...  NormalSpeech\n",
              "\n",
              "[5 rows x 4 columns]"
            ]
          },
          "metadata": {
            "tags": []
          },
          "execution_count": 24
        }
      ]
    },
    {
      "cell_type": "code",
      "metadata": {
        "id": "zo3tsRHky4fg",
        "colab_type": "code",
        "outputId": "998ac90e-b63d-4ecc-c84a-7b2f48eb2d32",
        "colab": {
          "base_uri": "https://localhost:8080/",
          "height": 176
        }
      },
      "source": [
        "corpus = st.CorpusFromParsedDocuments(\n",
        "    convention_df,\n",
        "    category_col='party',\n",
        "    parsed_col='parse',\n",
        "    feats_from_spacy_doc=st.PyTextRankPhrases()\n",
        ").build(\n",
        ").compact(\n",
        "    AssociationCompactor(2000, use_non_text_features=True)\n",
        ")"
      ],
      "execution_count": 25,
      "outputs": [
        {
          "output_type": "stream",
          "text": [
            "/usr/local/lib/python3.6/dist-packages/scattertext/termscoring/ScaledFScore.py:129: RuntimeWarning: invalid value encountered in true_divide\n",
            "  precision = (cat_word_counts * 1. / (cat_word_counts + not_cat_word_counts))\n",
            "/usr/local/lib/python3.6/dist-packages/scipy/stats/_distn_infrastructure.py:903: RuntimeWarning: invalid value encountered in greater\n",
            "  return (a < x) & (x < b)\n",
            "/usr/local/lib/python3.6/dist-packages/scipy/stats/_distn_infrastructure.py:903: RuntimeWarning: invalid value encountered in less\n",
            "  return (a < x) & (x < b)\n",
            "/usr/local/lib/python3.6/dist-packages/scipy/stats/_distn_infrastructure.py:1827: RuntimeWarning: invalid value encountered in greater_equal\n",
            "  cond2 = (x >= np.asarray(_b)) & cond0\n"
          ],
          "name": "stderr"
        }
      ]
    },
    {
      "cell_type": "code",
      "metadata": {
        "id": "vAFSE7szvhDT",
        "colab_type": "code",
        "outputId": "d62219be-9fa9-4b88-aa3e-4bc84ffb3d5d",
        "colab": {
          "base_uri": "https://localhost:8080/",
          "height": 277
        }
      },
      "source": [
        "term_category_scores = corpus.get_metadata_freq_df('')\n",
        "print(term_category_scores)"
      ],
      "execution_count": 26,
      "outputs": [
        {
          "output_type": "stream",
          "text": [
            "                        FearSpeech  NormalSpeech\n",
            "term                                            \n",
            "😬                         1.398395      0.000000\n",
            "😐 #                       0.106158      0.000000\n",
            "#                         0.187711      0.031973\n",
            "wrong apply 😬  animals    0.087047      0.000000\n",
            "wrong anchor              0.083790      0.000000\n",
            "...                            ...           ...\n",
            "barra                     0.018490      0.000000\n",
            "muhammed                  0.036980      0.000000\n",
            "the sky                   0.016999      0.000000\n",
            "the names                 0.016416      0.000000\n",
            "only 13 wives             0.012991      0.000000\n",
            "\n",
            "[2000 rows x 2 columns]\n"
          ],
          "name": "stdout"
        }
      ]
    },
    {
      "cell_type": "code",
      "metadata": {
        "id": "pQKjHzfeQYaj",
        "colab_type": "code",
        "colab": {}
      },
      "source": [
        "term_ranks = np.argsort(np.argsort(-term_category_scores, axis=0), axis=0) + 1\n",
        "metadata_descriptions = {\n",
        "    term: '<br/>' + '<br/>'.join(\n",
        "        '<b>%s</b> TextRank score rank: %s/%s' % (cat, term_ranks.loc[term, cat], corpus.get_num_metadata())\n",
        "        for cat in corpus.get_categories())\n",
        "    for term in corpus.get_metadata()\n",
        "}"
      ],
      "execution_count": 0,
      "outputs": []
    },
    {
      "cell_type": "code",
      "metadata": {
        "id": "AT6MeQqAQKV6",
        "colab_type": "code",
        "colab": {}
      },
      "source": [
        "category_specific_prominence = term_category_scores.apply(\n",
        "    lambda r: r.FearSpeech if r.FearSpeech > r.NormalSpeech else -r.NormalSpeech,\n",
        "    axis=1\n",
        ")"
      ],
      "execution_count": 0,
      "outputs": []
    },
    {
      "cell_type": "code",
      "metadata": {
        "id": "iVnxrOpnUjCh",
        "colab_type": "code",
        "colab": {}
      },
      "source": [
        "html1 = produce_scattertext_explorer(\n",
        "    corpus,\n",
        "    category='FearSpeech',\n",
        "    minimum_term_frequency=0,\n",
        "    pmi_threshold_coefficient=0,\n",
        "    width_in_pixels=1000,\n",
        "    transform=dense_rank,\n",
        "    #metadata=corpus.get_df()['speaker'],\n",
        "    scores=category_specific_prominence,\n",
        "    sort_by_dist=False,\n",
        "    use_non_text_features=True,\n",
        "    topic_model_term_lists={term: [term] for term in         \n",
        "                            corpus.get_metadata()},\n",
        "    topic_model_preview_size=0,\n",
        "    metadata_descriptions=metadata_descriptions,\n",
        "    use_full_doc=True\n",
        ")"
      ],
      "execution_count": 0,
      "outputs": []
    },
    {
      "cell_type": "code",
      "metadata": {
        "id": "ZJIpQbn9SB4w",
        "colab_type": "code",
        "outputId": "8d84d1ae-7a29-4eac-dba7-aa628fbf30b1",
        "colab": {
          "base_uri": "https://localhost:8080/",
          "height": 35
        }
      },
      "source": [
        "open(\"Convention-Visualization1.html\", 'wb').write(html1.encode('utf-8'))"
      ],
      "execution_count": 30,
      "outputs": [
        {
          "output_type": "execute_result",
          "data": {
            "text/plain": [
              "1427427"
            ]
          },
          "metadata": {
            "tags": []
          },
          "execution_count": 30
        }
      ]
    },
    {
      "cell_type": "code",
      "metadata": {
        "id": "kyvxI-92VYjm",
        "colab_type": "code",
        "colab": {}
      },
      "source": [
        "html2 = produce_scattertext_explorer(\n",
        "    corpus,\n",
        "    category='FearSpeech',\n",
        "    minimum_term_frequency=0,\n",
        "    pmi_threshold_coefficient=0,\n",
        "    width_in_pixels=1000,\n",
        "    transform=dense_rank,\n",
        "    use_non_text_features=True,\n",
        "    #metadata=corpus.get_df()['speaker'],\n",
        "    term_scorer=RankDifference(),\n",
        "    sort_by_dist=False,\n",
        "    topic_model_term_lists={term: [term] for term in \n",
        "                            corpus.get_metadata()},\n",
        "    topic_model_preview_size=0, \n",
        "    metadata_descriptions=metadata_descriptions,\n",
        "    use_full_doc=True\n",
        ")"
      ],
      "execution_count": 0,
      "outputs": []
    },
    {
      "cell_type": "code",
      "metadata": {
        "id": "OqxScgpOVahP",
        "colab_type": "code",
        "outputId": "2ecaf2ba-eec4-4fbf-aa80-47d69dea932e",
        "colab": {
          "base_uri": "https://localhost:8080/",
          "height": 35
        }
      },
      "source": [
        "open(\"Convention-Visualization2.html\", 'wb').write(html2.encode('utf-8'))"
      ],
      "execution_count": 32,
      "outputs": [
        {
          "output_type": "execute_result",
          "data": {
            "text/plain": [
              "1425920"
            ]
          },
          "metadata": {
            "tags": []
          },
          "execution_count": 32
        }
      ]
    },
    {
      "cell_type": "code",
      "metadata": {
        "id": "h6qRJW5sWfGM",
        "colab_type": "code",
        "colab": {}
      },
      "source": [
        "import spacy\n",
        "from scattertext import SampleCorpora, PhraseMachinePhrases, dense_rank, RankDifference, AssociationCompactor, produce_scattertext_explorer\n",
        "from scattertext.CorpusFromPandas import CorpusFromPandas\n"
      ],
      "execution_count": 0,
      "outputs": []
    },
    {
      "cell_type": "code",
      "metadata": {
        "id": "MasJzdqTWlNc",
        "colab_type": "code",
        "colab": {}
      },
      "source": [
        "corpus = (CorpusFromPandas(convention_df,\n",
        "                           category_col='party',\n",
        "                           text_col='text',\n",
        "                           feats_from_spacy_doc=PhraseMachinePhrases(),\n",
        "                           nlp=spacy.load('en', parser=False))\n",
        "          .build().compact(AssociationCompactor(4000)))\n"
      ],
      "execution_count": 0,
      "outputs": []
    },
    {
      "cell_type": "code",
      "metadata": {
        "id": "snNA9DvzXEbk",
        "colab_type": "code",
        "outputId": "dedabd8b-0b0d-4a13-8f9a-3fe7fb3de985",
        "colab": {
          "base_uri": "https://localhost:8080/",
          "height": 72
        }
      },
      "source": [
        "html3 = produce_scattertext_explorer(corpus,\n",
        "                                    category='FearSpeech',\n",
        "                                    category_name='FearSpeech',\n",
        "                                    not_category_name='NormalSpeech',\n",
        "                                    minimum_term_frequency=0,\n",
        "                                    pmi_threshold_coefficient=0,\n",
        "                                    transform=dense_rank,\n",
        "                                    #metadata=corpus.get_df()['speaker'],\n",
        "                                    term_scorer=RankDifference(),\n",
        "                                    width_in_pixels=1000)"
      ],
      "execution_count": 35,
      "outputs": [
        {
          "output_type": "stream",
          "text": [
            "/usr/local/lib/python3.6/dist-packages/scattertext/termscoring/ScaledFScore.py:296: RuntimeWarning: invalid value encountered in true_divide\n",
            "  recall = cat_word_counts * 1. / cat_word_counts.sum()\n"
          ],
          "name": "stderr"
        }
      ]
    },
    {
      "cell_type": "code",
      "metadata": {
        "id": "a9kMiVwIXJg2",
        "colab_type": "code",
        "outputId": "2399c959-e665-44d4-f21c-c59f6c8650c4",
        "colab": {
          "base_uri": "https://localhost:8080/",
          "height": 35
        }
      },
      "source": [
        "open(\"Convention-Visualization3.html\", 'wb').write(html3.encode('utf-8'))"
      ],
      "execution_count": 36,
      "outputs": [
        {
          "output_type": "execute_result",
          "data": {
            "text/plain": [
              "923405"
            ]
          },
          "metadata": {
            "tags": []
          },
          "execution_count": 36
        }
      ]
    }
  ]
}
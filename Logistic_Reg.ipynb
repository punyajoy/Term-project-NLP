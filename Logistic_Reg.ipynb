{
 "cells": [
  {
   "cell_type": "code",
   "execution_count": 1,
   "metadata": {
    "colab": {},
    "colab_type": "code",
    "id": "xJWVO2ErjzYn"
   },
   "outputs": [
    {
     "name": "stdout",
     "output_type": "stream",
     "text": [
      "Requirement already satisfied: cltk in c:\\users\\midas\\appdata\\local\\continuum\\anaconda3\\lib\\site-packages (0.1.117)\n",
      "Requirement already satisfied: pyyaml in c:\\users\\midas\\appdata\\local\\continuum\\anaconda3\\lib\\site-packages (from cltk) (5.1.1)\n",
      "Requirement already satisfied: nltk in c:\\users\\midas\\appdata\\local\\continuum\\anaconda3\\lib\\site-packages (from cltk) (3.4)\n",
      "Requirement already satisfied: python-crfsuite in c:\\users\\midas\\appdata\\local\\continuum\\anaconda3\\lib\\site-packages (from cltk) (0.9.7)\n",
      "Requirement already satisfied: whoosh in c:\\users\\midas\\appdata\\local\\continuum\\anaconda3\\lib\\site-packages (from cltk) (2.7.4)\n",
      "Requirement already satisfied: gitpython in c:\\users\\midas\\appdata\\local\\continuum\\anaconda3\\lib\\site-packages (from cltk) (3.1.1)\n",
      "Requirement already satisfied: pyuca in c:\\users\\midas\\appdata\\local\\continuum\\anaconda3\\lib\\site-packages (from cltk) (1.2)\n",
      "Requirement already satisfied: regex in c:\\users\\midas\\appdata\\local\\continuum\\anaconda3\\lib\\site-packages (from cltk) (2020.4.4)\n",
      "Requirement already satisfied: six in c:\\users\\midas\\appdata\\local\\continuum\\anaconda3\\lib\\site-packages (from nltk->cltk) (1.12.0)\n",
      "Requirement already satisfied: singledispatch in c:\\users\\midas\\appdata\\local\\continuum\\anaconda3\\lib\\site-packages (from nltk->cltk) (3.4.0.3)\n",
      "Requirement already satisfied: gitdb<5,>=4.0.1 in c:\\users\\midas\\appdata\\local\\continuum\\anaconda3\\lib\\site-packages (from gitpython->cltk) (4.0.4)\n",
      "Requirement already satisfied: smmap<4,>=3.0.1 in c:\\users\\midas\\appdata\\local\\continuum\\anaconda3\\lib\\site-packages (from gitdb<5,>=4.0.1->gitpython->cltk) (3.0.2)\n"
     ]
    }
   ],
   "source": [
    "#!pip install fasttext\n",
    "!pip install cltk\n",
    "import pandas as pd\n",
    "import numpy as np\n",
    "import json\n",
    "import os\n",
    "#from stemmer import *\n",
    "#import fasttext\n",
    "import spacy\n",
    "nlp = spacy.load('en_core_web_sm')\n",
    "import re\n",
    "from sklearn.feature_extraction.text import CountVectorizer"
   ]
  },
  {
   "cell_type": "code",
   "execution_count": 17,
   "metadata": {},
   "outputs": [
    {
     "name": "stdout",
     "output_type": "stream",
     "text": [
      "Collecting laserembeddings\n",
      "  Downloading https://files.pythonhosted.org/packages/c5/6b/93843d90080666571a79f8eb195fa58aa5e45cf24d36158b9c01dba306e2/laserembeddings-1.0.1-py3-none-any.whl\n",
      "Collecting torch<2.0.0,>=1.0.1.post2 (from laserembeddings)\n"
     ]
    },
    {
     "name": "stderr",
     "output_type": "stream",
     "text": [
      "  ERROR: Could not find a version that satisfies the requirement torch<2.0.0,>=1.0.1.post2 (from laserembeddings) (from versions: 0.1.2, 0.1.2.post1, 0.1.2.post2)\n",
      "ERROR: No matching distribution found for torch<2.0.0,>=1.0.1.post2 (from laserembeddings)\n",
      "C:\\Users\\midas\\AppData\\Local\\Continuum\\anaconda3\\python.exe: No module named laserembeddings\n"
     ]
    }
   ],
   "source": [
    "!pip install laserembeddings\n",
    "!python -m laserembeddings download-models"
   ]
  },
  {
   "cell_type": "code",
   "execution_count": 2,
   "metadata": {
    "colab": {},
    "colab_type": "code",
    "id": "tchhXBwfzmwe"
   },
   "outputs": [],
   "source": [
    "from cltk.corpus.utils.importer import CorpusImporter\n",
    "from cltk.tokenize.sentence import TokenizeSentence\n",
    "from cltk.tokenize.word import WordTokenizer\n",
    "c = CorpusImporter('hindi')\n",
    "tokenizer = TokenizeSentence('hindi')\n",
    "word_tokenizer = WordTokenizer('multilingual')\n"
   ]
  },
  {
   "cell_type": "code",
   "execution_count": 3,
   "metadata": {
    "colab": {},
    "colab_type": "code",
    "id": "TMLYutLyj8g-"
   },
   "outputs": [],
   "source": [
    "df=pd.read_csv(\"Total_data_annotated.csv\")\n",
    "#del(df[\"Unnamed: 0\"])"
   ]
  },
  {
   "cell_type": "code",
   "execution_count": 4,
   "metadata": {
    "colab": {
     "base_uri": "https://localhost:8080/",
     "height": 306
    },
    "colab_type": "code",
    "id": "8Kff586clFPJ",
    "outputId": "e37509f7-54eb-4a28-eaf1-ddeb0d4aae0c"
   },
   "outputs": [
    {
     "data": {
      "text/html": [
       "<div>\n",
       "<style scoped>\n",
       "    .dataframe tbody tr th:only-of-type {\n",
       "        vertical-align: middle;\n",
       "    }\n",
       "\n",
       "    .dataframe tbody tr th {\n",
       "        vertical-align: top;\n",
       "    }\n",
       "\n",
       "    .dataframe thead th {\n",
       "        text-align: right;\n",
       "    }\n",
       "</style>\n",
       "<table border=\"1\" class=\"dataframe\">\n",
       "  <thead>\n",
       "    <tr style=\"text-align: right;\">\n",
       "      <th></th>\n",
       "      <th>Unnamed: 0</th>\n",
       "      <th>Mithun</th>\n",
       "      <th>Punyajoy</th>\n",
       "      <th>Soumyadeep</th>\n",
       "      <th>id</th>\n",
       "      <th>label</th>\n",
       "      <th>text</th>\n",
       "      <th>translated</th>\n",
       "    </tr>\n",
       "  </thead>\n",
       "  <tbody>\n",
       "    <tr>\n",
       "      <th>0</th>\n",
       "      <td>0</td>\n",
       "      <td>0</td>\n",
       "      <td>1</td>\n",
       "      <td>0</td>\n",
       "      <td>524726</td>\n",
       "      <td>0.0</td>\n",
       "      <td>आज ही के दिन 30 जनबरी को नाथूराम ने गाँधी वध क...</td>\n",
       "      <td>NaN</td>\n",
       "    </tr>\n",
       "    <tr>\n",
       "      <th>1</th>\n",
       "      <td>1</td>\n",
       "      <td>0</td>\n",
       "      <td>0</td>\n",
       "      <td>0</td>\n",
       "      <td>207102</td>\n",
       "      <td>0.0</td>\n",
       "      <td>*👉जम्मू कश्मीरः बडगाम में एनकाउंटर🔫 जारी, दो आ...</td>\n",
       "      <td>* 👉  Jammu Kashmir: Encounter continues 🔫  in ...</td>\n",
       "    </tr>\n",
       "    <tr>\n",
       "      <th>2</th>\n",
       "      <td>2</td>\n",
       "      <td>0</td>\n",
       "      <td>0</td>\n",
       "      <td>0</td>\n",
       "      <td>135627</td>\n",
       "      <td>0.0</td>\n",
       "      <td>*यह साध्वी जी की परिपक्वता और गहरी समझ की निशा...</td>\n",
       "      <td>* It is a sign of maturity and deep understand...</td>\n",
       "    </tr>\n",
       "    <tr>\n",
       "      <th>3</th>\n",
       "      <td>3</td>\n",
       "      <td>0</td>\n",
       "      <td>0</td>\n",
       "      <td>0</td>\n",
       "      <td>665173</td>\n",
       "      <td>0.0</td>\n",
       "      <td>भारतीय सेना ने की एक और सर्जिकल स्‍ट्राइक, म्‍...</td>\n",
       "      <td>The Indian Army carried out this operation in ...</td>\n",
       "    </tr>\n",
       "    <tr>\n",
       "      <th>4</th>\n",
       "      <td>4</td>\n",
       "      <td>0</td>\n",
       "      <td>1</td>\n",
       "      <td>0</td>\n",
       "      <td>543553</td>\n",
       "      <td>0.0</td>\n",
       "      <td>एक नया ड्रामा डॉ अम्बेडकर के नाम पर प्रचलित हु...</td>\n",
       "      <td>A new drama has become popular in the name of ...</td>\n",
       "    </tr>\n",
       "  </tbody>\n",
       "</table>\n",
       "</div>"
      ],
      "text/plain": [
       "   Unnamed: 0  Mithun  Punyajoy  Soumyadeep      id  label  \\\n",
       "0           0       0         1           0  524726    0.0   \n",
       "1           1       0         0           0  207102    0.0   \n",
       "2           2       0         0           0  135627    0.0   \n",
       "3           3       0         0           0  665173    0.0   \n",
       "4           4       0         1           0  543553    0.0   \n",
       "\n",
       "                                                text  \\\n",
       "0  आज ही के दिन 30 जनबरी को नाथूराम ने गाँधी वध क...   \n",
       "1  *👉जम्मू कश्मीरः बडगाम में एनकाउंटर🔫 जारी, दो आ...   \n",
       "2  *यह साध्वी जी की परिपक्वता और गहरी समझ की निशा...   \n",
       "3  भारतीय सेना ने की एक और सर्जिकल स्‍ट्राइक, म्‍...   \n",
       "4  एक नया ड्रामा डॉ अम्बेडकर के नाम पर प्रचलित हु...   \n",
       "\n",
       "                                          translated  \n",
       "0                                                NaN  \n",
       "1  * 👉  Jammu Kashmir: Encounter continues 🔫  in ...  \n",
       "2  * It is a sign of maturity and deep understand...  \n",
       "3  The Indian Army carried out this operation in ...  \n",
       "4  A new drama has become popular in the name of ...  "
      ]
     },
     "execution_count": 4,
     "metadata": {},
     "output_type": "execute_result"
    }
   ],
   "source": [
    "df.head()"
   ]
  },
  {
   "cell_type": "code",
   "execution_count": 7,
   "metadata": {
    "colab": {},
    "colab_type": "code",
    "id": "Cxls7onUnjxW"
   },
   "outputs": [],
   "source": [
    "with open('Resource/stopwords-hi.json','r',encoding=\"utf8\") as fp:\n",
    "  HindiStopwords=json.load(fp)"
   ]
  },
  {
   "cell_type": "code",
   "execution_count": 8,
   "metadata": {
    "colab": {},
    "colab_type": "code",
    "id": "J3xnf6lZi0fY"
   },
   "outputs": [],
   "source": [
    "EnglishStopwords=nlp.Defaults.stop_words"
   ]
  },
  {
   "cell_type": "code",
   "execution_count": 9,
   "metadata": {
    "colab": {},
    "colab_type": "code",
    "id": "1rICbKU0jJpy"
   },
   "outputs": [],
   "source": [
    "mixStopWords = HindiStopwords\n",
    "mixStopWords.extend(EnglishStopwords)"
   ]
  },
  {
   "cell_type": "code",
   "execution_count": 25,
   "metadata": {
    "colab": {
     "base_uri": "https://localhost:8080/",
     "height": 35
    },
    "colab_type": "code",
    "id": "MTgG5EbBz44I",
    "outputId": "19c14895-6d0f-4f10-e287-17f35da59d18"
   },
   "outputs": [
    {
     "name": "stderr",
     "output_type": "stream",
     "text": [
      "\n"
     ]
    }
   ],
   "source": [
    "#PRETRAINED_MODEL_PATH = 'Resource/lid.176.bin'\n",
    "#model = fasttext.load_model(PRETRAINED_MODEL_PATH)"
   ]
  },
  {
   "cell_type": "code",
   "execution_count": 10,
   "metadata": {
    "colab": {},
    "colab_type": "code",
    "id": "MSaa4rYYinzc"
   },
   "outputs": [],
   "source": [
    "def tokenizeText(text):\n",
    "  #predictions = model.predict(text)\n",
    "  removedLinkText=re.sub(r\"http\\S+\", \"\", text)\n",
    "  doc=word_tokenizer.tokenize(removedLinkText)\n",
    "  return doc\n",
    "\n",
    "def preprocessed(TokeninzedSent):\n",
    "  Processedlist=[]\n",
    "  for tokens in TokeninzedSent:\n",
    "    temp=[]\n",
    "    for token in tokens:\n",
    "      if(len(token)>2):\n",
    "        temp.append(token)\n",
    "    Processedlist.append(temp)\n",
    "  return Processedlist\n",
    "\n",
    "def RemoveStopwords(WordList,Stopwords):\n",
    "  Processedlist=[]\n",
    "  for tokens in WordList:\n",
    "    temp=[]\n",
    "    for token in tokens:\n",
    "      if(token not in Stopwords):\n",
    "        temp.append(token)\n",
    "    Processedlist.append(temp)\n",
    "  return Processedlist \n"
   ]
  },
  {
   "cell_type": "code",
   "execution_count": 11,
   "metadata": {
    "colab": {
     "base_uri": "https://localhost:8080/",
     "height": 55
    },
    "colab_type": "code",
    "id": "32d3RsNii_VE",
    "outputId": "cbc3f5a1-cbe0-404a-b4af-e5013db7962c"
   },
   "outputs": [
    {
     "name": "stdout",
     "output_type": "stream",
     "text": [
      "['*👉जम्मू', 'कश्मीरः', 'बडगाम', 'में', 'एनकाउंटर🔫', 'जारी', ',', 'दो', 'आतंकी👥', 'ढेर', ',', 'चार', 'जवान', 'घायल🤕*', 'जम्मू', 'कश्मीर', ',', 'बडगाम', 'जिले', 'के', 'सुत्सू', 'गांव', 'में', 'सुरक्षाबलों', 'और', 'आतंकियों', 'के', 'बीच', 'मुठभेड़', 'में', 'दो', 'आतंकियों', 'के', 'मारे', 'जाने', 'की', 'खबर', 'सामने', 'आई', 'है।', 'अधिकारियों', 'ने', 'इस', 'बारे', 'में', 'जानकारी', 'दी', 'है।', 'एएनआई', 'की', 'रिपोर्ट', 'के', 'मुताबिक', 'एनकाउंटर', 'में', 'दो', 'आतंकी', 'मारे', 'गए', 'हैं।', 'मुठभेड़', 'के', 'दौरान', 'चार', 'जवान', 'भी', 'घायल', 'हुए', 'हैं।', 'यह', 'एनकाउंटर', 'अभी', 'भी', 'जारी', 'है।', 'इलाके', 'के', 'एक', 'घर', 'में', 'कम', 'से', 'कम', 'तीन', 'आतंकियों', 'के', 'छिपे', 'होने', 'की', 'आशंका', 'है।', 'इस', 'खबर', 'के', 'बारे', 'में', 'ज्यादा', 'जानकारी', 'का', 'इंतजार', 'है।', 'बीते', 'गुरुवार', 'को', 'भी', 'जम्मू-कश्मीर', 'के', 'शोपियां', 'और', 'कुपवाड़ा', 'जिलों', 'में', 'सुरक्षा', 'बलों', 'के', 'साथ', 'दो', 'मुठभेड़ों', 'में', 'चार', 'आतंकवादी', 'मारे', 'गए', 'थे।', 'पुलिस', 'के', 'एक', 'प्रवक्ता', 'ने', 'बताया', 'था', 'कि', 'सुरक्षा', 'बलों', 'को', 'जिले', 'के', 'यावरां', 'वन', 'क्षेत्र', 'में', 'आतंकवादियों', 'के', 'होने', 'की', 'सूचना', 'मिली', 'थी', 'जिसके', 'बाद', 'वहां', 'आतंकवाद', 'विरोधी', 'अभियान', 'चलाया', 'गया।', 'इसके', 'बाद', 'हुई', 'मुठभेड़', 'में', 'तीन', 'आतंकवादी', 'मारे', 'गए।', 'प्रवक्ता', 'ने', 'बताया', '‘', 'मारे', 'गए', 'आतंकवादियों', 'की', 'पहचान', 'सजाद', 'खांडे', ',', 'आकिब', 'अहमद', 'डार', 'और', 'बशरत', 'अहमद', 'मीर', 'के', 'रूप', 'में', 'की', 'गई।', 'यहां', 'पढ़ें', 'पूरी', 'खबर-', '*Duta', 'लाया', 'है', 'आज', 'की', 'ताज़ा', 'ख़बरें', ',', 'सीधे', 'Whatsapp', 'के', 'अंदर।', 'अपने', 'ग्रुप', 'में', 'जोड़ें', 'ये', 'नंबर', ':', '+916385135784*', 'पसंद', 'करने', 'के', 'लिए', 'इस', 'मैसेज', 'को', 'reply', 'करें', 'और', 'टाइप', 'करे', '👍']\n"
     ]
    }
   ],
   "source": [
    "TokeninzedSent=[]\n",
    "label=[]\n",
    "for i in range(0, len(df)):\n",
    "  TokeninzedSent.append(tokenizeText(df['text'][i]))\n",
    "  label.append(df['label'][i])\n",
    "print(TokeninzedSent[1])"
   ]
  },
  {
   "cell_type": "code",
   "execution_count": 12,
   "metadata": {
    "colab": {
     "base_uri": "https://localhost:8080/",
     "height": 52
    },
    "colab_type": "code",
    "id": "e8D1MVt0kC2N",
    "outputId": "d4bd35c1-fa9e-4672-9bd6-d95251df42e0"
   },
   "outputs": [
    {
     "name": "stdout",
     "output_type": "stream",
     "text": [
      "540\n",
      "540\n"
     ]
    }
   ],
   "source": [
    "print(len(TokeninzedSent))\n",
    "print(len(label))"
   ]
  },
  {
   "cell_type": "code",
   "execution_count": 13,
   "metadata": {
    "colab": {},
    "colab_type": "code",
    "id": "PqEe0YN5kZK4"
   },
   "outputs": [],
   "source": [
    "processedList=preprocessed(TokeninzedSent)\n",
    "FinalprocessedList=RemoveStopwords(processedList,mixStopWords)"
   ]
  },
  {
   "cell_type": "code",
   "execution_count": 14,
   "metadata": {
    "colab": {},
    "colab_type": "code",
    "id": "qNTsQAZDkrNz"
   },
   "outputs": [],
   "source": [
    "FinalList=[]\n",
    "for lst in FinalprocessedList:\n",
    "  FinalList.append(' '.join(lst))"
   ]
  },
  {
   "cell_type": "code",
   "execution_count": 15,
   "metadata": {
    "colab": {
     "base_uri": "https://localhost:8080/",
     "height": 55
    },
    "colab_type": "code",
    "id": "cXNJlcX0R2wi",
    "outputId": "9091aa0f-a23b-47b5-e25f-40a283ec8f57"
   },
   "outputs": [
    {
     "data": {
      "text/plain": [
       "'दिन जनबरी नाथूराम गाँधी अन्यथा गाँधी योजना पाकिस्तान जाने महात्मा बनने गाँधी पाकिस्तान मांगे मानने वाला देश टुकड़े तैयार ... नाथूराम जिनकी गाँधी व्यक्तिगत दुश्मनी महात्मा नाथूराम अच्छे परिवार अमीर महाराष्ट्र चलकर दिल्ली पहुंचे दिन यानि जनवरी महात्मा नाथूराम गाँधी देश बचा लिया गर्व देश बचा नाथूराम देश हिस्सों तोड़ने पूर्वी पाकिस्तान पश्चिमी पाकिस्तान रास्ता बनाने मंशा कारण गाँधी बता दें पूर्वी पाकिस्तान पश्चिमी पाकिस्तान बनाया गाँधी सेकुलरिज्म चक्कर जिहादियों बात माना जिसमे जिहादी चाह पूर्वी पाकिस्तान लेकर पश्चिमी पाकिस्तान जाने भारत बीचों बीच किलोमीटर चौड़ा रास्ता जाये रस्ते केवल मुसलमानो रहने इज़ाज़त जाए ताकि रास्ता पूर्वी पाकिस्तान पश्चिमी पाकिस्तान आने जाने मुसलमानो सुरक्षित गाँधी मुसलमानो मांग मानने वार्ता पश्चिमी पाकिस्तान जाने वाला महात्मा नाथूराम गांधीवध देश बचा लिया महात्मा नाथूराम गोडसे ऐसा नक्शा भारत ... पीली लाइन देख किलोमीटर चौड़ा रास्ता पूर्वी पाकिस्तान पश्चिमी पाकिस्तान जाना किलोमीटर केवल मुस्लिम रास्ता पंजाब/राजस्थान यूपी बिहार बंगाल अन्य पूर्वी पाकिस्तान जाना नाथूराम प्राणों चिंता उन्होंने देश बर्बाद बचाने गाँधीवध गिरफ़्तारी फरार उन्होंने गाँधी सीने गोली मारी गिरफ़्तारी महात्मा नाथूराम हमारा देश टुकड़ो तोडा अधिक टुकड़ो अंत वंदे मातरम देश बचाकर चले महात्मा नाथूराम. पिछले सालों देश गांधी बड़ा महात्मा गोडसे बड़ा आतंकवादी बताया जाता ... ... मित्रो क्या आपने कभी सोचा ... आखिर क्या गोडसे विवशता क्या गोडसे नही जानते आदमी मारने राष्ट्रपिता बने मारने क्या अंतर क्या गोडसे अंदाजा गांधी मारने क्या होगा परिवार कैसे कैसे कष्ट सहने पड़ेंगे गोडसे परिवार सम्बन्धियों मित्रों आखिर क्या गांधी वास्तविक कारण क्या विभाजन पीड़ा विभाजन समय क्या क्या मीडिया सेकुलर गिरोह कहता गोडसे आतन्कवादी ... हत्यारा ... परन्तु गोडसे कभी निर्दोष लोगों मारने पूर्व रिकॉर्ड गांधी मारते समय गोडसे उपस्थित लोगों मारा ... ... गोडसे आतन्कवादी हत्यारा कैसे हत्यारा गांधी कहना चाहिए क्योंकि गांधी वजह लाखों हत्याएँ देश भयंकर नुकसान ... ... गांधी थोड़े दिन ज़िंदा जाता भारत नक्शा ... East पाकिस्तान बंगलादेश पाकिस्तान चौड़ी सड़क planning रही ... ... भारत माँ सीना कटने बचाया भारत माँ सच्चे सुपुत्र नथु राम गोडसे जिन्होंने गांधी देश बचाया ... समय हालात गांधी मुस्लिम तुष्टीकरण खातिर भारत हिन्दुओं जख्म दिये गोडसे जगह सच्चा राष्ट्रभक्त गांधी मार देता ... ... गांधी भक्तों सेकुलर गिरोह खुली चुनौती गांधी अदालती कार्रवाई बहस हुतात्मा गोडसे बयानों पक्षों सार्वजनिक करके मीडिया खुलकर बहस करायी जाए ... ... मेरा दावा दूध दूध पानी पानी जाएगा ... परन्तु ... ... गांधी ब्रांड स्थापित वाला वामपंथी गिरोह कभी बाहर आने देगा ... ... क्योंकि ब्रह्मचर्य प्रयोग नाम कुकर्म बापू करतूतों कच्चा चिट्ठा खुलेगा गांधी ब्रांड धज्जियां जायेगी ... ... बार बात निकली दूर जायेगी ... ... साभार_पोस्ट'"
      ]
     },
     "execution_count": 15,
     "metadata": {},
     "output_type": "execute_result"
    }
   ],
   "source": [
    "FinalList[0]"
   ]
  },
  {
   "cell_type": "code",
   "execution_count": 16,
   "metadata": {
    "colab": {},
    "colab_type": "code",
    "id": "W4LtNuFlkthd"
   },
   "outputs": [],
   "source": [
    "newDataFrame=pd.DataFrame()\n",
    "newDataFrame['text']=FinalList\n",
    "newDataFrame['label']=label"
   ]
  },
  {
   "cell_type": "code",
   "execution_count": 33,
   "metadata": {
    "colab": {
     "base_uri": "https://localhost:8080/",
     "height": 202
    },
    "colab_type": "code",
    "id": "phP78DH5k9Rj",
    "outputId": "4a5624a6-9274-4948-e613-397e95cc8ea1"
   },
   "outputs": [
    {
     "data": {
      "text/html": [
       "<div>\n",
       "<style scoped>\n",
       "    .dataframe tbody tr th:only-of-type {\n",
       "        vertical-align: middle;\n",
       "    }\n",
       "\n",
       "    .dataframe tbody tr th {\n",
       "        vertical-align: top;\n",
       "    }\n",
       "\n",
       "    .dataframe thead th {\n",
       "        text-align: right;\n",
       "    }\n",
       "</style>\n",
       "<table border=\"1\" class=\"dataframe\">\n",
       "  <thead>\n",
       "    <tr style=\"text-align: right;\">\n",
       "      <th></th>\n",
       "      <th>text</th>\n",
       "      <th>label</th>\n",
       "    </tr>\n",
       "  </thead>\n",
       "  <tbody>\n",
       "    <tr>\n",
       "      <th>0</th>\n",
       "      <td>दिन जनबरी नाथूराम गाँधी अन्यथा गाँधी योजना पाक...</td>\n",
       "      <td>0.0</td>\n",
       "    </tr>\n",
       "    <tr>\n",
       "      <th>1</th>\n",
       "      <td>*👉जम्मू कश्मीरः बडगाम एनकाउंटर🔫 जारी आतंकी👥 ढे...</td>\n",
       "      <td>0.0</td>\n",
       "    </tr>\n",
       "    <tr>\n",
       "      <th>2</th>\n",
       "      <td>*यह साध्वी परिपक्वता गहरी समझ निशानी है। उन्हो...</td>\n",
       "      <td>0.0</td>\n",
       "    </tr>\n",
       "    <tr>\n",
       "      <th>3</th>\n",
       "      <td>भारतीय सेना सर्जिकल स्‍ट्राइक म्‍यांमार सेना म...</td>\n",
       "      <td>0.0</td>\n",
       "    </tr>\n",
       "    <tr>\n",
       "      <th>4</th>\n",
       "      <td>नया ड्रामा अम्बेडकर नाम प्रचलित उद्देश्य केवल ...</td>\n",
       "      <td>0.0</td>\n",
       "    </tr>\n",
       "  </tbody>\n",
       "</table>\n",
       "</div>"
      ],
      "text/plain": [
       "                                                text  label\n",
       "0  दिन जनबरी नाथूराम गाँधी अन्यथा गाँधी योजना पाक...    0.0\n",
       "1  *👉जम्मू कश्मीरः बडगाम एनकाउंटर🔫 जारी आतंकी👥 ढे...    0.0\n",
       "2  *यह साध्वी परिपक्वता गहरी समझ निशानी है। उन्हो...    0.0\n",
       "3  भारतीय सेना सर्जिकल स्‍ट्राइक म्‍यांमार सेना म...    0.0\n",
       "4  नया ड्रामा अम्बेडकर नाम प्रचलित उद्देश्य केवल ...    0.0"
      ]
     },
     "execution_count": 33,
     "metadata": {
      "tags": []
     },
     "output_type": "execute_result"
    }
   ],
   "source": [
    "newDataFrame.head()"
   ]
  },
  {
   "cell_type": "code",
   "execution_count": 34,
   "metadata": {
    "colab": {
     "base_uri": "https://localhost:8080/",
     "height": 557
    },
    "colab_type": "code",
    "id": "WmL25Pty9xFh",
    "outputId": "ae5de21f-47f1-4d6b-fc59-25b6788e282e"
   },
   "outputs": [
    {
     "name": "stdout",
     "output_type": "stream",
     "text": [
      "Collecting laserembeddings\n",
      "  Downloading https://files.pythonhosted.org/packages/c5/6b/93843d90080666571a79f8eb195fa58aa5e45cf24d36158b9c01dba306e2/laserembeddings-1.0.1-py3-none-any.whl\n",
      "Requirement already satisfied: numpy<2.0.0,>=1.15.4 in /usr/local/lib/python3.6/dist-packages (from laserembeddings) (1.18.3)\n",
      "Collecting subword-nmt<0.4.0,>=0.3.6\n",
      "  Downloading https://files.pythonhosted.org/packages/74/60/6600a7bc09e7ab38bc53a48a20d8cae49b837f93f5842a41fe513a694912/subword_nmt-0.3.7-py2.py3-none-any.whl\n",
      "Requirement already satisfied: torch<2.0.0,>=1.0.1.post2 in /usr/local/lib/python3.6/dist-packages (from laserembeddings) (1.4.0)\n",
      "Collecting sacremoses==0.0.35\n",
      "\u001b[?25l  Downloading https://files.pythonhosted.org/packages/1f/8e/ed5364a06a9ba720fddd9820155cc57300d28f5f43a6fd7b7e817177e642/sacremoses-0.0.35.tar.gz (859kB)\n",
      "\u001b[K     |████████████████████████████████| 860kB 18.6MB/s \n",
      "\u001b[?25hCollecting transliterate==1.10.2\n",
      "\u001b[?25l  Downloading https://files.pythonhosted.org/packages/a1/6e/9a9d597dbdd6d0172427c8cc07c35736471e631060df9e59eeb87687f817/transliterate-1.10.2-py2.py3-none-any.whl (45kB)\n",
      "\u001b[K     |████████████████████████████████| 51kB 8.9MB/s \n",
      "\u001b[?25hRequirement already satisfied: six in /usr/local/lib/python3.6/dist-packages (from sacremoses==0.0.35->laserembeddings) (1.12.0)\n",
      "Requirement already satisfied: click in /usr/local/lib/python3.6/dist-packages (from sacremoses==0.0.35->laserembeddings) (7.1.1)\n",
      "Requirement already satisfied: joblib in /usr/local/lib/python3.6/dist-packages (from sacremoses==0.0.35->laserembeddings) (0.14.1)\n",
      "Requirement already satisfied: tqdm in /usr/local/lib/python3.6/dist-packages (from sacremoses==0.0.35->laserembeddings) (4.38.0)\n",
      "Building wheels for collected packages: sacremoses\n",
      "  Building wheel for sacremoses (setup.py) ... \u001b[?25l\u001b[?25hdone\n",
      "  Created wheel for sacremoses: filename=sacremoses-0.0.35-cp36-none-any.whl size=883999 sha256=982d4fd860256c44255a556fa0a58a8bfc00170629e39ed87fbe74274cd59c94\n",
      "  Stored in directory: /root/.cache/pip/wheels/63/2a/db/63e2909042c634ef551d0d9ac825b2b0b32dede4a6d87ddc94\n",
      "Successfully built sacremoses\n",
      "Installing collected packages: subword-nmt, sacremoses, transliterate, laserembeddings\n",
      "Successfully installed laserembeddings-1.0.1 sacremoses-0.0.35 subword-nmt-0.3.7 transliterate-1.10.2\n",
      "Downloading models into /usr/local/lib/python3.6/dist-packages/laserembeddings/data\n",
      "\n",
      "✅   Downloaded https://dl.fbaipublicfiles.com/laser/models/93langs.fcodes    \n",
      "✅   Downloaded https://dl.fbaipublicfiles.com/laser/models/93langs.fvocab    \n",
      "✅   Downloaded https://dl.fbaipublicfiles.com/laser/models/bilstm.93langs.2018-12-26.pt    \n",
      "\n",
      "✨ You're all set!\n"
     ]
    }
   ],
   "source": []
  },
  {
   "cell_type": "code",
   "execution_count": 0,
   "metadata": {
    "colab": {},
    "colab_type": "code",
    "id": "gXK2cF5w94cF"
   },
   "outputs": [],
   "source": [
    "from laserembeddings import Laser\n",
    "laser = Laser()"
   ]
  },
  {
   "cell_type": "code",
   "execution_count": 0,
   "metadata": {
    "colab": {},
    "colab_type": "code",
    "id": "ace5t-i_98tV"
   },
   "outputs": [],
   "source": [
    "X0 = laser.embed_sentences(newDataFrame['text'],lang='hi')\n",
    "y0 = newDataFrame['label'].values"
   ]
  },
  {
   "cell_type": "code",
   "execution_count": 39,
   "metadata": {
    "colab": {
     "base_uri": "https://localhost:8080/",
     "height": 35
    },
    "colab_type": "code",
    "id": "yTB6INsxxr-d",
    "outputId": "4f8c9622-179e-4c1d-fb63-271e8a473693"
   },
   "outputs": [
    {
     "name": "stdout",
     "output_type": "stream",
     "text": [
      "{0.0: 0.7336956521739131, 1.0: 1.569767441860465}\n"
     ]
    }
   ],
   "source": [
    "from sklearn.model_selection import cross_val_score\n",
    "from sklearn.utils.class_weight import compute_class_weight\n",
    "from sklearn.linear_model import LogisticRegression\n",
    "class_weights = dict(zip(np.unique(y0), compute_class_weight(\"balanced\", np.unique(y0),y0)))\n",
    "print(class_weights)\n",
    "classifier= LogisticRegression(class_weight=class_weights)\n",
    "#classifier= LogisticRegression()"
   ]
  },
  {
   "cell_type": "code",
   "execution_count": 0,
   "metadata": {
    "colab": {},
    "colab_type": "code",
    "id": "Ie609SqAxv60"
   },
   "outputs": [],
   "source": [
    "accuracy = cross_val_score(classifier, X0, y0, cv=10)\n",
    "scores = cross_val_score(classifier, X0, y0, scoring='f1_macro', cv=10)\n"
   ]
  },
  {
   "cell_type": "code",
   "execution_count": 41,
   "metadata": {
    "colab": {
     "base_uri": "https://localhost:8080/",
     "height": 52
    },
    "colab_type": "code",
    "id": "B4_nIQVFpHT2",
    "outputId": "6c773525-06b2-4813-8f26-8008bb6f9a22"
   },
   "outputs": [
    {
     "name": "stdout",
     "output_type": "stream",
     "text": [
      "Accuracy: 0.68 (+/- 0.08)\n",
      "Macro F1: 0.66 (+/- 0.09)\n"
     ]
    }
   ],
   "source": [
    "print(\"Accuracy: %0.2f (+/- %0.2f)\" % (accuracy.mean(), accuracy.std() * 2))\n",
    "print(\"Macro F1: %0.2f (+/- %0.2f)\" % (scores.mean(), scores.std() * 2))"
   ]
  },
  {
   "cell_type": "code",
   "execution_count": 18,
   "metadata": {
    "colab": {},
    "colab_type": "code",
    "id": "KR8R0vPWnG69"
   },
   "outputs": [],
   "source": [
    "from sklearn.feature_extraction.text import CountVectorizer\n",
    "cv = CountVectorizer()"
   ]
  },
  {
   "cell_type": "code",
   "execution_count": 19,
   "metadata": {
    "colab": {},
    "colab_type": "code",
    "id": "QeiYuNtMkAoa"
   },
   "outputs": [],
   "source": [
    "X1 = cv.fit_transform(newDataFrame['text']).toarray()\n",
    "y1 = newDataFrame['label'].values"
   ]
  },
  {
   "cell_type": "code",
   "execution_count": 44,
   "metadata": {
    "colab": {
     "base_uri": "https://localhost:8080/",
     "height": 124
    },
    "colab_type": "code",
    "id": "ZQTJG5JWSdzM",
    "outputId": "16d06341-d7bb-4e19-efe7-0693e7c0e434"
   },
   "outputs": [
    {
     "name": "stdout",
     "output_type": "stream",
     "text": [
      "Requirement already satisfied: sklearn in /usr/local/lib/python3.6/dist-packages (0.0)\n",
      "Requirement already satisfied: scikit-learn in /usr/local/lib/python3.6/dist-packages (from sklearn) (0.22.2.post1)\n",
      "Requirement already satisfied: numpy>=1.11.0 in /usr/local/lib/python3.6/dist-packages (from scikit-learn->sklearn) (1.18.3)\n",
      "Requirement already satisfied: joblib>=0.11 in /usr/local/lib/python3.6/dist-packages (from scikit-learn->sklearn) (0.14.1)\n",
      "Requirement already satisfied: scipy>=0.17.0 in /usr/local/lib/python3.6/dist-packages (from scikit-learn->sklearn) (1.4.1)\n"
     ]
    }
   ],
   "source": [
    "!pip install sklearn"
   ]
  },
  {
   "cell_type": "code",
   "execution_count": 23,
   "metadata": {
    "colab": {
     "base_uri": "https://localhost:8080/",
     "height": 35
    },
    "colab_type": "code",
    "id": "VQggz5MLp6JH",
    "outputId": "1aa99e34-6ef4-4e9d-dbcd-5ef7818d67a2"
   },
   "outputs": [
    {
     "name": "stdout",
     "output_type": "stream",
     "text": [
      "{0.0: 0.7336956521739131, 1.0: 1.569767441860465}\n"
     ]
    }
   ],
   "source": [
    "from sklearn.model_selection import cross_val_score\n",
    "from sklearn.utils.class_weight import compute_class_weight\n",
    "from sklearn.linear_model import LogisticRegression\n",
    "class_weights = dict(zip(np.unique(y1), compute_class_weight(\"balanced\", np.unique(y1),y1)))\n",
    "print(class_weights)\n",
    "classifier= LogisticRegression(class_weight=class_weights)\n",
    "#classifier= LogisticRegression()"
   ]
  },
  {
   "cell_type": "code",
   "execution_count": 24,
   "metadata": {
    "colab": {
     "base_uri": "https://localhost:8080/",
     "height": 1000
    },
    "colab_type": "code",
    "id": "pgqce7UIqDQx",
    "outputId": "f15782cc-c346-4051-e817-85862bf7bdc8"
   },
   "outputs": [
    {
     "name": "stderr",
     "output_type": "stream",
     "text": [
      "C:\\Users\\midas\\AppData\\Local\\Continuum\\anaconda3\\lib\\site-packages\\sklearn\\linear_model\\logistic.py:432: FutureWarning: Default solver will be changed to 'lbfgs' in 0.22. Specify a solver to silence this warning.\n",
      "  FutureWarning)\n",
      "C:\\Users\\midas\\AppData\\Local\\Continuum\\anaconda3\\lib\\site-packages\\sklearn\\linear_model\\logistic.py:432: FutureWarning: Default solver will be changed to 'lbfgs' in 0.22. Specify a solver to silence this warning.\n",
      "  FutureWarning)\n",
      "C:\\Users\\midas\\AppData\\Local\\Continuum\\anaconda3\\lib\\site-packages\\sklearn\\linear_model\\logistic.py:432: FutureWarning: Default solver will be changed to 'lbfgs' in 0.22. Specify a solver to silence this warning.\n",
      "  FutureWarning)\n",
      "C:\\Users\\midas\\AppData\\Local\\Continuum\\anaconda3\\lib\\site-packages\\sklearn\\linear_model\\logistic.py:432: FutureWarning: Default solver will be changed to 'lbfgs' in 0.22. Specify a solver to silence this warning.\n",
      "  FutureWarning)\n",
      "C:\\Users\\midas\\AppData\\Local\\Continuum\\anaconda3\\lib\\site-packages\\sklearn\\linear_model\\logistic.py:432: FutureWarning: Default solver will be changed to 'lbfgs' in 0.22. Specify a solver to silence this warning.\n",
      "  FutureWarning)\n",
      "C:\\Users\\midas\\AppData\\Local\\Continuum\\anaconda3\\lib\\site-packages\\sklearn\\linear_model\\logistic.py:432: FutureWarning: Default solver will be changed to 'lbfgs' in 0.22. Specify a solver to silence this warning.\n",
      "  FutureWarning)\n",
      "C:\\Users\\midas\\AppData\\Local\\Continuum\\anaconda3\\lib\\site-packages\\sklearn\\linear_model\\logistic.py:432: FutureWarning: Default solver will be changed to 'lbfgs' in 0.22. Specify a solver to silence this warning.\n",
      "  FutureWarning)\n",
      "C:\\Users\\midas\\AppData\\Local\\Continuum\\anaconda3\\lib\\site-packages\\sklearn\\linear_model\\logistic.py:432: FutureWarning: Default solver will be changed to 'lbfgs' in 0.22. Specify a solver to silence this warning.\n",
      "  FutureWarning)\n",
      "C:\\Users\\midas\\AppData\\Local\\Continuum\\anaconda3\\lib\\site-packages\\sklearn\\linear_model\\logistic.py:432: FutureWarning: Default solver will be changed to 'lbfgs' in 0.22. Specify a solver to silence this warning.\n",
      "  FutureWarning)\n",
      "C:\\Users\\midas\\AppData\\Local\\Continuum\\anaconda3\\lib\\site-packages\\sklearn\\linear_model\\logistic.py:432: FutureWarning: Default solver will be changed to 'lbfgs' in 0.22. Specify a solver to silence this warning.\n",
      "  FutureWarning)\n",
      "C:\\Users\\midas\\AppData\\Local\\Continuum\\anaconda3\\lib\\site-packages\\sklearn\\linear_model\\logistic.py:432: FutureWarning: Default solver will be changed to 'lbfgs' in 0.22. Specify a solver to silence this warning.\n",
      "  FutureWarning)\n",
      "C:\\Users\\midas\\AppData\\Local\\Continuum\\anaconda3\\lib\\site-packages\\sklearn\\linear_model\\logistic.py:432: FutureWarning: Default solver will be changed to 'lbfgs' in 0.22. Specify a solver to silence this warning.\n",
      "  FutureWarning)\n",
      "C:\\Users\\midas\\AppData\\Local\\Continuum\\anaconda3\\lib\\site-packages\\sklearn\\linear_model\\logistic.py:432: FutureWarning: Default solver will be changed to 'lbfgs' in 0.22. Specify a solver to silence this warning.\n",
      "  FutureWarning)\n",
      "C:\\Users\\midas\\AppData\\Local\\Continuum\\anaconda3\\lib\\site-packages\\sklearn\\linear_model\\logistic.py:432: FutureWarning: Default solver will be changed to 'lbfgs' in 0.22. Specify a solver to silence this warning.\n",
      "  FutureWarning)\n",
      "C:\\Users\\midas\\AppData\\Local\\Continuum\\anaconda3\\lib\\site-packages\\sklearn\\linear_model\\logistic.py:432: FutureWarning: Default solver will be changed to 'lbfgs' in 0.22. Specify a solver to silence this warning.\n",
      "  FutureWarning)\n",
      "C:\\Users\\midas\\AppData\\Local\\Continuum\\anaconda3\\lib\\site-packages\\sklearn\\linear_model\\logistic.py:432: FutureWarning: Default solver will be changed to 'lbfgs' in 0.22. Specify a solver to silence this warning.\n",
      "  FutureWarning)\n",
      "C:\\Users\\midas\\AppData\\Local\\Continuum\\anaconda3\\lib\\site-packages\\sklearn\\linear_model\\logistic.py:432: FutureWarning: Default solver will be changed to 'lbfgs' in 0.22. Specify a solver to silence this warning.\n",
      "  FutureWarning)\n",
      "C:\\Users\\midas\\AppData\\Local\\Continuum\\anaconda3\\lib\\site-packages\\sklearn\\linear_model\\logistic.py:432: FutureWarning: Default solver will be changed to 'lbfgs' in 0.22. Specify a solver to silence this warning.\n",
      "  FutureWarning)\n",
      "C:\\Users\\midas\\AppData\\Local\\Continuum\\anaconda3\\lib\\site-packages\\sklearn\\linear_model\\logistic.py:432: FutureWarning: Default solver will be changed to 'lbfgs' in 0.22. Specify a solver to silence this warning.\n",
      "  FutureWarning)\n",
      "C:\\Users\\midas\\AppData\\Local\\Continuum\\anaconda3\\lib\\site-packages\\sklearn\\linear_model\\logistic.py:432: FutureWarning: Default solver will be changed to 'lbfgs' in 0.22. Specify a solver to silence this warning.\n",
      "  FutureWarning)\n"
     ]
    }
   ],
   "source": [
    "accuracy = cross_val_score(classifier, X1, y1, cv=10)\n",
    "scores = cross_val_score(classifier, X1, y1, scoring='f1_macro', cv=10)"
   ]
  },
  {
   "cell_type": "code",
   "execution_count": 25,
   "metadata": {
    "colab": {
     "base_uri": "https://localhost:8080/",
     "height": 52
    },
    "colab_type": "code",
    "id": "Rlk6SXguqNUD",
    "outputId": "22cbdfb7-6b44-49f5-c2ab-4e4f55d6dcae"
   },
   "outputs": [
    {
     "name": "stdout",
     "output_type": "stream",
     "text": [
      "Accuracy: 0.76 (+/- 0.15)\n",
      "Macro F1: 0.73 (+/- 0.16)\n"
     ]
    }
   ],
   "source": [
    "print(\"Accuracy: %0.2f (+/- %0.2f)\" % (accuracy.mean(), accuracy.std() * 2))\n",
    "print(\"Macro F1: %0.2f (+/- %0.2f)\" % (scores.mean(), scores.std() * 2))"
   ]
  },
  {
   "cell_type": "code",
   "execution_count": null,
   "metadata": {},
   "outputs": [],
   "source": []
  }
 ],
 "metadata": {
  "accelerator": "GPU",
  "colab": {
   "collapsed_sections": [],
   "name": "Copy of Topic Modelling.ipynb",
   "provenance": []
  },
  "kernelspec": {
   "display_name": "Python 3",
   "language": "python",
   "name": "python3"
  },
  "language_info": {
   "codemirror_mode": {
    "name": "ipython",
    "version": 3
   },
   "file_extension": ".py",
   "mimetype": "text/x-python",
   "name": "python",
   "nbconvert_exporter": "python",
   "pygments_lexer": "ipython3",
   "version": "3.7.3"
  }
 },
 "nbformat": 4,
 "nbformat_minor": 1
}
